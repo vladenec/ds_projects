{
  "cells": [
    {
      "cell_type": "markdown",
      "metadata": {
        "id": "QoIygDhx6oDB"
      },
      "source": [
        "# Импорты"
      ]
    },
    {
      "cell_type": "markdown",
      "metadata": {
        "id": "dAYjr2OwN7rz"
      },
      "source": [
        "Загрузка файла"
      ]
    },
    {
      "cell_type": "code",
      "execution_count": null,
      "metadata": {
        "colab": {
          "base_uri": "https://localhost:8080/"
        },
        "id": "5MOnb9YeuWKz",
        "outputId": "6c93f164-2c98-4244-fe7e-7528b3f17fc0"
      },
      "outputs": [
        {
          "output_type": "stream",
          "name": "stdout",
          "text": [
            "Requirement already satisfied: gdown in /usr/local/lib/python3.10/dist-packages (4.7.3)\n",
            "Collecting gdown\n",
            "  Downloading gdown-5.1.0-py3-none-any.whl (17 kB)\n",
            "Requirement already satisfied: beautifulsoup4 in /usr/local/lib/python3.10/dist-packages (from gdown) (4.12.3)\n",
            "Requirement already satisfied: filelock in /usr/local/lib/python3.10/dist-packages (from gdown) (3.13.1)\n",
            "Requirement already satisfied: requests[socks] in /usr/local/lib/python3.10/dist-packages (from gdown) (2.31.0)\n",
            "Requirement already satisfied: tqdm in /usr/local/lib/python3.10/dist-packages (from gdown) (4.66.2)\n",
            "Requirement already satisfied: soupsieve>1.2 in /usr/local/lib/python3.10/dist-packages (from beautifulsoup4->gdown) (2.5)\n",
            "Requirement already satisfied: charset-normalizer<4,>=2 in /usr/local/lib/python3.10/dist-packages (from requests[socks]->gdown) (3.3.2)\n",
            "Requirement already satisfied: idna<4,>=2.5 in /usr/local/lib/python3.10/dist-packages (from requests[socks]->gdown) (3.6)\n",
            "Requirement already satisfied: urllib3<3,>=1.21.1 in /usr/local/lib/python3.10/dist-packages (from requests[socks]->gdown) (2.0.7)\n",
            "Requirement already satisfied: certifi>=2017.4.17 in /usr/local/lib/python3.10/dist-packages (from requests[socks]->gdown) (2024.2.2)\n",
            "Requirement already satisfied: PySocks!=1.5.7,>=1.5.6 in /usr/local/lib/python3.10/dist-packages (from requests[socks]->gdown) (1.7.1)\n",
            "Installing collected packages: gdown\n",
            "  Attempting uninstall: gdown\n",
            "    Found existing installation: gdown 4.7.3\n",
            "    Uninstalling gdown-4.7.3:\n",
            "      Successfully uninstalled gdown-4.7.3\n",
            "Successfully installed gdown-5.1.0\n"
          ]
        }
      ],
      "source": [
        "#! pip install gdown==v4.6.3\n",
        "! pip install --upgrade --no-cache-dir gdown"
      ]
    },
    {
      "cell_type": "code",
      "execution_count": null,
      "metadata": {
        "colab": {
          "base_uri": "https://localhost:8080/"
        },
        "id": "EUoWoe0iN3VK",
        "outputId": "bf83e549-be68-4506-8889-8acb34f07e29"
      },
      "outputs": [
        {
          "output_type": "stream",
          "name": "stdout",
          "text": [
            "/usr/local/lib/python3.10/dist-packages/gdown/__main__.py:132: FutureWarning: Option `--id` was deprecated in version 4.3.1 and will be removed in 5.0. You don't need to pass it anymore to use a file ID.\n",
            "  warnings.warn(\n",
            "Downloading...\n",
            "From: https://drive.google.com/uc?id=1m4CIIXFb9fFqgvYgtagZ7Jq_O1iisRWm\n",
            "To: /content/playground-series-s4e3.zip\n",
            "100% 1.83M/1.83M [00:00<00:00, 168MB/s]\n"
          ]
        }
      ],
      "source": [
        "! gdown --id 1m4CIIXFb9fFqgvYgtagZ7Jq_O1iisRWm\n",
        "# https://drive.google.com/file/d/1m4CIIXFb9fFqgvYgtagZ7Jq_O1iisRWm/view?usp=sharing"
      ]
    },
    {
      "cell_type": "code",
      "execution_count": null,
      "metadata": {
        "colab": {
          "base_uri": "https://localhost:8080/"
        },
        "id": "TG8o9E9LNXL5",
        "outputId": "f2ac58cb-aba0-4089-f690-c8cc5c674504"
      },
      "outputs": [
        {
          "output_type": "stream",
          "name": "stdout",
          "text": [
            "Archive:  /content/playground-series-s4e3.zip\n",
            "  inflating: /content/competition_format/sample_submission.csv  \n",
            "  inflating: /content/competition_format/test.csv  \n",
            "  inflating: /content/competition_format/train.csv  \n"
          ]
        }
      ],
      "source": [
        "! unzip /content/playground-series-s4e3.zip -d /content/competition_format"
      ]
    },
    {
      "cell_type": "markdown",
      "metadata": {
        "id": "7EXOnGJUOHe-"
      },
      "source": [
        "Подгрузка библиотек"
      ]
    },
    {
      "cell_type": "code",
      "execution_count": null,
      "metadata": {
        "id": "N7SvrbSXo0mR"
      },
      "outputs": [],
      "source": [
        "import pandas as pd\n",
        "import numpy as np\n",
        "import matplotlib.pyplot as plt\n",
        "import seaborn as sns\n",
        "sns.set_style(\"darkgrid\", {\"axes.facecolor\": \".9\"})\n",
        "sns.set(rc={'figure.figsize':(4,3)})\n",
        "\n",
        "pd.set_option('display.max_columns', None)"
      ]
    },
    {
      "cell_type": "code",
      "execution_count": null,
      "metadata": {
        "id": "SPUXdTknZdiv"
      },
      "outputs": [],
      "source": [
        "import sklearn"
      ]
    },
    {
      "cell_type": "code",
      "execution_count": null,
      "metadata": {
        "id": "I-57PyDU-Ivw"
      },
      "outputs": [],
      "source": [
        "from sklearn.model_selection import train_test_split\n",
        "from tqdm.notebook import tqdm\n",
        "from sklearn.metrics import f1_score, auc, roc_auc_score\n",
        "\n",
        "from sklearn.model_selection import train_test_split"
      ]
    },
    {
      "cell_type": "code",
      "execution_count": null,
      "metadata": {
        "colab": {
          "base_uri": "https://localhost:8080/"
        },
        "id": "1RFoVy-dOSB4",
        "outputId": "d3af75f4-d26f-4920-fb10-891f1a1dc78d"
      },
      "outputs": [
        {
          "output_type": "stream",
          "name": "stdout",
          "text": [
            "Collecting catboost\n",
            "  Downloading catboost-1.2.3-cp310-cp310-manylinux2014_x86_64.whl (98.5 MB)\n",
            "\u001b[2K     \u001b[90m━━━━━━━━━━━━━━━━━━━━━━━━━━━━━━━━━━━━━━━━\u001b[0m \u001b[32m98.5/98.5 MB\u001b[0m \u001b[31m9.8 MB/s\u001b[0m eta \u001b[36m0:00:00\u001b[0m\n",
            "\u001b[?25hRequirement already satisfied: graphviz in /usr/local/lib/python3.10/dist-packages (from catboost) (0.20.1)\n",
            "Requirement already satisfied: matplotlib in /usr/local/lib/python3.10/dist-packages (from catboost) (3.7.1)\n",
            "Requirement already satisfied: numpy>=1.16.0 in /usr/local/lib/python3.10/dist-packages (from catboost) (1.25.2)\n",
            "Requirement already satisfied: pandas>=0.24 in /usr/local/lib/python3.10/dist-packages (from catboost) (1.5.3)\n",
            "Requirement already satisfied: scipy in /usr/local/lib/python3.10/dist-packages (from catboost) (1.11.4)\n",
            "Requirement already satisfied: plotly in /usr/local/lib/python3.10/dist-packages (from catboost) (5.15.0)\n",
            "Requirement already satisfied: six in /usr/local/lib/python3.10/dist-packages (from catboost) (1.16.0)\n",
            "Requirement already satisfied: python-dateutil>=2.8.1 in /usr/local/lib/python3.10/dist-packages (from pandas>=0.24->catboost) (2.8.2)\n",
            "Requirement already satisfied: pytz>=2020.1 in /usr/local/lib/python3.10/dist-packages (from pandas>=0.24->catboost) (2023.4)\n",
            "Requirement already satisfied: contourpy>=1.0.1 in /usr/local/lib/python3.10/dist-packages (from matplotlib->catboost) (1.2.0)\n",
            "Requirement already satisfied: cycler>=0.10 in /usr/local/lib/python3.10/dist-packages (from matplotlib->catboost) (0.12.1)\n",
            "Requirement already satisfied: fonttools>=4.22.0 in /usr/local/lib/python3.10/dist-packages (from matplotlib->catboost) (4.49.0)\n",
            "Requirement already satisfied: kiwisolver>=1.0.1 in /usr/local/lib/python3.10/dist-packages (from matplotlib->catboost) (1.4.5)\n",
            "Requirement already satisfied: packaging>=20.0 in /usr/local/lib/python3.10/dist-packages (from matplotlib->catboost) (24.0)\n",
            "Requirement already satisfied: pillow>=6.2.0 in /usr/local/lib/python3.10/dist-packages (from matplotlib->catboost) (9.4.0)\n",
            "Requirement already satisfied: pyparsing>=2.3.1 in /usr/local/lib/python3.10/dist-packages (from matplotlib->catboost) (3.1.2)\n",
            "Requirement already satisfied: tenacity>=6.2.0 in /usr/local/lib/python3.10/dist-packages (from plotly->catboost) (8.2.3)\n",
            "Installing collected packages: catboost\n",
            "Successfully installed catboost-1.2.3\n"
          ]
        }
      ],
      "source": [
        "! pip install catboost\n",
        "\n",
        "import catboost\n",
        "from catboost import CatBoostClassifier, FeaturesData, metrics,  Pool, cv"
      ]
    },
    {
      "cell_type": "code",
      "execution_count": null,
      "metadata": {
        "colab": {
          "base_uri": "https://localhost:8080/"
        },
        "id": "OXKpO8g0mx6n",
        "outputId": "44c3a700-9d46-4828-b674-72c15410fbd5"
      },
      "outputs": [
        {
          "output_type": "stream",
          "name": "stdout",
          "text": [
            "Collecting klib\n",
            "  Downloading klib-1.1.2-py3-none-any.whl (22 kB)\n",
            "Requirement already satisfied: Jinja2<4.0.0,>=3.0.3 in /usr/local/lib/python3.10/dist-packages (from klib) (3.1.3)\n",
            "Requirement already satisfied: matplotlib<4.0.0,>=3.0.3 in /usr/local/lib/python3.10/dist-packages (from klib) (3.7.1)\n",
            "Requirement already satisfied: numpy<2.0.0,>=1.16.3 in /usr/local/lib/python3.10/dist-packages (from klib) (1.25.2)\n",
            "Requirement already satisfied: pandas<3.0,>=1.2 in /usr/local/lib/python3.10/dist-packages (from klib) (1.5.3)\n",
            "Requirement already satisfied: plotly<6.0.0,>=5.2.2 in /usr/local/lib/python3.10/dist-packages (from klib) (5.15.0)\n",
            "Requirement already satisfied: scipy<2.0.0,>=1.1.0 in /usr/local/lib/python3.10/dist-packages (from klib) (1.11.4)\n",
            "Collecting screeninfo<0.9.0,>=0.8.1 (from klib)\n",
            "  Downloading screeninfo-0.8.1-py3-none-any.whl (12 kB)\n",
            "Requirement already satisfied: seaborn>=0.11.2 in /usr/local/lib/python3.10/dist-packages (from klib) (0.13.1)\n",
            "Requirement already satisfied: MarkupSafe>=2.0 in /usr/local/lib/python3.10/dist-packages (from Jinja2<4.0.0,>=3.0.3->klib) (2.1.5)\n",
            "Requirement already satisfied: contourpy>=1.0.1 in /usr/local/lib/python3.10/dist-packages (from matplotlib<4.0.0,>=3.0.3->klib) (1.2.0)\n",
            "Requirement already satisfied: cycler>=0.10 in /usr/local/lib/python3.10/dist-packages (from matplotlib<4.0.0,>=3.0.3->klib) (0.12.1)\n",
            "Requirement already satisfied: fonttools>=4.22.0 in /usr/local/lib/python3.10/dist-packages (from matplotlib<4.0.0,>=3.0.3->klib) (4.49.0)\n",
            "Requirement already satisfied: kiwisolver>=1.0.1 in /usr/local/lib/python3.10/dist-packages (from matplotlib<4.0.0,>=3.0.3->klib) (1.4.5)\n",
            "Requirement already satisfied: packaging>=20.0 in /usr/local/lib/python3.10/dist-packages (from matplotlib<4.0.0,>=3.0.3->klib) (24.0)\n",
            "Requirement already satisfied: pillow>=6.2.0 in /usr/local/lib/python3.10/dist-packages (from matplotlib<4.0.0,>=3.0.3->klib) (9.4.0)\n",
            "Requirement already satisfied: pyparsing>=2.3.1 in /usr/local/lib/python3.10/dist-packages (from matplotlib<4.0.0,>=3.0.3->klib) (3.1.2)\n",
            "Requirement already satisfied: python-dateutil>=2.7 in /usr/local/lib/python3.10/dist-packages (from matplotlib<4.0.0,>=3.0.3->klib) (2.8.2)\n",
            "Requirement already satisfied: pytz>=2020.1 in /usr/local/lib/python3.10/dist-packages (from pandas<3.0,>=1.2->klib) (2023.4)\n",
            "Requirement already satisfied: tenacity>=6.2.0 in /usr/local/lib/python3.10/dist-packages (from plotly<6.0.0,>=5.2.2->klib) (8.2.3)\n",
            "Requirement already satisfied: six>=1.5 in /usr/local/lib/python3.10/dist-packages (from python-dateutil>=2.7->matplotlib<4.0.0,>=3.0.3->klib) (1.16.0)\n",
            "Installing collected packages: screeninfo, klib\n",
            "Successfully installed klib-1.1.2 screeninfo-0.8.1\n"
          ]
        }
      ],
      "source": [
        "! pip install klib\n",
        "import klib"
      ]
    },
    {
      "cell_type": "markdown",
      "metadata": {
        "id": "-UOhXF_sxiCb"
      },
      "source": [
        "## Загружаем данные"
      ]
    },
    {
      "cell_type": "code",
      "execution_count": null,
      "metadata": {
        "id": "soyjO_DmOhf-"
      },
      "outputs": [],
      "source": [
        "train = pd.read_csv('/content/competition_format/train.csv')\n",
        "test = pd.read_csv('/content/competition_format/test.csv')\n",
        "train_og = train"
      ]
    },
    {
      "cell_type": "code",
      "execution_count": null,
      "metadata": {
        "colab": {
          "base_uri": "https://localhost:8080/"
        },
        "id": "yWlVxMT0kGvg",
        "outputId": "f26dfa62-2b4f-40ba-b7d6-b56274834807"
      },
      "outputs": [
        {
          "output_type": "execute_result",
          "data": {
            "text/plain": [
              "12814"
            ]
          },
          "metadata": {},
          "execution_count": 10
        }
      ],
      "source": [
        "len(test)"
      ]
    },
    {
      "cell_type": "code",
      "execution_count": null,
      "metadata": {
        "colab": {
          "base_uri": "https://localhost:8080/"
        },
        "id": "27g_mdWMkJ17",
        "outputId": "14f20b32-b098-4316-a4ef-cea58f6450d9"
      },
      "outputs": [
        {
          "output_type": "execute_result",
          "data": {
            "text/plain": [
              "19219"
            ]
          },
          "metadata": {},
          "execution_count": 11
        }
      ],
      "source": [
        "len(train)"
      ]
    },
    {
      "cell_type": "code",
      "execution_count": null,
      "metadata": {
        "colab": {
          "base_uri": "https://localhost:8080/",
          "height": 132
        },
        "id": "8hr59eoijaHS",
        "outputId": "6bf4343e-8b07-411c-ed79-58d37e49ba57"
      },
      "outputs": [
        {
          "output_type": "execute_result",
          "data": {
            "text/plain": [
              "          id  X_Minimum  X_Maximum  Y_Minimum  Y_Maximum  Pixels_Areas  \\\n",
              "16058  16058        810        824     812031     812044            69   \n",
              "6720    6720         41        214    4440514    4440576          6176   \n",
              "\n",
              "       X_Perimeter  Y_Perimeter  Sum_of_Luminosity  Minimum_of_Luminosity  \\\n",
              "16058           11           17               6557                     80   \n",
              "6720           310          159             689727                     38   \n",
              "\n",
              "       Maximum_of_Luminosity  Length_of_Conveyer  TypeOfSteel_A300  \\\n",
              "16058                    102                1360                 1   \n",
              "6720                     124                1356                 0   \n",
              "\n",
              "       TypeOfSteel_A400  Steel_Plate_Thickness  Edges_Index  Empty_Index  \\\n",
              "16058                 0                    300       0.7287       0.5385   \n",
              "6720                  1                     40       0.0605       0.4577   \n",
              "\n",
              "       Square_Index  Outside_X_Index  Edges_X_Index  Edges_Y_Index  \\\n",
              "16058        0.5385           0.0043         0.6364         1.0000   \n",
              "6720         0.3823           0.1254         0.5833         0.4545   \n",
              "\n",
              "       Outside_Global_Index  LogOfAreas  Log_X_Index  Log_Y_Index  \\\n",
              "16058                   1.0      1.8389       0.8451       1.1139   \n",
              "6720                    0.0      3.7948       2.2304       1.8261   \n",
              "\n",
              "       Orientation_Index  Luminosity_Index  SigmoidOfAreas  Pastry  Z_Scratch  \\\n",
              "16058             0.4615           -0.3077          0.1965       0          0   \n",
              "6720             -0.6176           -0.1851          1.0000       0          0   \n",
              "\n",
              "       K_Scatch  Stains  Dirtiness  Bumps  Other_Faults  \n",
              "16058         0       0          0      0             1  \n",
              "6720          1       0          0      0             0  "
            ],
            "text/html": [
              "\n",
              "  <div id=\"df-495d2b1f-f0b0-407a-ab96-b015f9656d41\" class=\"colab-df-container\">\n",
              "    <div>\n",
              "<style scoped>\n",
              "    .dataframe tbody tr th:only-of-type {\n",
              "        vertical-align: middle;\n",
              "    }\n",
              "\n",
              "    .dataframe tbody tr th {\n",
              "        vertical-align: top;\n",
              "    }\n",
              "\n",
              "    .dataframe thead th {\n",
              "        text-align: right;\n",
              "    }\n",
              "</style>\n",
              "<table border=\"1\" class=\"dataframe\">\n",
              "  <thead>\n",
              "    <tr style=\"text-align: right;\">\n",
              "      <th></th>\n",
              "      <th>id</th>\n",
              "      <th>X_Minimum</th>\n",
              "      <th>X_Maximum</th>\n",
              "      <th>Y_Minimum</th>\n",
              "      <th>Y_Maximum</th>\n",
              "      <th>Pixels_Areas</th>\n",
              "      <th>X_Perimeter</th>\n",
              "      <th>Y_Perimeter</th>\n",
              "      <th>Sum_of_Luminosity</th>\n",
              "      <th>Minimum_of_Luminosity</th>\n",
              "      <th>Maximum_of_Luminosity</th>\n",
              "      <th>Length_of_Conveyer</th>\n",
              "      <th>TypeOfSteel_A300</th>\n",
              "      <th>TypeOfSteel_A400</th>\n",
              "      <th>Steel_Plate_Thickness</th>\n",
              "      <th>Edges_Index</th>\n",
              "      <th>Empty_Index</th>\n",
              "      <th>Square_Index</th>\n",
              "      <th>Outside_X_Index</th>\n",
              "      <th>Edges_X_Index</th>\n",
              "      <th>Edges_Y_Index</th>\n",
              "      <th>Outside_Global_Index</th>\n",
              "      <th>LogOfAreas</th>\n",
              "      <th>Log_X_Index</th>\n",
              "      <th>Log_Y_Index</th>\n",
              "      <th>Orientation_Index</th>\n",
              "      <th>Luminosity_Index</th>\n",
              "      <th>SigmoidOfAreas</th>\n",
              "      <th>Pastry</th>\n",
              "      <th>Z_Scratch</th>\n",
              "      <th>K_Scatch</th>\n",
              "      <th>Stains</th>\n",
              "      <th>Dirtiness</th>\n",
              "      <th>Bumps</th>\n",
              "      <th>Other_Faults</th>\n",
              "    </tr>\n",
              "  </thead>\n",
              "  <tbody>\n",
              "    <tr>\n",
              "      <th>16058</th>\n",
              "      <td>16058</td>\n",
              "      <td>810</td>\n",
              "      <td>824</td>\n",
              "      <td>812031</td>\n",
              "      <td>812044</td>\n",
              "      <td>69</td>\n",
              "      <td>11</td>\n",
              "      <td>17</td>\n",
              "      <td>6557</td>\n",
              "      <td>80</td>\n",
              "      <td>102</td>\n",
              "      <td>1360</td>\n",
              "      <td>1</td>\n",
              "      <td>0</td>\n",
              "      <td>300</td>\n",
              "      <td>0.7287</td>\n",
              "      <td>0.5385</td>\n",
              "      <td>0.5385</td>\n",
              "      <td>0.0043</td>\n",
              "      <td>0.6364</td>\n",
              "      <td>1.0000</td>\n",
              "      <td>1.0</td>\n",
              "      <td>1.8389</td>\n",
              "      <td>0.8451</td>\n",
              "      <td>1.1139</td>\n",
              "      <td>0.4615</td>\n",
              "      <td>-0.3077</td>\n",
              "      <td>0.1965</td>\n",
              "      <td>0</td>\n",
              "      <td>0</td>\n",
              "      <td>0</td>\n",
              "      <td>0</td>\n",
              "      <td>0</td>\n",
              "      <td>0</td>\n",
              "      <td>1</td>\n",
              "    </tr>\n",
              "    <tr>\n",
              "      <th>6720</th>\n",
              "      <td>6720</td>\n",
              "      <td>41</td>\n",
              "      <td>214</td>\n",
              "      <td>4440514</td>\n",
              "      <td>4440576</td>\n",
              "      <td>6176</td>\n",
              "      <td>310</td>\n",
              "      <td>159</td>\n",
              "      <td>689727</td>\n",
              "      <td>38</td>\n",
              "      <td>124</td>\n",
              "      <td>1356</td>\n",
              "      <td>0</td>\n",
              "      <td>1</td>\n",
              "      <td>40</td>\n",
              "      <td>0.0605</td>\n",
              "      <td>0.4577</td>\n",
              "      <td>0.3823</td>\n",
              "      <td>0.1254</td>\n",
              "      <td>0.5833</td>\n",
              "      <td>0.4545</td>\n",
              "      <td>0.0</td>\n",
              "      <td>3.7948</td>\n",
              "      <td>2.2304</td>\n",
              "      <td>1.8261</td>\n",
              "      <td>-0.6176</td>\n",
              "      <td>-0.1851</td>\n",
              "      <td>1.0000</td>\n",
              "      <td>0</td>\n",
              "      <td>0</td>\n",
              "      <td>1</td>\n",
              "      <td>0</td>\n",
              "      <td>0</td>\n",
              "      <td>0</td>\n",
              "      <td>0</td>\n",
              "    </tr>\n",
              "  </tbody>\n",
              "</table>\n",
              "</div>\n",
              "    <div class=\"colab-df-buttons\">\n",
              "\n",
              "  <div class=\"colab-df-container\">\n",
              "    <button class=\"colab-df-convert\" onclick=\"convertToInteractive('df-495d2b1f-f0b0-407a-ab96-b015f9656d41')\"\n",
              "            title=\"Convert this dataframe to an interactive table.\"\n",
              "            style=\"display:none;\">\n",
              "\n",
              "  <svg xmlns=\"http://www.w3.org/2000/svg\" height=\"24px\" viewBox=\"0 -960 960 960\">\n",
              "    <path d=\"M120-120v-720h720v720H120Zm60-500h600v-160H180v160Zm220 220h160v-160H400v160Zm0 220h160v-160H400v160ZM180-400h160v-160H180v160Zm440 0h160v-160H620v160ZM180-180h160v-160H180v160Zm440 0h160v-160H620v160Z\"/>\n",
              "  </svg>\n",
              "    </button>\n",
              "\n",
              "  <style>\n",
              "    .colab-df-container {\n",
              "      display:flex;\n",
              "      gap: 12px;\n",
              "    }\n",
              "\n",
              "    .colab-df-convert {\n",
              "      background-color: #E8F0FE;\n",
              "      border: none;\n",
              "      border-radius: 50%;\n",
              "      cursor: pointer;\n",
              "      display: none;\n",
              "      fill: #1967D2;\n",
              "      height: 32px;\n",
              "      padding: 0 0 0 0;\n",
              "      width: 32px;\n",
              "    }\n",
              "\n",
              "    .colab-df-convert:hover {\n",
              "      background-color: #E2EBFA;\n",
              "      box-shadow: 0px 1px 2px rgba(60, 64, 67, 0.3), 0px 1px 3px 1px rgba(60, 64, 67, 0.15);\n",
              "      fill: #174EA6;\n",
              "    }\n",
              "\n",
              "    .colab-df-buttons div {\n",
              "      margin-bottom: 4px;\n",
              "    }\n",
              "\n",
              "    [theme=dark] .colab-df-convert {\n",
              "      background-color: #3B4455;\n",
              "      fill: #D2E3FC;\n",
              "    }\n",
              "\n",
              "    [theme=dark] .colab-df-convert:hover {\n",
              "      background-color: #434B5C;\n",
              "      box-shadow: 0px 1px 3px 1px rgba(0, 0, 0, 0.15);\n",
              "      filter: drop-shadow(0px 1px 2px rgba(0, 0, 0, 0.3));\n",
              "      fill: #FFFFFF;\n",
              "    }\n",
              "  </style>\n",
              "\n",
              "    <script>\n",
              "      const buttonEl =\n",
              "        document.querySelector('#df-495d2b1f-f0b0-407a-ab96-b015f9656d41 button.colab-df-convert');\n",
              "      buttonEl.style.display =\n",
              "        google.colab.kernel.accessAllowed ? 'block' : 'none';\n",
              "\n",
              "      async function convertToInteractive(key) {\n",
              "        const element = document.querySelector('#df-495d2b1f-f0b0-407a-ab96-b015f9656d41');\n",
              "        const dataTable =\n",
              "          await google.colab.kernel.invokeFunction('convertToInteractive',\n",
              "                                                    [key], {});\n",
              "        if (!dataTable) return;\n",
              "\n",
              "        const docLinkHtml = 'Like what you see? Visit the ' +\n",
              "          '<a target=\"_blank\" href=https://colab.research.google.com/notebooks/data_table.ipynb>data table notebook</a>'\n",
              "          + ' to learn more about interactive tables.';\n",
              "        element.innerHTML = '';\n",
              "        dataTable['output_type'] = 'display_data';\n",
              "        await google.colab.output.renderOutput(dataTable, element);\n",
              "        const docLink = document.createElement('div');\n",
              "        docLink.innerHTML = docLinkHtml;\n",
              "        element.appendChild(docLink);\n",
              "      }\n",
              "    </script>\n",
              "  </div>\n",
              "\n",
              "\n",
              "<div id=\"df-d77b6248-f813-4576-921b-e7b03b276700\">\n",
              "  <button class=\"colab-df-quickchart\" onclick=\"quickchart('df-d77b6248-f813-4576-921b-e7b03b276700')\"\n",
              "            title=\"Suggest charts\"\n",
              "            style=\"display:none;\">\n",
              "\n",
              "<svg xmlns=\"http://www.w3.org/2000/svg\" height=\"24px\"viewBox=\"0 0 24 24\"\n",
              "     width=\"24px\">\n",
              "    <g>\n",
              "        <path d=\"M19 3H5c-1.1 0-2 .9-2 2v14c0 1.1.9 2 2 2h14c1.1 0 2-.9 2-2V5c0-1.1-.9-2-2-2zM9 17H7v-7h2v7zm4 0h-2V7h2v10zm4 0h-2v-4h2v4z\"/>\n",
              "    </g>\n",
              "</svg>\n",
              "  </button>\n",
              "\n",
              "<style>\n",
              "  .colab-df-quickchart {\n",
              "      --bg-color: #E8F0FE;\n",
              "      --fill-color: #1967D2;\n",
              "      --hover-bg-color: #E2EBFA;\n",
              "      --hover-fill-color: #174EA6;\n",
              "      --disabled-fill-color: #AAA;\n",
              "      --disabled-bg-color: #DDD;\n",
              "  }\n",
              "\n",
              "  [theme=dark] .colab-df-quickchart {\n",
              "      --bg-color: #3B4455;\n",
              "      --fill-color: #D2E3FC;\n",
              "      --hover-bg-color: #434B5C;\n",
              "      --hover-fill-color: #FFFFFF;\n",
              "      --disabled-bg-color: #3B4455;\n",
              "      --disabled-fill-color: #666;\n",
              "  }\n",
              "\n",
              "  .colab-df-quickchart {\n",
              "    background-color: var(--bg-color);\n",
              "    border: none;\n",
              "    border-radius: 50%;\n",
              "    cursor: pointer;\n",
              "    display: none;\n",
              "    fill: var(--fill-color);\n",
              "    height: 32px;\n",
              "    padding: 0;\n",
              "    width: 32px;\n",
              "  }\n",
              "\n",
              "  .colab-df-quickchart:hover {\n",
              "    background-color: var(--hover-bg-color);\n",
              "    box-shadow: 0 1px 2px rgba(60, 64, 67, 0.3), 0 1px 3px 1px rgba(60, 64, 67, 0.15);\n",
              "    fill: var(--button-hover-fill-color);\n",
              "  }\n",
              "\n",
              "  .colab-df-quickchart-complete:disabled,\n",
              "  .colab-df-quickchart-complete:disabled:hover {\n",
              "    background-color: var(--disabled-bg-color);\n",
              "    fill: var(--disabled-fill-color);\n",
              "    box-shadow: none;\n",
              "  }\n",
              "\n",
              "  .colab-df-spinner {\n",
              "    border: 2px solid var(--fill-color);\n",
              "    border-color: transparent;\n",
              "    border-bottom-color: var(--fill-color);\n",
              "    animation:\n",
              "      spin 1s steps(1) infinite;\n",
              "  }\n",
              "\n",
              "  @keyframes spin {\n",
              "    0% {\n",
              "      border-color: transparent;\n",
              "      border-bottom-color: var(--fill-color);\n",
              "      border-left-color: var(--fill-color);\n",
              "    }\n",
              "    20% {\n",
              "      border-color: transparent;\n",
              "      border-left-color: var(--fill-color);\n",
              "      border-top-color: var(--fill-color);\n",
              "    }\n",
              "    30% {\n",
              "      border-color: transparent;\n",
              "      border-left-color: var(--fill-color);\n",
              "      border-top-color: var(--fill-color);\n",
              "      border-right-color: var(--fill-color);\n",
              "    }\n",
              "    40% {\n",
              "      border-color: transparent;\n",
              "      border-right-color: var(--fill-color);\n",
              "      border-top-color: var(--fill-color);\n",
              "    }\n",
              "    60% {\n",
              "      border-color: transparent;\n",
              "      border-right-color: var(--fill-color);\n",
              "    }\n",
              "    80% {\n",
              "      border-color: transparent;\n",
              "      border-right-color: var(--fill-color);\n",
              "      border-bottom-color: var(--fill-color);\n",
              "    }\n",
              "    90% {\n",
              "      border-color: transparent;\n",
              "      border-bottom-color: var(--fill-color);\n",
              "    }\n",
              "  }\n",
              "</style>\n",
              "\n",
              "  <script>\n",
              "    async function quickchart(key) {\n",
              "      const quickchartButtonEl =\n",
              "        document.querySelector('#' + key + ' button');\n",
              "      quickchartButtonEl.disabled = true;  // To prevent multiple clicks.\n",
              "      quickchartButtonEl.classList.add('colab-df-spinner');\n",
              "      try {\n",
              "        const charts = await google.colab.kernel.invokeFunction(\n",
              "            'suggestCharts', [key], {});\n",
              "      } catch (error) {\n",
              "        console.error('Error during call to suggestCharts:', error);\n",
              "      }\n",
              "      quickchartButtonEl.classList.remove('colab-df-spinner');\n",
              "      quickchartButtonEl.classList.add('colab-df-quickchart-complete');\n",
              "    }\n",
              "    (() => {\n",
              "      let quickchartButtonEl =\n",
              "        document.querySelector('#df-d77b6248-f813-4576-921b-e7b03b276700 button');\n",
              "      quickchartButtonEl.style.display =\n",
              "        google.colab.kernel.accessAllowed ? 'block' : 'none';\n",
              "    })();\n",
              "  </script>\n",
              "</div>\n",
              "\n",
              "    </div>\n",
              "  </div>\n"
            ],
            "application/vnd.google.colaboratory.intrinsic+json": {
              "type": "dataframe"
            }
          },
          "metadata": {},
          "execution_count": 12
        }
      ],
      "source": [
        "train.sample(2)"
      ]
    },
    {
      "cell_type": "code",
      "execution_count": null,
      "metadata": {
        "colab": {
          "base_uri": "https://localhost:8080/",
          "height": 132
        },
        "id": "gWkdTwrXPNSw",
        "outputId": "0aba26e7-9955-4eef-b6c0-8ab07414fb7e"
      },
      "outputs": [
        {
          "output_type": "execute_result",
          "data": {
            "text/plain": [
              "         id  X_Minimum  X_Maximum  Y_Minimum  Y_Maximum  Pixels_Areas  \\\n",
              "170   19389          4         12     835980     835993           170   \n",
              "1675  20894        964        979      28972     289995           308   \n",
              "\n",
              "      X_Perimeter  Y_Perimeter  Sum_of_Luminosity  Minimum_of_Luminosity  \\\n",
              "170            15           26              18996                     81   \n",
              "1675           29           34              30361                     99   \n",
              "\n",
              "      Maximum_of_Luminosity  Length_of_Conveyer  TypeOfSteel_A300  \\\n",
              "170                     126                1698                 0   \n",
              "1675                    132                1387                 0   \n",
              "\n",
              "      TypeOfSteel_A400  Steel_Plate_Thickness  Edges_Index  Empty_Index  \\\n",
              "170                  1                     90       0.0047       0.3383   \n",
              "1675                 1                     40       0.7463       0.4398   \n",
              "\n",
              "      Square_Index  Outside_X_Index  Edges_X_Index  Edges_Y_Index  \\\n",
              "170         0.1842           0.0041         0.4667         1.0000   \n",
              "1675        0.2800           0.0124         0.4400         0.9714   \n",
              "\n",
              "      Outside_Global_Index  LogOfAreas  Log_X_Index  Log_Y_Index  \\\n",
              "170                    1.0      2.2304       0.8451       1.4150   \n",
              "1675                   1.0      2.4885       1.2305       1.5315   \n",
              "\n",
              "      Orientation_Index  Luminosity_Index  SigmoidOfAreas  \n",
              "170              0.8158           -0.1527          0.4399  \n",
              "1675             0.7200           -0.1253          0.8299  "
            ],
            "text/html": [
              "\n",
              "  <div id=\"df-50403685-0fe6-40bd-a91c-ea012f285776\" class=\"colab-df-container\">\n",
              "    <div>\n",
              "<style scoped>\n",
              "    .dataframe tbody tr th:only-of-type {\n",
              "        vertical-align: middle;\n",
              "    }\n",
              "\n",
              "    .dataframe tbody tr th {\n",
              "        vertical-align: top;\n",
              "    }\n",
              "\n",
              "    .dataframe thead th {\n",
              "        text-align: right;\n",
              "    }\n",
              "</style>\n",
              "<table border=\"1\" class=\"dataframe\">\n",
              "  <thead>\n",
              "    <tr style=\"text-align: right;\">\n",
              "      <th></th>\n",
              "      <th>id</th>\n",
              "      <th>X_Minimum</th>\n",
              "      <th>X_Maximum</th>\n",
              "      <th>Y_Minimum</th>\n",
              "      <th>Y_Maximum</th>\n",
              "      <th>Pixels_Areas</th>\n",
              "      <th>X_Perimeter</th>\n",
              "      <th>Y_Perimeter</th>\n",
              "      <th>Sum_of_Luminosity</th>\n",
              "      <th>Minimum_of_Luminosity</th>\n",
              "      <th>Maximum_of_Luminosity</th>\n",
              "      <th>Length_of_Conveyer</th>\n",
              "      <th>TypeOfSteel_A300</th>\n",
              "      <th>TypeOfSteel_A400</th>\n",
              "      <th>Steel_Plate_Thickness</th>\n",
              "      <th>Edges_Index</th>\n",
              "      <th>Empty_Index</th>\n",
              "      <th>Square_Index</th>\n",
              "      <th>Outside_X_Index</th>\n",
              "      <th>Edges_X_Index</th>\n",
              "      <th>Edges_Y_Index</th>\n",
              "      <th>Outside_Global_Index</th>\n",
              "      <th>LogOfAreas</th>\n",
              "      <th>Log_X_Index</th>\n",
              "      <th>Log_Y_Index</th>\n",
              "      <th>Orientation_Index</th>\n",
              "      <th>Luminosity_Index</th>\n",
              "      <th>SigmoidOfAreas</th>\n",
              "    </tr>\n",
              "  </thead>\n",
              "  <tbody>\n",
              "    <tr>\n",
              "      <th>170</th>\n",
              "      <td>19389</td>\n",
              "      <td>4</td>\n",
              "      <td>12</td>\n",
              "      <td>835980</td>\n",
              "      <td>835993</td>\n",
              "      <td>170</td>\n",
              "      <td>15</td>\n",
              "      <td>26</td>\n",
              "      <td>18996</td>\n",
              "      <td>81</td>\n",
              "      <td>126</td>\n",
              "      <td>1698</td>\n",
              "      <td>0</td>\n",
              "      <td>1</td>\n",
              "      <td>90</td>\n",
              "      <td>0.0047</td>\n",
              "      <td>0.3383</td>\n",
              "      <td>0.1842</td>\n",
              "      <td>0.0041</td>\n",
              "      <td>0.4667</td>\n",
              "      <td>1.0000</td>\n",
              "      <td>1.0</td>\n",
              "      <td>2.2304</td>\n",
              "      <td>0.8451</td>\n",
              "      <td>1.4150</td>\n",
              "      <td>0.8158</td>\n",
              "      <td>-0.1527</td>\n",
              "      <td>0.4399</td>\n",
              "    </tr>\n",
              "    <tr>\n",
              "      <th>1675</th>\n",
              "      <td>20894</td>\n",
              "      <td>964</td>\n",
              "      <td>979</td>\n",
              "      <td>28972</td>\n",
              "      <td>289995</td>\n",
              "      <td>308</td>\n",
              "      <td>29</td>\n",
              "      <td>34</td>\n",
              "      <td>30361</td>\n",
              "      <td>99</td>\n",
              "      <td>132</td>\n",
              "      <td>1387</td>\n",
              "      <td>0</td>\n",
              "      <td>1</td>\n",
              "      <td>40</td>\n",
              "      <td>0.7463</td>\n",
              "      <td>0.4398</td>\n",
              "      <td>0.2800</td>\n",
              "      <td>0.0124</td>\n",
              "      <td>0.4400</td>\n",
              "      <td>0.9714</td>\n",
              "      <td>1.0</td>\n",
              "      <td>2.4885</td>\n",
              "      <td>1.2305</td>\n",
              "      <td>1.5315</td>\n",
              "      <td>0.7200</td>\n",
              "      <td>-0.1253</td>\n",
              "      <td>0.8299</td>\n",
              "    </tr>\n",
              "  </tbody>\n",
              "</table>\n",
              "</div>\n",
              "    <div class=\"colab-df-buttons\">\n",
              "\n",
              "  <div class=\"colab-df-container\">\n",
              "    <button class=\"colab-df-convert\" onclick=\"convertToInteractive('df-50403685-0fe6-40bd-a91c-ea012f285776')\"\n",
              "            title=\"Convert this dataframe to an interactive table.\"\n",
              "            style=\"display:none;\">\n",
              "\n",
              "  <svg xmlns=\"http://www.w3.org/2000/svg\" height=\"24px\" viewBox=\"0 -960 960 960\">\n",
              "    <path d=\"M120-120v-720h720v720H120Zm60-500h600v-160H180v160Zm220 220h160v-160H400v160Zm0 220h160v-160H400v160ZM180-400h160v-160H180v160Zm440 0h160v-160H620v160ZM180-180h160v-160H180v160Zm440 0h160v-160H620v160Z\"/>\n",
              "  </svg>\n",
              "    </button>\n",
              "\n",
              "  <style>\n",
              "    .colab-df-container {\n",
              "      display:flex;\n",
              "      gap: 12px;\n",
              "    }\n",
              "\n",
              "    .colab-df-convert {\n",
              "      background-color: #E8F0FE;\n",
              "      border: none;\n",
              "      border-radius: 50%;\n",
              "      cursor: pointer;\n",
              "      display: none;\n",
              "      fill: #1967D2;\n",
              "      height: 32px;\n",
              "      padding: 0 0 0 0;\n",
              "      width: 32px;\n",
              "    }\n",
              "\n",
              "    .colab-df-convert:hover {\n",
              "      background-color: #E2EBFA;\n",
              "      box-shadow: 0px 1px 2px rgba(60, 64, 67, 0.3), 0px 1px 3px 1px rgba(60, 64, 67, 0.15);\n",
              "      fill: #174EA6;\n",
              "    }\n",
              "\n",
              "    .colab-df-buttons div {\n",
              "      margin-bottom: 4px;\n",
              "    }\n",
              "\n",
              "    [theme=dark] .colab-df-convert {\n",
              "      background-color: #3B4455;\n",
              "      fill: #D2E3FC;\n",
              "    }\n",
              "\n",
              "    [theme=dark] .colab-df-convert:hover {\n",
              "      background-color: #434B5C;\n",
              "      box-shadow: 0px 1px 3px 1px rgba(0, 0, 0, 0.15);\n",
              "      filter: drop-shadow(0px 1px 2px rgba(0, 0, 0, 0.3));\n",
              "      fill: #FFFFFF;\n",
              "    }\n",
              "  </style>\n",
              "\n",
              "    <script>\n",
              "      const buttonEl =\n",
              "        document.querySelector('#df-50403685-0fe6-40bd-a91c-ea012f285776 button.colab-df-convert');\n",
              "      buttonEl.style.display =\n",
              "        google.colab.kernel.accessAllowed ? 'block' : 'none';\n",
              "\n",
              "      async function convertToInteractive(key) {\n",
              "        const element = document.querySelector('#df-50403685-0fe6-40bd-a91c-ea012f285776');\n",
              "        const dataTable =\n",
              "          await google.colab.kernel.invokeFunction('convertToInteractive',\n",
              "                                                    [key], {});\n",
              "        if (!dataTable) return;\n",
              "\n",
              "        const docLinkHtml = 'Like what you see? Visit the ' +\n",
              "          '<a target=\"_blank\" href=https://colab.research.google.com/notebooks/data_table.ipynb>data table notebook</a>'\n",
              "          + ' to learn more about interactive tables.';\n",
              "        element.innerHTML = '';\n",
              "        dataTable['output_type'] = 'display_data';\n",
              "        await google.colab.output.renderOutput(dataTable, element);\n",
              "        const docLink = document.createElement('div');\n",
              "        docLink.innerHTML = docLinkHtml;\n",
              "        element.appendChild(docLink);\n",
              "      }\n",
              "    </script>\n",
              "  </div>\n",
              "\n",
              "\n",
              "<div id=\"df-4101d4b9-814c-46b9-98df-5331c69553f1\">\n",
              "  <button class=\"colab-df-quickchart\" onclick=\"quickchart('df-4101d4b9-814c-46b9-98df-5331c69553f1')\"\n",
              "            title=\"Suggest charts\"\n",
              "            style=\"display:none;\">\n",
              "\n",
              "<svg xmlns=\"http://www.w3.org/2000/svg\" height=\"24px\"viewBox=\"0 0 24 24\"\n",
              "     width=\"24px\">\n",
              "    <g>\n",
              "        <path d=\"M19 3H5c-1.1 0-2 .9-2 2v14c0 1.1.9 2 2 2h14c1.1 0 2-.9 2-2V5c0-1.1-.9-2-2-2zM9 17H7v-7h2v7zm4 0h-2V7h2v10zm4 0h-2v-4h2v4z\"/>\n",
              "    </g>\n",
              "</svg>\n",
              "  </button>\n",
              "\n",
              "<style>\n",
              "  .colab-df-quickchart {\n",
              "      --bg-color: #E8F0FE;\n",
              "      --fill-color: #1967D2;\n",
              "      --hover-bg-color: #E2EBFA;\n",
              "      --hover-fill-color: #174EA6;\n",
              "      --disabled-fill-color: #AAA;\n",
              "      --disabled-bg-color: #DDD;\n",
              "  }\n",
              "\n",
              "  [theme=dark] .colab-df-quickchart {\n",
              "      --bg-color: #3B4455;\n",
              "      --fill-color: #D2E3FC;\n",
              "      --hover-bg-color: #434B5C;\n",
              "      --hover-fill-color: #FFFFFF;\n",
              "      --disabled-bg-color: #3B4455;\n",
              "      --disabled-fill-color: #666;\n",
              "  }\n",
              "\n",
              "  .colab-df-quickchart {\n",
              "    background-color: var(--bg-color);\n",
              "    border: none;\n",
              "    border-radius: 50%;\n",
              "    cursor: pointer;\n",
              "    display: none;\n",
              "    fill: var(--fill-color);\n",
              "    height: 32px;\n",
              "    padding: 0;\n",
              "    width: 32px;\n",
              "  }\n",
              "\n",
              "  .colab-df-quickchart:hover {\n",
              "    background-color: var(--hover-bg-color);\n",
              "    box-shadow: 0 1px 2px rgba(60, 64, 67, 0.3), 0 1px 3px 1px rgba(60, 64, 67, 0.15);\n",
              "    fill: var(--button-hover-fill-color);\n",
              "  }\n",
              "\n",
              "  .colab-df-quickchart-complete:disabled,\n",
              "  .colab-df-quickchart-complete:disabled:hover {\n",
              "    background-color: var(--disabled-bg-color);\n",
              "    fill: var(--disabled-fill-color);\n",
              "    box-shadow: none;\n",
              "  }\n",
              "\n",
              "  .colab-df-spinner {\n",
              "    border: 2px solid var(--fill-color);\n",
              "    border-color: transparent;\n",
              "    border-bottom-color: var(--fill-color);\n",
              "    animation:\n",
              "      spin 1s steps(1) infinite;\n",
              "  }\n",
              "\n",
              "  @keyframes spin {\n",
              "    0% {\n",
              "      border-color: transparent;\n",
              "      border-bottom-color: var(--fill-color);\n",
              "      border-left-color: var(--fill-color);\n",
              "    }\n",
              "    20% {\n",
              "      border-color: transparent;\n",
              "      border-left-color: var(--fill-color);\n",
              "      border-top-color: var(--fill-color);\n",
              "    }\n",
              "    30% {\n",
              "      border-color: transparent;\n",
              "      border-left-color: var(--fill-color);\n",
              "      border-top-color: var(--fill-color);\n",
              "      border-right-color: var(--fill-color);\n",
              "    }\n",
              "    40% {\n",
              "      border-color: transparent;\n",
              "      border-right-color: var(--fill-color);\n",
              "      border-top-color: var(--fill-color);\n",
              "    }\n",
              "    60% {\n",
              "      border-color: transparent;\n",
              "      border-right-color: var(--fill-color);\n",
              "    }\n",
              "    80% {\n",
              "      border-color: transparent;\n",
              "      border-right-color: var(--fill-color);\n",
              "      border-bottom-color: var(--fill-color);\n",
              "    }\n",
              "    90% {\n",
              "      border-color: transparent;\n",
              "      border-bottom-color: var(--fill-color);\n",
              "    }\n",
              "  }\n",
              "</style>\n",
              "\n",
              "  <script>\n",
              "    async function quickchart(key) {\n",
              "      const quickchartButtonEl =\n",
              "        document.querySelector('#' + key + ' button');\n",
              "      quickchartButtonEl.disabled = true;  // To prevent multiple clicks.\n",
              "      quickchartButtonEl.classList.add('colab-df-spinner');\n",
              "      try {\n",
              "        const charts = await google.colab.kernel.invokeFunction(\n",
              "            'suggestCharts', [key], {});\n",
              "      } catch (error) {\n",
              "        console.error('Error during call to suggestCharts:', error);\n",
              "      }\n",
              "      quickchartButtonEl.classList.remove('colab-df-spinner');\n",
              "      quickchartButtonEl.classList.add('colab-df-quickchart-complete');\n",
              "    }\n",
              "    (() => {\n",
              "      let quickchartButtonEl =\n",
              "        document.querySelector('#df-4101d4b9-814c-46b9-98df-5331c69553f1 button');\n",
              "      quickchartButtonEl.style.display =\n",
              "        google.colab.kernel.accessAllowed ? 'block' : 'none';\n",
              "    })();\n",
              "  </script>\n",
              "</div>\n",
              "\n",
              "    </div>\n",
              "  </div>\n"
            ],
            "application/vnd.google.colaboratory.intrinsic+json": {
              "type": "dataframe"
            }
          },
          "metadata": {},
          "execution_count": 13
        }
      ],
      "source": [
        "test.sample(2)"
      ]
    },
    {
      "cell_type": "markdown",
      "metadata": {
        "id": "2Ij7JhgFgri9"
      },
      "source": [
        "# Знакомство"
      ]
    },
    {
      "cell_type": "code",
      "execution_count": null,
      "metadata": {
        "colab": {
          "base_uri": "https://localhost:8080/"
        },
        "id": "EoCJDk9Aguf9",
        "outputId": "5e64e2ef-8d91-4210-ed56-a3969f3513c6"
      },
      "outputs": [
        {
          "output_type": "execute_result",
          "data": {
            "text/plain": [
              "id                       0.0\n",
              "X_Minimum                0.0\n",
              "X_Maximum                0.0\n",
              "Y_Minimum                0.0\n",
              "Y_Maximum                0.0\n",
              "Pixels_Areas             0.0\n",
              "X_Perimeter              0.0\n",
              "Y_Perimeter              0.0\n",
              "Sum_of_Luminosity        0.0\n",
              "Minimum_of_Luminosity    0.0\n",
              "Maximum_of_Luminosity    0.0\n",
              "Length_of_Conveyer       0.0\n",
              "TypeOfSteel_A300         0.0\n",
              "TypeOfSteel_A400         0.0\n",
              "Steel_Plate_Thickness    0.0\n",
              "Edges_Index              0.0\n",
              "Empty_Index              0.0\n",
              "Square_Index             0.0\n",
              "Outside_X_Index          0.0\n",
              "Edges_X_Index            0.0\n",
              "Edges_Y_Index            0.0\n",
              "Outside_Global_Index     0.0\n",
              "LogOfAreas               0.0\n",
              "Log_X_Index              0.0\n",
              "Log_Y_Index              0.0\n",
              "Orientation_Index        0.0\n",
              "Luminosity_Index         0.0\n",
              "SigmoidOfAreas           0.0\n",
              "Pastry                   0.0\n",
              "Z_Scratch                0.0\n",
              "K_Scatch                 0.0\n",
              "Stains                   0.0\n",
              "Dirtiness                0.0\n",
              "Bumps                    0.0\n",
              "Other_Faults             0.0\n",
              "dtype: float64"
            ]
          },
          "metadata": {},
          "execution_count": 14
        }
      ],
      "source": [
        "train.isna().mean()"
      ]
    },
    {
      "cell_type": "code",
      "execution_count": null,
      "metadata": {
        "colab": {
          "base_uri": "https://localhost:8080/"
        },
        "id": "cZjvZjdggub_",
        "outputId": "eadc569b-0255-4eec-b950-47427f3175be"
      },
      "outputs": [
        {
          "output_type": "execute_result",
          "data": {
            "text/plain": [
              "id                       0.0\n",
              "X_Minimum                0.0\n",
              "X_Maximum                0.0\n",
              "Y_Minimum                0.0\n",
              "Y_Maximum                0.0\n",
              "Pixels_Areas             0.0\n",
              "X_Perimeter              0.0\n",
              "Y_Perimeter              0.0\n",
              "Sum_of_Luminosity        0.0\n",
              "Minimum_of_Luminosity    0.0\n",
              "Maximum_of_Luminosity    0.0\n",
              "Length_of_Conveyer       0.0\n",
              "TypeOfSteel_A300         0.0\n",
              "TypeOfSteel_A400         0.0\n",
              "Steel_Plate_Thickness    0.0\n",
              "Edges_Index              0.0\n",
              "Empty_Index              0.0\n",
              "Square_Index             0.0\n",
              "Outside_X_Index          0.0\n",
              "Edges_X_Index            0.0\n",
              "Edges_Y_Index            0.0\n",
              "Outside_Global_Index     0.0\n",
              "LogOfAreas               0.0\n",
              "Log_X_Index              0.0\n",
              "Log_Y_Index              0.0\n",
              "Orientation_Index        0.0\n",
              "Luminosity_Index         0.0\n",
              "SigmoidOfAreas           0.0\n",
              "dtype: float64"
            ]
          },
          "metadata": {},
          "execution_count": 15
        }
      ],
      "source": [
        "test.isna().mean()"
      ]
    },
    {
      "cell_type": "code",
      "execution_count": null,
      "metadata": {
        "colab": {
          "base_uri": "https://localhost:8080/"
        },
        "id": "9UBQZojRnOwE",
        "outputId": "ca678f8e-a23c-433a-8a99-9898217cca25"
      },
      "outputs": [
        {
          "output_type": "execute_result",
          "data": {
            "text/plain": [
              "Index(['id', 'X_Minimum', 'X_Maximum', 'Y_Minimum', 'Y_Maximum',\n",
              "       'Pixels_Areas', 'X_Perimeter', 'Y_Perimeter', 'Sum_of_Luminosity',\n",
              "       'Minimum_of_Luminosity', 'Maximum_of_Luminosity', 'Length_of_Conveyer',\n",
              "       'TypeOfSteel_A300', 'TypeOfSteel_A400', 'Steel_Plate_Thickness',\n",
              "       'Edges_Index', 'Empty_Index', 'Square_Index', 'Outside_X_Index',\n",
              "       'Edges_X_Index', 'Edges_Y_Index', 'Outside_Global_Index', 'LogOfAreas',\n",
              "       'Log_X_Index', 'Log_Y_Index', 'Orientation_Index', 'Luminosity_Index',\n",
              "       'SigmoidOfAreas', 'Pastry', 'Z_Scratch', 'K_Scatch', 'Stains',\n",
              "       'Dirtiness', 'Bumps', 'Other_Faults'],\n",
              "      dtype='object')"
            ]
          },
          "metadata": {},
          "execution_count": 16
        }
      ],
      "source": [
        "train.columns"
      ]
    },
    {
      "cell_type": "markdown",
      "metadata": {
        "id": "nc_batVMn3lY"
      },
      "source": [
        "### Набор параметров для оценки\n"
      ]
    },
    {
      "cell_type": "markdown",
      "metadata": {
        "id": "Sef-K406n6Kw"
      },
      "source": [
        "Chat-GPT любезно объяснил дефекты\n",
        "\n",
        "**Pastry** (Тесто) обычно относится к дефектам на поверхности стали, напоминающим внешний вид или текстуру теста, например, поверхностные неровности или участки с избыточным материалом. Эти дефекты могут возникать в результате неправильной обработки материала на начальных этапах производства.\n",
        "\n",
        "**Z_Scratch** (Z-Царапина) указывает на специфические царапины, имеющие форму буквы \"Z\" на поверхности металла. Это может быть результатом механического воздействия оборудования или инструментов на сталь во время её обработки.\n",
        "\n",
        "**K_Scatch** (K-Царапина) - дефекты, аналогичные Z_Scratch, но формирующиеся в виде буквы \"K\". Эти царапины часто являются следствием специфических условий обработки или случайного контакта с оборудованием.\n",
        "\n",
        "**Stains (Пятна)** - это поверхностные изменения цвета или окраски стали, которые могут быть вызваны коррозией, окислением, контактом с веществами, вызывающими химические реакции, или оставшимися веществами от процессов обработки.\n",
        "\n",
        "**Dirtiness** (Грязь) - относится к наличию загрязнений на стали, таких как масло, жир, пыль или другие частицы. Эти дефекты могут негативно сказываться на качестве покрытия или последующей обработке стали.\n",
        "\n",
        "**Bumps**\n",
        "Bumps (Выпуклости) - это возвышения или выпуклые дефекты на поверхности стали, которые могут возникнуть в результате неправильного охлаждения, деформации при транспортировке или из-за включений в материале."
      ]
    },
    {
      "cell_type": "code",
      "execution_count": null,
      "metadata": {
        "colab": {
          "base_uri": "https://localhost:8080/",
          "height": 1000
        },
        "id": "x4AWPNOLnLWi",
        "outputId": "f64b0747-e34a-4d48-e7a3-dac4e00ae8a4"
      },
      "outputs": [
        {
          "output_type": "execute_result",
          "data": {
            "text/plain": [
              "<Axes: title={'center': 'Feature-correlation (pearson)'}>"
            ]
          },
          "metadata": {},
          "execution_count": 17
        },
        {
          "output_type": "display_data",
          "data": {
            "text/plain": [
              "<Figure size 1200x1000 with 2 Axes>"
            ],
            "image/png": "[encoded data removed]"
          },
          "metadata": {}
        }
      ],
      "source": [
        "# Visualize correlation heatmap\n",
        "klib.corr_plot(train)"
      ]
    },
    {
      "cell_type": "markdown",
      "metadata": {
        "id": "D_gKQMN03EdR"
      },
      "source": [
        "# Итерация 1. Catboost c валидационной выборкой"
      ]
    },
    {
      "cell_type": "markdown",
      "metadata": {
        "id": "OPJfMtbOEWGd"
      },
      "source": [
        "### 🔃 Точка рестарта 🔃"
      ]
    },
    {
      "cell_type": "code",
      "execution_count": null,
      "metadata": {
        "id": "VeJqaUwJEVsw"
      },
      "outputs": [],
      "source": [
        "train = pd.read_csv('/content/competition_format/train.csv')\n",
        "test = pd.read_csv('/content/competition_format/test.csv')\n",
        "train_og = train"
      ]
    },
    {
      "cell_type": "code",
      "execution_count": null,
      "metadata": {
        "id": "ItnymOY03Kjc"
      },
      "outputs": [],
      "source": [
        "#делим на валидацию и трейн\n",
        "# делаю валидационную выборку для оценки и проверки\n",
        "val, train = train_test_split(train_og, train_size=0.10, random_state=7374)"
      ]
    },
    {
      "cell_type": "code",
      "execution_count": null,
      "metadata": {
        "id": "ofQSmPrS4XrA"
      },
      "outputs": [],
      "source": [
        "train.columns"
      ]
    },
    {
      "cell_type": "code",
      "execution_count": null,
      "metadata": {
        "id": "L7CgV95Z6VHO"
      },
      "outputs": [],
      "source": [
        "X = ['X_Minimum', 'X_Maximum', 'Y_Minimum', 'Y_Maximum',\n",
        "       'Pixels_Areas', 'X_Perimeter', 'Y_Perimeter', 'Sum_of_Luminosity',\n",
        "       'Minimum_of_Luminosity', 'Maximum_of_Luminosity', 'Length_of_Conveyer',\n",
        "       'TypeOfSteel_A300', 'TypeOfSteel_A400', 'Steel_Plate_Thickness',\n",
        "       'Edges_Index', 'Empty_Index', 'Square_Index', 'Outside_X_Index',\n",
        "       'Edges_X_Index', 'Edges_Y_Index', 'Outside_Global_Index', 'LogOfAreas',\n",
        "       'Log_X_Index', 'Log_Y_Index', 'Orientation_Index', 'Luminosity_Index',\n",
        "       'SigmoidOfAreas']\n",
        "\n",
        "y = ['Pastry', 'Z_Scratch', 'K_Scatch', 'Stains', 'Dirtiness', 'Bumps', 'Other_Faults']\n",
        "\n",
        "params = {'verbose':100,\n",
        "          'random_seed':7374,\n",
        "          'eval_metric': 'AUC',\n",
        "          #'task_type' : 'GPU'\n",
        "          }"
      ]
    },
    {
      "cell_type": "markdown",
      "metadata": {
        "id": "DCJU4IgiBEM1"
      },
      "source": [
        "## Цикл обучения-предикта каждой из вероятностей"
      ]
    },
    {
      "cell_type": "code",
      "execution_count": null,
      "metadata": {
        "id": "p3uQ582h6bVr"
      },
      "outputs": [],
      "source": [
        "importances = pd.DataFrame()\n",
        "\n",
        "for feature in y:\n",
        "  #делим на валидацию и трейн\n",
        "  val, train = train_test_split(train_og, train_size=0.2, random_state=7374)\n",
        "  #создаем пулы\n",
        "  train_data = Pool(data=train[X], label=train[feature])\n",
        "  valid_data = Pool(data=val[X], label=val[feature])\n",
        "  #создание моделей\n",
        "  model = CatBoostClassifier(**params)\n",
        "  model.fit(train_data, eval_set=valid_data)\n",
        "  #запись предиктов\n",
        "  test[feature] = model.predict_proba(test[X])[:,1]\n",
        "  #получаем feature_importnace, переименовываем столбы и добавляет в таблицу importnaces\n",
        "  fi = model.get_feature_importance(prettified=True)\n",
        "  fi.columns = [f'{col}_{feature}' for col in fi.columns ]\n",
        "  importances = pd.concat([importances, fi], axis = 1 )"
      ]
    },
    {
      "cell_type": "code",
      "execution_count": null,
      "metadata": {
        "id": "nN7Yfxof3Vco"
      },
      "outputs": [],
      "source": [
        "test[['id']+y].sample(2)"
      ]
    },
    {
      "cell_type": "code",
      "execution_count": null,
      "metadata": {
        "id": "pkAlz3yGBSqd"
      },
      "outputs": [],
      "source": [
        "importances"
      ]
    },
    {
      "cell_type": "markdown",
      "metadata": {
        "id": "42NAhtfA8idb"
      },
      "source": [
        "# Делаем предикт"
      ]
    },
    {
      "cell_type": "code",
      "execution_count": null,
      "metadata": {
        "id": "MaQSEjiS3VZw"
      },
      "outputs": [],
      "source": [
        "test[['id']+y].to_csv('S4E3_it1_03.csv', index = False)"
      ]
    },
    {
      "cell_type": "markdown",
      "metadata": {
        "id": "d3KmZB8HDBkN"
      },
      "source": [
        "## Результат"
      ]
    },
    {
      "cell_type": "markdown",
      "metadata": {
        "id": "kRfEFh3GDEUw"
      },
      "source": [
        "![image.png](data:image/png;base64,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)"
      ]
    },
    {
      "cell_type": "markdown",
      "metadata": {
        "id": "tChW-OxUGWEp"
      },
      "source": [
        "## Добавил рандомную Фичу для оценки feature_importance"
      ]
    },
    {
      "cell_type": "code",
      "execution_count": null,
      "metadata": {
        "id": "62z6uGziGU7U"
      },
      "outputs": [],
      "source": [
        "X = ['X_Minimum', 'X_Maximum', 'Y_Minimum', 'Y_Maximum',\n",
        "       'Pixels_Areas', 'X_Perimeter', 'Y_Perimeter', 'Sum_of_Luminosity',\n",
        "       'Minimum_of_Luminosity', 'Maximum_of_Luminosity', 'Length_of_Conveyer',\n",
        "       'TypeOfSteel_A300', 'TypeOfSteel_A400', 'Steel_Plate_Thickness',\n",
        "       'Edges_Index', 'Empty_Index', 'Square_Index', 'Outside_X_Index',\n",
        "       'Edges_X_Index', 'Edges_Y_Index', 'Outside_Global_Index', 'LogOfAreas',\n",
        "       'Log_X_Index', 'Log_Y_Index', 'Orientation_Index', 'Luminosity_Index',\n",
        "       'SigmoidOfAreas', 'Random_F']\n",
        "\n",
        "y = ['Pastry', 'Z_Scratch', 'K_Scatch', 'Stains', 'Dirtiness', 'Bumps', 'Other_Faults']\n",
        "\n",
        "params = {'verbose':100,\n",
        "          'random_seed':7374,\n",
        "          'eval_metric': 'AUC',\n",
        "          'task_type' : 'GPU'}"
      ]
    },
    {
      "cell_type": "markdown",
      "metadata": {
        "id": "TGnizWDFGU7V"
      },
      "source": [
        "## Цикл обучения-предикта каждой из вероятностей c рандомной фичей"
      ]
    },
    {
      "cell_type": "code",
      "execution_count": null,
      "metadata": {
        "id": "ngyY_MUnGU7W"
      },
      "outputs": [],
      "source": [
        "importances = pd.DataFrame()\n",
        "\n",
        "for feature in y:\n",
        "  #делим на валидацию и трейн\n",
        "  val, train = train_test_split(train_og, train_size=0.10, random_state=7374)\n",
        "  train['Random_F'] = np.random.randint(800, 1200, train.shape[0])\n",
        "  test['Random_F'] = np.random.randint(800, 1200, test.shape[0])\n",
        "  val['Random_F'] = np.random.randint(800, 1200, val.shape[0])\n",
        "  #создаем пулы\n",
        "  train_data = Pool(data=train[X], label=train[feature])\n",
        "  valid_data = Pool(data=val[X], label=val[feature])\n",
        "  #создание моделей\n",
        "  model = CatBoostClassifier(**params)\n",
        "  model.fit(train_data,eval_set=valid_data)\n",
        "  #запись предиктов\n",
        "  test[feature] = model.predict_proba(test[X])[:,1]\n",
        "  #получаем feature_importnace, переименовываем столбы и добавляет в таблицу importnaces\n",
        "  fi = model.get_feature_importance(prettified=True)\n",
        "  fi.columns = [f'{col}_{feature}' for col in fi.columns ]\n",
        "  importances = pd.concat([importances, fi], axis = 1 )"
      ]
    },
    {
      "cell_type": "code",
      "execution_count": null,
      "metadata": {
        "id": "rGJQR5SXGm0t"
      },
      "outputs": [],
      "source": [
        "importances"
      ]
    },
    {
      "cell_type": "markdown",
      "metadata": {
        "id": "UH1dvrLlOFHp"
      },
      "source": [
        "# Итерация 2. XGBoost c валидационной выборкой"
      ]
    },
    {
      "cell_type": "code",
      "execution_count": null,
      "metadata": {
        "id": "_9SqkgZ7OJij"
      },
      "outputs": [],
      "source": [
        "import xgboost\n",
        "from xgboost import XGBClassifier"
      ]
    },
    {
      "cell_type": "markdown",
      "metadata": {
        "id": "ceUjeEMUOfoN"
      },
      "source": [
        "### 🔃 Точка рестарта 🔃"
      ]
    },
    {
      "cell_type": "code",
      "execution_count": null,
      "metadata": {
        "id": "uoP0qdH7OfoO"
      },
      "outputs": [],
      "source": [
        "train = pd.read_csv('/content/competition_format/train.csv')\n",
        "test = pd.read_csv('/content/competition_format/test.csv')\n",
        "train_og = train"
      ]
    },
    {
      "cell_type": "code",
      "execution_count": null,
      "metadata": {
        "id": "XIogV0FVOco_"
      },
      "outputs": [],
      "source": [
        "#делим на валидацию и трейн\n",
        "# делаю валидационную выборку для оценки и проверки\n",
        "#val, train = train_test_split(train_og, train_size=0.20, random_state=7374)"
      ]
    },
    {
      "cell_type": "code",
      "execution_count": null,
      "metadata": {
        "id": "xUA9JbABOcpN"
      },
      "outputs": [],
      "source": [
        "train.columns"
      ]
    },
    {
      "cell_type": "code",
      "execution_count": null,
      "metadata": {
        "id": "-xuxcusUOcpO"
      },
      "outputs": [],
      "source": [
        "X = ['X_Minimum', 'X_Maximum', 'Y_Minimum', 'Y_Maximum',\n",
        "       'Pixels_Areas', 'X_Perimeter', 'Y_Perimeter', 'Sum_of_Luminosity',\n",
        "       'Minimum_of_Luminosity', 'Maximum_of_Luminosity', 'Length_of_Conveyer',\n",
        "       'TypeOfSteel_A300', 'TypeOfSteel_A400', 'Steel_Plate_Thickness',\n",
        "       'Edges_Index', 'Empty_Index', 'Square_Index', 'Outside_X_Index',\n",
        "       'Edges_X_Index', 'Edges_Y_Index', 'Outside_Global_Index', 'LogOfAreas',\n",
        "       'Log_X_Index', 'Log_Y_Index', 'Orientation_Index', 'Luminosity_Index',\n",
        "       'SigmoidOfAreas']\n",
        "\n",
        "y = ['Pastry', 'Z_Scratch', 'K_Scatch', 'Stains', 'Dirtiness', 'Bumps', 'Other_Faults']"
      ]
    },
    {
      "cell_type": "markdown",
      "metadata": {
        "id": "Bp5rjubKOcpO"
      },
      "source": [
        "## Цикл обучения-предикта каждой из вероятностей"
      ]
    },
    {
      "cell_type": "code",
      "execution_count": null,
      "metadata": {
        "id": "Oy0RslpZOcpO"
      },
      "outputs": [],
      "source": [
        "importances = pd.DataFrame()\n",
        "\n",
        "for feature in tqdm(y):\n",
        "  #делим на валидацию и трейн\n",
        "  val, train = train_test_split(train_og, train_size=0.10, random_state=7374)\n",
        "\n",
        "  #создание моделей\n",
        "  model = xgboost.XGBClassifier(use_label_encoder=False,\n",
        "                                eval_metric='auc',\n",
        "                                max_depth = 3,\n",
        "                                subsample = 0.8,\n",
        "                                colsample_bytree = 0.6,\n",
        "                                n_estimators = 300)\n",
        "\n",
        "  model.fit(train[X],train[y])\n",
        "\n",
        "  #запись предиктов\n",
        "  test[feature] = model.predict_proba(test[X])[:,1]\n"
      ]
    },
    {
      "cell_type": "code",
      "execution_count": null,
      "metadata": {
        "id": "Hmh0R0dzOJD7"
      },
      "outputs": [],
      "source": [
        "test"
      ]
    },
    {
      "cell_type": "markdown",
      "metadata": {
        "id": "Jh8uXPDkRihk"
      },
      "source": [
        "# Делаем предикт"
      ]
    },
    {
      "cell_type": "code",
      "execution_count": null,
      "metadata": {
        "id": "GXfsYSAuRePj"
      },
      "outputs": [],
      "source": [
        "test[['id']+y].to_csv('S4E3_it2_xgboost_2.csv', index = False)"
      ]
    },
    {
      "cell_type": "markdown",
      "metadata": {
        "id": "kPp5Kl0ioMpJ"
      },
      "source": [
        "## Результаты"
      ]
    },
    {
      "cell_type": "markdown",
      "metadata": {
        "id": "Lr-QLoRPoK3f"
      },
      "source": [
        "#Итерация 3. С **hyperopt**"
      ]
    },
    {
      "cell_type": "code",
      "execution_count": null,
      "metadata": {
        "id": "MJPfcNljoOvx"
      },
      "outputs": [],
      "source": [
        "!pip install hyperopt\n",
        "import hyperopt"
      ]
    },
    {
      "cell_type": "code",
      "execution_count": null,
      "metadata": {
        "id": "4fD99uxgZrLc"
      },
      "outputs": [],
      "source": [
        "SEED = 7374"
      ]
    },
    {
      "cell_type": "markdown",
      "metadata": {
        "id": "XvFNKTblpd68"
      },
      "source": [
        "### 🔃 Точка рестарта 🔃"
      ]
    },
    {
      "cell_type": "code",
      "execution_count": null,
      "metadata": {
        "id": "Ed27mjuXpd69"
      },
      "outputs": [],
      "source": [
        "train = pd.read_csv('/content/competition_format/train.csv')\n",
        "test = pd.read_csv('/content/competition_format/test.csv')\n",
        "train_og = train"
      ]
    },
    {
      "cell_type": "code",
      "execution_count": null,
      "metadata": {
        "id": "jP_mT9FJrn9f"
      },
      "outputs": [],
      "source": [
        "X = ['X_Minimum', 'X_Maximum', 'Y_Minimum', 'Y_Maximum',\n",
        "       'Pixels_Areas', 'X_Perimeter', 'Y_Perimeter', 'Sum_of_Luminosity',\n",
        "       'Minimum_of_Luminosity', 'Maximum_of_Luminosity', 'Length_of_Conveyer',\n",
        "       'TypeOfSteel_A300', 'TypeOfSteel_A400', 'Steel_Plate_Thickness',\n",
        "       'Edges_Index', 'Empty_Index', 'Square_Index', 'Outside_X_Index',\n",
        "       'Edges_X_Index', 'Edges_Y_Index', 'Outside_Global_Index', 'LogOfAreas',\n",
        "       'Log_X_Index', 'Log_Y_Index', 'Orientation_Index', 'Luminosity_Index',\n",
        "       'SigmoidOfAreas']\n",
        "\n",
        "y = ['Pastry', 'Z_Scratch', 'K_Scatch', 'Stains', 'Dirtiness', 'Bumps', 'Other_Faults']"
      ]
    },
    {
      "cell_type": "markdown",
      "metadata": {
        "id": "aMoptlBPpfPD"
      },
      "source": [
        "## Функция для hyperopt"
      ]
    },
    {
      "cell_type": "code",
      "execution_count": null,
      "metadata": {
        "id": "mJ1Rq494rGCh"
      },
      "outputs": [],
      "source": [
        "def hyperopt_objective(params):\n",
        "    model = CatBoostClassifier(\n",
        "        l2_leaf_reg=int(params['l2_leaf_reg']),\n",
        "        learning_rate=params['learning_rate'],\n",
        "        iterations=140,\n",
        "        eval_metric=metrics.Accuracy(),\n",
        "        random_seed=42,\n",
        "        verbose=False,\n",
        "        loss_function=metrics.Logloss()\n",
        "    )\n",
        "\n",
        "    cv_data = cv(\n",
        "        Pool(train[X], train[feature]),\n",
        "        model.get_params(),\n",
        "        logging_level='Silent',\n",
        "    )\n",
        "    best_accuracy = np.max(cv_data['test-Accuracy-mean'])\n",
        "\n",
        "    return 1 - best_accuracy # as hyperopt minimises"
      ]
    },
    {
      "cell_type": "code",
      "execution_count": null,
      "metadata": {
        "id": "vubpBTXoorJS"
      },
      "outputs": [],
      "source": [
        "importances = pd.DataFrame()\n",
        "\n",
        "for feature in tqdm(y):\n",
        "  #делим на валидацию и трейн\n",
        "  val, train = train_test_split(train_og, train_size=0.10, random_state=7374)\n",
        "  #создаем пулы\n",
        "  train_data = Pool(data=train[X], label=train[feature])\n",
        "  valid_data = Pool(data=val[X], label=val[feature])\n",
        "  #прописываем параметры\n",
        "  params_space = {\n",
        "    'l2_leaf_reg': hyperopt.hp.qloguniform('l2_leaf_reg', 0, 2, 1),\n",
        "    'learning_rate': hyperopt.hp.uniform('learning_rate', 1e-3, 0.1),\n",
        "  }\n",
        "\n",
        "  trials = hyperopt.Trials()\n",
        "\n",
        "  best = hyperopt.fmin(\n",
        "      hyperopt_objective,\n",
        "      space=params_space,\n",
        "      algo=hyperopt.tpe.suggest,\n",
        "      max_evals=10,\n",
        "      trials=trials,\n",
        "      rstate=np.random.default_rng(SEED)\n",
        "  )\n",
        "\n",
        "\n",
        "  #создание моделей\n",
        "  model = CatBoostClassifier(\n",
        "    l2_leaf_reg=int(best['l2_leaf_reg']),\n",
        "    learning_rate=best['learning_rate'],\n",
        "    iterations=140,\n",
        "    eval_metric='AUC',\n",
        "    random_seed=SEED,\n",
        "    verbose=False,\n",
        "    loss_function=metrics.Logloss(),\n",
        "    )\n",
        "\n",
        "  model.fit(train[X], train[feature])\n",
        "\n",
        "  #запись предиктов\n",
        "  test[feature] = model.predict_proba(test[X])[:,1]\n",
        "\n",
        "  #получаем feature_importnace, переименовываем столбы и добавляет в таблицу importnaces\n",
        "  fi = model.get_feature_importance(prettified=True)\n",
        "  fi.columns = [ f'{col}_{feature}' for col in fi.columns ]\n",
        "  importances = pd.concat([importances, fi], axis = 1 )"
      ]
    },
    {
      "cell_type": "markdown",
      "metadata": {
        "id": "ymOsB1d6thmT"
      },
      "source": [
        "Поменять метрику eval_metrics"
      ]
    },
    {
      "cell_type": "code",
      "execution_count": null,
      "metadata": {
        "id": "BCcqDZffoPQT"
      },
      "outputs": [],
      "source": [
        "test"
      ]
    },
    {
      "cell_type": "markdown",
      "metadata": {
        "id": "7vUOPP9C1LMl"
      },
      "source": [
        "# Делаем предикт"
      ]
    },
    {
      "cell_type": "code",
      "execution_count": null,
      "metadata": {
        "id": "WgI53IoHReK2"
      },
      "outputs": [],
      "source": [
        "test[['id']+y].to_csv('S4E3_it3_02.csv', index = False)"
      ]
    },
    {
      "cell_type": "markdown",
      "metadata": {
        "id": "WcgCkHjO1MDT"
      },
      "source": [
        "## Результаты"
      ]
    },
    {
      "cell_type": "markdown",
      "metadata": {
        "id": "KcvkbnS_IQfE"
      },
      "source": [
        "# Итерация 4. Предобработка фич"
      ]
    },
    {
      "cell_type": "code",
      "execution_count": null,
      "metadata": {
        "id": "85lnmabVLu7d"
      },
      "outputs": [],
      "source": [
        "from scipy.cluster import hierarchy\n",
        "from scipy.spatial.distance import squareform"
      ]
    },
    {
      "cell_type": "markdown",
      "metadata": {
        "id": "ipquZAZyISXD"
      },
      "source": [
        "### 🔃 Точка рестарта 🔃"
      ]
    },
    {
      "cell_type": "code",
      "execution_count": null,
      "metadata": {
        "id": "izIFsy1ZISXE"
      },
      "outputs": [],
      "source": [
        "train = pd.read_csv('/content/competition_format/train.csv')\n",
        "test = pd.read_csv('/content/competition_format/test.csv')\n",
        "train_og = train"
      ]
    },
    {
      "cell_type": "code",
      "execution_count": null,
      "metadata": {
        "id": "186fZB_GJH50"
      },
      "outputs": [],
      "source": [
        "X = ['X_Minimum', 'X_Maximum', 'Y_Minimum', 'Y_Maximum',\n",
        "       'Pixels_Areas', 'X_Perimeter', 'Y_Perimeter', 'Sum_of_Luminosity',\n",
        "       'Minimum_of_Luminosity', 'Maximum_of_Luminosity', 'Length_of_Conveyer',\n",
        "       'TypeOfSteel_A300', 'TypeOfSteel_A400', 'Steel_Plate_Thickness',\n",
        "       'Edges_Index', 'Empty_Index', 'Square_Index', 'Outside_X_Index',\n",
        "       'Edges_X_Index', 'Edges_Y_Index', 'Outside_Global_Index', 'LogOfAreas',\n",
        "       'Log_X_Index', 'Log_Y_Index', 'Orientation_Index', 'Luminosity_Index',\n",
        "       'SigmoidOfAreas']\n",
        "\n",
        "y = ['Pastry', 'Z_Scratch', 'K_Scatch', 'Stains', 'Dirtiness', 'Bumps', 'Other_Faults']"
      ]
    },
    {
      "cell_type": "markdown",
      "metadata": {
        "id": "r8cn796lIYan"
      },
      "source": [
        "## Предобработка"
      ]
    },
    {
      "cell_type": "code",
      "execution_count": null,
      "metadata": {
        "id": "dmOInKYQIdGR"
      },
      "outputs": [],
      "source": [
        "len(train[train[y].sum(axis=1) > 1])"
      ]
    },
    {
      "cell_type": "markdown",
      "metadata": {
        "id": "ci-FUndrJRmf"
      },
      "source": [
        "В датасете присутствуют результаты в которых есть сразу несколько дефектов. Убираем такие строки, так как это может повлиять на точность модели."
      ]
    },
    {
      "cell_type": "code",
      "execution_count": null,
      "metadata": {
        "id": "0SC4Imz8Ilve"
      },
      "outputs": [],
      "source": [
        "train = train[train[y].sum(axis=1) <= 1]"
      ]
    },
    {
      "cell_type": "markdown",
      "metadata": {
        "id": "FGSFlqoEJ8D0"
      },
      "source": [
        "Для большей части записей в таблице указан класс стали А300 или А400. Уберем так же строки где сталь другого класса."
      ]
    },
    {
      "cell_type": "code",
      "execution_count": null,
      "metadata": {
        "id": "E97F_2wcIltL"
      },
      "outputs": [],
      "source": [
        "(train['TypeOfSteel_A300'] + train['TypeOfSteel_A400']).mean()"
      ]
    },
    {
      "cell_type": "code",
      "execution_count": null,
      "metadata": {
        "id": "4zym8GcnIlq0"
      },
      "outputs": [],
      "source": [
        "train = train[(train['TypeOfSteel_A300'] + train['TypeOfSteel_A400']) != 0]"
      ]
    },
    {
      "cell_type": "markdown",
      "metadata": {
        "id": "mLQFn3dfOSEX"
      },
      "source": [
        "## Уменьшение кол-во фичей, за счет взаимосвязанных"
      ]
    },
    {
      "cell_type": "code",
      "execution_count": null,
      "metadata": {
        "id": "89nzDr9ZKcDp"
      },
      "outputs": [],
      "source": [
        "#строим корреляционную матрицу\n",
        "corr_matrix = train[X].corr('spearman')\n",
        "dissimilarity = 1 - abs(corr_matrix.values)\n",
        "#строим матрицу связей\n",
        "linkage_matrix = hierarchy.linkage(squareform(dissimilarity), method='complete')\n",
        "linkage_matrix"
      ]
    },
    {
      "cell_type": "markdown",
      "metadata": {
        "id": "QyiL0MwrMYVE"
      },
      "source": [
        "Функция, **create_clusters**, предназначена для создания кластеров на основе иерархической кластеризации, используя два основных входных аргумента: матрицу связей (`l_matrix`) и матрицу характеристик (`c_matrix`). В дополнение, функция принимает пороговое значение (`th`), которое по умолчанию установлено в 0.15, для определения расстояния, при котором кластеры должны быть образованы.\n",
        "\n",
        "Вот более подробное объяснение функции:\n",
        "\n",
        "Параметры функции:\n",
        "\n",
        "`l_matrix` (np.ndarray): Матрица связей, представляющая иерархическое древовидное представление элементов, которые должны быть кластеризованы.\n",
        "\n",
        "`c_matrix` (pd.DataFrame): DataFrame, содержащий характеристики (или признаки) каждого элемента. Столбцы этого DataFrame соответствуют различным характеристикам.\n",
        "\n",
        "`th` (float, необязательный): Пороговое значение расстояния для формирования кластеров. По умолчанию установлено в 0.15.\n",
        "\n",
        "Первоисточник: https://www.kaggle.com/code/noepinefrin/0-89534-clustered-feature-lgbm-xgb-cat/notebook"
      ]
    },
    {
      "cell_type": "code",
      "execution_count": null,
      "metadata": {
        "id": "D3p0RqIQIloD"
      },
      "outputs": [],
      "source": [
        "def create_clusters(l_matrix: np.ndarray, c_matrix: pd.DataFrame, th: float = 0.15) -> dict:\n",
        "    cluster_labels = hierarchy.fcluster(l_matrix, th, criterion='distance')\n",
        "    n_clusters = len(set(cluster_labels))\n",
        "\n",
        "    print(f'Number of clusters: {n_clusters}')\n",
        "\n",
        "    cluster_features = {}\n",
        "\n",
        "    for label in range(1, n_clusters + 1):\n",
        "\n",
        "        leaves_in_cluster = cluster_labels == label\n",
        "        cluster_features[label] = c_matrix.columns[leaves_in_cluster].to_list()\n",
        "\n",
        "    return cluster_features"
      ]
    },
    {
      "cell_type": "code",
      "execution_count": null,
      "metadata": {
        "id": "vgwHDn2FIlly"
      },
      "outputs": [],
      "source": [
        "clusters = create_clusters(linkage_matrix, corr_matrix, 0.01)\n",
        "clusters"
      ]
    },
    {
      "cell_type": "markdown",
      "metadata": {
        "id": "8fKPHzs0NSEp"
      },
      "source": [
        "При выставлении порога на 0.01 - получаем 25 кластеров из 27 первоначальных фич. Подтверждается ранее выдвинутой предположение, о возможности убрать один из классов `['TypeOfSteel_A300', 'TypeOfSteel_A400']` как взаимосвязанные. Так же найдена взаимосвязь между `['Pixels_Areas', 'LogOfAreas']`\n",
        "\n",
        "\n",
        "Попробуем увеличить порог, для уменьшения количества кластеров (фич для финального предсказания)"
      ]
    },
    {
      "cell_type": "code",
      "execution_count": null,
      "metadata": {
        "id": "KXJvC10gNRuK"
      },
      "outputs": [],
      "source": [
        "clusters = create_clusters(linkage_matrix, corr_matrix, 0.15)\n",
        "clusters"
      ]
    },
    {
      "cell_type": "markdown",
      "metadata": {
        "id": "hgGg8YVZN9lw"
      },
      "source": [
        "Оставляем фичи согласно получившейся кластеризации:"
      ]
    },
    {
      "cell_type": "code",
      "execution_count": null,
      "metadata": {
        "id": "bFz9ZYz81Pyc"
      },
      "outputs": [],
      "source": [
        "#filtered_features\n",
        "filtered_X = [column[0] for column in clusters.values()]\n",
        "filtered_X"
      ]
    },
    {
      "cell_type": "markdown",
      "metadata": {
        "id": "BsIx7RceP_tC"
      },
      "source": [
        "С валидационной выборкой 10%"
      ]
    },
    {
      "cell_type": "code",
      "execution_count": null,
      "metadata": {
        "id": "XQGrK2uKO-Bq"
      },
      "outputs": [],
      "source": [
        "importances = pd.DataFrame()\n",
        "\n",
        "for feature in tqdm(y):\n",
        "  #делим на валидацию и трейн\n",
        "  val, train = train_test_split(train_og, train_size=0.1, random_state=7374)\n",
        "  #создаем пулы\n",
        "  train_data = Pool(data=train[filtered_X], label=train[feature])\n",
        "  valid_data = Pool(data=val[filtered_X], label=val[feature])\n",
        "  #создание моделей\n",
        "  model = CatBoostClassifier(**params)\n",
        "  model.fit(train_data, eval_set=valid_data)\n",
        "\n",
        "  # Получение лучших параметров модели\n",
        "  best_params = model.get_params()\n",
        "  print(\"Лучшие параметры:\", best_params)\n",
        "\n",
        "  #запись предиктов\n",
        "  test[feature] = model.predict_proba(test[filtered_X])[:,1]\n",
        "\n",
        "\n",
        "  #получаем feature_importnace, переименовываем столбы и добавляет в таблицу importnaces\n",
        "  fi = model.get_feature_importance(prettified=True)\n",
        "  fi.columns = [f'{col}_{feature}' for col in fi.columns ]\n",
        "  importances = pd.concat([importances, fi], axis = 1 )"
      ]
    },
    {
      "cell_type": "code",
      "execution_count": null,
      "metadata": {
        "id": "JA2--vjfPOjW"
      },
      "outputs": [],
      "source": [
        "importances"
      ]
    },
    {
      "cell_type": "markdown",
      "metadata": {
        "id": "UCiWaS7cTj08"
      },
      "source": [
        "Результат с валидационной выборкой 0.1\n",
        "\n",
        "**Score: 0.89035**\n",
        "\n",
        "Без валидационной выборки, обучение на всех данных показал результат хуже.\n",
        "\n",
        "Score: 0.88464\n",
        "\n",
        "Результат с валидационной выборкой 0.2\n",
        "\n",
        "Score: 0.88935\n"
      ]
    },
    {
      "cell_type": "markdown",
      "metadata": {
        "id": "AjkbyVHw3cs1"
      },
      "source": []
    },
    {
      "cell_type": "markdown",
      "metadata": {
        "id": "a_hTPzlX3dDp"
      },
      "source": [
        "# Итерация 4.1. Предобработка фич + построение отдельной модели для каждой таргет-фичи. Подбор параметров при помощи сетки"
      ]
    },
    {
      "cell_type": "markdown",
      "metadata": {
        "id": "Vddq5iDH3dDr"
      },
      "source": [
        "### 🔃 Точка рестарта 🔃"
      ]
    },
    {
      "cell_type": "code",
      "execution_count": null,
      "metadata": {
        "id": "zO__jCBq3dDs"
      },
      "outputs": [],
      "source": [
        "train = pd.read_csv('/content/competition_format/train.csv')\n",
        "test = pd.read_csv('/content/competition_format/test.csv')\n",
        "train_og = train"
      ]
    },
    {
      "cell_type": "code",
      "execution_count": null,
      "metadata": {
        "id": "RHmDMjTx3dDs"
      },
      "outputs": [],
      "source": [
        "X = ['X_Minimum', 'X_Maximum', 'Y_Minimum', 'Y_Maximum',\n",
        "       'Pixels_Areas', 'X_Perimeter', 'Y_Perimeter', 'Sum_of_Luminosity',\n",
        "       'Minimum_of_Luminosity', 'Maximum_of_Luminosity', 'Length_of_Conveyer',\n",
        "       'TypeOfSteel_A300', 'TypeOfSteel_A400', 'Steel_Plate_Thickness',\n",
        "       'Edges_Index', 'Empty_Index', 'Square_Index', 'Outside_X_Index',\n",
        "       'Edges_X_Index', 'Edges_Y_Index', 'Outside_Global_Index', 'LogOfAreas',\n",
        "       'Log_X_Index', 'Log_Y_Index', 'Orientation_Index', 'Luminosity_Index',\n",
        "       'SigmoidOfAreas']\n",
        "\n",
        "y = ['Pastry', 'Z_Scratch', 'K_Scatch', 'Stains', 'Dirtiness', 'Bumps', 'Other_Faults']"
      ]
    },
    {
      "cell_type": "markdown",
      "metadata": {
        "id": "7jSr4ih-3dDs"
      },
      "source": [
        "## Предобработка"
      ]
    },
    {
      "cell_type": "code",
      "execution_count": null,
      "metadata": {
        "id": "zc1Cnogw3dDu"
      },
      "outputs": [],
      "source": [
        "train = train[train[y].sum(axis=1) <= 1]\n",
        "train = train[(train['TypeOfSteel_A300'] + train['TypeOfSteel_A400']) != 0]\n",
        "#строим корреляционную матрицу\n",
        "corr_matrix = train[X].corr('spearman')\n",
        "dissimilarity = 1 - abs(corr_matrix.values)\n",
        "#строим матрицу связей\n",
        "linkage_matrix = hierarchy.linkage(squareform(dissimilarity), method='complete')\n",
        "linkage_matrix"
      ]
    },
    {
      "cell_type": "code",
      "execution_count": null,
      "metadata": {
        "id": "FR14qi3q7H7l"
      },
      "outputs": [],
      "source": [
        "def create_clusters(l_matrix: np.ndarray, c_matrix: pd.DataFrame, th: float = 0.15) -> dict:\n",
        "    cluster_labels = hierarchy.fcluster(l_matrix, th, criterion='distance')\n",
        "    n_clusters = len(set(cluster_labels))\n",
        "\n",
        "    print(f'Number of clusters: {n_clusters}')\n",
        "\n",
        "    cluster_features = {}\n",
        "\n",
        "    for label in range(1, n_clusters + 1):\n",
        "\n",
        "        leaves_in_cluster = cluster_labels == label\n",
        "        cluster_features[label] = c_matrix.columns[leaves_in_cluster].to_list()\n",
        "\n",
        "    return cluster_features\n",
        "\n",
        "\n",
        "clusters = create_clusters(linkage_matrix, corr_matrix, 0.15)\n",
        "clusters\n",
        "\n",
        "#filtered_features Оставляем фичи согласно получившейся кластеризации:\n",
        "filtered_X = [column[0] for column in clusters.values()]\n",
        "filtered_X"
      ]
    },
    {
      "cell_type": "markdown",
      "metadata": {
        "id": "MZiOp-TSO-Bp"
      },
      "source": [
        "## Подбор параметров по сетке для каждой из фич"
      ]
    },
    {
      "cell_type": "code",
      "execution_count": null,
      "metadata": {
        "id": "25YfHYUwPjs2"
      },
      "outputs": [],
      "source": [
        "params = {'verbose':200,\n",
        "          'random_seed':7374,\n",
        "          'eval_metric': 'AUC',\n",
        "          #'task_type' : 'GPU',\n",
        "          'early_stopping_rounds': 250,\n",
        "          }"
      ]
    },
    {
      "cell_type": "markdown",
      "metadata": {
        "id": "tAvKonj65SIw"
      },
      "source": [
        "## Цикл обучения-предикта каждой из вероятностей"
      ]
    },
    {
      "cell_type": "code",
      "execution_count": null,
      "metadata": {
        "id": "n85uScWwzwSk"
      },
      "outputs": [],
      "source": [
        "#начальная сетка\n",
        "# grid = {'learning_rate': [0.01, 0.05, 0.1],\n",
        "#         'depth': [5, 6, 10],\n",
        "#         'min_data_in_leaf' : [3, 10, 12]}"
      ]
    },
    {
      "cell_type": "markdown",
      "metadata": {
        "id": "xuNSCZqI9R3q"
      },
      "source": [
        "### [Pastry]  "
      ]
    },
    {
      "cell_type": "code",
      "execution_count": null,
      "metadata": {
        "id": "L3skbAew6YS8"
      },
      "outputs": [],
      "source": [
        "feature = 'Pastry'"
      ]
    },
    {
      "cell_type": "code",
      "execution_count": null,
      "metadata": {
        "id": "lvH2tTfG4jQJ"
      },
      "outputs": [],
      "source": [
        "grid = {'learning_rate': [0.02],\n",
        "        'depth': [6],\n",
        "        'min_data_in_leaf' : [3]}"
      ]
    },
    {
      "cell_type": "code",
      "execution_count": null,
      "metadata": {
        "id": "HzKKyqDorGO7"
      },
      "outputs": [],
      "source": [
        "train_data = Pool(data=train[filtered_X], label=train[feature])\n",
        "#создается модель\n",
        "model = CatBoostClassifier(**params)\n",
        "#результаты\n",
        "result = model.grid_search(grid, train_data, verbose=False)"
      ]
    },
    {
      "cell_type": "code",
      "execution_count": null,
      "metadata": {
        "id": "ot8JcI-F5Gxz"
      },
      "outputs": [],
      "source": [
        "#Лучшие найденные параметры\n",
        "result['params']"
      ]
    },
    {
      "cell_type": "markdown",
      "metadata": {
        "id": "x6xB0mOu6BEM"
      },
      "source": [
        "Фиксируем лучшие параметры. Делаем предсказание таргета для теста"
      ]
    },
    {
      "cell_type": "code",
      "execution_count": null,
      "metadata": {
        "id": "hAijwqQI6C51"
      },
      "outputs": [],
      "source": [
        "test[feature] = model.predict_proba(test[filtered_X])[:,1]\n",
        "test.sample(1)"
      ]
    },
    {
      "cell_type": "markdown",
      "metadata": {
        "id": "ujfIzNabDYfI"
      },
      "source": [
        "### [Z_Scratch]  "
      ]
    },
    {
      "cell_type": "code",
      "execution_count": null,
      "metadata": {
        "id": "zD4Bkq_GDYfI"
      },
      "outputs": [],
      "source": [
        "feature = 'Z_Scratch'"
      ]
    },
    {
      "cell_type": "code",
      "execution_count": null,
      "metadata": {
        "id": "2vDTHShEDYfJ"
      },
      "outputs": [],
      "source": [
        "grid = {'learning_rate': [0.1],\n",
        "        'depth': [10],\n",
        "        'min_data_in_leaf' : [3]}"
      ]
    },
    {
      "cell_type": "code",
      "execution_count": null,
      "metadata": {
        "id": "ts9tMKz5DYfJ"
      },
      "outputs": [],
      "source": [
        "train_data = Pool(data=train[filtered_X], label=train[feature])\n",
        "#создается модель\n",
        "model = CatBoostClassifier(**params)\n",
        "#результаты\n",
        "result = model.grid_search(grid, train_data, verbose=False)"
      ]
    },
    {
      "cell_type": "code",
      "execution_count": null,
      "metadata": {
        "id": "DxRgURKRDYfJ"
      },
      "outputs": [],
      "source": [
        "#Лучшие найденные параметры\n",
        "result['params']"
      ]
    },
    {
      "cell_type": "code",
      "execution_count": null,
      "metadata": {
        "id": "AOjOfsRK3dDw"
      },
      "outputs": [],
      "source": [
        "test[feature] = model.predict_proba(test[filtered_X])[:,1]\n",
        "test.sample(1)"
      ]
    },
    {
      "cell_type": "markdown",
      "metadata": {
        "id": "UuDI0fGapc7u"
      },
      "source": [
        "### [K_Scatch]  "
      ]
    },
    {
      "cell_type": "code",
      "execution_count": null,
      "metadata": {
        "id": "Zt1FvAk4pc7v"
      },
      "outputs": [],
      "source": [
        "feature = 'K_Scatch'"
      ]
    },
    {
      "cell_type": "code",
      "execution_count": null,
      "metadata": {
        "id": "xozbnQX-pc7v"
      },
      "outputs": [],
      "source": [
        "grid = {'learning_rate': [0.2],\n",
        "        'depth': [5],\n",
        "        'min_data_in_leaf' : [3]}"
      ]
    },
    {
      "cell_type": "code",
      "execution_count": null,
      "metadata": {
        "id": "eFHqzz9Cpc7w"
      },
      "outputs": [],
      "source": [
        "train_data = Pool(data=train[filtered_X], label=train[feature])\n",
        "#создается модель\n",
        "model = CatBoostClassifier(**params)\n",
        "#результаты\n",
        "result = model.grid_search(grid, train_data, verbose=False)"
      ]
    },
    {
      "cell_type": "code",
      "execution_count": null,
      "metadata": {
        "id": "BABkKz2vpc7w"
      },
      "outputs": [],
      "source": [
        "#Лучшие найденные параметры\n",
        "result['params']"
      ]
    },
    {
      "cell_type": "code",
      "execution_count": null,
      "metadata": {
        "id": "GQYrUhIepc7x"
      },
      "outputs": [],
      "source": [
        "test[feature] = model.predict_proba(test[filtered_X])[:,1]\n",
        "test.sample(1)"
      ]
    },
    {
      "cell_type": "markdown",
      "metadata": {
        "id": "p8EzfPMYzj2Q"
      },
      "source": [
        "### [Stains]  "
      ]
    },
    {
      "cell_type": "code",
      "execution_count": null,
      "metadata": {
        "id": "jND7NQBnzj2W"
      },
      "outputs": [],
      "source": [
        "feature = 'Stains'"
      ]
    },
    {
      "cell_type": "code",
      "execution_count": null,
      "metadata": {
        "id": "-e4_ZIqezj2W"
      },
      "outputs": [],
      "source": [
        "grid = {'learning_rate': [0.015],\n",
        "        'depth': [5],\n",
        "        'min_data_in_leaf' : [3]}"
      ]
    },
    {
      "cell_type": "code",
      "execution_count": null,
      "metadata": {
        "id": "HppGpgy5zj2W"
      },
      "outputs": [],
      "source": [
        "train_data = Pool(data=train[filtered_X], label=train[feature])\n",
        "#создается модель\n",
        "model = CatBoostClassifier(**params)\n",
        "#результаты\n",
        "result = model.grid_search(grid, train_data, verbose=False)"
      ]
    },
    {
      "cell_type": "code",
      "execution_count": null,
      "metadata": {
        "id": "o_89ruDVzj2W"
      },
      "outputs": [],
      "source": [
        "#Лучшие найденные параметры\n",
        "result['params']"
      ]
    },
    {
      "cell_type": "code",
      "execution_count": null,
      "metadata": {
        "id": "S1wSj69lzj2W"
      },
      "outputs": [],
      "source": [
        "test[feature] = model.predict_proba(test[filtered_X])[:,1]\n",
        "test.sample(1)"
      ]
    },
    {
      "cell_type": "markdown",
      "metadata": {
        "id": "mp_WxoiE-vXx"
      },
      "source": [
        "### [Dirtiness]  "
      ]
    },
    {
      "cell_type": "code",
      "execution_count": null,
      "metadata": {
        "id": "zm-zdJpz-vXz"
      },
      "outputs": [],
      "source": [
        "feature = 'Dirtiness'"
      ]
    },
    {
      "cell_type": "code",
      "execution_count": null,
      "metadata": {
        "id": "P_dtgNl--vXz"
      },
      "outputs": [],
      "source": [
        "grid = {'learning_rate': [0.1995],\n",
        "        'depth': [5],\n",
        "        'min_data_in_leaf' : [3]}"
      ]
    },
    {
      "cell_type": "code",
      "execution_count": null,
      "metadata": {
        "id": "JwFz7fSR-vX0"
      },
      "outputs": [],
      "source": [
        "train_data = Pool(data=train[filtered_X], label=train[feature])\n",
        "#создается модель\n",
        "model = CatBoostClassifier(**params)\n",
        "#результаты\n",
        "result = model.grid_search(grid, train_data, verbose=False)"
      ]
    },
    {
      "cell_type": "code",
      "execution_count": null,
      "metadata": {
        "id": "ylQW0Xh8-vX1"
      },
      "outputs": [],
      "source": [
        "#Лучшие найденные параметры\n",
        "result['params']"
      ]
    },
    {
      "cell_type": "code",
      "execution_count": null,
      "metadata": {
        "id": "TGRENjUV-vX2"
      },
      "outputs": [],
      "source": [
        "test[feature] = model.predict_proba(test[filtered_X])[:,1]\n",
        "test.sample(1)"
      ]
    },
    {
      "cell_type": "markdown",
      "metadata": {
        "id": "vF77TJuRA3Bo"
      },
      "source": [
        "### [Bumps]  "
      ]
    },
    {
      "cell_type": "code",
      "execution_count": null,
      "metadata": {
        "id": "byu4VPBnA3Bo"
      },
      "outputs": [],
      "source": [
        "feature = 'Bumps'"
      ]
    },
    {
      "cell_type": "code",
      "execution_count": null,
      "metadata": {
        "id": "fvyMnkcIA3Bp"
      },
      "outputs": [],
      "source": [
        "grid = {'learning_rate': [0.01],\n",
        "        'depth': [6],\n",
        "        'min_data_in_leaf' : [3]}"
      ]
    },
    {
      "cell_type": "code",
      "execution_count": null,
      "metadata": {
        "id": "yaPcuvh-A3Bp"
      },
      "outputs": [],
      "source": [
        "train_data = Pool(data=train[filtered_X], label=train[feature])\n",
        "#создается модель\n",
        "model = CatBoostClassifier(**params)\n",
        "#результаты\n",
        "result = model.grid_search(grid, train_data, verbose=False)"
      ]
    },
    {
      "cell_type": "code",
      "execution_count": null,
      "metadata": {
        "id": "J8lyZdxWA3Bp"
      },
      "outputs": [],
      "source": [
        "#Лучшие найденные параметры\n",
        "result['params']"
      ]
    },
    {
      "cell_type": "code",
      "execution_count": null,
      "metadata": {
        "id": "pEXBOmtgA3Bq"
      },
      "outputs": [],
      "source": [
        "test[feature] = model.predict_proba(test[filtered_X])[:,1]\n",
        "test.sample(1)"
      ]
    },
    {
      "cell_type": "markdown",
      "metadata": {
        "id": "Yya_sbV4EHYN"
      },
      "source": [
        "### [Other_Faults]  "
      ]
    },
    {
      "cell_type": "code",
      "execution_count": null,
      "metadata": {
        "id": "NdSY_I55EHYN"
      },
      "outputs": [],
      "source": [
        "feature = 'Other_Faults'"
      ]
    },
    {
      "cell_type": "code",
      "execution_count": null,
      "metadata": {
        "id": "4F-l9utuEHYN"
      },
      "outputs": [],
      "source": [
        "grid = {'learning_rate': [0.1],\n",
        "        'depth': [6],\n",
        "        'min_data_in_leaf' : [3]}"
      ]
    },
    {
      "cell_type": "code",
      "execution_count": null,
      "metadata": {
        "id": "YELHDZ0eEHYO"
      },
      "outputs": [],
      "source": [
        "train_data = Pool(data=train[filtered_X], label=train[feature])\n",
        "#создается модель\n",
        "model = CatBoostClassifier(**params)\n",
        "#результаты\n",
        "result = model.grid_search(grid, train_data, verbose=False)"
      ]
    },
    {
      "cell_type": "code",
      "execution_count": null,
      "metadata": {
        "id": "5G_1vT-iEHYO"
      },
      "outputs": [],
      "source": [
        "#Лучшие найденные параметры\n",
        "result['params']"
      ]
    },
    {
      "cell_type": "code",
      "execution_count": null,
      "metadata": {
        "id": "YcIquqqcEHYO"
      },
      "outputs": [],
      "source": [
        "test[feature] = model.predict_proba(test[filtered_X])[:,1]\n",
        "test.sample(1)"
      ]
    },
    {
      "cell_type": "markdown",
      "metadata": {
        "id": "ROTK2gxhGQr_"
      },
      "source": [
        "# Делаем предикт"
      ]
    },
    {
      "cell_type": "code",
      "execution_count": null,
      "metadata": {
        "id": "3e1OLix4GQr_"
      },
      "outputs": [],
      "source": [
        "test[['id']+y].to_csv('S4E3_it4_manual_grid.csv', index = False)"
      ]
    },
    {
      "cell_type": "markdown",
      "metadata": {
        "id": "Zrt_ZsbdGQr_"
      },
      "source": [
        "## Результаты"
      ]
    },
    {
      "cell_type": "markdown",
      "metadata": {
        "id": "X3V-o7-_GZu0"
      },
      "source": [
        "Результат предикта с ручной оптимизацией параметров по сетке:  \n",
        "Score: **0.87818**\n"
      ]
    },
    {
      "cell_type": "markdown",
      "metadata": {
        "id": "aApg1bSgvs35"
      },
      "source": [
        "# Итерация 5. Предобработка фич + Optuna с Catboost"
      ]
    },
    {
      "cell_type": "code",
      "execution_count": null,
      "metadata": {
        "id": "bAX2qEzcw-Ds"
      },
      "outputs": [],
      "source": [
        "! pip install optuna"
      ]
    },
    {
      "cell_type": "code",
      "execution_count": null,
      "metadata": {
        "id": "iXhpqQoLvy8O"
      },
      "outputs": [],
      "source": [
        "import optuna"
      ]
    },
    {
      "cell_type": "markdown",
      "metadata": {
        "id": "JU5lj4-pv1Oq"
      },
      "source": [
        "### 🔃 Точка рестарта 🔃"
      ]
    },
    {
      "cell_type": "code",
      "execution_count": null,
      "metadata": {
        "id": "Gads2numv1Oz"
      },
      "outputs": [],
      "source": [
        "train = pd.read_csv('/content/competition_format/train.csv')\n",
        "test = pd.read_csv('/content/competition_format/test.csv')"
      ]
    },
    {
      "cell_type": "code",
      "execution_count": null,
      "metadata": {
        "id": "Q0By67hev1Oz"
      },
      "outputs": [],
      "source": [
        "X = ['X_Minimum', 'X_Maximum', 'Y_Minimum', 'Y_Maximum',\n",
        "       'Pixels_Areas', 'X_Perimeter', 'Y_Perimeter', 'Sum_of_Luminosity',\n",
        "       'Minimum_of_Luminosity', 'Maximum_of_Luminosity', 'Length_of_Conveyer',\n",
        "       'TypeOfSteel_A300', 'TypeOfSteel_A400', 'Steel_Plate_Thickness',\n",
        "       'Edges_Index', 'Empty_Index', 'Square_Index', 'Outside_X_Index',\n",
        "       'Edges_X_Index', 'Edges_Y_Index', 'Outside_Global_Index', 'LogOfAreas',\n",
        "       'Log_X_Index', 'Log_Y_Index', 'Orientation_Index', 'Luminosity_Index',\n",
        "       'SigmoidOfAreas']\n",
        "\n",
        "y = ['Pastry', 'Z_Scratch', 'K_Scatch', 'Stains', 'Dirtiness', 'Bumps', 'Other_Faults']"
      ]
    },
    {
      "cell_type": "markdown",
      "metadata": {
        "id": "e9cECC3Bv1Oz"
      },
      "source": [
        "## Предобработка"
      ]
    },
    {
      "cell_type": "code",
      "execution_count": null,
      "metadata": {
        "id": "kjJ-ydc6v1Oz"
      },
      "outputs": [],
      "source": [
        "train = train[train[y].sum(axis=1) <= 1]\n",
        "train = train[(train['TypeOfSteel_A300'] + train['TypeOfSteel_A400']) != 0]\n",
        "# #строим корреляционную матрицу\n",
        "# corr_matrix = train[X].corr('spearman')\n",
        "# dissimilarity = 1 - abs(corr_matrix.values)\n",
        "# #строим матрицу связей\n",
        "# linkage_matrix = hierarchy.linkage(squareform(dissimilarity), method='complete')\n",
        "# #linkage_matrix\n",
        "\n",
        "\n",
        "# def create_clusters(l_matrix: np.ndarray, c_matrix: pd.DataFrame, th: float = 0.15) -> dict:\n",
        "#     cluster_labels = hierarchy.fcluster(l_matrix, th, criterion='distance')\n",
        "#     n_clusters = len(set(cluster_labels))\n",
        "\n",
        "#     print(f'Number of clusters: {n_clusters}')\n",
        "\n",
        "#     cluster_features = {}\n",
        "\n",
        "#     for label in range(1, n_clusters + 1):\n",
        "\n",
        "#         leaves_in_cluster = cluster_labels == label\n",
        "#         cluster_features[label] = c_matrix.columns[leaves_in_cluster].to_list()\n",
        "\n",
        "#     return cluster_features\n",
        "\n",
        "\n",
        "# clusters = create_clusters(linkage_matrix, corr_matrix, 0.15)\n",
        "# clusters\n",
        "\n",
        "# #filtered_features Оставляем фичи согласно получившейся кластеризации:\n",
        "# filtered_X = [column[0] for column in clusters.values()]\n",
        "# filtered_X"
      ]
    },
    {
      "cell_type": "code",
      "execution_count": null,
      "metadata": {
        "id": "PRZEnjA6EBFy"
      },
      "outputs": [],
      "source": [
        "train_og = train"
      ]
    },
    {
      "cell_type": "markdown",
      "metadata": {
        "id": "gBc6OhwNrGO-"
      },
      "source": [
        "# Делаем предикт"
      ]
    },
    {
      "cell_type": "markdown",
      "metadata": {
        "id": "g1oKU4_uv3gY"
      },
      "source": [
        "## Настройка Optuna (перенесено внутрь цикла)"
      ]
    },
    {
      "cell_type": "markdown",
      "metadata": {
        "id": "OFIMRZr-yoIs"
      },
      "source": [
        "## Цикл оптимизации параметров, обучения-предикта каждой из вероятностей"
      ]
    },
    {
      "cell_type": "code",
      "execution_count": null,
      "metadata": {
        "id": "1smb20M3yoIx"
      },
      "outputs": [],
      "source": [
        "importances = pd.DataFrame()\n",
        "\n",
        "for feature in tqdm(y):\n",
        "  print(\"Feature: \", feature)\n",
        "  #делим на валидацию и трейн\n",
        "  val, train = train_test_split(train_og, train_size=0.15, random_state=74, stratify = train_og[feature])\n",
        "\n",
        "  #objective function, which Optuna aims to optimize\n",
        "  def objective(trial):\n",
        "    params = {\n",
        "        \"iterations\": 1000,\n",
        "        \"learning_rate\": trial.suggest_float(\"learning_rate\", 1e-3, 0.1, log=True),\n",
        "        \"depth\": trial.suggest_int(\"depth\", 2, 10, step = 1),\n",
        "        \"subsample\": trial.suggest_float(\"subsample\", 0.05, 1.0),\n",
        "        \"colsample_bylevel\": trial.suggest_float(\"colsample_bylevel\", 0.05, 1.0),\n",
        "        \"min_data_in_leaf\": trial.suggest_int(\"min_data_in_leaf\", 1, 100),\n",
        "    }\n",
        "\n",
        "    model = catboost.CatBoostClassifier(**params, silent=True)\n",
        "    model.fit(train[X], train[feature])\n",
        "    predictions = model.predict(val[X])\n",
        "    ll = Logloss(val[feature], predictions)\n",
        "    return ll\n",
        "\n",
        "  study = optuna.create_study(direction='minimize')\n",
        "  study.optimize(objective, n_trials=30)\n",
        "\n",
        "  best_trial = study.best_trial\n",
        "\n",
        "  train_data = Pool(data=train_og[X], label=train_og[feature])\n",
        "\n",
        "  model = catboost.CatBoostClassifier(**best_trial.params, silent=True)\n",
        "  model.fit(train_data)\n",
        "\n",
        "  #запись предиктов\n",
        "  test[feature] = model.predict_proba(test[X])[:,1]\n",
        "\n",
        "  #получаем feature_importnace, переименовываем столбы и добавляет в таблицу importnaces\n",
        "  importances = importances.append(study.best_params, ignore_index=True)"
      ]
    },
    {
      "cell_type": "code",
      "execution_count": null,
      "metadata": {
        "id": "oR_O0Hb1PHhb"
      },
      "outputs": [],
      "source": [
        "importances"
      ]
    },
    {
      "cell_type": "markdown",
      "metadata": {
        "id": "eIoB636b66nN"
      },
      "source": [
        "# Делаем предикт"
      ]
    },
    {
      "cell_type": "code",
      "execution_count": null,
      "metadata": {
        "id": "JifW7UGO66nT"
      },
      "outputs": [],
      "source": [
        "test[['id']+y].to_csv('S4E3_it5_30_trials_015.csv', index = False)"
      ]
    },
    {
      "cell_type": "markdown",
      "metadata": {
        "id": "L2mcz6zr66nT"
      },
      "source": [
        "## Результаты"
      ]
    },
    {
      "cell_type": "markdown",
      "metadata": {
        "id": "OfeQ_gt866nT"
      },
      "source": [
        "Результат предикта\n",
        "\n",
        "для n-trials = **2**: **0.88785**\n",
        "\n",
        "для n-trials = **10** (t = 25 min): **0.88992**\n",
        "\n",
        "для n-trials = **10** (t = 18 min, с предобработкой): **0.88941**\n",
        "\n",
        "для n-trials = **10** (t = 18 min, с предобработкой и на уменьшенной до 10% валидационной выборки): **0.88506**\n",
        "\n",
        "для n-trials = **10** (t = 25 min, без фильтрации фич, на 15% валидационной выборки): **0.88934**\n",
        "\n",
        "для n-trials = **30** (t = 45 min, без фильтрации фич, на 15% валидационной выборки): **0.88538**\n"
      ]
    },
    {
      "cell_type": "markdown",
      "metadata": {
        "id": "IFV527ewEoTj"
      },
      "source": [
        "# Итерация 6. Предобработка фич + Optuna с XGBoost"
      ]
    },
    {
      "cell_type": "markdown",
      "metadata": {
        "id": "VrJ7y_UsE8U4"
      },
      "source": [
        "### 🔃 Точка рестарта 🔃"
      ]
    },
    {
      "cell_type": "code",
      "execution_count": null,
      "metadata": {
        "id": "PO-I26DjE8U5"
      },
      "outputs": [],
      "source": [
        "train = pd.read_csv('/content/competition_format/train.csv')\n",
        "test = pd.read_csv('/content/competition_format/test.csv')"
      ]
    },
    {
      "cell_type": "code",
      "execution_count": null,
      "metadata": {
        "id": "ZAxqgwvaE8U5"
      },
      "outputs": [],
      "source": [
        "X = ['X_Minimum', 'X_Maximum', 'Y_Minimum', 'Y_Maximum',\n",
        "       'Pixels_Areas', 'X_Perimeter', 'Y_Perimeter', 'Sum_of_Luminosity',\n",
        "       'Minimum_of_Luminosity', 'Maximum_of_Luminosity', 'Length_of_Conveyer',\n",
        "       'TypeOfSteel_A300', 'TypeOfSteel_A400', 'Steel_Plate_Thickness',\n",
        "       'Edges_Index', 'Empty_Index', 'Square_Index', 'Outside_X_Index',\n",
        "       'Edges_X_Index', 'Edges_Y_Index', 'Outside_Global_Index', 'LogOfAreas',\n",
        "       'Log_X_Index', 'Log_Y_Index', 'Orientation_Index', 'Luminosity_Index',\n",
        "       'SigmoidOfAreas']\n",
        "\n",
        "y = ['Pastry', 'Z_Scratch', 'K_Scatch', 'Stains', 'Dirtiness', 'Bumps', 'Other_Faults']"
      ]
    },
    {
      "cell_type": "markdown",
      "metadata": {
        "id": "VsXN18sXE8U6"
      },
      "source": [
        "## Предобработка"
      ]
    },
    {
      "cell_type": "code",
      "execution_count": null,
      "metadata": {
        "id": "ZC7GAjWvE8U6"
      },
      "outputs": [],
      "source": [
        "train = train[train[y].sum(axis=1) <= 1]\n",
        "train = train[(train['TypeOfSteel_A300'] + train['TypeOfSteel_A400']) != 0]"
      ]
    },
    {
      "cell_type": "code",
      "execution_count": null,
      "metadata": {
        "id": "8GV-eQteE8U6"
      },
      "outputs": [],
      "source": [
        "train_og = train"
      ]
    },
    {
      "cell_type": "markdown",
      "metadata": {
        "id": "ulrqNLnEE8U6"
      },
      "source": [
        "# Делаем предикт"
      ]
    },
    {
      "cell_type": "markdown",
      "metadata": {
        "id": "Robq9qnBE8U7"
      },
      "source": [
        "## Настройка Optuna (внутри цикла)"
      ]
    },
    {
      "cell_type": "code",
      "execution_count": null,
      "metadata": {
        "id": "3VJcKUfEPHaP"
      },
      "outputs": [],
      "source": [
        "importances = pd.DataFrame()\n",
        "\n",
        "for feature in tqdm(y):\n",
        "  print(\"Feature: \", feature)\n",
        "  #делим на валидацию и трейн\n",
        "  val, train = train_test_split(train_og, train_size=0.15, random_state=74, stratify = train_og[feature])\n",
        "\n",
        "  #objective function, which Optuna aims to optimize\n",
        "  def objective(trial):\n",
        "    params = {\n",
        "        #\"iterations\": 1000,\n",
        "        \"eta\": trial.suggest_float(\"eta\", 1e-3, 0.1, log=True),\n",
        "        \"max_depth\": trial.suggest_int(\"max_depth\", 2, 10, step = 1),\n",
        "        \"subsample\": trial.suggest_float(\"subsample\", 0.05, 1.0),\n",
        "        \"colsample_bylevel\": trial.suggest_float(\"colsample_bylevel\", 0.05, 1.0),\n",
        "        #\"min_data_in_leaf\": trial.suggest_int(\"min_data_in_leaf\", 1, 100),\n",
        "    }\n",
        "\n",
        "    model = xgboost.XGBClassifier(**params)\n",
        "    model.fit(train[X], train[feature])\n",
        "    predictions = model.predict(val[X])\n",
        "\n",
        "    auc = roc_auc_score(val[feature], predictions)\n",
        "    return auc\n",
        "\n",
        "  study = optuna.create_study(direction='maximize')\n",
        "  study.optimize(objective, n_trials=25)\n",
        "\n",
        "  best_trial = study.best_trial\n",
        "\n",
        "  train_data = Pool(data=train_og[X], label=train_og[feature])\n",
        "\n",
        "  model = xgboost.XGBClassifier(**best_trial.params)\n",
        "  model.fit(train_og[X], train_og[feature])\n",
        "\n",
        "  #запись предиктов\n",
        "  test[feature] = model.predict_proba(test[X])[:,1]\n",
        "\n",
        "  #получаем feature_importnace, переименовываем столбы и добавляет в таблицу importnaces\n",
        "  importances = importances.append(study.best_params, ignore_index=True)"
      ]
    },
    {
      "cell_type": "code",
      "execution_count": null,
      "metadata": {
        "id": "bO7f8juoCakW"
      },
      "outputs": [],
      "source": [
        "test.sample(5)"
      ]
    },
    {
      "cell_type": "markdown",
      "metadata": {
        "id": "RRY64DrBG7EN"
      },
      "source": [
        "# Делаем предикт"
      ]
    },
    {
      "cell_type": "code",
      "execution_count": null,
      "metadata": {
        "id": "ECSf7AIGG7EU"
      },
      "outputs": [],
      "source": [
        "test[['id']+y].to_csv('S4E3_it6_trails25.csv', index = False)"
      ]
    },
    {
      "cell_type": "markdown",
      "metadata": {
        "id": "Tul46mqg-kA3"
      },
      "source": [
        "# Итерация 7. Optuna с ансамблем (XGBoost + Catboost)"
      ]
    },
    {
      "cell_type": "code",
      "execution_count": null,
      "metadata": {
        "id": "lXbSNs3lyi0l"
      },
      "outputs": [],
      "source": [
        "! pip install optuna\n",
        "\n",
        "import optuna"
      ]
    },
    {
      "cell_type": "code",
      "execution_count": null,
      "metadata": {
        "id": "FSFQ8wZGynru"
      },
      "outputs": [],
      "source": [
        "import xgboost\n",
        "from xgboost import XGBClassifier"
      ]
    },
    {
      "cell_type": "code",
      "execution_count": null,
      "metadata": {
        "id": "yfcPysFhygcA"
      },
      "outputs": [],
      "source": [
        "from scipy.cluster import hierarchy\n",
        "from scipy.spatial.distance import squareform"
      ]
    },
    {
      "cell_type": "code",
      "execution_count": null,
      "metadata": {
        "id": "Dr5s_Zp9DENb"
      },
      "outputs": [],
      "source": [
        "from sklearn.ensemble import VotingClassifier\n",
        "from sklearn.model_selection import GridSearchCV"
      ]
    },
    {
      "cell_type": "markdown",
      "metadata": {
        "id": "uRuw-KKW-wFB"
      },
      "source": [
        "### 🔃 Точка рестарта 🔃"
      ]
    },
    {
      "cell_type": "code",
      "execution_count": null,
      "metadata": {
        "id": "etmz0yJa-wFC"
      },
      "outputs": [],
      "source": [
        "train = pd.read_csv('/content/competition_format/train.csv')\n",
        "test = pd.read_csv('/content/competition_format/test.csv')"
      ]
    },
    {
      "cell_type": "code",
      "execution_count": null,
      "metadata": {
        "id": "Ne_GdiYH-wFC"
      },
      "outputs": [],
      "source": [
        "X = ['X_Minimum', 'X_Maximum', 'Y_Minimum', 'Y_Maximum',\n",
        "       'Pixels_Areas', 'X_Perimeter', 'Y_Perimeter', 'Sum_of_Luminosity',\n",
        "       'Minimum_of_Luminosity', 'Maximum_of_Luminosity', 'Length_of_Conveyer',\n",
        "       'TypeOfSteel_A300', 'TypeOfSteel_A400', 'Steel_Plate_Thickness',\n",
        "       'Edges_Index', 'Empty_Index', 'Square_Index', 'Outside_X_Index',\n",
        "       'Edges_X_Index', 'Edges_Y_Index', 'Outside_Global_Index', 'LogOfAreas',\n",
        "       'Log_X_Index', 'Log_Y_Index', 'Orientation_Index', 'Luminosity_Index',\n",
        "       'SigmoidOfAreas']\n",
        "\n",
        "y = ['Pastry', 'Z_Scratch', 'K_Scatch', 'Stains', 'Dirtiness', 'Bumps', 'Other_Faults']"
      ]
    },
    {
      "cell_type": "markdown",
      "metadata": {
        "id": "xsRQ_gha-wFC"
      },
      "source": [
        "## Предобработка"
      ]
    },
    {
      "cell_type": "code",
      "execution_count": null,
      "metadata": {
        "id": "yQdcg2ha-wFC"
      },
      "outputs": [],
      "source": [
        "train = train[train[y].sum(axis=1) <= 1]\n",
        "train = train[(train['TypeOfSteel_A300'] + train['TypeOfSteel_A400']) != 0]\n",
        "#строим корреляционную матрицу\n",
        "corr_matrix = train[X].corr('spearman')\n",
        "dissimilarity = 1 - abs(corr_matrix.values)\n",
        "#строим матрицу связей\n",
        "\n",
        "\n",
        "linkage_matrix = hierarchy.linkage(squareform(dissimilarity), method='complete')\n",
        "#linkage_matrix\n",
        "\n",
        "\n",
        "def create_clusters(l_matrix: np.ndarray, c_matrix: pd.DataFrame, th: float = 0.15) -> dict:\n",
        "    cluster_labels = hierarchy.fcluster(l_matrix, th, criterion='distance')\n",
        "    n_clusters = len(set(cluster_labels))\n",
        "\n",
        "    print(f'Number of clusters: {n_clusters}')\n",
        "\n",
        "    cluster_features = {}\n",
        "\n",
        "    for label in range(1, n_clusters + 1):\n",
        "\n",
        "        leaves_in_cluster = cluster_labels == label\n",
        "        cluster_features[label] = c_matrix.columns[leaves_in_cluster].to_list()\n",
        "\n",
        "    return cluster_features\n",
        "\n",
        "\n",
        "clusters = create_clusters(linkage_matrix, corr_matrix, 0.15)\n",
        "clusters\n",
        "\n",
        "#filtered_features Оставляем фичи согласно получившейся кластеризации:\n",
        "filtered_X = [column[0] for column in clusters.values()]\n",
        "filtered_X"
      ]
    },
    {
      "cell_type": "code",
      "execution_count": null,
      "metadata": {
        "id": "BQfu8e8i-wFC"
      },
      "outputs": [],
      "source": [
        "train_og = train\n",
        "X = filtered_X"
      ]
    },
    {
      "cell_type": "markdown",
      "metadata": {
        "id": "kC-MXoHN_8He"
      },
      "source": [
        "## Цикл оптимизации параметров, обучения-предикта каждой из вероятностей"
      ]
    },
    {
      "cell_type": "code",
      "execution_count": null,
      "metadata": {
        "id": "P7WYeaJiEcVT"
      },
      "outputs": [],
      "source": [
        "N_trials = 5"
      ]
    },
    {
      "cell_type": "code",
      "execution_count": null,
      "metadata": {
        "id": "gqZ_ahxt_8Hf"
      },
      "outputs": [],
      "source": [
        "importances = pd.DataFrame()\n",
        "\n",
        "results = []\n",
        "\n",
        "for feature in tqdm(y):\n",
        "  print(\"Feature: \", feature)\n",
        "  #делим на валидацию и трейн\n",
        "  val, train = train_test_split(train_og, train_size=0.25, random_state=74, stratify = train_og[feature])\n",
        "\n",
        "  '''\n",
        "  CATBOOST\n",
        "  '''\n",
        "  #objective function, which Optuna aims to optimize\n",
        "  def objective(trial):\n",
        "    params = {\n",
        "        \"iterations\": 1000,\n",
        "        \"learning_rate\": trial.suggest_float(\"learning_rate\", 1e-3, 0.1, log=True),\n",
        "        \"depth\": trial.suggest_int(\"depth\", 2, 10, step = 1),\n",
        "        \"subsample\": trial.suggest_float(\"subsample\", 0.05, 1.0),\n",
        "        \"colsample_bylevel\": trial.suggest_float(\"colsample_bylevel\", 0.05, 1.0),\n",
        "        \"min_data_in_leaf\": trial.suggest_int(\"min_data_in_leaf\", 1, 100),\n",
        "    }\n",
        "\n",
        "    Cat_model = catboost.CatBoostClassifier(**params, silent=True)\n",
        "    Cat_model.fit(train[X], train[feature])\n",
        "    predictions = Cat_model.predict(val[X])\n",
        "    auc = roc_auc_score(val[feature], predictions)\n",
        "    return auc\n",
        "\n",
        "  study = optuna.create_study(direction='maximize')\n",
        "  study.optimize(objective, n_trials=N_trials)\n",
        "\n",
        "  Cat_best_trial = study.best_trial\n",
        "\n",
        "  train_data = Pool(data=train_og[X], label=train_og[feature])\n",
        "\n",
        "  Cat_model = catboost.CatBoostClassifier(**Cat_best_trial.params, silent=True)\n",
        "  Cat_model.fit(train_data)\n",
        "\n",
        "  print('Лучшие параметры Cat_model:  ', study.best_params, N_trials)\n",
        "  '''\n",
        "  XGBOOST\n",
        "  '''\n",
        "  #objective function, which Optuna aims to optimize\n",
        "  def objective(trial):\n",
        "    params = {\n",
        "        #\"iterations\": 1000,\n",
        "        \"eta\": trial.suggest_float(\"eta\", 1e-3, 0.1, log=True),\n",
        "        \"max_depth\": trial.suggest_int(\"max_depth\", 2, 10, step = 1),\n",
        "        \"subsample\": trial.suggest_float(\"subsample\", 0.05, 1.0),\n",
        "        \"colsample_bylevel\": trial.suggest_float(\"colsample_bylevel\", 0.05, 1.0),\n",
        "        #\"min_data_in_leaf\": trial.suggest_int(\"min_data_in_leaf\", 1, 100),\n",
        "    }\n",
        "\n",
        "    XGB_model = xgboost.XGBClassifier(**params)\n",
        "    XGB_model.fit(train[X], train[feature])\n",
        "    predictions = XGB_model.predict(val[X])\n",
        "\n",
        "    auc = roc_auc_score(val[feature], predictions)\n",
        "    return auc\n",
        "\n",
        "  study = optuna.create_study(direction='maximize')\n",
        "  study.optimize(objective, n_trials=N_trials)\n",
        "\n",
        "  XGB_best_trial = study.best_trial\n",
        "\n",
        "  train_data = Pool(data=train_og[X], label=train_og[feature])\n",
        "\n",
        "  XGB_model = xgboost.XGBClassifier(**XGB_best_trial.params)\n",
        "  XGB_model.fit(train_og[X], train_og[feature])\n",
        "\n",
        "  print('Лучшие параметры XGB_model:  ', study.best_params, N_trials)\n",
        "\n",
        "  '''\n",
        "  VotingClassifier\n",
        "  '''\n",
        "  ensemble_model = VotingClassifier(\n",
        "    estimators=[('cat', Cat_model), ('xgb', XGB_model)],\n",
        "    voting='soft'\n",
        "  )\n",
        "\n",
        "  params_grid = {\n",
        "\n",
        "      'weights': [(1, 1),\n",
        "       (2, 1), (1, 2),(1,4), (4,1),\n",
        "      (1,7), (7,1), (1,10), (10,1),\n",
        "      (1,20), (20,1),]\n",
        "      #\n",
        "          # #'lr__C' : [0.5,1,1.5],\n",
        "          # #'lr__class_weight': [None,'balanced'],\n",
        "          # #'nb__alpha' : [0.1,1,2],\n",
        "          # 'sgd__penalty' : ['l2', 'l1'],\n",
        "          # 'sgd__alpha': [0.0001,0.001,0.01]\n",
        "                  }\n",
        "\n",
        "  grid = GridSearchCV(estimator=ensemble_model,\n",
        "                      param_grid=params_grid,\n",
        "                      cv=3, scoring='roc_auc',\n",
        "                      n_jobs=-1)\n",
        "\n",
        "  grid.fit(train_og[X], train_og[feature])\n",
        "\n",
        "  #print(grid)\n",
        "\n",
        "  print('Лучшие параметры grid -- ', grid.best_params_)\n",
        "\n",
        "  #запись предиктов\n",
        "  test[feature] = grid.predict_proba(test[X])[:,1]\n",
        "\n",
        "  #получаем feature_importnace, переименовываем столбы и добавляет в таблицу importnaces\n",
        "\n",
        "\n",
        "  importances = importances.append(results, ignore_index=True)"
      ]
    },
    {
      "cell_type": "code",
      "execution_count": null,
      "metadata": {
        "id": "gwgxrrnWJtDY"
      },
      "outputs": [],
      "source": [
        "ensemble_model"
      ]
    },
    {
      "cell_type": "markdown",
      "metadata": {
        "id": "U-0QhXajKVrp"
      },
      "source": [
        "# Делаем предикт"
      ]
    },
    {
      "cell_type": "code",
      "execution_count": null,
      "metadata": {
        "id": "LMZhgqJvKVrp"
      },
      "outputs": [],
      "source": [
        "test[['id']+y].to_csv('S4E3_it7_trails5_allweights2.csv', index = False)"
      ]
    },
    {
      "cell_type": "markdown",
      "metadata": {
        "id": "0J1SX5v0KVrq"
      },
      "source": [
        "## Результаты"
      ]
    },
    {
      "cell_type": "markdown",
      "metadata": {
        "id": "AC4moxjsKsKh"
      },
      "source": [
        "для n-trials = **5**:\n",
        "Новый лучший результат скора: **0.89154**\n",
        "\n",
        "для n-trials = **5** c фильтрацией коррелирующих фич: 0.88873\n",
        "\n",
        "для n-trials = **30**:  **0.88815**\n",
        "\n",
        "для n-trials = **5** c подборов весов по сетке: **0.88966**\n",
        "\n",
        "\n",
        "для n-trials = **5** c подборов весов по сетке: **0.8899** (cv = 3)\n",
        "\n",
        "для n-trials = **5** c подборов весов по сетке: **0.88955** (cv = 3)\n",
        "(аналогия прошлой попытки но с фильтрацией кол-ва фич по матрице корреляций)\n",
        "\n"
      ]
    },
    {
      "cell_type": "markdown",
      "metadata": {
        "id": "tIeWoEkvoVvB"
      },
      "source": [
        "# Итерация 8. Optuna с ансамблем (XGBoost + Catboost) + FeatureEng"
      ]
    },
    {
      "cell_type": "code",
      "execution_count": null,
      "metadata": {
        "id": "SBAKynWxoVvB"
      },
      "outputs": [],
      "source": [
        "! pip install optuna\n",
        "\n",
        "import optuna\n",
        "import xgboost\n",
        "from xgboost import XGBClassifier\n",
        "from scipy.cluster import hierarchy\n",
        "from scipy.spatial.distance import squareform\n",
        "from sklearn.ensemble import VotingClassifier\n",
        "from sklearn.model_selection import GridSearchCV"
      ]
    },
    {
      "cell_type": "markdown",
      "metadata": {
        "id": "yLuIRt_ToVvC"
      },
      "source": [
        "### 🔃 Точка рестарта 🔃"
      ]
    },
    {
      "cell_type": "code",
      "execution_count": null,
      "metadata": {
        "id": "xM4XFm4WoVvC"
      },
      "outputs": [],
      "source": [
        "train = pd.read_csv('/content/competition_format/train.csv')\n",
        "test = pd.read_csv('/content/competition_format/test.csv')"
      ]
    },
    {
      "cell_type": "code",
      "execution_count": null,
      "metadata": {
        "id": "2L2MWHbdoVvC"
      },
      "outputs": [],
      "source": [
        "X = ['X_Minimum', 'X_Maximum', 'Y_Minimum', 'Y_Maximum',\n",
        "       'Pixels_Areas', 'X_Perimeter', 'Y_Perimeter', 'Sum_of_Luminosity',\n",
        "       'Minimum_of_Luminosity', 'Maximum_of_Luminosity', 'Length_of_Conveyer',\n",
        "       'TypeOfSteel_A300', 'TypeOfSteel_A400', 'Steel_Plate_Thickness',\n",
        "       'Edges_Index', 'Empty_Index', 'Square_Index', 'Outside_X_Index',\n",
        "       'Edges_X_Index', 'Edges_Y_Index', 'Outside_Global_Index', 'LogOfAreas',\n",
        "       'Log_X_Index', 'Log_Y_Index', 'Orientation_Index', 'Luminosity_Index',\n",
        "       'SigmoidOfAreas']\n",
        "\n",
        "y = ['Pastry', 'Z_Scratch', 'K_Scatch', 'Stains', 'Dirtiness', 'Bumps', 'Other_Faults']"
      ]
    },
    {
      "cell_type": "markdown",
      "metadata": {
        "id": "Up__qauCoVvC"
      },
      "source": [
        "## Предобработка"
      ]
    },
    {
      "cell_type": "code",
      "execution_count": null,
      "metadata": {
        "id": "GlL0qjWeoVvC"
      },
      "outputs": [],
      "source": [
        "def preprocess_data(data):\n",
        "\n",
        "  epsilon = 1e-6\n",
        "  # A small constant to avoid division by zero or taking the logarithm of zero\n",
        "\n",
        "\n",
        "  data = data[(data['TypeOfSteel_A300'] + data['TypeOfSteel_A400']) != 0]\n",
        "\n",
        "  data['Color_Range'] = data['Maximum_of_Luminosity'] - data['Minimum_of_Luminosity']\n",
        "  data['Normalized_Luminosity_Index'] = data['Luminosity_Index'] / data['Pixels_Areas']\n",
        "\n",
        "\n",
        "#Вычисляет отношение площади дефекта стали к его периметру по осям X и Y,\n",
        "#что дает представление о компактности дефектов в каждом измерении'''\n",
        "\n",
        "  data['Area_Perimeter_Ratio_X'] = data['Pixels_Areas'] / data['X_Perimeter']\n",
        "  data['Area_Perimeter_Ratio_Y'] = data['Pixels_Areas'] / data['Y_Perimeter']\n",
        "\n",
        "  data['Aspect_Ratio'] = (data['X_Maximum'] - data['X_Minimum']) / (abs(data['Y_Maximum'] - data['Y_Minimum']) + 1)\n",
        "\n",
        "  data['Edge_to_Area_Ratio'] = data['Edges_Index'] / data['Pixels_Areas']\n",
        "\n",
        "  # Symmetry Index Feature\n",
        "  # Location Features\n",
        "  data['X_Distance'] = data['X_Maximum'] - data['X_Minimum']\n",
        "  data['Y_Distance'] = data['Y_Maximum'] - data['Y_Minimum']\n",
        "\n",
        "  data['Symmetry_Index'] = np.abs(data['X_Distance'] - data['Y_Distance']) / (data['X_Distance'] + data['Y_Distance'] + epsilon)\n",
        "\n",
        "  # Density Feature\n",
        "  data['Density'] = data['Pixels_Areas'] / (data['X_Perimeter'] + data['Y_Perimeter'])"
      ]
    },
    {
      "cell_type": "code",
      "execution_count": null,
      "metadata": {
        "id": "srHHIltNsy4R"
      },
      "outputs": [],
      "source": [
        "preprocess_data(train)\n",
        "train = train[train[y].sum(axis=1) <= 1]"
      ]
    },
    {
      "cell_type": "code",
      "execution_count": null,
      "metadata": {
        "id": "hQYc9b57tkwf"
      },
      "outputs": [],
      "source": [
        "preprocess_data(test)"
      ]
    },
    {
      "cell_type": "markdown",
      "metadata": {
        "id": "nkLnAktCsIBo"
      },
      "source": [
        "Смотрим как изменились кластеры с добавлением новых фич"
      ]
    },
    {
      "cell_type": "code",
      "execution_count": null,
      "metadata": {
        "id": "wynncu2usM-T"
      },
      "outputs": [],
      "source": [
        "#строим корреляционную матрицу\n",
        "corr_matrix = train[X].corr('spearman')\n",
        "dissimilarity = 1 - abs(corr_matrix.values)\n",
        "#строим матрицу связей\n",
        "\n",
        "\n",
        "linkage_matrix = hierarchy.linkage(squareform(dissimilarity), method='complete')\n",
        "#linkage_matrix\n",
        "\n",
        "\n",
        "def create_clusters(l_matrix: np.ndarray, c_matrix: pd.DataFrame, th: float = 0.2) -> dict:\n",
        "    cluster_labels = hierarchy.fcluster(l_matrix, th, criterion='distance')\n",
        "    n_clusters = len(set(cluster_labels))\n",
        "\n",
        "    print(f'Number of clusters: {n_clusters}')\n",
        "\n",
        "    cluster_features = {}\n",
        "\n",
        "    for label in range(1, n_clusters + 1):\n",
        "\n",
        "        leaves_in_cluster = cluster_labels == label\n",
        "        cluster_features[label] = c_matrix.columns[leaves_in_cluster].to_list()\n",
        "\n",
        "    return cluster_features\n",
        "\n",
        "\n",
        "clusters = create_clusters(linkage_matrix, corr_matrix, 0.15)\n",
        "clusters"
      ]
    },
    {
      "cell_type": "code",
      "execution_count": null,
      "metadata": {
        "id": "vj7gWSwgoVvD"
      },
      "outputs": [],
      "source": [
        "train_og = train\n",
        "#X = filtered_X"
      ]
    },
    {
      "cell_type": "markdown",
      "metadata": {
        "id": "HyH_mr88oVvD"
      },
      "source": [
        "## Цикл оптимизации параметров, обучения-предикта каждой из вероятностей"
      ]
    },
    {
      "cell_type": "code",
      "execution_count": null,
      "metadata": {
        "id": "zkZNBIb8oVvD"
      },
      "outputs": [],
      "source": [
        "N_trials = 5"
      ]
    },
    {
      "cell_type": "code",
      "execution_count": null,
      "metadata": {
        "id": "FVbntyy1oVvD"
      },
      "outputs": [],
      "source": [
        "importances = pd.DataFrame()\n",
        "\n",
        "results = []\n",
        "\n",
        "\n",
        "for feature in tqdm(y):\n",
        "  print(\"Feature: \", feature)\n",
        "  #делим на валидацию и трейн\n",
        "  val, train = train_test_split(train_og, train_size=0.25, random_state=74, stratify = train_og[feature])\n",
        "\n",
        "  '''\n",
        "  CATBOOST\n",
        "  '''\n",
        "  #objective function, which Optuna aims to optimize\n",
        "  def objective(trial):\n",
        "    params = {\n",
        "        \"iterations\": 1000,\n",
        "        \"learning_rate\": trial.suggest_float(\"learning_rate\", 1e-3, 0.1, log=True),\n",
        "        \"depth\": trial.suggest_int(\"depth\", 2, 10, step = 1),\n",
        "        \"subsample\": trial.suggest_float(\"subsample\", 0.05, 1.0),\n",
        "        \"colsample_bylevel\": trial.suggest_float(\"colsample_bylevel\", 0.05, 1.0),\n",
        "        \"min_data_in_leaf\": trial.suggest_int(\"min_data_in_leaf\", 1, 100),\n",
        "    }\n",
        "\n",
        "    Cat_model = catboost.CatBoostClassifier(**params, silent=True)\n",
        "    Cat_model.fit(train[X], train[feature])\n",
        "    predictions = Cat_model.predict(val[X])\n",
        "    auc = roc_auc_score(val[feature], predictions)\n",
        "    return auc\n",
        "\n",
        "  study = optuna.create_study(direction='maximize')\n",
        "  study.optimize(objective, n_trials=N_trials)\n",
        "\n",
        "  Cat_best_trial = study.best_trial\n",
        "\n",
        "  train_data = Pool(data=train_og[X], label=train_og[feature])\n",
        "\n",
        "  Cat_model = catboost.CatBoostClassifier(**Cat_best_trial.params, silent=True)\n",
        "  Cat_model.fit(train_data)\n",
        "\n",
        "  print('Лучшие параметры Cat_model:  ', study.best_params, N_trials)\n",
        "  '''\n",
        "  XGBOOST\n",
        "  '''\n",
        "  #objective function, which Optuna aims to optimize\n",
        "  def objective(trial):\n",
        "    params = {\n",
        "        #\"iterations\": 1000,\n",
        "        \"eta\": trial.suggest_float(\"eta\", 1e-3, 0.1, log=True),\n",
        "        \"max_depth\": trial.suggest_int(\"max_depth\", 2, 10, step = 1),\n",
        "        \"subsample\": trial.suggest_float(\"subsample\", 0.05, 1.0),\n",
        "        \"colsample_bylevel\": trial.suggest_float(\"colsample_bylevel\", 0.05, 1.0),\n",
        "        #\"min_data_in_leaf\": trial.suggest_int(\"min_data_in_leaf\", 1, 100),\n",
        "    }\n",
        "\n",
        "    XGB_model = xgboost.XGBClassifier(**params)\n",
        "    XGB_model.fit(train[X], train[feature])\n",
        "    predictions = XGB_model.predict(val[X])\n",
        "\n",
        "    auc = roc_auc_score(val[feature], predictions)\n",
        "    return auc\n",
        "\n",
        "  study = optuna.create_study(direction='maximize')\n",
        "  study.optimize(objective, n_trials=N_trials)\n",
        "\n",
        "  XGB_best_trial = study.best_trial\n",
        "\n",
        "  train_data = Pool(data=train_og[X], label=train_og[feature])\n",
        "\n",
        "  XGB_model = xgboost.XGBClassifier(**XGB_best_trial.params)\n",
        "  XGB_model.fit(train_og[X], train_og[feature])\n",
        "\n",
        "  print('Лучшие параметры XGB_model:  ', study.best_params, N_trials)\n",
        "\n",
        "  '''\n",
        "  VotingClassifier\n",
        "  '''\n",
        "  ensemble_model = VotingClassifier(\n",
        "    estimators=[('cat', Cat_model), ('xgb', XGB_model)],\n",
        "    voting='soft'\n",
        "  )\n",
        "\n",
        "  params_grid = {\n",
        "\n",
        "      'weights': [(1, 1),\n",
        "       (2, 1), (1, 2),(1,4), (4,1),\n",
        "      (1,7), (7,1), (1,10), (10,1),\n",
        "      (1,20), (20,1),]\n",
        "      #\n",
        "          # #'lr__C' : [0.5,1,1.5],\n",
        "          # #'lr__class_weight': [None,'balanced'],\n",
        "          # #'nb__alpha' : [0.1,1,2],\n",
        "          # 'sgd__penalty' : ['l2', 'l1'],\n",
        "          # 'sgd__alpha': [0.0001,0.001,0.01]\n",
        "                  }\n",
        "\n",
        "  grid = GridSearchCV(estimator=ensemble_model,\n",
        "                      param_grid=params_grid,\n",
        "                      cv=3, scoring='roc_auc',\n",
        "                      n_jobs=-1)\n",
        "\n",
        "  grid.fit(train_og[X], train_og[feature])\n",
        "\n",
        "  #print(grid)\n",
        "\n",
        "  print('Лучшие параметры grid -- ', grid.best_params_)\n",
        "\n",
        "  #запись предиктов\n",
        "  test[feature] = grid.predict_proba(test[X])[:,1]\n",
        "\n",
        "  #получаем feature_importnace, переименовываем столбы и добавляет в таблицу importnaces\n",
        "\n",
        "\n",
        "  importances = importances.append(results, ignore_index=True)"
      ]
    },
    {
      "cell_type": "code",
      "execution_count": null,
      "metadata": {
        "id": "aY2fRO2qoVvD"
      },
      "outputs": [],
      "source": [
        "ensemble_model"
      ]
    },
    {
      "cell_type": "markdown",
      "metadata": {
        "id": "TfF0LmMpDjAq"
      },
      "source": [
        "# Делаем предикт"
      ]
    },
    {
      "cell_type": "code",
      "execution_count": null,
      "metadata": {
        "id": "e3Cq7HL3DjA1"
      },
      "outputs": [],
      "source": [
        "test[['id']+y].to_csv('S4E3_it8_trails5.csv', index = False)"
      ]
    },
    {
      "cell_type": "markdown",
      "metadata": {
        "id": "BYd9kUAwDjA1"
      },
      "source": [
        "# Результаты"
      ]
    },
    {
      "cell_type": "markdown",
      "source": [
        "Лучший результат позволил набрать **0.88504** Public Score.\n",
        "\n",
        "Занял 615 место из 2201 учасника.  Учитывая высокую конкуренцию в соревнованиях Playground, и что многие вещи которые пробовал в данном соревновании были для меня новыми, попадание в тир 30% считаю мини-успехом)"
      ],
      "metadata": {
        "id": "6NunSbUdQ1iC"
      }
    }
  ],
  "metadata": {
    "accelerator": "GPU",
    "colab": {
      "gpuType": "T4",
      "provenance": [],
      "toc_visible": true
    },
    "kernelspec": {
      "display_name": "Python 3",
      "name": "python3"
    },
    "language_info": {
      "name": "python"
    }
  },
  "nbformat": 4,
  "nbformat_minor": 0
}