{
  "nbformat": 4,
  "nbformat_minor": 0,
  "metadata": {
    "colab": {
      "provenance": [],
      "toc_visible": true
    },
    "kernelspec": {
      "name": "python3",
      "display_name": "Python 3"
    },
    "language_info": {
      "name": "python"
    }
  },
  "cells": [
    {
      "cell_type": "markdown",
      "source": [
        "# Импорты"
      ],
      "metadata": {
        "id": "QoIygDhx6oDB"
      }
    },
    {
      "cell_type": "markdown",
      "source": [
        "Загрузка файла"
      ],
      "metadata": {
        "id": "dAYjr2OwN7rz"
      }
    },
    {
      "cell_type": "code",
      "source": [
        "! gdown --id 1xDwmT0ZImvecdiUTWa-Y4-3Zdn1EeX2X"
      ],
      "metadata": {
        "colab": {
          "base_uri": "https://localhost:8080/"
        },
        "id": "EUoWoe0iN3VK",
        "outputId": "e5a47b81-0c32-45c4-ebf2-d0794e316a9e"
      },
      "execution_count": null,
      "outputs": [
        {
          "output_type": "stream",
          "name": "stdout",
          "text": [
            "/usr/local/lib/python3.10/dist-packages/gdown/cli.py:138: FutureWarning: Option `--id` was deprecated in version 4.3.1 and will be removed in 5.0. You don't need to pass it anymore to use a file ID.\n",
            "  warnings.warn(\n",
            "Downloading...\n",
            "From: https://drive.google.com/uc?id=1xDwmT0ZImvecdiUTWa-Y4-3Zdn1EeX2X\n",
            "To: /content/leopard-challenge-regression.zip\n",
            "100% 1.00M/1.00M [00:00<00:00, 22.6MB/s]\n"
          ]
        }
      ]
    },
    {
      "cell_type": "code",
      "execution_count": null,
      "metadata": {
        "colab": {
          "base_uri": "https://localhost:8080/"
        },
        "id": "TG8o9E9LNXL5",
        "outputId": "3a1a296d-2374-4d8a-e9b8-cd21efaed6dc"
      },
      "outputs": [
        {
          "output_type": "stream",
          "name": "stdout",
          "text": [
            "Archive:  /content/leopard-challenge-regression.zip\n",
            "replace /content/regression/sample_submission.csv? [y]es, [n]o, [A]ll, [N]one, [r]ename: "
          ]
        }
      ],
      "source": [
        "! unzip /content/leopard-challenge-regression.zip -d /content/regression"
      ]
    },
    {
      "cell_type": "markdown",
      "source": [
        "Подгрузка библиотек"
      ],
      "metadata": {
        "id": "7EXOnGJUOHe-"
      }
    },
    {
      "cell_type": "code",
      "source": [
        "import pandas as pd\n",
        "import numpy as np\n",
        "\n",
        "from sklearn.model_selection import train_test_split\n",
        "from sklearn.metrics import mean_absolute_error, mean_absolute_percentage_error"
      ],
      "metadata": {
        "id": "GsAbhoNAOHSG"
      },
      "execution_count": null,
      "outputs": []
    },
    {
      "cell_type": "code",
      "source": [
        "import matplotlib.pyplot as plt\n",
        "import seaborn as sns\n",
        "sns.set_style(\"darkgrid\", {\"axes.facecolor\": \".9\"})\n",
        "sns.set(rc={'figure.figsize':(4,3)})"
      ],
      "metadata": {
        "id": "N7SvrbSXo0mR"
      },
      "execution_count": null,
      "outputs": []
    },
    {
      "cell_type": "code",
      "source": [
        "! pip install catboost\n",
        "\n",
        "from catboost import CatBoostRegressor\n",
        "from catboost import Pool"
      ],
      "metadata": {
        "colab": {
          "base_uri": "https://localhost:8080/"
        },
        "id": "1RFoVy-dOSB4",
        "outputId": "e2ad3fe2-c9d5-4d2d-f547-85ee9a2693af"
      },
      "execution_count": null,
      "outputs": [
        {
          "output_type": "stream",
          "name": "stdout",
          "text": [
            "Requirement already satisfied: catboost in /usr/local/lib/python3.10/dist-packages (1.2.2)\n",
            "Requirement already satisfied: graphviz in /usr/local/lib/python3.10/dist-packages (from catboost) (0.20.1)\n",
            "Requirement already satisfied: matplotlib in /usr/local/lib/python3.10/dist-packages (from catboost) (3.7.1)\n",
            "Requirement already satisfied: numpy>=1.16.0 in /usr/local/lib/python3.10/dist-packages (from catboost) (1.26.4)\n",
            "Requirement already satisfied: pandas>=0.24 in /usr/local/lib/python3.10/dist-packages (from catboost) (1.5.3)\n",
            "Requirement already satisfied: scipy in /usr/local/lib/python3.10/dist-packages (from catboost) (1.11.4)\n",
            "Requirement already satisfied: plotly in /usr/local/lib/python3.10/dist-packages (from catboost) (5.15.0)\n",
            "Requirement already satisfied: six in /usr/local/lib/python3.10/dist-packages (from catboost) (1.16.0)\n",
            "Requirement already satisfied: python-dateutil>=2.8.1 in /usr/local/lib/python3.10/dist-packages (from pandas>=0.24->catboost) (2.8.2)\n",
            "Requirement already satisfied: pytz>=2020.1 in /usr/local/lib/python3.10/dist-packages (from pandas>=0.24->catboost) (2023.4)\n",
            "Requirement already satisfied: contourpy>=1.0.1 in /usr/local/lib/python3.10/dist-packages (from matplotlib->catboost) (1.2.0)\n",
            "Requirement already satisfied: cycler>=0.10 in /usr/local/lib/python3.10/dist-packages (from matplotlib->catboost) (0.12.1)\n",
            "Requirement already satisfied: fonttools>=4.22.0 in /usr/local/lib/python3.10/dist-packages (from matplotlib->catboost) (4.48.1)\n",
            "Requirement already satisfied: kiwisolver>=1.0.1 in /usr/local/lib/python3.10/dist-packages (from matplotlib->catboost) (1.4.5)\n",
            "Requirement already satisfied: packaging>=20.0 in /usr/local/lib/python3.10/dist-packages (from matplotlib->catboost) (23.2)\n",
            "Requirement already satisfied: pillow>=6.2.0 in /usr/local/lib/python3.10/dist-packages (from matplotlib->catboost) (9.4.0)\n",
            "Requirement already satisfied: pyparsing>=2.3.1 in /usr/local/lib/python3.10/dist-packages (from matplotlib->catboost) (3.1.1)\n",
            "Requirement already satisfied: tenacity>=6.2.0 in /usr/local/lib/python3.10/dist-packages (from plotly->catboost) (8.2.3)\n"
          ]
        }
      ]
    },
    {
      "cell_type": "code",
      "source": [
        "#функция для нахождения MAE и MAPE\n",
        "def error(y_true,y_pred):\n",
        "  print(mean_absolute_error(y_true,y_pred))\n",
        "  print(mean_absolute_percentage_error(y_true,y_pred))"
      ],
      "metadata": {
        "id": "cnkN-phwEwJO"
      },
      "execution_count": null,
      "outputs": []
    },
    {
      "cell_type": "markdown",
      "source": [
        "# 🔃 Точка рестарта 🔃"
      ],
      "metadata": {
        "id": "LKjFUkX8u1fg"
      }
    },
    {
      "cell_type": "markdown",
      "source": [
        "Создадим датасет из тестовых и тренеровочных данных"
      ],
      "metadata": {
        "id": "z_uTwBLgOY0i"
      }
    },
    {
      "cell_type": "code",
      "source": [
        "test = pd.read_csv('/content/regression/test.csv')\n",
        "train = pd.read_csv('/content/regression/train.csv')"
      ],
      "metadata": {
        "id": "soyjO_DmOhf-"
      },
      "execution_count": null,
      "outputs": []
    },
    {
      "cell_type": "code",
      "source": [
        "test.sample(2)"
      ],
      "metadata": {
        "id": "gWkdTwrXPNSw",
        "outputId": "276c5ae1-de3e-4b9c-e419-f9c00fd31d96",
        "colab": {
          "base_uri": "https://localhost:8080/",
          "height": 230
        }
      },
      "execution_count": null,
      "outputs": [
        {
          "output_type": "execute_result",
          "data": {
            "text/plain": [
              "          Suburb          Address  Rooms Type Method   SellerG       Date  \\\n",
              "5111   Bentleigh     17 Jasper Rd      2    h      S    Buxton  9/12/2017   \n",
              "5198  Cheltenham  145 Warrigal Rd      3    h      S  Chisholm  9/12/2017   \n",
              "\n",
              "      Distance  Postcode  Bedroom2  ...  Car  Landsize  BuildingArea  \\\n",
              "5111      11.4    3204.0       2.0  ...  1.0       NaN          98.0   \n",
              "5198      17.9    3192.0       3.0  ...  2.0       NaN         158.0   \n",
              "\n",
              "      YearBuilt             CouncilArea Lattitude  Longtitude  \\\n",
              "5111     1950.0  Glen Eira City Council -37.93241   145.03891   \n",
              "5198     1950.0    Bayside City Council -37.97465   145.07259   \n",
              "\n",
              "                 Regionname Propertycount     id  \n",
              "5111  Southern Metropolitan        6795.0  25820  \n",
              "5198  Southern Metropolitan        9758.0  23584  \n",
              "\n",
              "[2 rows x 21 columns]"
            ],
            "text/html": [
              "\n",
              "  <div id=\"df-ab830c84-5504-48d5-9c28-32e7e6f39284\" class=\"colab-df-container\">\n",
              "    <div>\n",
              "<style scoped>\n",
              "    .dataframe tbody tr th:only-of-type {\n",
              "        vertical-align: middle;\n",
              "    }\n",
              "\n",
              "    .dataframe tbody tr th {\n",
              "        vertical-align: top;\n",
              "    }\n",
              "\n",
              "    .dataframe thead th {\n",
              "        text-align: right;\n",
              "    }\n",
              "</style>\n",
              "<table border=\"1\" class=\"dataframe\">\n",
              "  <thead>\n",
              "    <tr style=\"text-align: right;\">\n",
              "      <th></th>\n",
              "      <th>Suburb</th>\n",
              "      <th>Address</th>\n",
              "      <th>Rooms</th>\n",
              "      <th>Type</th>\n",
              "      <th>Method</th>\n",
              "      <th>SellerG</th>\n",
              "      <th>Date</th>\n",
              "      <th>Distance</th>\n",
              "      <th>Postcode</th>\n",
              "      <th>Bedroom2</th>\n",
              "      <th>...</th>\n",
              "      <th>Car</th>\n",
              "      <th>Landsize</th>\n",
              "      <th>BuildingArea</th>\n",
              "      <th>YearBuilt</th>\n",
              "      <th>CouncilArea</th>\n",
              "      <th>Lattitude</th>\n",
              "      <th>Longtitude</th>\n",
              "      <th>Regionname</th>\n",
              "      <th>Propertycount</th>\n",
              "      <th>id</th>\n",
              "    </tr>\n",
              "  </thead>\n",
              "  <tbody>\n",
              "    <tr>\n",
              "      <th>5111</th>\n",
              "      <td>Bentleigh</td>\n",
              "      <td>17 Jasper Rd</td>\n",
              "      <td>2</td>\n",
              "      <td>h</td>\n",
              "      <td>S</td>\n",
              "      <td>Buxton</td>\n",
              "      <td>9/12/2017</td>\n",
              "      <td>11.4</td>\n",
              "      <td>3204.0</td>\n",
              "      <td>2.0</td>\n",
              "      <td>...</td>\n",
              "      <td>1.0</td>\n",
              "      <td>NaN</td>\n",
              "      <td>98.0</td>\n",
              "      <td>1950.0</td>\n",
              "      <td>Glen Eira City Council</td>\n",
              "      <td>-37.93241</td>\n",
              "      <td>145.03891</td>\n",
              "      <td>Southern Metropolitan</td>\n",
              "      <td>6795.0</td>\n",
              "      <td>25820</td>\n",
              "    </tr>\n",
              "    <tr>\n",
              "      <th>5198</th>\n",
              "      <td>Cheltenham</td>\n",
              "      <td>145 Warrigal Rd</td>\n",
              "      <td>3</td>\n",
              "      <td>h</td>\n",
              "      <td>S</td>\n",
              "      <td>Chisholm</td>\n",
              "      <td>9/12/2017</td>\n",
              "      <td>17.9</td>\n",
              "      <td>3192.0</td>\n",
              "      <td>3.0</td>\n",
              "      <td>...</td>\n",
              "      <td>2.0</td>\n",
              "      <td>NaN</td>\n",
              "      <td>158.0</td>\n",
              "      <td>1950.0</td>\n",
              "      <td>Bayside City Council</td>\n",
              "      <td>-37.97465</td>\n",
              "      <td>145.07259</td>\n",
              "      <td>Southern Metropolitan</td>\n",
              "      <td>9758.0</td>\n",
              "      <td>23584</td>\n",
              "    </tr>\n",
              "  </tbody>\n",
              "</table>\n",
              "<p>2 rows × 21 columns</p>\n",
              "</div>\n",
              "    <div class=\"colab-df-buttons\">\n",
              "\n",
              "  <div class=\"colab-df-container\">\n",
              "    <button class=\"colab-df-convert\" onclick=\"convertToInteractive('df-ab830c84-5504-48d5-9c28-32e7e6f39284')\"\n",
              "            title=\"Convert this dataframe to an interactive table.\"\n",
              "            style=\"display:none;\">\n",
              "\n",
              "  <svg xmlns=\"http://www.w3.org/2000/svg\" height=\"24px\" viewBox=\"0 -960 960 960\">\n",
              "    <path d=\"M120-120v-720h720v720H120Zm60-500h600v-160H180v160Zm220 220h160v-160H400v160Zm0 220h160v-160H400v160ZM180-400h160v-160H180v160Zm440 0h160v-160H620v160ZM180-180h160v-160H180v160Zm440 0h160v-160H620v160Z\"/>\n",
              "  </svg>\n",
              "    </button>\n",
              "\n",
              "  <style>\n",
              "    .colab-df-container {\n",
              "      display:flex;\n",
              "      gap: 12px;\n",
              "    }\n",
              "\n",
              "    .colab-df-convert {\n",
              "      background-color: #E8F0FE;\n",
              "      border: none;\n",
              "      border-radius: 50%;\n",
              "      cursor: pointer;\n",
              "      display: none;\n",
              "      fill: #1967D2;\n",
              "      height: 32px;\n",
              "      padding: 0 0 0 0;\n",
              "      width: 32px;\n",
              "    }\n",
              "\n",
              "    .colab-df-convert:hover {\n",
              "      background-color: #E2EBFA;\n",
              "      box-shadow: 0px 1px 2px rgba(60, 64, 67, 0.3), 0px 1px 3px 1px rgba(60, 64, 67, 0.15);\n",
              "      fill: #174EA6;\n",
              "    }\n",
              "\n",
              "    .colab-df-buttons div {\n",
              "      margin-bottom: 4px;\n",
              "    }\n",
              "\n",
              "    [theme=dark] .colab-df-convert {\n",
              "      background-color: #3B4455;\n",
              "      fill: #D2E3FC;\n",
              "    }\n",
              "\n",
              "    [theme=dark] .colab-df-convert:hover {\n",
              "      background-color: #434B5C;\n",
              "      box-shadow: 0px 1px 3px 1px rgba(0, 0, 0, 0.15);\n",
              "      filter: drop-shadow(0px 1px 2px rgba(0, 0, 0, 0.3));\n",
              "      fill: #FFFFFF;\n",
              "    }\n",
              "  </style>\n",
              "\n",
              "    <script>\n",
              "      const buttonEl =\n",
              "        document.querySelector('#df-ab830c84-5504-48d5-9c28-32e7e6f39284 button.colab-df-convert');\n",
              "      buttonEl.style.display =\n",
              "        google.colab.kernel.accessAllowed ? 'block' : 'none';\n",
              "\n",
              "      async function convertToInteractive(key) {\n",
              "        const element = document.querySelector('#df-ab830c84-5504-48d5-9c28-32e7e6f39284');\n",
              "        const dataTable =\n",
              "          await google.colab.kernel.invokeFunction('convertToInteractive',\n",
              "                                                    [key], {});\n",
              "        if (!dataTable) return;\n",
              "\n",
              "        const docLinkHtml = 'Like what you see? Visit the ' +\n",
              "          '<a target=\"_blank\" href=https://colab.research.google.com/notebooks/data_table.ipynb>data table notebook</a>'\n",
              "          + ' to learn more about interactive tables.';\n",
              "        element.innerHTML = '';\n",
              "        dataTable['output_type'] = 'display_data';\n",
              "        await google.colab.output.renderOutput(dataTable, element);\n",
              "        const docLink = document.createElement('div');\n",
              "        docLink.innerHTML = docLinkHtml;\n",
              "        element.appendChild(docLink);\n",
              "      }\n",
              "    </script>\n",
              "  </div>\n",
              "\n",
              "\n",
              "<div id=\"df-3eaad7fe-8b7e-4d03-929f-cd4f2da74528\">\n",
              "  <button class=\"colab-df-quickchart\" onclick=\"quickchart('df-3eaad7fe-8b7e-4d03-929f-cd4f2da74528')\"\n",
              "            title=\"Suggest charts\"\n",
              "            style=\"display:none;\">\n",
              "\n",
              "<svg xmlns=\"http://www.w3.org/2000/svg\" height=\"24px\"viewBox=\"0 0 24 24\"\n",
              "     width=\"24px\">\n",
              "    <g>\n",
              "        <path d=\"M19 3H5c-1.1 0-2 .9-2 2v14c0 1.1.9 2 2 2h14c1.1 0 2-.9 2-2V5c0-1.1-.9-2-2-2zM9 17H7v-7h2v7zm4 0h-2V7h2v10zm4 0h-2v-4h2v4z\"/>\n",
              "    </g>\n",
              "</svg>\n",
              "  </button>\n",
              "\n",
              "<style>\n",
              "  .colab-df-quickchart {\n",
              "      --bg-color: #E8F0FE;\n",
              "      --fill-color: #1967D2;\n",
              "      --hover-bg-color: #E2EBFA;\n",
              "      --hover-fill-color: #174EA6;\n",
              "      --disabled-fill-color: #AAA;\n",
              "      --disabled-bg-color: #DDD;\n",
              "  }\n",
              "\n",
              "  [theme=dark] .colab-df-quickchart {\n",
              "      --bg-color: #3B4455;\n",
              "      --fill-color: #D2E3FC;\n",
              "      --hover-bg-color: #434B5C;\n",
              "      --hover-fill-color: #FFFFFF;\n",
              "      --disabled-bg-color: #3B4455;\n",
              "      --disabled-fill-color: #666;\n",
              "  }\n",
              "\n",
              "  .colab-df-quickchart {\n",
              "    background-color: var(--bg-color);\n",
              "    border: none;\n",
              "    border-radius: 50%;\n",
              "    cursor: pointer;\n",
              "    display: none;\n",
              "    fill: var(--fill-color);\n",
              "    height: 32px;\n",
              "    padding: 0;\n",
              "    width: 32px;\n",
              "  }\n",
              "\n",
              "  .colab-df-quickchart:hover {\n",
              "    background-color: var(--hover-bg-color);\n",
              "    box-shadow: 0 1px 2px rgba(60, 64, 67, 0.3), 0 1px 3px 1px rgba(60, 64, 67, 0.15);\n",
              "    fill: var(--button-hover-fill-color);\n",
              "  }\n",
              "\n",
              "  .colab-df-quickchart-complete:disabled,\n",
              "  .colab-df-quickchart-complete:disabled:hover {\n",
              "    background-color: var(--disabled-bg-color);\n",
              "    fill: var(--disabled-fill-color);\n",
              "    box-shadow: none;\n",
              "  }\n",
              "\n",
              "  .colab-df-spinner {\n",
              "    border: 2px solid var(--fill-color);\n",
              "    border-color: transparent;\n",
              "    border-bottom-color: var(--fill-color);\n",
              "    animation:\n",
              "      spin 1s steps(1) infinite;\n",
              "  }\n",
              "\n",
              "  @keyframes spin {\n",
              "    0% {\n",
              "      border-color: transparent;\n",
              "      border-bottom-color: var(--fill-color);\n",
              "      border-left-color: var(--fill-color);\n",
              "    }\n",
              "    20% {\n",
              "      border-color: transparent;\n",
              "      border-left-color: var(--fill-color);\n",
              "      border-top-color: var(--fill-color);\n",
              "    }\n",
              "    30% {\n",
              "      border-color: transparent;\n",
              "      border-left-color: var(--fill-color);\n",
              "      border-top-color: var(--fill-color);\n",
              "      border-right-color: var(--fill-color);\n",
              "    }\n",
              "    40% {\n",
              "      border-color: transparent;\n",
              "      border-right-color: var(--fill-color);\n",
              "      border-top-color: var(--fill-color);\n",
              "    }\n",
              "    60% {\n",
              "      border-color: transparent;\n",
              "      border-right-color: var(--fill-color);\n",
              "    }\n",
              "    80% {\n",
              "      border-color: transparent;\n",
              "      border-right-color: var(--fill-color);\n",
              "      border-bottom-color: var(--fill-color);\n",
              "    }\n",
              "    90% {\n",
              "      border-color: transparent;\n",
              "      border-bottom-color: var(--fill-color);\n",
              "    }\n",
              "  }\n",
              "</style>\n",
              "\n",
              "  <script>\n",
              "    async function quickchart(key) {\n",
              "      const quickchartButtonEl =\n",
              "        document.querySelector('#' + key + ' button');\n",
              "      quickchartButtonEl.disabled = true;  // To prevent multiple clicks.\n",
              "      quickchartButtonEl.classList.add('colab-df-spinner');\n",
              "      try {\n",
              "        const charts = await google.colab.kernel.invokeFunction(\n",
              "            'suggestCharts', [key], {});\n",
              "      } catch (error) {\n",
              "        console.error('Error during call to suggestCharts:', error);\n",
              "      }\n",
              "      quickchartButtonEl.classList.remove('colab-df-spinner');\n",
              "      quickchartButtonEl.classList.add('colab-df-quickchart-complete');\n",
              "    }\n",
              "    (() => {\n",
              "      let quickchartButtonEl =\n",
              "        document.querySelector('#df-3eaad7fe-8b7e-4d03-929f-cd4f2da74528 button');\n",
              "      quickchartButtonEl.style.display =\n",
              "        google.colab.kernel.accessAllowed ? 'block' : 'none';\n",
              "    })();\n",
              "  </script>\n",
              "</div>\n",
              "\n",
              "    </div>\n",
              "  </div>\n"
            ]
          },
          "metadata": {},
          "execution_count": 75
        }
      ]
    },
    {
      "cell_type": "code",
      "source": [
        "train.sample(2)"
      ],
      "metadata": {
        "colab": {
          "base_uri": "https://localhost:8080/",
          "height": 230
        },
        "id": "RNOx-_21bS1x",
        "outputId": "94daff6c-fadb-420a-c474-050088aea4e2"
      },
      "execution_count": null,
      "outputs": [
        {
          "output_type": "execute_result",
          "data": {
            "text/plain": [
              "               Suburb              Address  Rooms Type      Price Method  \\\n",
              "17145  Port Melbourne  490 Williamstown Rd      3    h  1265000.0     SP   \n",
              "15135        Essendon        61 William St      3    h  1875000.0     SP   \n",
              "\n",
              "        SellerG        Date  Distance  Postcode  ...  Car  Landsize  \\\n",
              "17145  Marshall  19/08/2017       3.5    3207.0  ...  0.0       NaN   \n",
              "15135    Jellis  29/07/2017       7.5    3040.0  ...  2.0     828.0   \n",
              "\n",
              "       BuildingArea  YearBuilt                 CouncilArea  Lattitude  \\\n",
              "17145           NaN        NaN      Melbourne City Council  -37.83261   \n",
              "15135           NaN        NaN  Moonee Valley City Council  -37.74473   \n",
              "\n",
              "      Longtitude             Regionname  Propertycount     id  \n",
              "17145  144.93830  Southern Metropolitan         8648.0  34172  \n",
              "15135  144.90238   Western Metropolitan         9264.0  29171  \n",
              "\n",
              "[2 rows x 22 columns]"
            ],
            "text/html": [
              "\n",
              "  <div id=\"df-9b39f815-ba2c-40f5-8dab-1bf5eca42a49\" class=\"colab-df-container\">\n",
              "    <div>\n",
              "<style scoped>\n",
              "    .dataframe tbody tr th:only-of-type {\n",
              "        vertical-align: middle;\n",
              "    }\n",
              "\n",
              "    .dataframe tbody tr th {\n",
              "        vertical-align: top;\n",
              "    }\n",
              "\n",
              "    .dataframe thead th {\n",
              "        text-align: right;\n",
              "    }\n",
              "</style>\n",
              "<table border=\"1\" class=\"dataframe\">\n",
              "  <thead>\n",
              "    <tr style=\"text-align: right;\">\n",
              "      <th></th>\n",
              "      <th>Suburb</th>\n",
              "      <th>Address</th>\n",
              "      <th>Rooms</th>\n",
              "      <th>Type</th>\n",
              "      <th>Price</th>\n",
              "      <th>Method</th>\n",
              "      <th>SellerG</th>\n",
              "      <th>Date</th>\n",
              "      <th>Distance</th>\n",
              "      <th>Postcode</th>\n",
              "      <th>...</th>\n",
              "      <th>Car</th>\n",
              "      <th>Landsize</th>\n",
              "      <th>BuildingArea</th>\n",
              "      <th>YearBuilt</th>\n",
              "      <th>CouncilArea</th>\n",
              "      <th>Lattitude</th>\n",
              "      <th>Longtitude</th>\n",
              "      <th>Regionname</th>\n",
              "      <th>Propertycount</th>\n",
              "      <th>id</th>\n",
              "    </tr>\n",
              "  </thead>\n",
              "  <tbody>\n",
              "    <tr>\n",
              "      <th>17145</th>\n",
              "      <td>Port Melbourne</td>\n",
              "      <td>490 Williamstown Rd</td>\n",
              "      <td>3</td>\n",
              "      <td>h</td>\n",
              "      <td>1265000.0</td>\n",
              "      <td>SP</td>\n",
              "      <td>Marshall</td>\n",
              "      <td>19/08/2017</td>\n",
              "      <td>3.5</td>\n",
              "      <td>3207.0</td>\n",
              "      <td>...</td>\n",
              "      <td>0.0</td>\n",
              "      <td>NaN</td>\n",
              "      <td>NaN</td>\n",
              "      <td>NaN</td>\n",
              "      <td>Melbourne City Council</td>\n",
              "      <td>-37.83261</td>\n",
              "      <td>144.93830</td>\n",
              "      <td>Southern Metropolitan</td>\n",
              "      <td>8648.0</td>\n",
              "      <td>34172</td>\n",
              "    </tr>\n",
              "    <tr>\n",
              "      <th>15135</th>\n",
              "      <td>Essendon</td>\n",
              "      <td>61 William St</td>\n",
              "      <td>3</td>\n",
              "      <td>h</td>\n",
              "      <td>1875000.0</td>\n",
              "      <td>SP</td>\n",
              "      <td>Jellis</td>\n",
              "      <td>29/07/2017</td>\n",
              "      <td>7.5</td>\n",
              "      <td>3040.0</td>\n",
              "      <td>...</td>\n",
              "      <td>2.0</td>\n",
              "      <td>828.0</td>\n",
              "      <td>NaN</td>\n",
              "      <td>NaN</td>\n",
              "      <td>Moonee Valley City Council</td>\n",
              "      <td>-37.74473</td>\n",
              "      <td>144.90238</td>\n",
              "      <td>Western Metropolitan</td>\n",
              "      <td>9264.0</td>\n",
              "      <td>29171</td>\n",
              "    </tr>\n",
              "  </tbody>\n",
              "</table>\n",
              "<p>2 rows × 22 columns</p>\n",
              "</div>\n",
              "    <div class=\"colab-df-buttons\">\n",
              "\n",
              "  <div class=\"colab-df-container\">\n",
              "    <button class=\"colab-df-convert\" onclick=\"convertToInteractive('df-9b39f815-ba2c-40f5-8dab-1bf5eca42a49')\"\n",
              "            title=\"Convert this dataframe to an interactive table.\"\n",
              "            style=\"display:none;\">\n",
              "\n",
              "  <svg xmlns=\"http://www.w3.org/2000/svg\" height=\"24px\" viewBox=\"0 -960 960 960\">\n",
              "    <path d=\"M120-120v-720h720v720H120Zm60-500h600v-160H180v160Zm220 220h160v-160H400v160Zm0 220h160v-160H400v160ZM180-400h160v-160H180v160Zm440 0h160v-160H620v160ZM180-180h160v-160H180v160Zm440 0h160v-160H620v160Z\"/>\n",
              "  </svg>\n",
              "    </button>\n",
              "\n",
              "  <style>\n",
              "    .colab-df-container {\n",
              "      display:flex;\n",
              "      gap: 12px;\n",
              "    }\n",
              "\n",
              "    .colab-df-convert {\n",
              "      background-color: #E8F0FE;\n",
              "      border: none;\n",
              "      border-radius: 50%;\n",
              "      cursor: pointer;\n",
              "      display: none;\n",
              "      fill: #1967D2;\n",
              "      height: 32px;\n",
              "      padding: 0 0 0 0;\n",
              "      width: 32px;\n",
              "    }\n",
              "\n",
              "    .colab-df-convert:hover {\n",
              "      background-color: #E2EBFA;\n",
              "      box-shadow: 0px 1px 2px rgba(60, 64, 67, 0.3), 0px 1px 3px 1px rgba(60, 64, 67, 0.15);\n",
              "      fill: #174EA6;\n",
              "    }\n",
              "\n",
              "    .colab-df-buttons div {\n",
              "      margin-bottom: 4px;\n",
              "    }\n",
              "\n",
              "    [theme=dark] .colab-df-convert {\n",
              "      background-color: #3B4455;\n",
              "      fill: #D2E3FC;\n",
              "    }\n",
              "\n",
              "    [theme=dark] .colab-df-convert:hover {\n",
              "      background-color: #434B5C;\n",
              "      box-shadow: 0px 1px 3px 1px rgba(0, 0, 0, 0.15);\n",
              "      filter: drop-shadow(0px 1px 2px rgba(0, 0, 0, 0.3));\n",
              "      fill: #FFFFFF;\n",
              "    }\n",
              "  </style>\n",
              "\n",
              "    <script>\n",
              "      const buttonEl =\n",
              "        document.querySelector('#df-9b39f815-ba2c-40f5-8dab-1bf5eca42a49 button.colab-df-convert');\n",
              "      buttonEl.style.display =\n",
              "        google.colab.kernel.accessAllowed ? 'block' : 'none';\n",
              "\n",
              "      async function convertToInteractive(key) {\n",
              "        const element = document.querySelector('#df-9b39f815-ba2c-40f5-8dab-1bf5eca42a49');\n",
              "        const dataTable =\n",
              "          await google.colab.kernel.invokeFunction('convertToInteractive',\n",
              "                                                    [key], {});\n",
              "        if (!dataTable) return;\n",
              "\n",
              "        const docLinkHtml = 'Like what you see? Visit the ' +\n",
              "          '<a target=\"_blank\" href=https://colab.research.google.com/notebooks/data_table.ipynb>data table notebook</a>'\n",
              "          + ' to learn more about interactive tables.';\n",
              "        element.innerHTML = '';\n",
              "        dataTable['output_type'] = 'display_data';\n",
              "        await google.colab.output.renderOutput(dataTable, element);\n",
              "        const docLink = document.createElement('div');\n",
              "        docLink.innerHTML = docLinkHtml;\n",
              "        element.appendChild(docLink);\n",
              "      }\n",
              "    </script>\n",
              "  </div>\n",
              "\n",
              "\n",
              "<div id=\"df-1f479566-8b70-4fac-b4ab-8bdcf9afab13\">\n",
              "  <button class=\"colab-df-quickchart\" onclick=\"quickchart('df-1f479566-8b70-4fac-b4ab-8bdcf9afab13')\"\n",
              "            title=\"Suggest charts\"\n",
              "            style=\"display:none;\">\n",
              "\n",
              "<svg xmlns=\"http://www.w3.org/2000/svg\" height=\"24px\"viewBox=\"0 0 24 24\"\n",
              "     width=\"24px\">\n",
              "    <g>\n",
              "        <path d=\"M19 3H5c-1.1 0-2 .9-2 2v14c0 1.1.9 2 2 2h14c1.1 0 2-.9 2-2V5c0-1.1-.9-2-2-2zM9 17H7v-7h2v7zm4 0h-2V7h2v10zm4 0h-2v-4h2v4z\"/>\n",
              "    </g>\n",
              "</svg>\n",
              "  </button>\n",
              "\n",
              "<style>\n",
              "  .colab-df-quickchart {\n",
              "      --bg-color: #E8F0FE;\n",
              "      --fill-color: #1967D2;\n",
              "      --hover-bg-color: #E2EBFA;\n",
              "      --hover-fill-color: #174EA6;\n",
              "      --disabled-fill-color: #AAA;\n",
              "      --disabled-bg-color: #DDD;\n",
              "  }\n",
              "\n",
              "  [theme=dark] .colab-df-quickchart {\n",
              "      --bg-color: #3B4455;\n",
              "      --fill-color: #D2E3FC;\n",
              "      --hover-bg-color: #434B5C;\n",
              "      --hover-fill-color: #FFFFFF;\n",
              "      --disabled-bg-color: #3B4455;\n",
              "      --disabled-fill-color: #666;\n",
              "  }\n",
              "\n",
              "  .colab-df-quickchart {\n",
              "    background-color: var(--bg-color);\n",
              "    border: none;\n",
              "    border-radius: 50%;\n",
              "    cursor: pointer;\n",
              "    display: none;\n",
              "    fill: var(--fill-color);\n",
              "    height: 32px;\n",
              "    padding: 0;\n",
              "    width: 32px;\n",
              "  }\n",
              "\n",
              "  .colab-df-quickchart:hover {\n",
              "    background-color: var(--hover-bg-color);\n",
              "    box-shadow: 0 1px 2px rgba(60, 64, 67, 0.3), 0 1px 3px 1px rgba(60, 64, 67, 0.15);\n",
              "    fill: var(--button-hover-fill-color);\n",
              "  }\n",
              "\n",
              "  .colab-df-quickchart-complete:disabled,\n",
              "  .colab-df-quickchart-complete:disabled:hover {\n",
              "    background-color: var(--disabled-bg-color);\n",
              "    fill: var(--disabled-fill-color);\n",
              "    box-shadow: none;\n",
              "  }\n",
              "\n",
              "  .colab-df-spinner {\n",
              "    border: 2px solid var(--fill-color);\n",
              "    border-color: transparent;\n",
              "    border-bottom-color: var(--fill-color);\n",
              "    animation:\n",
              "      spin 1s steps(1) infinite;\n",
              "  }\n",
              "\n",
              "  @keyframes spin {\n",
              "    0% {\n",
              "      border-color: transparent;\n",
              "      border-bottom-color: var(--fill-color);\n",
              "      border-left-color: var(--fill-color);\n",
              "    }\n",
              "    20% {\n",
              "      border-color: transparent;\n",
              "      border-left-color: var(--fill-color);\n",
              "      border-top-color: var(--fill-color);\n",
              "    }\n",
              "    30% {\n",
              "      border-color: transparent;\n",
              "      border-left-color: var(--fill-color);\n",
              "      border-top-color: var(--fill-color);\n",
              "      border-right-color: var(--fill-color);\n",
              "    }\n",
              "    40% {\n",
              "      border-color: transparent;\n",
              "      border-right-color: var(--fill-color);\n",
              "      border-top-color: var(--fill-color);\n",
              "    }\n",
              "    60% {\n",
              "      border-color: transparent;\n",
              "      border-right-color: var(--fill-color);\n",
              "    }\n",
              "    80% {\n",
              "      border-color: transparent;\n",
              "      border-right-color: var(--fill-color);\n",
              "      border-bottom-color: var(--fill-color);\n",
              "    }\n",
              "    90% {\n",
              "      border-color: transparent;\n",
              "      border-bottom-color: var(--fill-color);\n",
              "    }\n",
              "  }\n",
              "</style>\n",
              "\n",
              "  <script>\n",
              "    async function quickchart(key) {\n",
              "      const quickchartButtonEl =\n",
              "        document.querySelector('#' + key + ' button');\n",
              "      quickchartButtonEl.disabled = true;  // To prevent multiple clicks.\n",
              "      quickchartButtonEl.classList.add('colab-df-spinner');\n",
              "      try {\n",
              "        const charts = await google.colab.kernel.invokeFunction(\n",
              "            'suggestCharts', [key], {});\n",
              "      } catch (error) {\n",
              "        console.error('Error during call to suggestCharts:', error);\n",
              "      }\n",
              "      quickchartButtonEl.classList.remove('colab-df-spinner');\n",
              "      quickchartButtonEl.classList.add('colab-df-quickchart-complete');\n",
              "    }\n",
              "    (() => {\n",
              "      let quickchartButtonEl =\n",
              "        document.querySelector('#df-1f479566-8b70-4fac-b4ab-8bdcf9afab13 button');\n",
              "      quickchartButtonEl.style.display =\n",
              "        google.colab.kernel.accessAllowed ? 'block' : 'none';\n",
              "    })();\n",
              "  </script>\n",
              "</div>\n",
              "\n",
              "    </div>\n",
              "  </div>\n"
            ]
          },
          "metadata": {},
          "execution_count": 76
        }
      ]
    },
    {
      "cell_type": "code",
      "source": [
        "# делаю валидационную выборку для оценки и проверки\n",
        "val, train = train_test_split(train, train_size=0.2, random_state=7374)"
      ],
      "metadata": {
        "id": "pzwJEGxBnQel"
      },
      "execution_count": null,
      "outputs": []
    },
    {
      "cell_type": "code",
      "source": [
        "len(train)"
      ],
      "metadata": {
        "colab": {
          "base_uri": "https://localhost:8080/"
        },
        "id": "F0MVD7Ccn3x7",
        "outputId": "0626ee98-df77-437d-8f70-82267c96c8de"
      },
      "execution_count": null,
      "outputs": [
        {
          "output_type": "execute_result",
          "data": {
            "text/plain": [
              "14699"
            ]
          },
          "metadata": {},
          "execution_count": 79
        }
      ]
    },
    {
      "cell_type": "code",
      "source": [
        "len(train), len(val)"
      ],
      "metadata": {
        "colab": {
          "base_uri": "https://localhost:8080/"
        },
        "id": "kfHOH0nnnQTd",
        "outputId": "6f92a261-4b8f-469c-b3fa-7ef6ee81534f"
      },
      "execution_count": null,
      "outputs": [
        {
          "output_type": "execute_result",
          "data": {
            "text/plain": [
              "(14699, 3674)"
            ]
          },
          "metadata": {},
          "execution_count": 80
        }
      ]
    },
    {
      "cell_type": "markdown",
      "source": [
        "# Итерация 1\n"
      ],
      "metadata": {
        "id": "Xa54gu2zkiF-"
      }
    },
    {
      "cell_type": "markdown",
      "source": [
        "**Кракто об итерации:**\n",
        "\n",
        "Ограничить фичи, убрать ненужные"
      ],
      "metadata": {
        "id": "G_KWY4QOvjQh"
      }
    },
    {
      "cell_type": "markdown",
      "source": [
        "Все фичи, включая спорные такие как кол-во комнат, машиномет отправляю как категориальные, а не числовые"
      ],
      "metadata": {
        "id": "uuXUhkCGu73O"
      }
    },
    {
      "cell_type": "code",
      "source": [
        "train.columns"
      ],
      "metadata": {
        "colab": {
          "base_uri": "https://localhost:8080/"
        },
        "id": "QHJjuQvboHbK",
        "outputId": "7e61917a-b295-4f71-f309-f78488fbeffd"
      },
      "execution_count": null,
      "outputs": [
        {
          "output_type": "execute_result",
          "data": {
            "text/plain": [
              "Index(['Suburb', 'Address', 'Rooms', 'Type', 'Price', 'Method', 'SellerG',\n",
              "       'Date', 'Distance', 'Postcode', 'Bedroom2', 'Bathroom', 'Car',\n",
              "       'Landsize', 'BuildingArea', 'YearBuilt', 'CouncilArea', 'Lattitude',\n",
              "       'Longtitude', 'Regionname', 'Propertycount', 'id'],\n",
              "      dtype='object')"
            ]
          },
          "metadata": {},
          "execution_count": 81
        }
      ]
    },
    {
      "cell_type": "code",
      "source": [
        "X = ['Suburb', 'Rooms', 'Type', 'Method', 'SellerG',\n",
        "       'Distance', 'Postcode', 'Bedroom2', 'Bathroom', 'Car',\n",
        "     'Landsize', 'BuildingArea', 'YearBuilt', 'CouncilArea',\n",
        "     'Regionname', 'Propertycount']\n",
        "\n",
        "cat_features = ['Suburb', 'Rooms', 'Type', 'Method', 'SellerG', 'Postcode', 'Bedroom2', 'Bathroom', 'Car', 'CouncilArea', 'Regionname', 'YearBuilt']\n",
        "\n",
        "int_cat_features = ['Rooms', 'Postcode', 'Bedroom2', 'Bathroom', 'Car', 'YearBuilt']\n",
        "\n",
        "y = ['Price']"
      ],
      "metadata": {
        "id": "QJLuq-aDoR_m"
      },
      "execution_count": null,
      "outputs": []
    },
    {
      "cell_type": "code",
      "source": [
        "train.info()"
      ],
      "metadata": {
        "colab": {
          "base_uri": "https://localhost:8080/"
        },
        "id": "Pv13FrbMuKq1",
        "outputId": "28148f0f-6a1a-45a1-e36e-cfbbff7552ed"
      },
      "execution_count": null,
      "outputs": [
        {
          "output_type": "stream",
          "name": "stdout",
          "text": [
            "<class 'pandas.core.frame.DataFrame'>\n",
            "Int64Index: 14699 entries, 13866 to 6630\n",
            "Data columns (total 22 columns):\n",
            " #   Column         Non-Null Count  Dtype  \n",
            "---  ------         --------------  -----  \n",
            " 0   Suburb         14699 non-null  object \n",
            " 1   Address        14699 non-null  object \n",
            " 2   Rooms          14699 non-null  int64  \n",
            " 3   Type           14699 non-null  object \n",
            " 4   Price          14699 non-null  float64\n",
            " 5   Method         14699 non-null  object \n",
            " 6   SellerG        14699 non-null  object \n",
            " 7   Date           14699 non-null  object \n",
            " 8   Distance       14699 non-null  float64\n",
            " 9   Postcode       14699 non-null  float64\n",
            " 10  Bedroom2       11897 non-null  float64\n",
            " 11  Bathroom       11896 non-null  float64\n",
            " 12  Car            11808 non-null  float64\n",
            " 13  Landsize       10845 non-null  float64\n",
            " 14  BuildingArea   6181 non-null   float64\n",
            " 15  YearBuilt      7128 non-null   float64\n",
            " 16  CouncilArea    14699 non-null  object \n",
            " 17  Lattitude      12001 non-null  float64\n",
            " 18  Longtitude     12001 non-null  float64\n",
            " 19  Regionname     14699 non-null  object \n",
            " 20  Propertycount  14699 non-null  float64\n",
            " 21  id             14699 non-null  int64  \n",
            "dtypes: float64(12), int64(2), object(8)\n",
            "memory usage: 2.6+ MB\n"
          ]
        }
      ]
    },
    {
      "cell_type": "code",
      "source": [
        "train[cat_features] = train[cat_features].fillna(0)\n",
        "val[cat_features] = val[cat_features].fillna(0)\n",
        "test[cat_features] = test[cat_features].fillna(0)\n",
        "\n",
        "\n",
        "train[int_cat_features] = train[int_cat_features].fillna(0).astype(int)\n",
        "val[int_cat_features] = val[int_cat_features].fillna(0).astype(int)\n",
        "test[int_cat_features] = test[int_cat_features].fillna(0).astype(int)"
      ],
      "metadata": {
        "id": "X0pE2k3EtSUN"
      },
      "execution_count": null,
      "outputs": []
    },
    {
      "cell_type": "code",
      "source": [
        "parameters = {'cat_features': cat_features,\n",
        "              'loss_function': 'MAE',\n",
        "              'eval_metric': 'MAPE',\n",
        "              'learning_rate': 0.0777,\n",
        "              'random_seed':7374,\n",
        "              'verbose':100}  #выводить при обучении результат на каждой 100-й итерации"
      ],
      "metadata": {
        "id": "xN8AGTURkuEj"
      },
      "execution_count": null,
      "outputs": []
    },
    {
      "cell_type": "code",
      "source": [
        "model = CatBoostRegressor(**parameters)"
      ],
      "metadata": {
        "id": "Et8wI8Yekufz"
      },
      "execution_count": null,
      "outputs": []
    },
    {
      "cell_type": "code",
      "source": [
        "model.fit(train[X],train[y],eval_set=(val[X],val[y]))"
      ],
      "metadata": {
        "colab": {
          "base_uri": "https://localhost:8080/"
        },
        "id": "2tgZv0H7kucf",
        "outputId": "6d140017-c316-410e-b609-ff64c287776f"
      },
      "execution_count": null,
      "outputs": [
        {
          "output_type": "stream",
          "name": "stdout",
          "text": [
            "0:\tlearn: 0.4052577\ttest: 0.3953319\tbest: 0.3953319 (0)\ttotal: 50.6ms\tremaining: 50.6s\n",
            "100:\tlearn: 0.1643244\ttest: 0.1681064\tbest: 0.1681064 (100)\ttotal: 3.92s\tremaining: 34.9s\n",
            "200:\tlearn: 0.1484371\ttest: 0.1557308\tbest: 0.1557308 (200)\ttotal: 9.14s\tremaining: 36.3s\n",
            "300:\tlearn: 0.1407624\ttest: 0.1514604\tbest: 0.1514604 (300)\ttotal: 13.2s\tremaining: 30.7s\n",
            "400:\tlearn: 0.1359396\ttest: 0.1498001\tbest: 0.1497701 (398)\ttotal: 17.3s\tremaining: 25.8s\n",
            "500:\tlearn: 0.1322934\ttest: 0.1489505\tbest: 0.1489505 (500)\ttotal: 22.5s\tremaining: 22.5s\n",
            "600:\tlearn: 0.1296080\ttest: 0.1486095\tbest: 0.1485652 (594)\ttotal: 26.7s\tremaining: 17.8s\n",
            "700:\tlearn: 0.1274677\ttest: 0.1484776\tbest: 0.1484776 (700)\ttotal: 30.9s\tremaining: 13.2s\n",
            "800:\tlearn: 0.1257112\ttest: 0.1481302\tbest: 0.1481302 (800)\ttotal: 36.2s\tremaining: 8.98s\n",
            "900:\tlearn: 0.1239456\ttest: 0.1479813\tbest: 0.1479813 (900)\ttotal: 40.3s\tremaining: 4.43s\n",
            "999:\tlearn: 0.1224196\ttest: 0.1477932\tbest: 0.1477824 (990)\ttotal: 44.9s\tremaining: 0us\n",
            "\n",
            "bestTest = 0.147782353\n",
            "bestIteration = 990\n",
            "\n",
            "Shrink model to first 991 iterations.\n"
          ]
        },
        {
          "output_type": "execute_result",
          "data": {
            "text/plain": [
              "<catboost.core.CatBoostRegressor at 0x7c6fcb1e4d30>"
            ]
          },
          "metadata": {},
          "execution_count": 87
        }
      ]
    },
    {
      "cell_type": "code",
      "source": [
        "val['Price_pred_it1'] = model.predict(val[X])"
      ],
      "metadata": {
        "id": "f6PIAu1tWU0K"
      },
      "execution_count": null,
      "outputs": []
    },
    {
      "cell_type": "code",
      "source": [
        "val.columns"
      ],
      "metadata": {
        "colab": {
          "base_uri": "https://localhost:8080/"
        },
        "id": "mse5-xBJV5Lv",
        "outputId": "2e47fd84-3dfc-4858-ce60-7f201d62d2b3"
      },
      "execution_count": null,
      "outputs": [
        {
          "output_type": "execute_result",
          "data": {
            "text/plain": [
              "Index(['Suburb', 'Address', 'Rooms', 'Type', 'Price', 'Method', 'SellerG',\n",
              "       'Date', 'Distance', 'Postcode', 'Bedroom2', 'Bathroom', 'Car',\n",
              "       'Landsize', 'BuildingArea', 'YearBuilt', 'CouncilArea', 'Lattitude',\n",
              "       'Longtitude', 'Regionname', 'Propertycount', 'id', 'Price_pred_it1'],\n",
              "      dtype='object')"
            ]
          },
          "metadata": {},
          "execution_count": 89
        }
      ]
    },
    {
      "cell_type": "code",
      "source": [
        "error(val['Price'],val['Price_pred_it1'])"
      ],
      "metadata": {
        "colab": {
          "base_uri": "https://localhost:8080/"
        },
        "id": "Vj_-zFKYVxA6",
        "outputId": "d0a9c1ae-865b-4441-888b-eda0bc15978e"
      },
      "execution_count": null,
      "outputs": [
        {
          "output_type": "stream",
          "name": "stdout",
          "text": [
            "165840.46492131977\n",
            "0.14778235302565354\n"
          ]
        }
      ]
    },
    {
      "cell_type": "code",
      "source": [
        "test['Price'] = model.predict(test[X])"
      ],
      "metadata": {
        "id": "dDUV7JSvkuZ5"
      },
      "execution_count": null,
      "outputs": []
    },
    {
      "cell_type": "code",
      "source": [
        "test[['id', 'Price']].to_csv('it_1.csv', index = False)"
      ],
      "metadata": {
        "id": "y6NE_vO4kuXf"
      },
      "execution_count": null,
      "outputs": []
    },
    {
      "cell_type": "markdown",
      "source": [
        "SCORE: **14.04963**\n",
        "\n",
        "\n",
        "Неплохой результат для начала"
      ],
      "metadata": {
        "id": "UCLpfmGX3OtI"
      }
    },
    {
      "cell_type": "markdown",
      "source": [
        "Обучим модель с теми же параметрами и фичами, только на полном трейн датасете, без валидационных данных"
      ],
      "metadata": {
        "id": "rjYLhkMF3yaA"
      }
    },
    {
      "cell_type": "code",
      "source": [
        "train = pd.read_csv('/content/regression/train.csv')\n",
        "\n",
        "train[int_cat_features] = train[int_cat_features].fillna(0).astype(int)\n",
        "train[cat_features] = train[cat_features].fillna(0)"
      ],
      "metadata": {
        "id": "ZTbVFnLN36Ej"
      },
      "execution_count": null,
      "outputs": []
    },
    {
      "cell_type": "code",
      "source": [
        "model = CatBoostRegressor(**parameters)"
      ],
      "metadata": {
        "id": "r1qnOjcn3OUX"
      },
      "execution_count": null,
      "outputs": []
    },
    {
      "cell_type": "code",
      "source": [
        "model.fit(train[X],train[y])"
      ],
      "metadata": {
        "id": "FeCMlShr4LuV",
        "colab": {
          "base_uri": "https://localhost:8080/"
        },
        "outputId": "428707d4-7639-463a-b3d3-c2becb8de9f5"
      },
      "execution_count": null,
      "outputs": [
        {
          "output_type": "stream",
          "name": "stdout",
          "text": [
            "0:\tlearn: 0.4030893\ttotal: 90.4ms\tremaining: 1m 30s\n",
            "100:\tlearn: 0.1639009\ttotal: 4.47s\tremaining: 39.8s\n",
            "200:\tlearn: 0.1487245\ttotal: 9.09s\tremaining: 36.1s\n",
            "300:\tlearn: 0.1417457\ttotal: 14.9s\tremaining: 34.6s\n",
            "400:\tlearn: 0.1374044\ttotal: 19.6s\tremaining: 29.2s\n",
            "500:\tlearn: 0.1342450\ttotal: 25.9s\tremaining: 25.8s\n",
            "600:\tlearn: 0.1316863\ttotal: 32.8s\tremaining: 21.8s\n",
            "700:\tlearn: 0.1295053\ttotal: 39.9s\tremaining: 17s\n",
            "800:\tlearn: 0.1277052\ttotal: 44.5s\tremaining: 11.1s\n",
            "900:\tlearn: 0.1261054\ttotal: 50.3s\tremaining: 5.52s\n",
            "999:\tlearn: 0.1247311\ttotal: 54.8s\tremaining: 0us\n"
          ]
        },
        {
          "output_type": "execute_result",
          "data": {
            "text/plain": [
              "<catboost.core.CatBoostRegressor at 0x7c6fcb1e2b60>"
            ]
          },
          "metadata": {},
          "execution_count": 95
        }
      ]
    },
    {
      "cell_type": "code",
      "source": [
        "test['Price'] = model.predict(test[X])"
      ],
      "metadata": {
        "id": "mGaSvFoL4N6w"
      },
      "execution_count": null,
      "outputs": []
    },
    {
      "cell_type": "code",
      "source": [
        "test[['id', 'Price']].to_csv('it_2.csv', index = False)"
      ],
      "metadata": {
        "id": "ZLdJQKOI4N3I"
      },
      "execution_count": null,
      "outputs": []
    },
    {
      "cell_type": "markdown",
      "source": [
        "SCORE: **13.81708**\n",
        "\n",
        "Улучшил результат и попал в топ20 челенджа"
      ],
      "metadata": {
        "id": "ISYi5SbB48PZ"
      }
    },
    {
      "cell_type": "markdown",
      "source": [
        "# Итерация 2. Категориальные vs Количественные"
      ],
      "metadata": {
        "id": "-zi77FfafSzL"
      }
    },
    {
      "cell_type": "markdown",
      "source": [
        "**Кракто об итерации:**\n",
        "\n",
        "Попытка повторить итерацию 1, но исключить часть переменных из категориальных (например кол-во комнат, ванных комнат, машиномест), который по факту являются количественными"
      ],
      "metadata": {
        "id": "qBqnxgEDXDxf"
      }
    },
    {
      "cell_type": "code",
      "source": [
        "X = ['Suburb', 'Rooms', 'Type', 'Method', 'SellerG',\n",
        "       'Distance', 'Postcode', 'Bedroom2', 'Bathroom', 'Car',\n",
        "     'Landsize', 'BuildingArea', 'YearBuilt', 'CouncilArea',\n",
        "     'Regionname', 'Propertycount']\n",
        "\n",
        "cat_features = ['Suburb',\n",
        "                #'Rooms',\n",
        "                'Type', 'Method', 'SellerG', 'Postcode',\n",
        "                #'Bedroom2', 'Bathroom', 'Car',\n",
        "                'CouncilArea', 'Regionname',\n",
        "                #'YearBuilt'\n",
        "                ]\n",
        "\n",
        "#int_cat_features = ['Rooms', 'Postcode', 'Bedroom2', 'Bathroom', 'Car', 'YearBuilt']\n",
        "\n",
        "y = ['Price']"
      ],
      "metadata": {
        "id": "1yKqfIDt4Nz_"
      },
      "execution_count": null,
      "outputs": []
    },
    {
      "cell_type": "code",
      "source": [
        "train = pd.read_csv('/content/regression/train.csv')\n",
        "train['Postcode'] = train['Postcode'].astype(int)"
      ],
      "metadata": {
        "id": "WqmERWJU5C3D"
      },
      "execution_count": null,
      "outputs": []
    },
    {
      "cell_type": "code",
      "source": [
        "# делаю валидационную выборку для оценки и проверки\n",
        "val, train = train_test_split(train, train_size=0.2, random_state=7374)\n",
        "\n",
        "val[cat_features] = val[cat_features].fillna(0)\n",
        "train[cat_features] = train[cat_features].fillna(0)"
      ],
      "metadata": {
        "id": "nMoVRALRXo5m"
      },
      "execution_count": null,
      "outputs": []
    },
    {
      "cell_type": "code",
      "source": [
        "parameters = {'cat_features': cat_features,\n",
        "              'loss_function': 'MAE',\n",
        "              'eval_metric': 'MAPE',\n",
        "              'learning_rate': 0.0777,\n",
        "              'random_seed':7374,\n",
        "              'verbose':100}"
      ],
      "metadata": {
        "id": "S8AmwS-lXfb0"
      },
      "execution_count": null,
      "outputs": []
    },
    {
      "cell_type": "code",
      "source": [
        "model = CatBoostRegressor(**parameters)"
      ],
      "metadata": {
        "id": "6vme_BNPYRri"
      },
      "execution_count": null,
      "outputs": []
    },
    {
      "cell_type": "code",
      "source": [
        "model.fit(train[X],train[y],eval_set=(val[X],val[y]))"
      ],
      "metadata": {
        "colab": {
          "base_uri": "https://localhost:8080/"
        },
        "outputId": "6351c3ef-0d2a-4623-dc39-5782284f17fe",
        "id": "KXHRg4PUYRrk"
      },
      "execution_count": null,
      "outputs": [
        {
          "output_type": "stream",
          "name": "stdout",
          "text": [
            "0:\tlearn: 0.4056706\ttest: 0.3958033\tbest: 0.3958033 (0)\ttotal: 30ms\tremaining: 29.9s\n",
            "100:\tlearn: 0.1621948\ttest: 0.1648272\tbest: 0.1648272 (100)\ttotal: 2.61s\tremaining: 23.2s\n",
            "200:\tlearn: 0.1479702\ttest: 0.1550522\tbest: 0.1550522 (200)\ttotal: 5.83s\tremaining: 23.2s\n",
            "300:\tlearn: 0.1406681\ttest: 0.1512204\tbest: 0.1512078 (296)\ttotal: 9.08s\tremaining: 21.1s\n",
            "400:\tlearn: 0.1362462\ttest: 0.1493054\tbest: 0.1493054 (400)\ttotal: 11.7s\tremaining: 17.5s\n",
            "500:\tlearn: 0.1328922\ttest: 0.1485663\tbest: 0.1485036 (490)\ttotal: 14.3s\tremaining: 14.2s\n",
            "600:\tlearn: 0.1301287\ttest: 0.1479529\tbest: 0.1479529 (600)\ttotal: 18.3s\tremaining: 12.1s\n",
            "700:\tlearn: 0.1275577\ttest: 0.1473789\tbest: 0.1473782 (699)\ttotal: 21.5s\tremaining: 9.15s\n",
            "800:\tlearn: 0.1255810\ttest: 0.1472493\tbest: 0.1472493 (800)\ttotal: 24s\tremaining: 5.97s\n",
            "900:\tlearn: 0.1239677\ttest: 0.1470514\tbest: 0.1470023 (889)\ttotal: 26.6s\tremaining: 2.92s\n",
            "999:\tlearn: 0.1228481\ttest: 0.1470435\tbest: 0.1469949 (960)\ttotal: 29.4s\tremaining: 0us\n",
            "\n",
            "bestTest = 0.146994919\n",
            "bestIteration = 960\n",
            "\n",
            "Shrink model to first 961 iterations.\n"
          ]
        },
        {
          "output_type": "execute_result",
          "data": {
            "text/plain": [
              "<catboost.core.CatBoostRegressor at 0x7c6fcb1e0820>"
            ]
          },
          "metadata": {},
          "execution_count": 103
        }
      ]
    },
    {
      "cell_type": "code",
      "source": [
        "val['Price_pred_it1_1'] = model.predict(val[X])"
      ],
      "metadata": {
        "id": "EQV-NrVHXcle"
      },
      "execution_count": null,
      "outputs": []
    },
    {
      "cell_type": "code",
      "source": [
        "error(val['Price'],val['Price_pred_it1_1'])"
      ],
      "metadata": {
        "id": "ycGIwQ1RXci3",
        "colab": {
          "base_uri": "https://localhost:8080/"
        },
        "outputId": "6f31c3f0-5728-4124-973e-742523231484"
      },
      "execution_count": null,
      "outputs": [
        {
          "output_type": "stream",
          "name": "stdout",
          "text": [
            "164629.1416143485\n",
            "0.14699491900294726\n"
          ]
        }
      ]
    },
    {
      "cell_type": "markdown",
      "source": [
        "Улучшился результат по МАРЕ\n",
        "\n",
        "Попробуем обучить с этим набором фич/параметров модель на всех train данных и сделать еще сабмит"
      ],
      "metadata": {
        "id": "OYvClUhSwmKF"
      }
    },
    {
      "cell_type": "code",
      "source": [
        "X = ['Suburb', 'Rooms', 'Type', 'Method', 'SellerG',\n",
        "       'Distance', 'Postcode', 'Bedroom2', 'Bathroom', 'Car',\n",
        "     'Landsize', 'BuildingArea', 'YearBuilt', 'CouncilArea',\n",
        "     'Regionname', 'Propertycount']\n",
        "\n",
        "cat_features = ['Suburb',\n",
        "                #'Rooms',\n",
        "                'Type', 'Method', 'SellerG', 'Postcode',\n",
        "                #'Bedroom2', 'Bathroom', 'Car',\n",
        "                'CouncilArea', 'Regionname',\n",
        "                #'YearBuilt'\n",
        "                ]\n",
        "\n",
        "#int_cat_features = ['Rooms', 'Postcode', 'Bedroom2', 'Bathroom', 'Car', 'YearBuilt']\n",
        "\n",
        "y = ['Price']"
      ],
      "metadata": {
        "id": "xtlskK_SxBfG"
      },
      "execution_count": null,
      "outputs": []
    },
    {
      "cell_type": "code",
      "source": [
        "train = pd.read_csv('/content/regression/train.csv')\n",
        "\n",
        "train['Postcode'] = train['Postcode'].astype(int)\n",
        "train[cat_features] = train[cat_features].fillna(0)"
      ],
      "metadata": {
        "id": "RejNJnWgxBfV"
      },
      "execution_count": null,
      "outputs": []
    },
    {
      "cell_type": "code",
      "source": [
        "model = CatBoostRegressor(**parameters)"
      ],
      "metadata": {
        "id": "Jx2Be3dVxK_S"
      },
      "execution_count": null,
      "outputs": []
    },
    {
      "cell_type": "code",
      "source": [
        "model.fit(train[X],train[y])"
      ],
      "metadata": {
        "colab": {
          "base_uri": "https://localhost:8080/"
        },
        "outputId": "3f28ddd9-91cb-44b4-eec2-1b0a17fdce73",
        "id": "Jv7dd-1fxK_T"
      },
      "execution_count": null,
      "outputs": [
        {
          "output_type": "stream",
          "name": "stdout",
          "text": [
            "0:\tlearn: 0.4030780\ttotal: 65.4ms\tremaining: 1m 5s\n",
            "100:\tlearn: 0.1614772\ttotal: 5.63s\tremaining: 50.1s\n",
            "200:\tlearn: 0.1479255\ttotal: 8.67s\tremaining: 34.5s\n",
            "300:\tlearn: 0.1412426\ttotal: 13.1s\tremaining: 30.3s\n",
            "400:\tlearn: 0.1365259\ttotal: 17.4s\tremaining: 25.9s\n",
            "500:\tlearn: 0.1332547\ttotal: 20.3s\tremaining: 20.2s\n",
            "600:\tlearn: 0.1307923\ttotal: 23.2s\tremaining: 15.4s\n",
            "700:\tlearn: 0.1290157\ttotal: 27.3s\tremaining: 11.7s\n",
            "800:\tlearn: 0.1273050\ttotal: 30.3s\tremaining: 7.51s\n",
            "900:\tlearn: 0.1258879\ttotal: 33.1s\tremaining: 3.64s\n",
            "999:\tlearn: 0.1246219\ttotal: 36s\tremaining: 0us\n"
          ]
        },
        {
          "output_type": "execute_result",
          "data": {
            "text/plain": [
              "<catboost.core.CatBoostRegressor at 0x7c6fcb1e6fe0>"
            ]
          },
          "metadata": {},
          "execution_count": 109
        }
      ]
    },
    {
      "cell_type": "code",
      "source": [
        "test['Price'] = model.predict(test[X])"
      ],
      "metadata": {
        "id": "9IdUSbJQxRLX"
      },
      "execution_count": null,
      "outputs": []
    },
    {
      "cell_type": "code",
      "source": [
        "test[['id', 'Price']].to_csv('it_2_1.csv', index = False)"
      ],
      "metadata": {
        "id": "mDeapyjExRLY"
      },
      "execution_count": null,
      "outputs": []
    },
    {
      "cell_type": "code",
      "source": [
        "break"
      ],
      "metadata": {
        "colab": {
          "base_uri": "https://localhost:8080/",
          "height": 106
        },
        "id": "At5w8p9VZA91",
        "outputId": "66cf39a5-ad75-4a39-b2ae-b984f340e388"
      },
      "execution_count": null,
      "outputs": [
        {
          "output_type": "error",
          "ename": "SyntaxError",
          "evalue": "'break' outside loop (<ipython-input-99-6aaf1f276005>, line 1)",
          "traceback": [
            "\u001b[0;36m  File \u001b[0;32m\"<ipython-input-99-6aaf1f276005>\"\u001b[0;36m, line \u001b[0;32m1\u001b[0m\n\u001b[0;31m    break\u001b[0m\n\u001b[0m    ^\u001b[0m\n\u001b[0;31mSyntaxError\u001b[0m\u001b[0;31m:\u001b[0m 'break' outside loop\n"
          ]
        }
      ]
    },
    {
      "cell_type": "markdown",
      "source": [
        "Score: **13.66608**\n",
        "\n",
        "Еще немного улучшил результат по скору.\n",
        "\n",
        "Поднялся на 4 строчки в лидерборде\n",
        "\n",
        "Основной вывод: В данной итерации планировалось уточнить к какому типу относить, такие фичи как \"число комнат\", которые можно отнести как к категориальным переменным, так и к числовым. По опыту данного эксперимента, результат удалось улучшить, перенеся такие переменные в числовые.  \n"
      ],
      "metadata": {
        "id": "pHcTZnIzxw0z"
      }
    },
    {
      "cell_type": "markdown",
      "source": [
        "# Итерация 3. С 'ручным' заполнением пропусков\n",
        "\n",
        "\n"
      ],
      "metadata": {
        "id": "xOVlIhIQ2tmN"
      }
    },
    {
      "cell_type": "markdown",
      "source": [
        "**Кракто об итерации:**\n",
        "\n",
        "Иследовательский анализ данных и ручное заполнение пропусков."
      ],
      "metadata": {
        "id": "MO6GvbaqvaE9"
      }
    },
    {
      "cell_type": "code",
      "source": [
        "train = pd.read_csv('/content/regression/train.csv')\n",
        "train['Postcode'] = train['Postcode'].astype(int)"
      ],
      "metadata": {
        "id": "FpgBS0D2DLP2"
      },
      "execution_count": null,
      "outputs": []
    },
    {
      "cell_type": "markdown",
      "source": [
        "Еще раз посмотрим на фичи в которых есть пропуски"
      ],
      "metadata": {
        "id": "pQ9W8XCa6O5-"
      }
    },
    {
      "cell_type": "code",
      "source": [
        "train.isna().mean()"
      ],
      "metadata": {
        "colab": {
          "base_uri": "https://localhost:8080/"
        },
        "id": "BhMq_ZwHzCoy",
        "outputId": "74f8e879-be36-4b0b-fb4a-4b75ac5dc1d6"
      },
      "execution_count": null,
      "outputs": [
        {
          "output_type": "execute_result",
          "data": {
            "text/plain": [
              "Suburb           0.000000\n",
              "Address          0.000000\n",
              "Rooms            0.000000\n",
              "Type             0.000000\n",
              "Price            0.000000\n",
              "Method           0.000000\n",
              "SellerG          0.000000\n",
              "Date             0.000000\n",
              "Distance         0.000000\n",
              "Postcode         0.000000\n",
              "Bedroom2         0.188755\n",
              "Bathroom         0.188864\n",
              "Car              0.194579\n",
              "Landsize         0.260926\n",
              "BuildingArea     0.578185\n",
              "YearBuilt        0.513199\n",
              "CouncilArea      0.000054\n",
              "Lattitude        0.181353\n",
              "Longtitude       0.181353\n",
              "Regionname       0.000054\n",
              "Propertycount    0.000054\n",
              "id               0.000000\n",
              "dtype: float64"
            ]
          },
          "metadata": {},
          "execution_count": 113
        }
      ]
    },
    {
      "cell_type": "code",
      "source": [
        "features_with_nulls = ['Bedroom2', 'Bathroom', 'Car',\n",
        "       'Landsize', 'BuildingArea', 'YearBuilt', 'Price']"
      ],
      "metadata": {
        "id": "ZrCRvrAkzCle"
      },
      "execution_count": null,
      "outputs": []
    },
    {
      "cell_type": "code",
      "source": [
        "for feature in features_with_nulls:\n",
        "  sns.histplot(train[feature], kde=True)\n",
        "  plt.title(f'Histogram for {feature}')  # Установка заголовка\n",
        "  plt.show()"
      ],
      "metadata": {
        "colab": {
          "base_uri": "https://localhost:8080/",
          "height": 1000
        },
        "id": "kXW-LaxpzCi3",
        "outputId": "0027eb59-fd03-403d-f6d0-95abafc1ee2a"
      },
      "execution_count": null,
      "outputs": [
        {
          "output_type": "display_data",
          "data": {
            "text/plain": [
              "<Figure size 400x300 with 1 Axes>"
            ],
            "image/png": "[encoded data removed]"
          },
          "metadata": {}
        },
        {
          "output_type": "display_data",
          "data": {
            "text/plain": [
              "<Figure size 400x300 with 1 Axes>"
            ],
            "image/png": "[encoded data removed]"
          },
          "metadata": {}
        },
        {
          "output_type": "display_data",
          "data": {
            "text/plain": [
              "<Figure size 400x300 with 1 Axes>"
            ],
            "image/png": "[encoded data removed]"
          },
          "metadata": {}
        },
        {
          "output_type": "display_data",
          "data": {
            "text/plain": [
              "<Figure size 400x300 with 1 Axes>"
            ],
            "image/png": "[encoded data removed]"
          },
          "metadata": {}
        },
        {
          "output_type": "display_data",
          "data": {
            "text/plain": [
              "<Figure size 400x300 with 1 Axes>"
            ],
            "image/png": "[encoded data removed]"
          },
          "metadata": {}
        },
        {
          "output_type": "display_data",
          "data": {
            "text/plain": [
              "<Figure size 400x300 with 1 Axes>"
            ],
            "image/png": "[encoded data removed]"
          },
          "metadata": {}
        },
        {
          "output_type": "display_data",
          "data": {
            "text/plain": [
              "<Figure size 400x300 with 1 Axes>"
            ],
            "image/png": "[encoded data removed]"
          },
          "metadata": {}
        }
      ]
    },
    {
      "cell_type": "markdown",
      "source": [
        "### **YearBuilt**\n",
        "Сразу обращает на себя распределение по параметру **['YearBuilt']**"
      ],
      "metadata": {
        "id": "TT9KDpnh8d9H"
      }
    },
    {
      "cell_type": "code",
      "source": [
        "train['YearBuilt'].min()"
      ],
      "metadata": {
        "colab": {
          "base_uri": "https://localhost:8080/"
        },
        "id": "VyMfxsRczCgf",
        "outputId": "4963739f-868b-4e74-885d-f2eaaf73578f"
      },
      "execution_count": null,
      "outputs": [
        {
          "output_type": "execute_result",
          "data": {
            "text/plain": [
              "1196.0"
            ]
          },
          "metadata": {},
          "execution_count": 116
        }
      ]
    },
    {
      "cell_type": "markdown",
      "source": [
        "Согласно [источнику](https://ru.wikipedia.org/wiki/%D0%9C%D0%B5%D0%BB%D1%8C%D0%B1%D1%83%D1%80%D0%BD) Мельбурн был основан в 1835, городом стал в 1847. Зданий моложе этих дат быть не должно."
      ],
      "metadata": {
        "id": "imFf_cX08ofA"
      }
    },
    {
      "cell_type": "code",
      "source": [
        "train[train['YearBuilt'] <= 1847]"
      ],
      "metadata": {
        "colab": {
          "base_uri": "https://localhost:8080/",
          "height": 213
        },
        "id": "0PTizL_YzCd2",
        "outputId": "95db58e5-a765-4787-ef85-e40d3b41ff30"
      },
      "execution_count": null,
      "outputs": [
        {
          "output_type": "execute_result",
          "data": {
            "text/plain": [
              "               Suburb         Address  Rooms Type      Price Method  SellerG  \\\n",
              "2710      Collingwood  2/79 Oxford St      2    u   855000.0      S   Nelson   \n",
              "12721  Mount Waverley  5 Armstrong St      3    h  1200000.0     VB  McGrath   \n",
              "\n",
              "             Date  Distance  Postcode  ...  Car  Landsize  BuildingArea  \\\n",
              "2710    3/09/2016       1.6      3066  ...  1.0    2886.0         122.0   \n",
              "12721  24/06/2017      14.2      3149  ...  4.0     807.0         117.0   \n",
              "\n",
              "       YearBuilt          CouncilArea  Lattitude Longtitude  \\\n",
              "2710      1830.0   Yarra City Council  -37.80420  144.98450   \n",
              "12721     1196.0  Monash City Council  -37.86788  145.12121   \n",
              "\n",
              "                  Regionname  Propertycount     id  \n",
              "2710   Northern Metropolitan         4553.0  18501  \n",
              "12721   Eastern Metropolitan        13366.0  11846  \n",
              "\n",
              "[2 rows x 22 columns]"
            ],
            "text/html": [
              "\n",
              "  <div id=\"df-f5df574f-8a9c-4382-9286-aace99695386\" class=\"colab-df-container\">\n",
              "    <div>\n",
              "<style scoped>\n",
              "    .dataframe tbody tr th:only-of-type {\n",
              "        vertical-align: middle;\n",
              "    }\n",
              "\n",
              "    .dataframe tbody tr th {\n",
              "        vertical-align: top;\n",
              "    }\n",
              "\n",
              "    .dataframe thead th {\n",
              "        text-align: right;\n",
              "    }\n",
              "</style>\n",
              "<table border=\"1\" class=\"dataframe\">\n",
              "  <thead>\n",
              "    <tr style=\"text-align: right;\">\n",
              "      <th></th>\n",
              "      <th>Suburb</th>\n",
              "      <th>Address</th>\n",
              "      <th>Rooms</th>\n",
              "      <th>Type</th>\n",
              "      <th>Price</th>\n",
              "      <th>Method</th>\n",
              "      <th>SellerG</th>\n",
              "      <th>Date</th>\n",
              "      <th>Distance</th>\n",
              "      <th>Postcode</th>\n",
              "      <th>...</th>\n",
              "      <th>Car</th>\n",
              "      <th>Landsize</th>\n",
              "      <th>BuildingArea</th>\n",
              "      <th>YearBuilt</th>\n",
              "      <th>CouncilArea</th>\n",
              "      <th>Lattitude</th>\n",
              "      <th>Longtitude</th>\n",
              "      <th>Regionname</th>\n",
              "      <th>Propertycount</th>\n",
              "      <th>id</th>\n",
              "    </tr>\n",
              "  </thead>\n",
              "  <tbody>\n",
              "    <tr>\n",
              "      <th>2710</th>\n",
              "      <td>Collingwood</td>\n",
              "      <td>2/79 Oxford St</td>\n",
              "      <td>2</td>\n",
              "      <td>u</td>\n",
              "      <td>855000.0</td>\n",
              "      <td>S</td>\n",
              "      <td>Nelson</td>\n",
              "      <td>3/09/2016</td>\n",
              "      <td>1.6</td>\n",
              "      <td>3066</td>\n",
              "      <td>...</td>\n",
              "      <td>1.0</td>\n",
              "      <td>2886.0</td>\n",
              "      <td>122.0</td>\n",
              "      <td>1830.0</td>\n",
              "      <td>Yarra City Council</td>\n",
              "      <td>-37.80420</td>\n",
              "      <td>144.98450</td>\n",
              "      <td>Northern Metropolitan</td>\n",
              "      <td>4553.0</td>\n",
              "      <td>18501</td>\n",
              "    </tr>\n",
              "    <tr>\n",
              "      <th>12721</th>\n",
              "      <td>Mount Waverley</td>\n",
              "      <td>5 Armstrong St</td>\n",
              "      <td>3</td>\n",
              "      <td>h</td>\n",
              "      <td>1200000.0</td>\n",
              "      <td>VB</td>\n",
              "      <td>McGrath</td>\n",
              "      <td>24/06/2017</td>\n",
              "      <td>14.2</td>\n",
              "      <td>3149</td>\n",
              "      <td>...</td>\n",
              "      <td>4.0</td>\n",
              "      <td>807.0</td>\n",
              "      <td>117.0</td>\n",
              "      <td>1196.0</td>\n",
              "      <td>Monash City Council</td>\n",
              "      <td>-37.86788</td>\n",
              "      <td>145.12121</td>\n",
              "      <td>Eastern Metropolitan</td>\n",
              "      <td>13366.0</td>\n",
              "      <td>11846</td>\n",
              "    </tr>\n",
              "  </tbody>\n",
              "</table>\n",
              "<p>2 rows × 22 columns</p>\n",
              "</div>\n",
              "    <div class=\"colab-df-buttons\">\n",
              "\n",
              "  <div class=\"colab-df-container\">\n",
              "    <button class=\"colab-df-convert\" onclick=\"convertToInteractive('df-f5df574f-8a9c-4382-9286-aace99695386')\"\n",
              "            title=\"Convert this dataframe to an interactive table.\"\n",
              "            style=\"display:none;\">\n",
              "\n",
              "  <svg xmlns=\"http://www.w3.org/2000/svg\" height=\"24px\" viewBox=\"0 -960 960 960\">\n",
              "    <path d=\"M120-120v-720h720v720H120Zm60-500h600v-160H180v160Zm220 220h160v-160H400v160Zm0 220h160v-160H400v160ZM180-400h160v-160H180v160Zm440 0h160v-160H620v160ZM180-180h160v-160H180v160Zm440 0h160v-160H620v160Z\"/>\n",
              "  </svg>\n",
              "    </button>\n",
              "\n",
              "  <style>\n",
              "    .colab-df-container {\n",
              "      display:flex;\n",
              "      gap: 12px;\n",
              "    }\n",
              "\n",
              "    .colab-df-convert {\n",
              "      background-color: #E8F0FE;\n",
              "      border: none;\n",
              "      border-radius: 50%;\n",
              "      cursor: pointer;\n",
              "      display: none;\n",
              "      fill: #1967D2;\n",
              "      height: 32px;\n",
              "      padding: 0 0 0 0;\n",
              "      width: 32px;\n",
              "    }\n",
              "\n",
              "    .colab-df-convert:hover {\n",
              "      background-color: #E2EBFA;\n",
              "      box-shadow: 0px 1px 2px rgba(60, 64, 67, 0.3), 0px 1px 3px 1px rgba(60, 64, 67, 0.15);\n",
              "      fill: #174EA6;\n",
              "    }\n",
              "\n",
              "    .colab-df-buttons div {\n",
              "      margin-bottom: 4px;\n",
              "    }\n",
              "\n",
              "    [theme=dark] .colab-df-convert {\n",
              "      background-color: #3B4455;\n",
              "      fill: #D2E3FC;\n",
              "    }\n",
              "\n",
              "    [theme=dark] .colab-df-convert:hover {\n",
              "      background-color: #434B5C;\n",
              "      box-shadow: 0px 1px 3px 1px rgba(0, 0, 0, 0.15);\n",
              "      filter: drop-shadow(0px 1px 2px rgba(0, 0, 0, 0.3));\n",
              "      fill: #FFFFFF;\n",
              "    }\n",
              "  </style>\n",
              "\n",
              "    <script>\n",
              "      const buttonEl =\n",
              "        document.querySelector('#df-f5df574f-8a9c-4382-9286-aace99695386 button.colab-df-convert');\n",
              "      buttonEl.style.display =\n",
              "        google.colab.kernel.accessAllowed ? 'block' : 'none';\n",
              "\n",
              "      async function convertToInteractive(key) {\n",
              "        const element = document.querySelector('#df-f5df574f-8a9c-4382-9286-aace99695386');\n",
              "        const dataTable =\n",
              "          await google.colab.kernel.invokeFunction('convertToInteractive',\n",
              "                                                    [key], {});\n",
              "        if (!dataTable) return;\n",
              "\n",
              "        const docLinkHtml = 'Like what you see? Visit the ' +\n",
              "          '<a target=\"_blank\" href=https://colab.research.google.com/notebooks/data_table.ipynb>data table notebook</a>'\n",
              "          + ' to learn more about interactive tables.';\n",
              "        element.innerHTML = '';\n",
              "        dataTable['output_type'] = 'display_data';\n",
              "        await google.colab.output.renderOutput(dataTable, element);\n",
              "        const docLink = document.createElement('div');\n",
              "        docLink.innerHTML = docLinkHtml;\n",
              "        element.appendChild(docLink);\n",
              "      }\n",
              "    </script>\n",
              "  </div>\n",
              "\n",
              "\n",
              "<div id=\"df-a318f3b8-ed13-4b66-96c7-2da3b837f640\">\n",
              "  <button class=\"colab-df-quickchart\" onclick=\"quickchart('df-a318f3b8-ed13-4b66-96c7-2da3b837f640')\"\n",
              "            title=\"Suggest charts\"\n",
              "            style=\"display:none;\">\n",
              "\n",
              "<svg xmlns=\"http://www.w3.org/2000/svg\" height=\"24px\"viewBox=\"0 0 24 24\"\n",
              "     width=\"24px\">\n",
              "    <g>\n",
              "        <path d=\"M19 3H5c-1.1 0-2 .9-2 2v14c0 1.1.9 2 2 2h14c1.1 0 2-.9 2-2V5c0-1.1-.9-2-2-2zM9 17H7v-7h2v7zm4 0h-2V7h2v10zm4 0h-2v-4h2v4z\"/>\n",
              "    </g>\n",
              "</svg>\n",
              "  </button>\n",
              "\n",
              "<style>\n",
              "  .colab-df-quickchart {\n",
              "      --bg-color: #E8F0FE;\n",
              "      --fill-color: #1967D2;\n",
              "      --hover-bg-color: #E2EBFA;\n",
              "      --hover-fill-color: #174EA6;\n",
              "      --disabled-fill-color: #AAA;\n",
              "      --disabled-bg-color: #DDD;\n",
              "  }\n",
              "\n",
              "  [theme=dark] .colab-df-quickchart {\n",
              "      --bg-color: #3B4455;\n",
              "      --fill-color: #D2E3FC;\n",
              "      --hover-bg-color: #434B5C;\n",
              "      --hover-fill-color: #FFFFFF;\n",
              "      --disabled-bg-color: #3B4455;\n",
              "      --disabled-fill-color: #666;\n",
              "  }\n",
              "\n",
              "  .colab-df-quickchart {\n",
              "    background-color: var(--bg-color);\n",
              "    border: none;\n",
              "    border-radius: 50%;\n",
              "    cursor: pointer;\n",
              "    display: none;\n",
              "    fill: var(--fill-color);\n",
              "    height: 32px;\n",
              "    padding: 0;\n",
              "    width: 32px;\n",
              "  }\n",
              "\n",
              "  .colab-df-quickchart:hover {\n",
              "    background-color: var(--hover-bg-color);\n",
              "    box-shadow: 0 1px 2px rgba(60, 64, 67, 0.3), 0 1px 3px 1px rgba(60, 64, 67, 0.15);\n",
              "    fill: var(--button-hover-fill-color);\n",
              "  }\n",
              "\n",
              "  .colab-df-quickchart-complete:disabled,\n",
              "  .colab-df-quickchart-complete:disabled:hover {\n",
              "    background-color: var(--disabled-bg-color);\n",
              "    fill: var(--disabled-fill-color);\n",
              "    box-shadow: none;\n",
              "  }\n",
              "\n",
              "  .colab-df-spinner {\n",
              "    border: 2px solid var(--fill-color);\n",
              "    border-color: transparent;\n",
              "    border-bottom-color: var(--fill-color);\n",
              "    animation:\n",
              "      spin 1s steps(1) infinite;\n",
              "  }\n",
              "\n",
              "  @keyframes spin {\n",
              "    0% {\n",
              "      border-color: transparent;\n",
              "      border-bottom-color: var(--fill-color);\n",
              "      border-left-color: var(--fill-color);\n",
              "    }\n",
              "    20% {\n",
              "      border-color: transparent;\n",
              "      border-left-color: var(--fill-color);\n",
              "      border-top-color: var(--fill-color);\n",
              "    }\n",
              "    30% {\n",
              "      border-color: transparent;\n",
              "      border-left-color: var(--fill-color);\n",
              "      border-top-color: var(--fill-color);\n",
              "      border-right-color: var(--fill-color);\n",
              "    }\n",
              "    40% {\n",
              "      border-color: transparent;\n",
              "      border-right-color: var(--fill-color);\n",
              "      border-top-color: var(--fill-color);\n",
              "    }\n",
              "    60% {\n",
              "      border-color: transparent;\n",
              "      border-right-color: var(--fill-color);\n",
              "    }\n",
              "    80% {\n",
              "      border-color: transparent;\n",
              "      border-right-color: var(--fill-color);\n",
              "      border-bottom-color: var(--fill-color);\n",
              "    }\n",
              "    90% {\n",
              "      border-color: transparent;\n",
              "      border-bottom-color: var(--fill-color);\n",
              "    }\n",
              "  }\n",
              "</style>\n",
              "\n",
              "  <script>\n",
              "    async function quickchart(key) {\n",
              "      const quickchartButtonEl =\n",
              "        document.querySelector('#' + key + ' button');\n",
              "      quickchartButtonEl.disabled = true;  // To prevent multiple clicks.\n",
              "      quickchartButtonEl.classList.add('colab-df-spinner');\n",
              "      try {\n",
              "        const charts = await google.colab.kernel.invokeFunction(\n",
              "            'suggestCharts', [key], {});\n",
              "      } catch (error) {\n",
              "        console.error('Error during call to suggestCharts:', error);\n",
              "      }\n",
              "      quickchartButtonEl.classList.remove('colab-df-spinner');\n",
              "      quickchartButtonEl.classList.add('colab-df-quickchart-complete');\n",
              "    }\n",
              "    (() => {\n",
              "      let quickchartButtonEl =\n",
              "        document.querySelector('#df-a318f3b8-ed13-4b66-96c7-2da3b837f640 button');\n",
              "      quickchartButtonEl.style.display =\n",
              "        google.colab.kernel.accessAllowed ? 'block' : 'none';\n",
              "    })();\n",
              "  </script>\n",
              "</div>\n",
              "\n",
              "    </div>\n",
              "  </div>\n"
            ]
          },
          "metadata": {},
          "execution_count": 117
        }
      ]
    },
    {
      "cell_type": "markdown",
      "source": [
        "Заменим значения в таких данных"
      ],
      "metadata": {
        "id": "ObEEP8BX9_zi"
      }
    },
    {
      "cell_type": "code",
      "source": [
        "train.loc[train['YearBuilt'] <= 1847, 'YearBuilt'] = 1847"
      ],
      "metadata": {
        "id": "1MMRyVn3zCbc"
      },
      "execution_count": null,
      "outputs": []
    },
    {
      "cell_type": "code",
      "source": [
        "sns.histplot(train['YearBuilt'], kde=True)\n",
        "plt.title('Histogram for YearBuilt')"
      ],
      "metadata": {
        "colab": {
          "base_uri": "https://localhost:8080/",
          "height": 360
        },
        "id": "SobCh89C-FCv",
        "outputId": "683f91b1-48ed-44ae-f095-b70b89b3fcdc"
      },
      "execution_count": null,
      "outputs": [
        {
          "output_type": "execute_result",
          "data": {
            "text/plain": [
              "Text(0.5, 1.0, 'Histogram for YearBuilt')"
            ]
          },
          "metadata": {},
          "execution_count": 119
        },
        {
          "output_type": "display_data",
          "data": {
            "text/plain": [
              "<Figure size 400x300 with 1 Axes>"
            ],
            "image/png": "[encoded data removed]"
          },
          "metadata": {}
        }
      ]
    },
    {
      "cell_type": "markdown",
      "source": [
        "Так выглядит лучше"
      ],
      "metadata": {
        "id": "RqjvIMc--P7_"
      }
    },
    {
      "cell_type": "markdown",
      "source": [
        "### **Landsize** и **BuildingArea**\n",
        "\n",
        "В параметрах **Landsize** и **BuildingArea** тоже могут быть ошибки"
      ],
      "metadata": {
        "id": "wnzKc0IC-gKY"
      }
    },
    {
      "cell_type": "code",
      "source": [
        "train['Landsize'].median(), train['Landsize'].max()"
      ],
      "metadata": {
        "colab": {
          "base_uri": "https://localhost:8080/"
        },
        "id": "h6Kotyo6-ppX",
        "outputId": "99a47d3b-86ad-4114-8c6f-e8c58df1ef79"
      },
      "execution_count": null,
      "outputs": [
        {
          "output_type": "execute_result",
          "data": {
            "text/plain": [
              "(440.0, 433014.0)"
            ]
          },
          "metadata": {},
          "execution_count": 120
        }
      ]
    },
    {
      "cell_type": "code",
      "source": [
        "train['BuildingArea'].median(), train['BuildingArea'].max()"
      ],
      "metadata": {
        "id": "0D6YacpWXcdl",
        "colab": {
          "base_uri": "https://localhost:8080/"
        },
        "outputId": "39a138cd-8a5d-4422-e3e2-dd1b77c7251e"
      },
      "execution_count": null,
      "outputs": [
        {
          "output_type": "execute_result",
          "data": {
            "text/plain": [
              "(126.0, 44515.0)"
            ]
          },
          "metadata": {},
          "execution_count": 121
        }
      ]
    },
    {
      "cell_type": "markdown",
      "source": [
        "В Австралии в ходу метрическая СИ. В случае с Landsize, можно себе представить поместье с земельным участком в 40 гектар.\n",
        "\n",
        "А вот в здание с площадью в 6-7 футбольных полей верится не очень"
      ],
      "metadata": {
        "id": "8aoDRB_H_8BN"
      }
    },
    {
      "cell_type": "code",
      "source": [
        "train[train['BuildingArea'] >= 5000]"
      ],
      "metadata": {
        "colab": {
          "base_uri": "https://localhost:8080/",
          "height": 230
        },
        "id": "Hge2iL7__7wX",
        "outputId": "77eb8295-8735-453e-a4ed-379b6f39f041"
      },
      "execution_count": null,
      "outputs": [
        {
          "output_type": "execute_result",
          "data": {
            "text/plain": [
              "             Suburb          Address  Rooms Type      Price Method SellerG  \\\n",
              "1940        Bulleen  19 Warringal St      4    h  1280000.0      S   Barry   \n",
              "17617  New Gisborne   71 Hamilton Rd      5    h  1355000.0      S   Raine   \n",
              "\n",
              "             Date  Distance  Postcode  ...  Car  Landsize  BuildingArea  \\\n",
              "1940   11/03/2017      11.8      3105  ...  2.0     732.0        6791.0   \n",
              "17617  23/09/2017      48.1      3438  ...  5.0   44500.0       44515.0   \n",
              "\n",
              "       YearBuilt                   CouncilArea  Lattitude Longtitude  \\\n",
              "1940         NaN       Manningham City Council  -37.76150  145.08970   \n",
              "17617        NaN  Macedon Ranges Shire Council  -37.45392  144.58864   \n",
              "\n",
              "                 Regionname  Propertycount     id  \n",
              "1940   Eastern Metropolitan         4480.0   1116  \n",
              "17617     Northern Victoria          849.0  14451  \n",
              "\n",
              "[2 rows x 22 columns]"
            ],
            "text/html": [
              "\n",
              "  <div id=\"df-ca11bb7a-028b-4e01-8eab-f7851ee0bf51\" class=\"colab-df-container\">\n",
              "    <div>\n",
              "<style scoped>\n",
              "    .dataframe tbody tr th:only-of-type {\n",
              "        vertical-align: middle;\n",
              "    }\n",
              "\n",
              "    .dataframe tbody tr th {\n",
              "        vertical-align: top;\n",
              "    }\n",
              "\n",
              "    .dataframe thead th {\n",
              "        text-align: right;\n",
              "    }\n",
              "</style>\n",
              "<table border=\"1\" class=\"dataframe\">\n",
              "  <thead>\n",
              "    <tr style=\"text-align: right;\">\n",
              "      <th></th>\n",
              "      <th>Suburb</th>\n",
              "      <th>Address</th>\n",
              "      <th>Rooms</th>\n",
              "      <th>Type</th>\n",
              "      <th>Price</th>\n",
              "      <th>Method</th>\n",
              "      <th>SellerG</th>\n",
              "      <th>Date</th>\n",
              "      <th>Distance</th>\n",
              "      <th>Postcode</th>\n",
              "      <th>...</th>\n",
              "      <th>Car</th>\n",
              "      <th>Landsize</th>\n",
              "      <th>BuildingArea</th>\n",
              "      <th>YearBuilt</th>\n",
              "      <th>CouncilArea</th>\n",
              "      <th>Lattitude</th>\n",
              "      <th>Longtitude</th>\n",
              "      <th>Regionname</th>\n",
              "      <th>Propertycount</th>\n",
              "      <th>id</th>\n",
              "    </tr>\n",
              "  </thead>\n",
              "  <tbody>\n",
              "    <tr>\n",
              "      <th>1940</th>\n",
              "      <td>Bulleen</td>\n",
              "      <td>19 Warringal St</td>\n",
              "      <td>4</td>\n",
              "      <td>h</td>\n",
              "      <td>1280000.0</td>\n",
              "      <td>S</td>\n",
              "      <td>Barry</td>\n",
              "      <td>11/03/2017</td>\n",
              "      <td>11.8</td>\n",
              "      <td>3105</td>\n",
              "      <td>...</td>\n",
              "      <td>2.0</td>\n",
              "      <td>732.0</td>\n",
              "      <td>6791.0</td>\n",
              "      <td>NaN</td>\n",
              "      <td>Manningham City Council</td>\n",
              "      <td>-37.76150</td>\n",
              "      <td>145.08970</td>\n",
              "      <td>Eastern Metropolitan</td>\n",
              "      <td>4480.0</td>\n",
              "      <td>1116</td>\n",
              "    </tr>\n",
              "    <tr>\n",
              "      <th>17617</th>\n",
              "      <td>New Gisborne</td>\n",
              "      <td>71 Hamilton Rd</td>\n",
              "      <td>5</td>\n",
              "      <td>h</td>\n",
              "      <td>1355000.0</td>\n",
              "      <td>S</td>\n",
              "      <td>Raine</td>\n",
              "      <td>23/09/2017</td>\n",
              "      <td>48.1</td>\n",
              "      <td>3438</td>\n",
              "      <td>...</td>\n",
              "      <td>5.0</td>\n",
              "      <td>44500.0</td>\n",
              "      <td>44515.0</td>\n",
              "      <td>NaN</td>\n",
              "      <td>Macedon Ranges Shire Council</td>\n",
              "      <td>-37.45392</td>\n",
              "      <td>144.58864</td>\n",
              "      <td>Northern Victoria</td>\n",
              "      <td>849.0</td>\n",
              "      <td>14451</td>\n",
              "    </tr>\n",
              "  </tbody>\n",
              "</table>\n",
              "<p>2 rows × 22 columns</p>\n",
              "</div>\n",
              "    <div class=\"colab-df-buttons\">\n",
              "\n",
              "  <div class=\"colab-df-container\">\n",
              "    <button class=\"colab-df-convert\" onclick=\"convertToInteractive('df-ca11bb7a-028b-4e01-8eab-f7851ee0bf51')\"\n",
              "            title=\"Convert this dataframe to an interactive table.\"\n",
              "            style=\"display:none;\">\n",
              "\n",
              "  <svg xmlns=\"http://www.w3.org/2000/svg\" height=\"24px\" viewBox=\"0 -960 960 960\">\n",
              "    <path d=\"M120-120v-720h720v720H120Zm60-500h600v-160H180v160Zm220 220h160v-160H400v160Zm0 220h160v-160H400v160ZM180-400h160v-160H180v160Zm440 0h160v-160H620v160ZM180-180h160v-160H180v160Zm440 0h160v-160H620v160Z\"/>\n",
              "  </svg>\n",
              "    </button>\n",
              "\n",
              "  <style>\n",
              "    .colab-df-container {\n",
              "      display:flex;\n",
              "      gap: 12px;\n",
              "    }\n",
              "\n",
              "    .colab-df-convert {\n",
              "      background-color: #E8F0FE;\n",
              "      border: none;\n",
              "      border-radius: 50%;\n",
              "      cursor: pointer;\n",
              "      display: none;\n",
              "      fill: #1967D2;\n",
              "      height: 32px;\n",
              "      padding: 0 0 0 0;\n",
              "      width: 32px;\n",
              "    }\n",
              "\n",
              "    .colab-df-convert:hover {\n",
              "      background-color: #E2EBFA;\n",
              "      box-shadow: 0px 1px 2px rgba(60, 64, 67, 0.3), 0px 1px 3px 1px rgba(60, 64, 67, 0.15);\n",
              "      fill: #174EA6;\n",
              "    }\n",
              "\n",
              "    .colab-df-buttons div {\n",
              "      margin-bottom: 4px;\n",
              "    }\n",
              "\n",
              "    [theme=dark] .colab-df-convert {\n",
              "      background-color: #3B4455;\n",
              "      fill: #D2E3FC;\n",
              "    }\n",
              "\n",
              "    [theme=dark] .colab-df-convert:hover {\n",
              "      background-color: #434B5C;\n",
              "      box-shadow: 0px 1px 3px 1px rgba(0, 0, 0, 0.15);\n",
              "      filter: drop-shadow(0px 1px 2px rgba(0, 0, 0, 0.3));\n",
              "      fill: #FFFFFF;\n",
              "    }\n",
              "  </style>\n",
              "\n",
              "    <script>\n",
              "      const buttonEl =\n",
              "        document.querySelector('#df-ca11bb7a-028b-4e01-8eab-f7851ee0bf51 button.colab-df-convert');\n",
              "      buttonEl.style.display =\n",
              "        google.colab.kernel.accessAllowed ? 'block' : 'none';\n",
              "\n",
              "      async function convertToInteractive(key) {\n",
              "        const element = document.querySelector('#df-ca11bb7a-028b-4e01-8eab-f7851ee0bf51');\n",
              "        const dataTable =\n",
              "          await google.colab.kernel.invokeFunction('convertToInteractive',\n",
              "                                                    [key], {});\n",
              "        if (!dataTable) return;\n",
              "\n",
              "        const docLinkHtml = 'Like what you see? Visit the ' +\n",
              "          '<a target=\"_blank\" href=https://colab.research.google.com/notebooks/data_table.ipynb>data table notebook</a>'\n",
              "          + ' to learn more about interactive tables.';\n",
              "        element.innerHTML = '';\n",
              "        dataTable['output_type'] = 'display_data';\n",
              "        await google.colab.output.renderOutput(dataTable, element);\n",
              "        const docLink = document.createElement('div');\n",
              "        docLink.innerHTML = docLinkHtml;\n",
              "        element.appendChild(docLink);\n",
              "      }\n",
              "    </script>\n",
              "  </div>\n",
              "\n",
              "\n",
              "<div id=\"df-578f0b69-ff48-40ce-a4ff-5a2ca191ec92\">\n",
              "  <button class=\"colab-df-quickchart\" onclick=\"quickchart('df-578f0b69-ff48-40ce-a4ff-5a2ca191ec92')\"\n",
              "            title=\"Suggest charts\"\n",
              "            style=\"display:none;\">\n",
              "\n",
              "<svg xmlns=\"http://www.w3.org/2000/svg\" height=\"24px\"viewBox=\"0 0 24 24\"\n",
              "     width=\"24px\">\n",
              "    <g>\n",
              "        <path d=\"M19 3H5c-1.1 0-2 .9-2 2v14c0 1.1.9 2 2 2h14c1.1 0 2-.9 2-2V5c0-1.1-.9-2-2-2zM9 17H7v-7h2v7zm4 0h-2V7h2v10zm4 0h-2v-4h2v4z\"/>\n",
              "    </g>\n",
              "</svg>\n",
              "  </button>\n",
              "\n",
              "<style>\n",
              "  .colab-df-quickchart {\n",
              "      --bg-color: #E8F0FE;\n",
              "      --fill-color: #1967D2;\n",
              "      --hover-bg-color: #E2EBFA;\n",
              "      --hover-fill-color: #174EA6;\n",
              "      --disabled-fill-color: #AAA;\n",
              "      --disabled-bg-color: #DDD;\n",
              "  }\n",
              "\n",
              "  [theme=dark] .colab-df-quickchart {\n",
              "      --bg-color: #3B4455;\n",
              "      --fill-color: #D2E3FC;\n",
              "      --hover-bg-color: #434B5C;\n",
              "      --hover-fill-color: #FFFFFF;\n",
              "      --disabled-bg-color: #3B4455;\n",
              "      --disabled-fill-color: #666;\n",
              "  }\n",
              "\n",
              "  .colab-df-quickchart {\n",
              "    background-color: var(--bg-color);\n",
              "    border: none;\n",
              "    border-radius: 50%;\n",
              "    cursor: pointer;\n",
              "    display: none;\n",
              "    fill: var(--fill-color);\n",
              "    height: 32px;\n",
              "    padding: 0;\n",
              "    width: 32px;\n",
              "  }\n",
              "\n",
              "  .colab-df-quickchart:hover {\n",
              "    background-color: var(--hover-bg-color);\n",
              "    box-shadow: 0 1px 2px rgba(60, 64, 67, 0.3), 0 1px 3px 1px rgba(60, 64, 67, 0.15);\n",
              "    fill: var(--button-hover-fill-color);\n",
              "  }\n",
              "\n",
              "  .colab-df-quickchart-complete:disabled,\n",
              "  .colab-df-quickchart-complete:disabled:hover {\n",
              "    background-color: var(--disabled-bg-color);\n",
              "    fill: var(--disabled-fill-color);\n",
              "    box-shadow: none;\n",
              "  }\n",
              "\n",
              "  .colab-df-spinner {\n",
              "    border: 2px solid var(--fill-color);\n",
              "    border-color: transparent;\n",
              "    border-bottom-color: var(--fill-color);\n",
              "    animation:\n",
              "      spin 1s steps(1) infinite;\n",
              "  }\n",
              "\n",
              "  @keyframes spin {\n",
              "    0% {\n",
              "      border-color: transparent;\n",
              "      border-bottom-color: var(--fill-color);\n",
              "      border-left-color: var(--fill-color);\n",
              "    }\n",
              "    20% {\n",
              "      border-color: transparent;\n",
              "      border-left-color: var(--fill-color);\n",
              "      border-top-color: var(--fill-color);\n",
              "    }\n",
              "    30% {\n",
              "      border-color: transparent;\n",
              "      border-left-color: var(--fill-color);\n",
              "      border-top-color: var(--fill-color);\n",
              "      border-right-color: var(--fill-color);\n",
              "    }\n",
              "    40% {\n",
              "      border-color: transparent;\n",
              "      border-right-color: var(--fill-color);\n",
              "      border-top-color: var(--fill-color);\n",
              "    }\n",
              "    60% {\n",
              "      border-color: transparent;\n",
              "      border-right-color: var(--fill-color);\n",
              "    }\n",
              "    80% {\n",
              "      border-color: transparent;\n",
              "      border-right-color: var(--fill-color);\n",
              "      border-bottom-color: var(--fill-color);\n",
              "    }\n",
              "    90% {\n",
              "      border-color: transparent;\n",
              "      border-bottom-color: var(--fill-color);\n",
              "    }\n",
              "  }\n",
              "</style>\n",
              "\n",
              "  <script>\n",
              "    async function quickchart(key) {\n",
              "      const quickchartButtonEl =\n",
              "        document.querySelector('#' + key + ' button');\n",
              "      quickchartButtonEl.disabled = true;  // To prevent multiple clicks.\n",
              "      quickchartButtonEl.classList.add('colab-df-spinner');\n",
              "      try {\n",
              "        const charts = await google.colab.kernel.invokeFunction(\n",
              "            'suggestCharts', [key], {});\n",
              "      } catch (error) {\n",
              "        console.error('Error during call to suggestCharts:', error);\n",
              "      }\n",
              "      quickchartButtonEl.classList.remove('colab-df-spinner');\n",
              "      quickchartButtonEl.classList.add('colab-df-quickchart-complete');\n",
              "    }\n",
              "    (() => {\n",
              "      let quickchartButtonEl =\n",
              "        document.querySelector('#df-578f0b69-ff48-40ce-a4ff-5a2ca191ec92 button');\n",
              "      quickchartButtonEl.style.display =\n",
              "        google.colab.kernel.accessAllowed ? 'block' : 'none';\n",
              "    })();\n",
              "  </script>\n",
              "</div>\n",
              "\n",
              "    </div>\n",
              "  </div>\n"
            ]
          },
          "metadata": {},
          "execution_count": 122
        }
      ]
    },
    {
      "cell_type": "markdown",
      "source": [
        "Сделаем допущение что это ошибка в единицах измерения.\n",
        "Уменьшим это значение на два порядка"
      ],
      "metadata": {
        "id": "hIfQDif0BfKX"
      }
    },
    {
      "cell_type": "code",
      "source": [
        "train.loc[train['BuildingArea'] >= 15000, 'BuildingArea'] = train['BuildingArea']/100"
      ],
      "metadata": {
        "id": "Zkr4rJcuBe2D"
      },
      "execution_count": null,
      "outputs": []
    },
    {
      "cell_type": "markdown",
      "source": [
        "### Параметры **'Rooms', 'Bedroom2', 'Bathroom'**"
      ],
      "metadata": {
        "id": "eAs5aPxVEB9V"
      }
    },
    {
      "cell_type": "code",
      "source": [
        "train[['Rooms', 'Bedroom2', 'Bathroom']]"
      ],
      "metadata": {
        "colab": {
          "base_uri": "https://localhost:8080/",
          "height": 423
        },
        "id": "mbHYGtkVCoAc",
        "outputId": "165d8fe2-53e3-41bd-8b2f-54829359678c"
      },
      "execution_count": null,
      "outputs": [
        {
          "output_type": "execute_result",
          "data": {
            "text/plain": [
              "       Rooms  Bedroom2  Bathroom\n",
              "0          2       2.0       1.0\n",
              "1          2       2.0       1.0\n",
              "2          3       3.0       2.0\n",
              "3          3       3.0       2.0\n",
              "4          4       3.0       1.0\n",
              "...      ...       ...       ...\n",
              "18368      3       3.0       1.0\n",
              "18369      3       3.0       1.0\n",
              "18370      4       4.0       2.0\n",
              "18371      3       3.0       2.0\n",
              "18372      4       4.0       2.0\n",
              "\n",
              "[18373 rows x 3 columns]"
            ],
            "text/html": [
              "\n",
              "  <div id=\"df-7090e23f-f069-4959-bb3c-59f98909ed2d\" class=\"colab-df-container\">\n",
              "    <div>\n",
              "<style scoped>\n",
              "    .dataframe tbody tr th:only-of-type {\n",
              "        vertical-align: middle;\n",
              "    }\n",
              "\n",
              "    .dataframe tbody tr th {\n",
              "        vertical-align: top;\n",
              "    }\n",
              "\n",
              "    .dataframe thead th {\n",
              "        text-align: right;\n",
              "    }\n",
              "</style>\n",
              "<table border=\"1\" class=\"dataframe\">\n",
              "  <thead>\n",
              "    <tr style=\"text-align: right;\">\n",
              "      <th></th>\n",
              "      <th>Rooms</th>\n",
              "      <th>Bedroom2</th>\n",
              "      <th>Bathroom</th>\n",
              "    </tr>\n",
              "  </thead>\n",
              "  <tbody>\n",
              "    <tr>\n",
              "      <th>0</th>\n",
              "      <td>2</td>\n",
              "      <td>2.0</td>\n",
              "      <td>1.0</td>\n",
              "    </tr>\n",
              "    <tr>\n",
              "      <th>1</th>\n",
              "      <td>2</td>\n",
              "      <td>2.0</td>\n",
              "      <td>1.0</td>\n",
              "    </tr>\n",
              "    <tr>\n",
              "      <th>2</th>\n",
              "      <td>3</td>\n",
              "      <td>3.0</td>\n",
              "      <td>2.0</td>\n",
              "    </tr>\n",
              "    <tr>\n",
              "      <th>3</th>\n",
              "      <td>3</td>\n",
              "      <td>3.0</td>\n",
              "      <td>2.0</td>\n",
              "    </tr>\n",
              "    <tr>\n",
              "      <th>4</th>\n",
              "      <td>4</td>\n",
              "      <td>3.0</td>\n",
              "      <td>1.0</td>\n",
              "    </tr>\n",
              "    <tr>\n",
              "      <th>...</th>\n",
              "      <td>...</td>\n",
              "      <td>...</td>\n",
              "      <td>...</td>\n",
              "    </tr>\n",
              "    <tr>\n",
              "      <th>18368</th>\n",
              "      <td>3</td>\n",
              "      <td>3.0</td>\n",
              "      <td>1.0</td>\n",
              "    </tr>\n",
              "    <tr>\n",
              "      <th>18369</th>\n",
              "      <td>3</td>\n",
              "      <td>3.0</td>\n",
              "      <td>1.0</td>\n",
              "    </tr>\n",
              "    <tr>\n",
              "      <th>18370</th>\n",
              "      <td>4</td>\n",
              "      <td>4.0</td>\n",
              "      <td>2.0</td>\n",
              "    </tr>\n",
              "    <tr>\n",
              "      <th>18371</th>\n",
              "      <td>3</td>\n",
              "      <td>3.0</td>\n",
              "      <td>2.0</td>\n",
              "    </tr>\n",
              "    <tr>\n",
              "      <th>18372</th>\n",
              "      <td>4</td>\n",
              "      <td>4.0</td>\n",
              "      <td>2.0</td>\n",
              "    </tr>\n",
              "  </tbody>\n",
              "</table>\n",
              "<p>18373 rows × 3 columns</p>\n",
              "</div>\n",
              "    <div class=\"colab-df-buttons\">\n",
              "\n",
              "  <div class=\"colab-df-container\">\n",
              "    <button class=\"colab-df-convert\" onclick=\"convertToInteractive('df-7090e23f-f069-4959-bb3c-59f98909ed2d')\"\n",
              "            title=\"Convert this dataframe to an interactive table.\"\n",
              "            style=\"display:none;\">\n",
              "\n",
              "  <svg xmlns=\"http://www.w3.org/2000/svg\" height=\"24px\" viewBox=\"0 -960 960 960\">\n",
              "    <path d=\"M120-120v-720h720v720H120Zm60-500h600v-160H180v160Zm220 220h160v-160H400v160Zm0 220h160v-160H400v160ZM180-400h160v-160H180v160Zm440 0h160v-160H620v160ZM180-180h160v-160H180v160Zm440 0h160v-160H620v160Z\"/>\n",
              "  </svg>\n",
              "    </button>\n",
              "\n",
              "  <style>\n",
              "    .colab-df-container {\n",
              "      display:flex;\n",
              "      gap: 12px;\n",
              "    }\n",
              "\n",
              "    .colab-df-convert {\n",
              "      background-color: #E8F0FE;\n",
              "      border: none;\n",
              "      border-radius: 50%;\n",
              "      cursor: pointer;\n",
              "      display: none;\n",
              "      fill: #1967D2;\n",
              "      height: 32px;\n",
              "      padding: 0 0 0 0;\n",
              "      width: 32px;\n",
              "    }\n",
              "\n",
              "    .colab-df-convert:hover {\n",
              "      background-color: #E2EBFA;\n",
              "      box-shadow: 0px 1px 2px rgba(60, 64, 67, 0.3), 0px 1px 3px 1px rgba(60, 64, 67, 0.15);\n",
              "      fill: #174EA6;\n",
              "    }\n",
              "\n",
              "    .colab-df-buttons div {\n",
              "      margin-bottom: 4px;\n",
              "    }\n",
              "\n",
              "    [theme=dark] .colab-df-convert {\n",
              "      background-color: #3B4455;\n",
              "      fill: #D2E3FC;\n",
              "    }\n",
              "\n",
              "    [theme=dark] .colab-df-convert:hover {\n",
              "      background-color: #434B5C;\n",
              "      box-shadow: 0px 1px 3px 1px rgba(0, 0, 0, 0.15);\n",
              "      filter: drop-shadow(0px 1px 2px rgba(0, 0, 0, 0.3));\n",
              "      fill: #FFFFFF;\n",
              "    }\n",
              "  </style>\n",
              "\n",
              "    <script>\n",
              "      const buttonEl =\n",
              "        document.querySelector('#df-7090e23f-f069-4959-bb3c-59f98909ed2d button.colab-df-convert');\n",
              "      buttonEl.style.display =\n",
              "        google.colab.kernel.accessAllowed ? 'block' : 'none';\n",
              "\n",
              "      async function convertToInteractive(key) {\n",
              "        const element = document.querySelector('#df-7090e23f-f069-4959-bb3c-59f98909ed2d');\n",
              "        const dataTable =\n",
              "          await google.colab.kernel.invokeFunction('convertToInteractive',\n",
              "                                                    [key], {});\n",
              "        if (!dataTable) return;\n",
              "\n",
              "        const docLinkHtml = 'Like what you see? Visit the ' +\n",
              "          '<a target=\"_blank\" href=https://colab.research.google.com/notebooks/data_table.ipynb>data table notebook</a>'\n",
              "          + ' to learn more about interactive tables.';\n",
              "        element.innerHTML = '';\n",
              "        dataTable['output_type'] = 'display_data';\n",
              "        await google.colab.output.renderOutput(dataTable, element);\n",
              "        const docLink = document.createElement('div');\n",
              "        docLink.innerHTML = docLinkHtml;\n",
              "        element.appendChild(docLink);\n",
              "      }\n",
              "    </script>\n",
              "  </div>\n",
              "\n",
              "\n",
              "<div id=\"df-32302323-3fb5-451f-9093-288a94b405ac\">\n",
              "  <button class=\"colab-df-quickchart\" onclick=\"quickchart('df-32302323-3fb5-451f-9093-288a94b405ac')\"\n",
              "            title=\"Suggest charts\"\n",
              "            style=\"display:none;\">\n",
              "\n",
              "<svg xmlns=\"http://www.w3.org/2000/svg\" height=\"24px\"viewBox=\"0 0 24 24\"\n",
              "     width=\"24px\">\n",
              "    <g>\n",
              "        <path d=\"M19 3H5c-1.1 0-2 .9-2 2v14c0 1.1.9 2 2 2h14c1.1 0 2-.9 2-2V5c0-1.1-.9-2-2-2zM9 17H7v-7h2v7zm4 0h-2V7h2v10zm4 0h-2v-4h2v4z\"/>\n",
              "    </g>\n",
              "</svg>\n",
              "  </button>\n",
              "\n",
              "<style>\n",
              "  .colab-df-quickchart {\n",
              "      --bg-color: #E8F0FE;\n",
              "      --fill-color: #1967D2;\n",
              "      --hover-bg-color: #E2EBFA;\n",
              "      --hover-fill-color: #174EA6;\n",
              "      --disabled-fill-color: #AAA;\n",
              "      --disabled-bg-color: #DDD;\n",
              "  }\n",
              "\n",
              "  [theme=dark] .colab-df-quickchart {\n",
              "      --bg-color: #3B4455;\n",
              "      --fill-color: #D2E3FC;\n",
              "      --hover-bg-color: #434B5C;\n",
              "      --hover-fill-color: #FFFFFF;\n",
              "      --disabled-bg-color: #3B4455;\n",
              "      --disabled-fill-color: #666;\n",
              "  }\n",
              "\n",
              "  .colab-df-quickchart {\n",
              "    background-color: var(--bg-color);\n",
              "    border: none;\n",
              "    border-radius: 50%;\n",
              "    cursor: pointer;\n",
              "    display: none;\n",
              "    fill: var(--fill-color);\n",
              "    height: 32px;\n",
              "    padding: 0;\n",
              "    width: 32px;\n",
              "  }\n",
              "\n",
              "  .colab-df-quickchart:hover {\n",
              "    background-color: var(--hover-bg-color);\n",
              "    box-shadow: 0 1px 2px rgba(60, 64, 67, 0.3), 0 1px 3px 1px rgba(60, 64, 67, 0.15);\n",
              "    fill: var(--button-hover-fill-color);\n",
              "  }\n",
              "\n",
              "  .colab-df-quickchart-complete:disabled,\n",
              "  .colab-df-quickchart-complete:disabled:hover {\n",
              "    background-color: var(--disabled-bg-color);\n",
              "    fill: var(--disabled-fill-color);\n",
              "    box-shadow: none;\n",
              "  }\n",
              "\n",
              "  .colab-df-spinner {\n",
              "    border: 2px solid var(--fill-color);\n",
              "    border-color: transparent;\n",
              "    border-bottom-color: var(--fill-color);\n",
              "    animation:\n",
              "      spin 1s steps(1) infinite;\n",
              "  }\n",
              "\n",
              "  @keyframes spin {\n",
              "    0% {\n",
              "      border-color: transparent;\n",
              "      border-bottom-color: var(--fill-color);\n",
              "      border-left-color: var(--fill-color);\n",
              "    }\n",
              "    20% {\n",
              "      border-color: transparent;\n",
              "      border-left-color: var(--fill-color);\n",
              "      border-top-color: var(--fill-color);\n",
              "    }\n",
              "    30% {\n",
              "      border-color: transparent;\n",
              "      border-left-color: var(--fill-color);\n",
              "      border-top-color: var(--fill-color);\n",
              "      border-right-color: var(--fill-color);\n",
              "    }\n",
              "    40% {\n",
              "      border-color: transparent;\n",
              "      border-right-color: var(--fill-color);\n",
              "      border-top-color: var(--fill-color);\n",
              "    }\n",
              "    60% {\n",
              "      border-color: transparent;\n",
              "      border-right-color: var(--fill-color);\n",
              "    }\n",
              "    80% {\n",
              "      border-color: transparent;\n",
              "      border-right-color: var(--fill-color);\n",
              "      border-bottom-color: var(--fill-color);\n",
              "    }\n",
              "    90% {\n",
              "      border-color: transparent;\n",
              "      border-bottom-color: var(--fill-color);\n",
              "    }\n",
              "  }\n",
              "</style>\n",
              "\n",
              "  <script>\n",
              "    async function quickchart(key) {\n",
              "      const quickchartButtonEl =\n",
              "        document.querySelector('#' + key + ' button');\n",
              "      quickchartButtonEl.disabled = true;  // To prevent multiple clicks.\n",
              "      quickchartButtonEl.classList.add('colab-df-spinner');\n",
              "      try {\n",
              "        const charts = await google.colab.kernel.invokeFunction(\n",
              "            'suggestCharts', [key], {});\n",
              "      } catch (error) {\n",
              "        console.error('Error during call to suggestCharts:', error);\n",
              "      }\n",
              "      quickchartButtonEl.classList.remove('colab-df-spinner');\n",
              "      quickchartButtonEl.classList.add('colab-df-quickchart-complete');\n",
              "    }\n",
              "    (() => {\n",
              "      let quickchartButtonEl =\n",
              "        document.querySelector('#df-32302323-3fb5-451f-9093-288a94b405ac button');\n",
              "      quickchartButtonEl.style.display =\n",
              "        google.colab.kernel.accessAllowed ? 'block' : 'none';\n",
              "    })();\n",
              "  </script>\n",
              "</div>\n",
              "\n",
              "    </div>\n",
              "  </div>\n"
            ]
          },
          "metadata": {},
          "execution_count": 124
        }
      ]
    },
    {
      "cell_type": "code",
      "source": [
        "print(\n",
        "    len(train.query('Bedroom2.notna()')),\n",
        "\n",
        "    sum(train.query('Bedroom2.notna()')['Rooms'] == train.query('Bedroom2.notna()')['Bedroom2']))"
      ],
      "metadata": {
        "colab": {
          "base_uri": "https://localhost:8080/"
        },
        "id": "pQ3eOyO7DVhJ",
        "outputId": "58a74f38-eb4a-4970-f836-4f86e54a98f3"
      },
      "execution_count": null,
      "outputs": [
        {
          "output_type": "stream",
          "name": "stdout",
          "text": [
            "14905 14224\n"
          ]
        }
      ]
    },
    {
      "cell_type": "markdown",
      "source": [
        "В большинстве случаев где заполнено поле `['Bedroom2']`, ровно так же заполнено и поле `['Rooms']`\n",
        "\n",
        "\n",
        "Сделаем тоже самое для полей, где это поле не заполнено `['Bedroom2']`"
      ],
      "metadata": {
        "id": "wgceqo27D_dY"
      }
    },
    {
      "cell_type": "code",
      "source": [
        "train.loc[train['Bedroom2'].isna(), 'Bedroom2'] = train['Rooms']"
      ],
      "metadata": {
        "id": "seMRQA9tFZ5n"
      },
      "execution_count": null,
      "outputs": []
    },
    {
      "cell_type": "code",
      "source": [
        "pd.crosstab(index=train['Rooms'], columns=train['Bathroom'])"
      ],
      "metadata": {
        "colab": {
          "base_uri": "https://localhost:8080/",
          "height": 362
        },
        "id": "HNxN74TXFZ0a",
        "outputId": "0580095a-b33e-4c17-86f4-b7e03ce29d9b"
      },
      "execution_count": null,
      "outputs": [
        {
          "output_type": "execute_result",
          "data": {
            "text/plain": [
              "Bathroom  0.0   1.0   2.0  3.0  4.0  5.0  6.0  7.0  8.0\n",
              "Rooms                                                  \n",
              "1           1   726     6    0    0    0    0    0    0\n",
              "2          19  3448   559    8    0    0    0    0    0\n",
              "3          11  3506  2757  168    5    1    2    0    0\n",
              "4           3   474  1905  521   45    2    0    0    1\n",
              "5           0    17   280  264   49   25    2    1    0\n",
              "6           0     2    20   43    9    1    0    0    0\n",
              "7           0     0     4    6    2    0    0    0    0\n",
              "8           0     0     2    2    2    0    1    1    1\n",
              "10          0     0     0    1    0    0    0    0    0"
            ],
            "text/html": [
              "\n",
              "  <div id=\"df-54b07e56-be85-4c67-826d-5de6f13a8fe1\" class=\"colab-df-container\">\n",
              "    <div>\n",
              "<style scoped>\n",
              "    .dataframe tbody tr th:only-of-type {\n",
              "        vertical-align: middle;\n",
              "    }\n",
              "\n",
              "    .dataframe tbody tr th {\n",
              "        vertical-align: top;\n",
              "    }\n",
              "\n",
              "    .dataframe thead th {\n",
              "        text-align: right;\n",
              "    }\n",
              "</style>\n",
              "<table border=\"1\" class=\"dataframe\">\n",
              "  <thead>\n",
              "    <tr style=\"text-align: right;\">\n",
              "      <th>Bathroom</th>\n",
              "      <th>0.0</th>\n",
              "      <th>1.0</th>\n",
              "      <th>2.0</th>\n",
              "      <th>3.0</th>\n",
              "      <th>4.0</th>\n",
              "      <th>5.0</th>\n",
              "      <th>6.0</th>\n",
              "      <th>7.0</th>\n",
              "      <th>8.0</th>\n",
              "    </tr>\n",
              "    <tr>\n",
              "      <th>Rooms</th>\n",
              "      <th></th>\n",
              "      <th></th>\n",
              "      <th></th>\n",
              "      <th></th>\n",
              "      <th></th>\n",
              "      <th></th>\n",
              "      <th></th>\n",
              "      <th></th>\n",
              "      <th></th>\n",
              "    </tr>\n",
              "  </thead>\n",
              "  <tbody>\n",
              "    <tr>\n",
              "      <th>1</th>\n",
              "      <td>1</td>\n",
              "      <td>726</td>\n",
              "      <td>6</td>\n",
              "      <td>0</td>\n",
              "      <td>0</td>\n",
              "      <td>0</td>\n",
              "      <td>0</td>\n",
              "      <td>0</td>\n",
              "      <td>0</td>\n",
              "    </tr>\n",
              "    <tr>\n",
              "      <th>2</th>\n",
              "      <td>19</td>\n",
              "      <td>3448</td>\n",
              "      <td>559</td>\n",
              "      <td>8</td>\n",
              "      <td>0</td>\n",
              "      <td>0</td>\n",
              "      <td>0</td>\n",
              "      <td>0</td>\n",
              "      <td>0</td>\n",
              "    </tr>\n",
              "    <tr>\n",
              "      <th>3</th>\n",
              "      <td>11</td>\n",
              "      <td>3506</td>\n",
              "      <td>2757</td>\n",
              "      <td>168</td>\n",
              "      <td>5</td>\n",
              "      <td>1</td>\n",
              "      <td>2</td>\n",
              "      <td>0</td>\n",
              "      <td>0</td>\n",
              "    </tr>\n",
              "    <tr>\n",
              "      <th>4</th>\n",
              "      <td>3</td>\n",
              "      <td>474</td>\n",
              "      <td>1905</td>\n",
              "      <td>521</td>\n",
              "      <td>45</td>\n",
              "      <td>2</td>\n",
              "      <td>0</td>\n",
              "      <td>0</td>\n",
              "      <td>1</td>\n",
              "    </tr>\n",
              "    <tr>\n",
              "      <th>5</th>\n",
              "      <td>0</td>\n",
              "      <td>17</td>\n",
              "      <td>280</td>\n",
              "      <td>264</td>\n",
              "      <td>49</td>\n",
              "      <td>25</td>\n",
              "      <td>2</td>\n",
              "      <td>1</td>\n",
              "      <td>0</td>\n",
              "    </tr>\n",
              "    <tr>\n",
              "      <th>6</th>\n",
              "      <td>0</td>\n",
              "      <td>2</td>\n",
              "      <td>20</td>\n",
              "      <td>43</td>\n",
              "      <td>9</td>\n",
              "      <td>1</td>\n",
              "      <td>0</td>\n",
              "      <td>0</td>\n",
              "      <td>0</td>\n",
              "    </tr>\n",
              "    <tr>\n",
              "      <th>7</th>\n",
              "      <td>0</td>\n",
              "      <td>0</td>\n",
              "      <td>4</td>\n",
              "      <td>6</td>\n",
              "      <td>2</td>\n",
              "      <td>0</td>\n",
              "      <td>0</td>\n",
              "      <td>0</td>\n",
              "      <td>0</td>\n",
              "    </tr>\n",
              "    <tr>\n",
              "      <th>8</th>\n",
              "      <td>0</td>\n",
              "      <td>0</td>\n",
              "      <td>2</td>\n",
              "      <td>2</td>\n",
              "      <td>2</td>\n",
              "      <td>0</td>\n",
              "      <td>1</td>\n",
              "      <td>1</td>\n",
              "      <td>1</td>\n",
              "    </tr>\n",
              "    <tr>\n",
              "      <th>10</th>\n",
              "      <td>0</td>\n",
              "      <td>0</td>\n",
              "      <td>0</td>\n",
              "      <td>1</td>\n",
              "      <td>0</td>\n",
              "      <td>0</td>\n",
              "      <td>0</td>\n",
              "      <td>0</td>\n",
              "      <td>0</td>\n",
              "    </tr>\n",
              "  </tbody>\n",
              "</table>\n",
              "</div>\n",
              "    <div class=\"colab-df-buttons\">\n",
              "\n",
              "  <div class=\"colab-df-container\">\n",
              "    <button class=\"colab-df-convert\" onclick=\"convertToInteractive('df-54b07e56-be85-4c67-826d-5de6f13a8fe1')\"\n",
              "            title=\"Convert this dataframe to an interactive table.\"\n",
              "            style=\"display:none;\">\n",
              "\n",
              "  <svg xmlns=\"http://www.w3.org/2000/svg\" height=\"24px\" viewBox=\"0 -960 960 960\">\n",
              "    <path d=\"M120-120v-720h720v720H120Zm60-500h600v-160H180v160Zm220 220h160v-160H400v160Zm0 220h160v-160H400v160ZM180-400h160v-160H180v160Zm440 0h160v-160H620v160ZM180-180h160v-160H180v160Zm440 0h160v-160H620v160Z\"/>\n",
              "  </svg>\n",
              "    </button>\n",
              "\n",
              "  <style>\n",
              "    .colab-df-container {\n",
              "      display:flex;\n",
              "      gap: 12px;\n",
              "    }\n",
              "\n",
              "    .colab-df-convert {\n",
              "      background-color: #E8F0FE;\n",
              "      border: none;\n",
              "      border-radius: 50%;\n",
              "      cursor: pointer;\n",
              "      display: none;\n",
              "      fill: #1967D2;\n",
              "      height: 32px;\n",
              "      padding: 0 0 0 0;\n",
              "      width: 32px;\n",
              "    }\n",
              "\n",
              "    .colab-df-convert:hover {\n",
              "      background-color: #E2EBFA;\n",
              "      box-shadow: 0px 1px 2px rgba(60, 64, 67, 0.3), 0px 1px 3px 1px rgba(60, 64, 67, 0.15);\n",
              "      fill: #174EA6;\n",
              "    }\n",
              "\n",
              "    .colab-df-buttons div {\n",
              "      margin-bottom: 4px;\n",
              "    }\n",
              "\n",
              "    [theme=dark] .colab-df-convert {\n",
              "      background-color: #3B4455;\n",
              "      fill: #D2E3FC;\n",
              "    }\n",
              "\n",
              "    [theme=dark] .colab-df-convert:hover {\n",
              "      background-color: #434B5C;\n",
              "      box-shadow: 0px 1px 3px 1px rgba(0, 0, 0, 0.15);\n",
              "      filter: drop-shadow(0px 1px 2px rgba(0, 0, 0, 0.3));\n",
              "      fill: #FFFFFF;\n",
              "    }\n",
              "  </style>\n",
              "\n",
              "    <script>\n",
              "      const buttonEl =\n",
              "        document.querySelector('#df-54b07e56-be85-4c67-826d-5de6f13a8fe1 button.colab-df-convert');\n",
              "      buttonEl.style.display =\n",
              "        google.colab.kernel.accessAllowed ? 'block' : 'none';\n",
              "\n",
              "      async function convertToInteractive(key) {\n",
              "        const element = document.querySelector('#df-54b07e56-be85-4c67-826d-5de6f13a8fe1');\n",
              "        const dataTable =\n",
              "          await google.colab.kernel.invokeFunction('convertToInteractive',\n",
              "                                                    [key], {});\n",
              "        if (!dataTable) return;\n",
              "\n",
              "        const docLinkHtml = 'Like what you see? Visit the ' +\n",
              "          '<a target=\"_blank\" href=https://colab.research.google.com/notebooks/data_table.ipynb>data table notebook</a>'\n",
              "          + ' to learn more about interactive tables.';\n",
              "        element.innerHTML = '';\n",
              "        dataTable['output_type'] = 'display_data';\n",
              "        await google.colab.output.renderOutput(dataTable, element);\n",
              "        const docLink = document.createElement('div');\n",
              "        docLink.innerHTML = docLinkHtml;\n",
              "        element.appendChild(docLink);\n",
              "      }\n",
              "    </script>\n",
              "  </div>\n",
              "\n",
              "\n",
              "<div id=\"df-0ec7b941-e426-4dc2-967b-27f645efdc3f\">\n",
              "  <button class=\"colab-df-quickchart\" onclick=\"quickchart('df-0ec7b941-e426-4dc2-967b-27f645efdc3f')\"\n",
              "            title=\"Suggest charts\"\n",
              "            style=\"display:none;\">\n",
              "\n",
              "<svg xmlns=\"http://www.w3.org/2000/svg\" height=\"24px\"viewBox=\"0 0 24 24\"\n",
              "     width=\"24px\">\n",
              "    <g>\n",
              "        <path d=\"M19 3H5c-1.1 0-2 .9-2 2v14c0 1.1.9 2 2 2h14c1.1 0 2-.9 2-2V5c0-1.1-.9-2-2-2zM9 17H7v-7h2v7zm4 0h-2V7h2v10zm4 0h-2v-4h2v4z\"/>\n",
              "    </g>\n",
              "</svg>\n",
              "  </button>\n",
              "\n",
              "<style>\n",
              "  .colab-df-quickchart {\n",
              "      --bg-color: #E8F0FE;\n",
              "      --fill-color: #1967D2;\n",
              "      --hover-bg-color: #E2EBFA;\n",
              "      --hover-fill-color: #174EA6;\n",
              "      --disabled-fill-color: #AAA;\n",
              "      --disabled-bg-color: #DDD;\n",
              "  }\n",
              "\n",
              "  [theme=dark] .colab-df-quickchart {\n",
              "      --bg-color: #3B4455;\n",
              "      --fill-color: #D2E3FC;\n",
              "      --hover-bg-color: #434B5C;\n",
              "      --hover-fill-color: #FFFFFF;\n",
              "      --disabled-bg-color: #3B4455;\n",
              "      --disabled-fill-color: #666;\n",
              "  }\n",
              "\n",
              "  .colab-df-quickchart {\n",
              "    background-color: var(--bg-color);\n",
              "    border: none;\n",
              "    border-radius: 50%;\n",
              "    cursor: pointer;\n",
              "    display: none;\n",
              "    fill: var(--fill-color);\n",
              "    height: 32px;\n",
              "    padding: 0;\n",
              "    width: 32px;\n",
              "  }\n",
              "\n",
              "  .colab-df-quickchart:hover {\n",
              "    background-color: var(--hover-bg-color);\n",
              "    box-shadow: 0 1px 2px rgba(60, 64, 67, 0.3), 0 1px 3px 1px rgba(60, 64, 67, 0.15);\n",
              "    fill: var(--button-hover-fill-color);\n",
              "  }\n",
              "\n",
              "  .colab-df-quickchart-complete:disabled,\n",
              "  .colab-df-quickchart-complete:disabled:hover {\n",
              "    background-color: var(--disabled-bg-color);\n",
              "    fill: var(--disabled-fill-color);\n",
              "    box-shadow: none;\n",
              "  }\n",
              "\n",
              "  .colab-df-spinner {\n",
              "    border: 2px solid var(--fill-color);\n",
              "    border-color: transparent;\n",
              "    border-bottom-color: var(--fill-color);\n",
              "    animation:\n",
              "      spin 1s steps(1) infinite;\n",
              "  }\n",
              "\n",
              "  @keyframes spin {\n",
              "    0% {\n",
              "      border-color: transparent;\n",
              "      border-bottom-color: var(--fill-color);\n",
              "      border-left-color: var(--fill-color);\n",
              "    }\n",
              "    20% {\n",
              "      border-color: transparent;\n",
              "      border-left-color: var(--fill-color);\n",
              "      border-top-color: var(--fill-color);\n",
              "    }\n",
              "    30% {\n",
              "      border-color: transparent;\n",
              "      border-left-color: var(--fill-color);\n",
              "      border-top-color: var(--fill-color);\n",
              "      border-right-color: var(--fill-color);\n",
              "    }\n",
              "    40% {\n",
              "      border-color: transparent;\n",
              "      border-right-color: var(--fill-color);\n",
              "      border-top-color: var(--fill-color);\n",
              "    }\n",
              "    60% {\n",
              "      border-color: transparent;\n",
              "      border-right-color: var(--fill-color);\n",
              "    }\n",
              "    80% {\n",
              "      border-color: transparent;\n",
              "      border-right-color: var(--fill-color);\n",
              "      border-bottom-color: var(--fill-color);\n",
              "    }\n",
              "    90% {\n",
              "      border-color: transparent;\n",
              "      border-bottom-color: var(--fill-color);\n",
              "    }\n",
              "  }\n",
              "</style>\n",
              "\n",
              "  <script>\n",
              "    async function quickchart(key) {\n",
              "      const quickchartButtonEl =\n",
              "        document.querySelector('#' + key + ' button');\n",
              "      quickchartButtonEl.disabled = true;  // To prevent multiple clicks.\n",
              "      quickchartButtonEl.classList.add('colab-df-spinner');\n",
              "      try {\n",
              "        const charts = await google.colab.kernel.invokeFunction(\n",
              "            'suggestCharts', [key], {});\n",
              "      } catch (error) {\n",
              "        console.error('Error during call to suggestCharts:', error);\n",
              "      }\n",
              "      quickchartButtonEl.classList.remove('colab-df-spinner');\n",
              "      quickchartButtonEl.classList.add('colab-df-quickchart-complete');\n",
              "    }\n",
              "    (() => {\n",
              "      let quickchartButtonEl =\n",
              "        document.querySelector('#df-0ec7b941-e426-4dc2-967b-27f645efdc3f button');\n",
              "      quickchartButtonEl.style.display =\n",
              "        google.colab.kernel.accessAllowed ? 'block' : 'none';\n",
              "    })();\n",
              "  </script>\n",
              "</div>\n",
              "\n",
              "    </div>\n",
              "  </div>\n"
            ]
          },
          "metadata": {},
          "execution_count": 127
        }
      ]
    },
    {
      "cell_type": "markdown",
      "source": [
        "Из кросстаблицы зависимости кол-ва комнат и кол-ва ванных комнат, видим что чаще всего в домах с тремя и менее комнатами - 1 санузел.\n",
        "\n",
        "Заменим пропуски в случае с 4 и 5 комнатами - на 2 сануза. В случаях с более 5 комнатами - пропуски заменяем на 3 санузла.\n",
        "\n",
        "Кроме того замечаем, что в базе есть дома \"без удобств\", что кажется странным для развитого города. Предлагаю заменить 0 на 1 в таких случаях."
      ],
      "metadata": {
        "id": "LHSZc2DTHch7"
      }
    },
    {
      "cell_type": "code",
      "source": [
        "train.loc[(train['Bathroom'] == 0), 'Bathroom'] = 1\n",
        "train.loc[(train['Bathroom'].isna()) & (train['Rooms'] <= 3), 'Bathroom'] = 1\n",
        "train.loc[(train['Bathroom'].isna()) & (train['Rooms'] == 4), 'Bathroom'] = 2\n",
        "train.loc[(train['Bathroom'].isna()) & (train['Rooms'] == 5), 'Bathroom'] = 2\n",
        "train.loc[(train['Bathroom'].isna()) & ( train['Rooms'] > 5), 'Bathroom'] = 3"
      ],
      "metadata": {
        "id": "kb5wBpSeHYdf"
      },
      "execution_count": null,
      "outputs": []
    },
    {
      "cell_type": "code",
      "source": [
        "pd.crosstab(index=train['Rooms'], columns=train['Bathroom'])"
      ],
      "metadata": {
        "colab": {
          "base_uri": "https://localhost:8080/",
          "height": 425
        },
        "id": "r7Tvab2RHYZN",
        "outputId": "f1638047-74f0-46e2-fd1c-627bd1127491"
      },
      "execution_count": null,
      "outputs": [
        {
          "output_type": "execute_result",
          "data": {
            "text/plain": [
              "Bathroom   1.0   2.0  3.0  4.0  5.0  6.0  7.0  8.0\n",
              "Rooms                                             \n",
              "1          880     6    0    0    0    0    0    0\n",
              "2         4428   559    8    0    0    0    0    0\n",
              "3         5025  2757  168    5    1    2    0    0\n",
              "4          477  2600  521   45    2    0    0    1\n",
              "5           17   410  264   49   25    2    1    0\n",
              "6            2    20   58    9    1    0    0    0\n",
              "7            0     4    7    2    0    0    0    0\n",
              "8            0     2    4    2    0    1    1    1\n",
              "9            0     0    1    0    0    0    0    0\n",
              "10           0     0    4    0    0    0    0    0\n",
              "12           0     0    1    0    0    0    0    0"
            ],
            "text/html": [
              "\n",
              "  <div id=\"df-2bd1e6a8-8824-4c9f-822c-48697dd34e65\" class=\"colab-df-container\">\n",
              "    <div>\n",
              "<style scoped>\n",
              "    .dataframe tbody tr th:only-of-type {\n",
              "        vertical-align: middle;\n",
              "    }\n",
              "\n",
              "    .dataframe tbody tr th {\n",
              "        vertical-align: top;\n",
              "    }\n",
              "\n",
              "    .dataframe thead th {\n",
              "        text-align: right;\n",
              "    }\n",
              "</style>\n",
              "<table border=\"1\" class=\"dataframe\">\n",
              "  <thead>\n",
              "    <tr style=\"text-align: right;\">\n",
              "      <th>Bathroom</th>\n",
              "      <th>1.0</th>\n",
              "      <th>2.0</th>\n",
              "      <th>3.0</th>\n",
              "      <th>4.0</th>\n",
              "      <th>5.0</th>\n",
              "      <th>6.0</th>\n",
              "      <th>7.0</th>\n",
              "      <th>8.0</th>\n",
              "    </tr>\n",
              "    <tr>\n",
              "      <th>Rooms</th>\n",
              "      <th></th>\n",
              "      <th></th>\n",
              "      <th></th>\n",
              "      <th></th>\n",
              "      <th></th>\n",
              "      <th></th>\n",
              "      <th></th>\n",
              "      <th></th>\n",
              "    </tr>\n",
              "  </thead>\n",
              "  <tbody>\n",
              "    <tr>\n",
              "      <th>1</th>\n",
              "      <td>880</td>\n",
              "      <td>6</td>\n",
              "      <td>0</td>\n",
              "      <td>0</td>\n",
              "      <td>0</td>\n",
              "      <td>0</td>\n",
              "      <td>0</td>\n",
              "      <td>0</td>\n",
              "    </tr>\n",
              "    <tr>\n",
              "      <th>2</th>\n",
              "      <td>4428</td>\n",
              "      <td>559</td>\n",
              "      <td>8</td>\n",
              "      <td>0</td>\n",
              "      <td>0</td>\n",
              "      <td>0</td>\n",
              "      <td>0</td>\n",
              "      <td>0</td>\n",
              "    </tr>\n",
              "    <tr>\n",
              "      <th>3</th>\n",
              "      <td>5025</td>\n",
              "      <td>2757</td>\n",
              "      <td>168</td>\n",
              "      <td>5</td>\n",
              "      <td>1</td>\n",
              "      <td>2</td>\n",
              "      <td>0</td>\n",
              "      <td>0</td>\n",
              "    </tr>\n",
              "    <tr>\n",
              "      <th>4</th>\n",
              "      <td>477</td>\n",
              "      <td>2600</td>\n",
              "      <td>521</td>\n",
              "      <td>45</td>\n",
              "      <td>2</td>\n",
              "      <td>0</td>\n",
              "      <td>0</td>\n",
              "      <td>1</td>\n",
              "    </tr>\n",
              "    <tr>\n",
              "      <th>5</th>\n",
              "      <td>17</td>\n",
              "      <td>410</td>\n",
              "      <td>264</td>\n",
              "      <td>49</td>\n",
              "      <td>25</td>\n",
              "      <td>2</td>\n",
              "      <td>1</td>\n",
              "      <td>0</td>\n",
              "    </tr>\n",
              "    <tr>\n",
              "      <th>6</th>\n",
              "      <td>2</td>\n",
              "      <td>20</td>\n",
              "      <td>58</td>\n",
              "      <td>9</td>\n",
              "      <td>1</td>\n",
              "      <td>0</td>\n",
              "      <td>0</td>\n",
              "      <td>0</td>\n",
              "    </tr>\n",
              "    <tr>\n",
              "      <th>7</th>\n",
              "      <td>0</td>\n",
              "      <td>4</td>\n",
              "      <td>7</td>\n",
              "      <td>2</td>\n",
              "      <td>0</td>\n",
              "      <td>0</td>\n",
              "      <td>0</td>\n",
              "      <td>0</td>\n",
              "    </tr>\n",
              "    <tr>\n",
              "      <th>8</th>\n",
              "      <td>0</td>\n",
              "      <td>2</td>\n",
              "      <td>4</td>\n",
              "      <td>2</td>\n",
              "      <td>0</td>\n",
              "      <td>1</td>\n",
              "      <td>1</td>\n",
              "      <td>1</td>\n",
              "    </tr>\n",
              "    <tr>\n",
              "      <th>9</th>\n",
              "      <td>0</td>\n",
              "      <td>0</td>\n",
              "      <td>1</td>\n",
              "      <td>0</td>\n",
              "      <td>0</td>\n",
              "      <td>0</td>\n",
              "      <td>0</td>\n",
              "      <td>0</td>\n",
              "    </tr>\n",
              "    <tr>\n",
              "      <th>10</th>\n",
              "      <td>0</td>\n",
              "      <td>0</td>\n",
              "      <td>4</td>\n",
              "      <td>0</td>\n",
              "      <td>0</td>\n",
              "      <td>0</td>\n",
              "      <td>0</td>\n",
              "      <td>0</td>\n",
              "    </tr>\n",
              "    <tr>\n",
              "      <th>12</th>\n",
              "      <td>0</td>\n",
              "      <td>0</td>\n",
              "      <td>1</td>\n",
              "      <td>0</td>\n",
              "      <td>0</td>\n",
              "      <td>0</td>\n",
              "      <td>0</td>\n",
              "      <td>0</td>\n",
              "    </tr>\n",
              "  </tbody>\n",
              "</table>\n",
              "</div>\n",
              "    <div class=\"colab-df-buttons\">\n",
              "\n",
              "  <div class=\"colab-df-container\">\n",
              "    <button class=\"colab-df-convert\" onclick=\"convertToInteractive('df-2bd1e6a8-8824-4c9f-822c-48697dd34e65')\"\n",
              "            title=\"Convert this dataframe to an interactive table.\"\n",
              "            style=\"display:none;\">\n",
              "\n",
              "  <svg xmlns=\"http://www.w3.org/2000/svg\" height=\"24px\" viewBox=\"0 -960 960 960\">\n",
              "    <path d=\"M120-120v-720h720v720H120Zm60-500h600v-160H180v160Zm220 220h160v-160H400v160Zm0 220h160v-160H400v160ZM180-400h160v-160H180v160Zm440 0h160v-160H620v160ZM180-180h160v-160H180v160Zm440 0h160v-160H620v160Z\"/>\n",
              "  </svg>\n",
              "    </button>\n",
              "\n",
              "  <style>\n",
              "    .colab-df-container {\n",
              "      display:flex;\n",
              "      gap: 12px;\n",
              "    }\n",
              "\n",
              "    .colab-df-convert {\n",
              "      background-color: #E8F0FE;\n",
              "      border: none;\n",
              "      border-radius: 50%;\n",
              "      cursor: pointer;\n",
              "      display: none;\n",
              "      fill: #1967D2;\n",
              "      height: 32px;\n",
              "      padding: 0 0 0 0;\n",
              "      width: 32px;\n",
              "    }\n",
              "\n",
              "    .colab-df-convert:hover {\n",
              "      background-color: #E2EBFA;\n",
              "      box-shadow: 0px 1px 2px rgba(60, 64, 67, 0.3), 0px 1px 3px 1px rgba(60, 64, 67, 0.15);\n",
              "      fill: #174EA6;\n",
              "    }\n",
              "\n",
              "    .colab-df-buttons div {\n",
              "      margin-bottom: 4px;\n",
              "    }\n",
              "\n",
              "    [theme=dark] .colab-df-convert {\n",
              "      background-color: #3B4455;\n",
              "      fill: #D2E3FC;\n",
              "    }\n",
              "\n",
              "    [theme=dark] .colab-df-convert:hover {\n",
              "      background-color: #434B5C;\n",
              "      box-shadow: 0px 1px 3px 1px rgba(0, 0, 0, 0.15);\n",
              "      filter: drop-shadow(0px 1px 2px rgba(0, 0, 0, 0.3));\n",
              "      fill: #FFFFFF;\n",
              "    }\n",
              "  </style>\n",
              "\n",
              "    <script>\n",
              "      const buttonEl =\n",
              "        document.querySelector('#df-2bd1e6a8-8824-4c9f-822c-48697dd34e65 button.colab-df-convert');\n",
              "      buttonEl.style.display =\n",
              "        google.colab.kernel.accessAllowed ? 'block' : 'none';\n",
              "\n",
              "      async function convertToInteractive(key) {\n",
              "        const element = document.querySelector('#df-2bd1e6a8-8824-4c9f-822c-48697dd34e65');\n",
              "        const dataTable =\n",
              "          await google.colab.kernel.invokeFunction('convertToInteractive',\n",
              "                                                    [key], {});\n",
              "        if (!dataTable) return;\n",
              "\n",
              "        const docLinkHtml = 'Like what you see? Visit the ' +\n",
              "          '<a target=\"_blank\" href=https://colab.research.google.com/notebooks/data_table.ipynb>data table notebook</a>'\n",
              "          + ' to learn more about interactive tables.';\n",
              "        element.innerHTML = '';\n",
              "        dataTable['output_type'] = 'display_data';\n",
              "        await google.colab.output.renderOutput(dataTable, element);\n",
              "        const docLink = document.createElement('div');\n",
              "        docLink.innerHTML = docLinkHtml;\n",
              "        element.appendChild(docLink);\n",
              "      }\n",
              "    </script>\n",
              "  </div>\n",
              "\n",
              "\n",
              "<div id=\"df-eafd9de4-7e01-492a-9391-dce69d076748\">\n",
              "  <button class=\"colab-df-quickchart\" onclick=\"quickchart('df-eafd9de4-7e01-492a-9391-dce69d076748')\"\n",
              "            title=\"Suggest charts\"\n",
              "            style=\"display:none;\">\n",
              "\n",
              "<svg xmlns=\"http://www.w3.org/2000/svg\" height=\"24px\"viewBox=\"0 0 24 24\"\n",
              "     width=\"24px\">\n",
              "    <g>\n",
              "        <path d=\"M19 3H5c-1.1 0-2 .9-2 2v14c0 1.1.9 2 2 2h14c1.1 0 2-.9 2-2V5c0-1.1-.9-2-2-2zM9 17H7v-7h2v7zm4 0h-2V7h2v10zm4 0h-2v-4h2v4z\"/>\n",
              "    </g>\n",
              "</svg>\n",
              "  </button>\n",
              "\n",
              "<style>\n",
              "  .colab-df-quickchart {\n",
              "      --bg-color: #E8F0FE;\n",
              "      --fill-color: #1967D2;\n",
              "      --hover-bg-color: #E2EBFA;\n",
              "      --hover-fill-color: #174EA6;\n",
              "      --disabled-fill-color: #AAA;\n",
              "      --disabled-bg-color: #DDD;\n",
              "  }\n",
              "\n",
              "  [theme=dark] .colab-df-quickchart {\n",
              "      --bg-color: #3B4455;\n",
              "      --fill-color: #D2E3FC;\n",
              "      --hover-bg-color: #434B5C;\n",
              "      --hover-fill-color: #FFFFFF;\n",
              "      --disabled-bg-color: #3B4455;\n",
              "      --disabled-fill-color: #666;\n",
              "  }\n",
              "\n",
              "  .colab-df-quickchart {\n",
              "    background-color: var(--bg-color);\n",
              "    border: none;\n",
              "    border-radius: 50%;\n",
              "    cursor: pointer;\n",
              "    display: none;\n",
              "    fill: var(--fill-color);\n",
              "    height: 32px;\n",
              "    padding: 0;\n",
              "    width: 32px;\n",
              "  }\n",
              "\n",
              "  .colab-df-quickchart:hover {\n",
              "    background-color: var(--hover-bg-color);\n",
              "    box-shadow: 0 1px 2px rgba(60, 64, 67, 0.3), 0 1px 3px 1px rgba(60, 64, 67, 0.15);\n",
              "    fill: var(--button-hover-fill-color);\n",
              "  }\n",
              "\n",
              "  .colab-df-quickchart-complete:disabled,\n",
              "  .colab-df-quickchart-complete:disabled:hover {\n",
              "    background-color: var(--disabled-bg-color);\n",
              "    fill: var(--disabled-fill-color);\n",
              "    box-shadow: none;\n",
              "  }\n",
              "\n",
              "  .colab-df-spinner {\n",
              "    border: 2px solid var(--fill-color);\n",
              "    border-color: transparent;\n",
              "    border-bottom-color: var(--fill-color);\n",
              "    animation:\n",
              "      spin 1s steps(1) infinite;\n",
              "  }\n",
              "\n",
              "  @keyframes spin {\n",
              "    0% {\n",
              "      border-color: transparent;\n",
              "      border-bottom-color: var(--fill-color);\n",
              "      border-left-color: var(--fill-color);\n",
              "    }\n",
              "    20% {\n",
              "      border-color: transparent;\n",
              "      border-left-color: var(--fill-color);\n",
              "      border-top-color: var(--fill-color);\n",
              "    }\n",
              "    30% {\n",
              "      border-color: transparent;\n",
              "      border-left-color: var(--fill-color);\n",
              "      border-top-color: var(--fill-color);\n",
              "      border-right-color: var(--fill-color);\n",
              "    }\n",
              "    40% {\n",
              "      border-color: transparent;\n",
              "      border-right-color: var(--fill-color);\n",
              "      border-top-color: var(--fill-color);\n",
              "    }\n",
              "    60% {\n",
              "      border-color: transparent;\n",
              "      border-right-color: var(--fill-color);\n",
              "    }\n",
              "    80% {\n",
              "      border-color: transparent;\n",
              "      border-right-color: var(--fill-color);\n",
              "      border-bottom-color: var(--fill-color);\n",
              "    }\n",
              "    90% {\n",
              "      border-color: transparent;\n",
              "      border-bottom-color: var(--fill-color);\n",
              "    }\n",
              "  }\n",
              "</style>\n",
              "\n",
              "  <script>\n",
              "    async function quickchart(key) {\n",
              "      const quickchartButtonEl =\n",
              "        document.querySelector('#' + key + ' button');\n",
              "      quickchartButtonEl.disabled = true;  // To prevent multiple clicks.\n",
              "      quickchartButtonEl.classList.add('colab-df-spinner');\n",
              "      try {\n",
              "        const charts = await google.colab.kernel.invokeFunction(\n",
              "            'suggestCharts', [key], {});\n",
              "      } catch (error) {\n",
              "        console.error('Error during call to suggestCharts:', error);\n",
              "      }\n",
              "      quickchartButtonEl.classList.remove('colab-df-spinner');\n",
              "      quickchartButtonEl.classList.add('colab-df-quickchart-complete');\n",
              "    }\n",
              "    (() => {\n",
              "      let quickchartButtonEl =\n",
              "        document.querySelector('#df-eafd9de4-7e01-492a-9391-dce69d076748 button');\n",
              "      quickchartButtonEl.style.display =\n",
              "        google.colab.kernel.accessAllowed ? 'block' : 'none';\n",
              "    })();\n",
              "  </script>\n",
              "</div>\n",
              "\n",
              "    </div>\n",
              "  </div>\n"
            ]
          },
          "metadata": {},
          "execution_count": 129
        }
      ]
    },
    {
      "cell_type": "markdown",
      "source": [
        "### Car"
      ],
      "metadata": {
        "id": "QvIgF2N9KD4k"
      }
    },
    {
      "cell_type": "code",
      "source": [
        "pd.crosstab(index=train['Rooms'], columns=train['Car'])"
      ],
      "metadata": {
        "colab": {
          "base_uri": "https://localhost:8080/",
          "height": 362
        },
        "id": "kQuXNwwfFNUf",
        "outputId": "27c03955-1d1b-4cce-8676-9647e6489597"
      },
      "execution_count": null,
      "outputs": [
        {
          "output_type": "execute_result",
          "data": {
            "text/plain": [
              "Car    0.0   1.0   2.0   3.0   4.0   5.0   6.0   7.0   8.0   9.0   10.0\n",
              "Rooms                                                                  \n",
              "1        99   612    14     1     3     0     0     0     0     0     0\n",
              "2       437  2734   719    71    25     2     4     0     0     0     0\n",
              "3       405  2160  3151   389   236    21    30     2     5     1     1\n",
              "4        94   495  1833   268   195    30    16     4     6     0     2\n",
              "5        13    50   419    65    65    13    10     1     1     0     0\n",
              "6         1     5    41    11    14     0     2     1     0     0     0\n",
              "7         1     1     3     1     5     0     0     0     0     0     0\n",
              "8         0     1     0     2     6     0     0     0     0     0     0\n",
              "10        0     0     1     0     0     0     0     0     0     0     0"
            ],
            "text/html": [
              "\n",
              "  <div id=\"df-862922ee-234b-40bc-a2e5-0199a9176674\" class=\"colab-df-container\">\n",
              "    <div>\n",
              "<style scoped>\n",
              "    .dataframe tbody tr th:only-of-type {\n",
              "        vertical-align: middle;\n",
              "    }\n",
              "\n",
              "    .dataframe tbody tr th {\n",
              "        vertical-align: top;\n",
              "    }\n",
              "\n",
              "    .dataframe thead th {\n",
              "        text-align: right;\n",
              "    }\n",
              "</style>\n",
              "<table border=\"1\" class=\"dataframe\">\n",
              "  <thead>\n",
              "    <tr style=\"text-align: right;\">\n",
              "      <th>Car</th>\n",
              "      <th>0.0</th>\n",
              "      <th>1.0</th>\n",
              "      <th>2.0</th>\n",
              "      <th>3.0</th>\n",
              "      <th>4.0</th>\n",
              "      <th>5.0</th>\n",
              "      <th>6.0</th>\n",
              "      <th>7.0</th>\n",
              "      <th>8.0</th>\n",
              "      <th>9.0</th>\n",
              "      <th>10.0</th>\n",
              "    </tr>\n",
              "    <tr>\n",
              "      <th>Rooms</th>\n",
              "      <th></th>\n",
              "      <th></th>\n",
              "      <th></th>\n",
              "      <th></th>\n",
              "      <th></th>\n",
              "      <th></th>\n",
              "      <th></th>\n",
              "      <th></th>\n",
              "      <th></th>\n",
              "      <th></th>\n",
              "      <th></th>\n",
              "    </tr>\n",
              "  </thead>\n",
              "  <tbody>\n",
              "    <tr>\n",
              "      <th>1</th>\n",
              "      <td>99</td>\n",
              "      <td>612</td>\n",
              "      <td>14</td>\n",
              "      <td>1</td>\n",
              "      <td>3</td>\n",
              "      <td>0</td>\n",
              "      <td>0</td>\n",
              "      <td>0</td>\n",
              "      <td>0</td>\n",
              "      <td>0</td>\n",
              "      <td>0</td>\n",
              "    </tr>\n",
              "    <tr>\n",
              "      <th>2</th>\n",
              "      <td>437</td>\n",
              "      <td>2734</td>\n",
              "      <td>719</td>\n",
              "      <td>71</td>\n",
              "      <td>25</td>\n",
              "      <td>2</td>\n",
              "      <td>4</td>\n",
              "      <td>0</td>\n",
              "      <td>0</td>\n",
              "      <td>0</td>\n",
              "      <td>0</td>\n",
              "    </tr>\n",
              "    <tr>\n",
              "      <th>3</th>\n",
              "      <td>405</td>\n",
              "      <td>2160</td>\n",
              "      <td>3151</td>\n",
              "      <td>389</td>\n",
              "      <td>236</td>\n",
              "      <td>21</td>\n",
              "      <td>30</td>\n",
              "      <td>2</td>\n",
              "      <td>5</td>\n",
              "      <td>1</td>\n",
              "      <td>1</td>\n",
              "    </tr>\n",
              "    <tr>\n",
              "      <th>4</th>\n",
              "      <td>94</td>\n",
              "      <td>495</td>\n",
              "      <td>1833</td>\n",
              "      <td>268</td>\n",
              "      <td>195</td>\n",
              "      <td>30</td>\n",
              "      <td>16</td>\n",
              "      <td>4</td>\n",
              "      <td>6</td>\n",
              "      <td>0</td>\n",
              "      <td>2</td>\n",
              "    </tr>\n",
              "    <tr>\n",
              "      <th>5</th>\n",
              "      <td>13</td>\n",
              "      <td>50</td>\n",
              "      <td>419</td>\n",
              "      <td>65</td>\n",
              "      <td>65</td>\n",
              "      <td>13</td>\n",
              "      <td>10</td>\n",
              "      <td>1</td>\n",
              "      <td>1</td>\n",
              "      <td>0</td>\n",
              "      <td>0</td>\n",
              "    </tr>\n",
              "    <tr>\n",
              "      <th>6</th>\n",
              "      <td>1</td>\n",
              "      <td>5</td>\n",
              "      <td>41</td>\n",
              "      <td>11</td>\n",
              "      <td>14</td>\n",
              "      <td>0</td>\n",
              "      <td>2</td>\n",
              "      <td>1</td>\n",
              "      <td>0</td>\n",
              "      <td>0</td>\n",
              "      <td>0</td>\n",
              "    </tr>\n",
              "    <tr>\n",
              "      <th>7</th>\n",
              "      <td>1</td>\n",
              "      <td>1</td>\n",
              "      <td>3</td>\n",
              "      <td>1</td>\n",
              "      <td>5</td>\n",
              "      <td>0</td>\n",
              "      <td>0</td>\n",
              "      <td>0</td>\n",
              "      <td>0</td>\n",
              "      <td>0</td>\n",
              "      <td>0</td>\n",
              "    </tr>\n",
              "    <tr>\n",
              "      <th>8</th>\n",
              "      <td>0</td>\n",
              "      <td>1</td>\n",
              "      <td>0</td>\n",
              "      <td>2</td>\n",
              "      <td>6</td>\n",
              "      <td>0</td>\n",
              "      <td>0</td>\n",
              "      <td>0</td>\n",
              "      <td>0</td>\n",
              "      <td>0</td>\n",
              "      <td>0</td>\n",
              "    </tr>\n",
              "    <tr>\n",
              "      <th>10</th>\n",
              "      <td>0</td>\n",
              "      <td>0</td>\n",
              "      <td>1</td>\n",
              "      <td>0</td>\n",
              "      <td>0</td>\n",
              "      <td>0</td>\n",
              "      <td>0</td>\n",
              "      <td>0</td>\n",
              "      <td>0</td>\n",
              "      <td>0</td>\n",
              "      <td>0</td>\n",
              "    </tr>\n",
              "  </tbody>\n",
              "</table>\n",
              "</div>\n",
              "    <div class=\"colab-df-buttons\">\n",
              "\n",
              "  <div class=\"colab-df-container\">\n",
              "    <button class=\"colab-df-convert\" onclick=\"convertToInteractive('df-862922ee-234b-40bc-a2e5-0199a9176674')\"\n",
              "            title=\"Convert this dataframe to an interactive table.\"\n",
              "            style=\"display:none;\">\n",
              "\n",
              "  <svg xmlns=\"http://www.w3.org/2000/svg\" height=\"24px\" viewBox=\"0 -960 960 960\">\n",
              "    <path d=\"M120-120v-720h720v720H120Zm60-500h600v-160H180v160Zm220 220h160v-160H400v160Zm0 220h160v-160H400v160ZM180-400h160v-160H180v160Zm440 0h160v-160H620v160ZM180-180h160v-160H180v160Zm440 0h160v-160H620v160Z\"/>\n",
              "  </svg>\n",
              "    </button>\n",
              "\n",
              "  <style>\n",
              "    .colab-df-container {\n",
              "      display:flex;\n",
              "      gap: 12px;\n",
              "    }\n",
              "\n",
              "    .colab-df-convert {\n",
              "      background-color: #E8F0FE;\n",
              "      border: none;\n",
              "      border-radius: 50%;\n",
              "      cursor: pointer;\n",
              "      display: none;\n",
              "      fill: #1967D2;\n",
              "      height: 32px;\n",
              "      padding: 0 0 0 0;\n",
              "      width: 32px;\n",
              "    }\n",
              "\n",
              "    .colab-df-convert:hover {\n",
              "      background-color: #E2EBFA;\n",
              "      box-shadow: 0px 1px 2px rgba(60, 64, 67, 0.3), 0px 1px 3px 1px rgba(60, 64, 67, 0.15);\n",
              "      fill: #174EA6;\n",
              "    }\n",
              "\n",
              "    .colab-df-buttons div {\n",
              "      margin-bottom: 4px;\n",
              "    }\n",
              "\n",
              "    [theme=dark] .colab-df-convert {\n",
              "      background-color: #3B4455;\n",
              "      fill: #D2E3FC;\n",
              "    }\n",
              "\n",
              "    [theme=dark] .colab-df-convert:hover {\n",
              "      background-color: #434B5C;\n",
              "      box-shadow: 0px 1px 3px 1px rgba(0, 0, 0, 0.15);\n",
              "      filter: drop-shadow(0px 1px 2px rgba(0, 0, 0, 0.3));\n",
              "      fill: #FFFFFF;\n",
              "    }\n",
              "  </style>\n",
              "\n",
              "    <script>\n",
              "      const buttonEl =\n",
              "        document.querySelector('#df-862922ee-234b-40bc-a2e5-0199a9176674 button.colab-df-convert');\n",
              "      buttonEl.style.display =\n",
              "        google.colab.kernel.accessAllowed ? 'block' : 'none';\n",
              "\n",
              "      async function convertToInteractive(key) {\n",
              "        const element = document.querySelector('#df-862922ee-234b-40bc-a2e5-0199a9176674');\n",
              "        const dataTable =\n",
              "          await google.colab.kernel.invokeFunction('convertToInteractive',\n",
              "                                                    [key], {});\n",
              "        if (!dataTable) return;\n",
              "\n",
              "        const docLinkHtml = 'Like what you see? Visit the ' +\n",
              "          '<a target=\"_blank\" href=https://colab.research.google.com/notebooks/data_table.ipynb>data table notebook</a>'\n",
              "          + ' to learn more about interactive tables.';\n",
              "        element.innerHTML = '';\n",
              "        dataTable['output_type'] = 'display_data';\n",
              "        await google.colab.output.renderOutput(dataTable, element);\n",
              "        const docLink = document.createElement('div');\n",
              "        docLink.innerHTML = docLinkHtml;\n",
              "        element.appendChild(docLink);\n",
              "      }\n",
              "    </script>\n",
              "  </div>\n",
              "\n",
              "\n",
              "<div id=\"df-67271d31-f904-4aaa-81a3-1053bfe865d9\">\n",
              "  <button class=\"colab-df-quickchart\" onclick=\"quickchart('df-67271d31-f904-4aaa-81a3-1053bfe865d9')\"\n",
              "            title=\"Suggest charts\"\n",
              "            style=\"display:none;\">\n",
              "\n",
              "<svg xmlns=\"http://www.w3.org/2000/svg\" height=\"24px\"viewBox=\"0 0 24 24\"\n",
              "     width=\"24px\">\n",
              "    <g>\n",
              "        <path d=\"M19 3H5c-1.1 0-2 .9-2 2v14c0 1.1.9 2 2 2h14c1.1 0 2-.9 2-2V5c0-1.1-.9-2-2-2zM9 17H7v-7h2v7zm4 0h-2V7h2v10zm4 0h-2v-4h2v4z\"/>\n",
              "    </g>\n",
              "</svg>\n",
              "  </button>\n",
              "\n",
              "<style>\n",
              "  .colab-df-quickchart {\n",
              "      --bg-color: #E8F0FE;\n",
              "      --fill-color: #1967D2;\n",
              "      --hover-bg-color: #E2EBFA;\n",
              "      --hover-fill-color: #174EA6;\n",
              "      --disabled-fill-color: #AAA;\n",
              "      --disabled-bg-color: #DDD;\n",
              "  }\n",
              "\n",
              "  [theme=dark] .colab-df-quickchart {\n",
              "      --bg-color: #3B4455;\n",
              "      --fill-color: #D2E3FC;\n",
              "      --hover-bg-color: #434B5C;\n",
              "      --hover-fill-color: #FFFFFF;\n",
              "      --disabled-bg-color: #3B4455;\n",
              "      --disabled-fill-color: #666;\n",
              "  }\n",
              "\n",
              "  .colab-df-quickchart {\n",
              "    background-color: var(--bg-color);\n",
              "    border: none;\n",
              "    border-radius: 50%;\n",
              "    cursor: pointer;\n",
              "    display: none;\n",
              "    fill: var(--fill-color);\n",
              "    height: 32px;\n",
              "    padding: 0;\n",
              "    width: 32px;\n",
              "  }\n",
              "\n",
              "  .colab-df-quickchart:hover {\n",
              "    background-color: var(--hover-bg-color);\n",
              "    box-shadow: 0 1px 2px rgba(60, 64, 67, 0.3), 0 1px 3px 1px rgba(60, 64, 67, 0.15);\n",
              "    fill: var(--button-hover-fill-color);\n",
              "  }\n",
              "\n",
              "  .colab-df-quickchart-complete:disabled,\n",
              "  .colab-df-quickchart-complete:disabled:hover {\n",
              "    background-color: var(--disabled-bg-color);\n",
              "    fill: var(--disabled-fill-color);\n",
              "    box-shadow: none;\n",
              "  }\n",
              "\n",
              "  .colab-df-spinner {\n",
              "    border: 2px solid var(--fill-color);\n",
              "    border-color: transparent;\n",
              "    border-bottom-color: var(--fill-color);\n",
              "    animation:\n",
              "      spin 1s steps(1) infinite;\n",
              "  }\n",
              "\n",
              "  @keyframes spin {\n",
              "    0% {\n",
              "      border-color: transparent;\n",
              "      border-bottom-color: var(--fill-color);\n",
              "      border-left-color: var(--fill-color);\n",
              "    }\n",
              "    20% {\n",
              "      border-color: transparent;\n",
              "      border-left-color: var(--fill-color);\n",
              "      border-top-color: var(--fill-color);\n",
              "    }\n",
              "    30% {\n",
              "      border-color: transparent;\n",
              "      border-left-color: var(--fill-color);\n",
              "      border-top-color: var(--fill-color);\n",
              "      border-right-color: var(--fill-color);\n",
              "    }\n",
              "    40% {\n",
              "      border-color: transparent;\n",
              "      border-right-color: var(--fill-color);\n",
              "      border-top-color: var(--fill-color);\n",
              "    }\n",
              "    60% {\n",
              "      border-color: transparent;\n",
              "      border-right-color: var(--fill-color);\n",
              "    }\n",
              "    80% {\n",
              "      border-color: transparent;\n",
              "      border-right-color: var(--fill-color);\n",
              "      border-bottom-color: var(--fill-color);\n",
              "    }\n",
              "    90% {\n",
              "      border-color: transparent;\n",
              "      border-bottom-color: var(--fill-color);\n",
              "    }\n",
              "  }\n",
              "</style>\n",
              "\n",
              "  <script>\n",
              "    async function quickchart(key) {\n",
              "      const quickchartButtonEl =\n",
              "        document.querySelector('#' + key + ' button');\n",
              "      quickchartButtonEl.disabled = true;  // To prevent multiple clicks.\n",
              "      quickchartButtonEl.classList.add('colab-df-spinner');\n",
              "      try {\n",
              "        const charts = await google.colab.kernel.invokeFunction(\n",
              "            'suggestCharts', [key], {});\n",
              "      } catch (error) {\n",
              "        console.error('Error during call to suggestCharts:', error);\n",
              "      }\n",
              "      quickchartButtonEl.classList.remove('colab-df-spinner');\n",
              "      quickchartButtonEl.classList.add('colab-df-quickchart-complete');\n",
              "    }\n",
              "    (() => {\n",
              "      let quickchartButtonEl =\n",
              "        document.querySelector('#df-67271d31-f904-4aaa-81a3-1053bfe865d9 button');\n",
              "      quickchartButtonEl.style.display =\n",
              "        google.colab.kernel.accessAllowed ? 'block' : 'none';\n",
              "    })();\n",
              "  </script>\n",
              "</div>\n",
              "\n",
              "    </div>\n",
              "  </div>\n"
            ]
          },
          "metadata": {},
          "execution_count": 130
        }
      ]
    },
    {
      "cell_type": "markdown",
      "source": [
        "Аналогично построим кросстаблицу зависимости кол-ва комнат и машиномест и попробуем ручным образом заменить пропуски"
      ],
      "metadata": {
        "id": "IO10V-xGCnuT"
      }
    },
    {
      "cell_type": "code",
      "source": [
        "train.loc[(train['Car'].isna()) & (train['Rooms'] <= 2), 'Car'] = 1\n",
        "train.loc[(train['Car'].isna()) & (train['Rooms'] == 3), 'Car'] = 2\n",
        "train.loc[(train['Car'].isna()) & (train['Rooms'] == 4), 'Car'] = 2\n",
        "train.loc[(train['Car'].isna()) & (train['Rooms'] == 5), 'Car'] = 2\n",
        "train.loc[(train['Car'].isna()) & (train['Rooms'] >= 6), 'Car'] = 3"
      ],
      "metadata": {
        "id": "hRdYz_QNKdDn"
      },
      "execution_count": null,
      "outputs": []
    },
    {
      "cell_type": "markdown",
      "source": [
        "## BuildingArea"
      ],
      "metadata": {
        "id": "85MR65bmLKsX"
      }
    },
    {
      "cell_type": "markdown",
      "source": [
        "Заполним пропуски, опираясь только на среднее (медиану) от кол-ва комнат"
      ],
      "metadata": {
        "id": "k_MW-3iFOWoY"
      }
    },
    {
      "cell_type": "code",
      "source": [
        "train[['Rooms', 'BuildingArea']].groupby('Rooms').median()"
      ],
      "metadata": {
        "colab": {
          "base_uri": "https://localhost:8080/",
          "height": 425
        },
        "id": "5NXcl2t8OuEI",
        "outputId": "616f62a4-c860-461a-d406-bbc036d32a66"
      },
      "execution_count": null,
      "outputs": [
        {
          "output_type": "execute_result",
          "data": {
            "text/plain": [
              "       BuildingArea\n",
              "Rooms              \n",
              "1              50.0\n",
              "2              85.0\n",
              "3             129.0\n",
              "4             190.0\n",
              "5             260.0\n",
              "6             266.0\n",
              "7             335.5\n",
              "8             152.5\n",
              "9               NaN\n",
              "10              NaN\n",
              "12              NaN"
            ],
            "text/html": [
              "\n",
              "  <div id=\"df-087b79c3-7daf-4bc8-91a1-240330cf38f1\" class=\"colab-df-container\">\n",
              "    <div>\n",
              "<style scoped>\n",
              "    .dataframe tbody tr th:only-of-type {\n",
              "        vertical-align: middle;\n",
              "    }\n",
              "\n",
              "    .dataframe tbody tr th {\n",
              "        vertical-align: top;\n",
              "    }\n",
              "\n",
              "    .dataframe thead th {\n",
              "        text-align: right;\n",
              "    }\n",
              "</style>\n",
              "<table border=\"1\" class=\"dataframe\">\n",
              "  <thead>\n",
              "    <tr style=\"text-align: right;\">\n",
              "      <th></th>\n",
              "      <th>BuildingArea</th>\n",
              "    </tr>\n",
              "    <tr>\n",
              "      <th>Rooms</th>\n",
              "      <th></th>\n",
              "    </tr>\n",
              "  </thead>\n",
              "  <tbody>\n",
              "    <tr>\n",
              "      <th>1</th>\n",
              "      <td>50.0</td>\n",
              "    </tr>\n",
              "    <tr>\n",
              "      <th>2</th>\n",
              "      <td>85.0</td>\n",
              "    </tr>\n",
              "    <tr>\n",
              "      <th>3</th>\n",
              "      <td>129.0</td>\n",
              "    </tr>\n",
              "    <tr>\n",
              "      <th>4</th>\n",
              "      <td>190.0</td>\n",
              "    </tr>\n",
              "    <tr>\n",
              "      <th>5</th>\n",
              "      <td>260.0</td>\n",
              "    </tr>\n",
              "    <tr>\n",
              "      <th>6</th>\n",
              "      <td>266.0</td>\n",
              "    </tr>\n",
              "    <tr>\n",
              "      <th>7</th>\n",
              "      <td>335.5</td>\n",
              "    </tr>\n",
              "    <tr>\n",
              "      <th>8</th>\n",
              "      <td>152.5</td>\n",
              "    </tr>\n",
              "    <tr>\n",
              "      <th>9</th>\n",
              "      <td>NaN</td>\n",
              "    </tr>\n",
              "    <tr>\n",
              "      <th>10</th>\n",
              "      <td>NaN</td>\n",
              "    </tr>\n",
              "    <tr>\n",
              "      <th>12</th>\n",
              "      <td>NaN</td>\n",
              "    </tr>\n",
              "  </tbody>\n",
              "</table>\n",
              "</div>\n",
              "    <div class=\"colab-df-buttons\">\n",
              "\n",
              "  <div class=\"colab-df-container\">\n",
              "    <button class=\"colab-df-convert\" onclick=\"convertToInteractive('df-087b79c3-7daf-4bc8-91a1-240330cf38f1')\"\n",
              "            title=\"Convert this dataframe to an interactive table.\"\n",
              "            style=\"display:none;\">\n",
              "\n",
              "  <svg xmlns=\"http://www.w3.org/2000/svg\" height=\"24px\" viewBox=\"0 -960 960 960\">\n",
              "    <path d=\"M120-120v-720h720v720H120Zm60-500h600v-160H180v160Zm220 220h160v-160H400v160Zm0 220h160v-160H400v160ZM180-400h160v-160H180v160Zm440 0h160v-160H620v160ZM180-180h160v-160H180v160Zm440 0h160v-160H620v160Z\"/>\n",
              "  </svg>\n",
              "    </button>\n",
              "\n",
              "  <style>\n",
              "    .colab-df-container {\n",
              "      display:flex;\n",
              "      gap: 12px;\n",
              "    }\n",
              "\n",
              "    .colab-df-convert {\n",
              "      background-color: #E8F0FE;\n",
              "      border: none;\n",
              "      border-radius: 50%;\n",
              "      cursor: pointer;\n",
              "      display: none;\n",
              "      fill: #1967D2;\n",
              "      height: 32px;\n",
              "      padding: 0 0 0 0;\n",
              "      width: 32px;\n",
              "    }\n",
              "\n",
              "    .colab-df-convert:hover {\n",
              "      background-color: #E2EBFA;\n",
              "      box-shadow: 0px 1px 2px rgba(60, 64, 67, 0.3), 0px 1px 3px 1px rgba(60, 64, 67, 0.15);\n",
              "      fill: #174EA6;\n",
              "    }\n",
              "\n",
              "    .colab-df-buttons div {\n",
              "      margin-bottom: 4px;\n",
              "    }\n",
              "\n",
              "    [theme=dark] .colab-df-convert {\n",
              "      background-color: #3B4455;\n",
              "      fill: #D2E3FC;\n",
              "    }\n",
              "\n",
              "    [theme=dark] .colab-df-convert:hover {\n",
              "      background-color: #434B5C;\n",
              "      box-shadow: 0px 1px 3px 1px rgba(0, 0, 0, 0.15);\n",
              "      filter: drop-shadow(0px 1px 2px rgba(0, 0, 0, 0.3));\n",
              "      fill: #FFFFFF;\n",
              "    }\n",
              "  </style>\n",
              "\n",
              "    <script>\n",
              "      const buttonEl =\n",
              "        document.querySelector('#df-087b79c3-7daf-4bc8-91a1-240330cf38f1 button.colab-df-convert');\n",
              "      buttonEl.style.display =\n",
              "        google.colab.kernel.accessAllowed ? 'block' : 'none';\n",
              "\n",
              "      async function convertToInteractive(key) {\n",
              "        const element = document.querySelector('#df-087b79c3-7daf-4bc8-91a1-240330cf38f1');\n",
              "        const dataTable =\n",
              "          await google.colab.kernel.invokeFunction('convertToInteractive',\n",
              "                                                    [key], {});\n",
              "        if (!dataTable) return;\n",
              "\n",
              "        const docLinkHtml = 'Like what you see? Visit the ' +\n",
              "          '<a target=\"_blank\" href=https://colab.research.google.com/notebooks/data_table.ipynb>data table notebook</a>'\n",
              "          + ' to learn more about interactive tables.';\n",
              "        element.innerHTML = '';\n",
              "        dataTable['output_type'] = 'display_data';\n",
              "        await google.colab.output.renderOutput(dataTable, element);\n",
              "        const docLink = document.createElement('div');\n",
              "        docLink.innerHTML = docLinkHtml;\n",
              "        element.appendChild(docLink);\n",
              "      }\n",
              "    </script>\n",
              "  </div>\n",
              "\n",
              "\n",
              "<div id=\"df-bb974f98-1183-42f7-8950-f0707722848a\">\n",
              "  <button class=\"colab-df-quickchart\" onclick=\"quickchart('df-bb974f98-1183-42f7-8950-f0707722848a')\"\n",
              "            title=\"Suggest charts\"\n",
              "            style=\"display:none;\">\n",
              "\n",
              "<svg xmlns=\"http://www.w3.org/2000/svg\" height=\"24px\"viewBox=\"0 0 24 24\"\n",
              "     width=\"24px\">\n",
              "    <g>\n",
              "        <path d=\"M19 3H5c-1.1 0-2 .9-2 2v14c0 1.1.9 2 2 2h14c1.1 0 2-.9 2-2V5c0-1.1-.9-2-2-2zM9 17H7v-7h2v7zm4 0h-2V7h2v10zm4 0h-2v-4h2v4z\"/>\n",
              "    </g>\n",
              "</svg>\n",
              "  </button>\n",
              "\n",
              "<style>\n",
              "  .colab-df-quickchart {\n",
              "      --bg-color: #E8F0FE;\n",
              "      --fill-color: #1967D2;\n",
              "      --hover-bg-color: #E2EBFA;\n",
              "      --hover-fill-color: #174EA6;\n",
              "      --disabled-fill-color: #AAA;\n",
              "      --disabled-bg-color: #DDD;\n",
              "  }\n",
              "\n",
              "  [theme=dark] .colab-df-quickchart {\n",
              "      --bg-color: #3B4455;\n",
              "      --fill-color: #D2E3FC;\n",
              "      --hover-bg-color: #434B5C;\n",
              "      --hover-fill-color: #FFFFFF;\n",
              "      --disabled-bg-color: #3B4455;\n",
              "      --disabled-fill-color: #666;\n",
              "  }\n",
              "\n",
              "  .colab-df-quickchart {\n",
              "    background-color: var(--bg-color);\n",
              "    border: none;\n",
              "    border-radius: 50%;\n",
              "    cursor: pointer;\n",
              "    display: none;\n",
              "    fill: var(--fill-color);\n",
              "    height: 32px;\n",
              "    padding: 0;\n",
              "    width: 32px;\n",
              "  }\n",
              "\n",
              "  .colab-df-quickchart:hover {\n",
              "    background-color: var(--hover-bg-color);\n",
              "    box-shadow: 0 1px 2px rgba(60, 64, 67, 0.3), 0 1px 3px 1px rgba(60, 64, 67, 0.15);\n",
              "    fill: var(--button-hover-fill-color);\n",
              "  }\n",
              "\n",
              "  .colab-df-quickchart-complete:disabled,\n",
              "  .colab-df-quickchart-complete:disabled:hover {\n",
              "    background-color: var(--disabled-bg-color);\n",
              "    fill: var(--disabled-fill-color);\n",
              "    box-shadow: none;\n",
              "  }\n",
              "\n",
              "  .colab-df-spinner {\n",
              "    border: 2px solid var(--fill-color);\n",
              "    border-color: transparent;\n",
              "    border-bottom-color: var(--fill-color);\n",
              "    animation:\n",
              "      spin 1s steps(1) infinite;\n",
              "  }\n",
              "\n",
              "  @keyframes spin {\n",
              "    0% {\n",
              "      border-color: transparent;\n",
              "      border-bottom-color: var(--fill-color);\n",
              "      border-left-color: var(--fill-color);\n",
              "    }\n",
              "    20% {\n",
              "      border-color: transparent;\n",
              "      border-left-color: var(--fill-color);\n",
              "      border-top-color: var(--fill-color);\n",
              "    }\n",
              "    30% {\n",
              "      border-color: transparent;\n",
              "      border-left-color: var(--fill-color);\n",
              "      border-top-color: var(--fill-color);\n",
              "      border-right-color: var(--fill-color);\n",
              "    }\n",
              "    40% {\n",
              "      border-color: transparent;\n",
              "      border-right-color: var(--fill-color);\n",
              "      border-top-color: var(--fill-color);\n",
              "    }\n",
              "    60% {\n",
              "      border-color: transparent;\n",
              "      border-right-color: var(--fill-color);\n",
              "    }\n",
              "    80% {\n",
              "      border-color: transparent;\n",
              "      border-right-color: var(--fill-color);\n",
              "      border-bottom-color: var(--fill-color);\n",
              "    }\n",
              "    90% {\n",
              "      border-color: transparent;\n",
              "      border-bottom-color: var(--fill-color);\n",
              "    }\n",
              "  }\n",
              "</style>\n",
              "\n",
              "  <script>\n",
              "    async function quickchart(key) {\n",
              "      const quickchartButtonEl =\n",
              "        document.querySelector('#' + key + ' button');\n",
              "      quickchartButtonEl.disabled = true;  // To prevent multiple clicks.\n",
              "      quickchartButtonEl.classList.add('colab-df-spinner');\n",
              "      try {\n",
              "        const charts = await google.colab.kernel.invokeFunction(\n",
              "            'suggestCharts', [key], {});\n",
              "      } catch (error) {\n",
              "        console.error('Error during call to suggestCharts:', error);\n",
              "      }\n",
              "      quickchartButtonEl.classList.remove('colab-df-spinner');\n",
              "      quickchartButtonEl.classList.add('colab-df-quickchart-complete');\n",
              "    }\n",
              "    (() => {\n",
              "      let quickchartButtonEl =\n",
              "        document.querySelector('#df-bb974f98-1183-42f7-8950-f0707722848a button');\n",
              "      quickchartButtonEl.style.display =\n",
              "        google.colab.kernel.accessAllowed ? 'block' : 'none';\n",
              "    })();\n",
              "  </script>\n",
              "</div>\n",
              "\n",
              "    </div>\n",
              "  </div>\n"
            ]
          },
          "metadata": {},
          "execution_count": 132
        }
      ]
    },
    {
      "cell_type": "markdown",
      "source": [
        "Смущает уменьшение средней площади при увеличинии кол-ва комнат, после 7 шт. Заполним их медианой для 7 комнат + средняя площадь еще одной комнаты"
      ],
      "metadata": {
        "id": "e4NNZKwiPjha"
      }
    },
    {
      "cell_type": "code",
      "source": [
        "train.loc[(train['BuildingArea'].isna()) & (train['Rooms'] > 7), 'Car'] = (333.5 + (333.5/7))"
      ],
      "metadata": {
        "id": "Q_1acyMiPimF"
      },
      "execution_count": null,
      "outputs": []
    },
    {
      "cell_type": "markdown",
      "source": [
        "Остальные пропуски заполняем медианными значениями по кол-ву комнат"
      ],
      "metadata": {
        "id": "YHjbtSgbQHf2"
      }
    },
    {
      "cell_type": "code",
      "source": [
        "# Вычисляем среднее значение в каждой группе\n",
        "group_means = train.groupby('Rooms')['BuildingArea'].transform('median')\n",
        "train['BuildingArea'] = train['BuildingArea'].fillna(group_means)"
      ],
      "metadata": {
        "id": "vqP4uYh_LS5Q"
      },
      "execution_count": null,
      "outputs": []
    },
    {
      "cell_type": "markdown",
      "source": [
        "Параметр **Landsize** решено пока оставить без заполнения пропусков, так как сложно сказать размер участка по размеру дома. Возможно в дальнейшем следует заполнить эти данные основываясь на средний размер участка в районе"
      ],
      "metadata": {
        "id": "oiI6rYTkQwES"
      }
    },
    {
      "cell_type": "code",
      "source": [
        "train_v2 = train"
      ],
      "metadata": {
        "id": "tA-YvVZRSJ2Z"
      },
      "execution_count": null,
      "outputs": []
    },
    {
      "cell_type": "markdown",
      "source": [
        "Закончим преобразование и сохраним этот датасет отдельно"
      ],
      "metadata": {
        "id": "sVIAPfbwSKRH"
      }
    },
    {
      "cell_type": "code",
      "source": [
        "X = ['Suburb', 'Rooms', 'Type', 'Method', 'SellerG',\n",
        "       'Distance', 'Postcode', 'Bedroom2', 'Bathroom', 'Car',\n",
        "     'Landsize', 'BuildingArea', 'YearBuilt', 'CouncilArea',\n",
        "     'Regionname', 'Propertycount']\n",
        "\n",
        "cat_features = ['Suburb',\n",
        "                #'Rooms',\n",
        "                'Type', 'Method', 'SellerG', 'Postcode',\n",
        "                #'Bedroom2', 'Bathroom', 'Car',\n",
        "                'CouncilArea', 'Regionname',\n",
        "                #'YearBuilt'\n",
        "                ]\n",
        "\n",
        "y = ['Price']"
      ],
      "metadata": {
        "id": "DMHh5PuIRLH7"
      },
      "execution_count": null,
      "outputs": []
    },
    {
      "cell_type": "code",
      "source": [
        "# делаю валидационную выборку для оценки и проверки\n",
        "val, train = train_test_split(train, train_size=0.2, random_state=7374)\n",
        "\n",
        "val[cat_features] = val[cat_features].fillna(0)\n",
        "train[cat_features] = train[cat_features].fillna(0)"
      ],
      "metadata": {
        "id": "Xt1XIgIjRLH8"
      },
      "execution_count": null,
      "outputs": []
    },
    {
      "cell_type": "code",
      "source": [
        "parameters = {'cat_features': cat_features,\n",
        "              'loss_function': 'MAE',\n",
        "              'eval_metric': 'MAPE',\n",
        "              'learning_rate': 0.0777,\n",
        "              'random_seed':7374,\n",
        "              'verbose':100}"
      ],
      "metadata": {
        "id": "IGnogR_ORLH9"
      },
      "execution_count": null,
      "outputs": []
    },
    {
      "cell_type": "code",
      "source": [
        "model = CatBoostRegressor(**parameters)"
      ],
      "metadata": {
        "id": "TStz_YhoRLH9"
      },
      "execution_count": null,
      "outputs": []
    },
    {
      "cell_type": "code",
      "source": [
        "model.fit(train[X],train[y],eval_set=(val[X],val[y]))"
      ],
      "metadata": {
        "colab": {
          "base_uri": "https://localhost:8080/"
        },
        "outputId": "05255147-6e71-4985-fe1c-609e65f85d0d",
        "id": "s7vZlngdRLH-"
      },
      "execution_count": null,
      "outputs": [
        {
          "output_type": "stream",
          "name": "stdout",
          "text": [
            "0:\tlearn: 0.4047476\ttest: 0.3950126\tbest: 0.3950126 (0)\ttotal: 36.4ms\tremaining: 36.3s\n",
            "100:\tlearn: 0.1591384\ttest: 0.1647857\tbest: 0.1647857 (100)\ttotal: 2.61s\tremaining: 23.3s\n",
            "200:\tlearn: 0.1462177\ttest: 0.1553221\tbest: 0.1553221 (200)\ttotal: 5.25s\tremaining: 20.9s\n",
            "300:\tlearn: 0.1397860\ttest: 0.1516449\tbest: 0.1516449 (300)\ttotal: 9.03s\tremaining: 21s\n",
            "400:\tlearn: 0.1351543\ttest: 0.1497425\tbest: 0.1497296 (398)\ttotal: 11.6s\tremaining: 17.3s\n",
            "500:\tlearn: 0.1316412\ttest: 0.1487855\tbest: 0.1487855 (500)\ttotal: 14.2s\tremaining: 14.2s\n",
            "600:\tlearn: 0.1292408\ttest: 0.1484916\tbest: 0.1484863 (599)\ttotal: 16.7s\tremaining: 11.1s\n",
            "700:\tlearn: 0.1270705\ttest: 0.1478723\tbest: 0.1478723 (700)\ttotal: 19.9s\tremaining: 8.48s\n",
            "800:\tlearn: 0.1252471\ttest: 0.1474939\tbest: 0.1474367 (799)\ttotal: 23s\tremaining: 5.7s\n",
            "900:\tlearn: 0.1237643\ttest: 0.1473045\tbest: 0.1472938 (896)\ttotal: 25.5s\tremaining: 2.8s\n",
            "999:\tlearn: 0.1225067\ttest: 0.1473713\tbest: 0.1472859 (918)\ttotal: 28s\tremaining: 0us\n",
            "\n",
            "bestTest = 0.1472858669\n",
            "bestIteration = 918\n",
            "\n",
            "Shrink model to first 919 iterations.\n"
          ]
        },
        {
          "output_type": "execute_result",
          "data": {
            "text/plain": [
              "<catboost.core.CatBoostRegressor at 0x7c6fbcf01de0>"
            ]
          },
          "metadata": {},
          "execution_count": 140
        }
      ]
    },
    {
      "cell_type": "code",
      "source": [
        "val['Price_pred_it3'] = model.predict(val[X])"
      ],
      "metadata": {
        "id": "44R111rURLH-"
      },
      "execution_count": null,
      "outputs": []
    },
    {
      "cell_type": "code",
      "source": [
        "error(val['Price'],val['Price_pred_it3'])"
      ],
      "metadata": {
        "colab": {
          "base_uri": "https://localhost:8080/"
        },
        "id": "3PYzTq4NRlEb",
        "outputId": "12eaaf70-98b5-4cf6-8dd8-6e5939ecd47d"
      },
      "execution_count": null,
      "outputs": [
        {
          "output_type": "stream",
          "name": "stdout",
          "text": [
            "164769.27661711033\n",
            "0.14728586686429415\n"
          ]
        }
      ]
    },
    {
      "cell_type": "markdown",
      "source": [
        "На валидационных данных ошибка МАРЕ выросла"
      ],
      "metadata": {
        "id": "Gs-WkXA3Rs76"
      }
    },
    {
      "cell_type": "markdown",
      "source": [
        "Обучим модель на полной тренеровочной выборке и отправим очередной сабмит на кагл"
      ],
      "metadata": {
        "id": "86FpS-opRytB"
      }
    },
    {
      "cell_type": "code",
      "source": [
        "train = train_v2\n",
        "train[cat_features] = train[cat_features].fillna(0)"
      ],
      "metadata": {
        "id": "vn_u8fX_Rxm0"
      },
      "execution_count": null,
      "outputs": []
    },
    {
      "cell_type": "code",
      "source": [
        "model = CatBoostRegressor(**parameters)"
      ],
      "metadata": {
        "id": "ub2IJvoaSpPA"
      },
      "execution_count": null,
      "outputs": []
    },
    {
      "cell_type": "code",
      "source": [
        "model.fit(train[X],train[y])"
      ],
      "metadata": {
        "colab": {
          "base_uri": "https://localhost:8080/"
        },
        "outputId": "adca3550-43a5-4d68-868e-6abda95ef44a",
        "id": "E-5UDKLNSpPB"
      },
      "execution_count": null,
      "outputs": [
        {
          "output_type": "stream",
          "name": "stdout",
          "text": [
            "0:\tlearn: 0.4027485\ttotal: 31.1ms\tremaining: 31.1s\n",
            "100:\tlearn: 0.1587874\ttotal: 3.18s\tremaining: 28.3s\n",
            "200:\tlearn: 0.1456106\ttotal: 7.02s\tremaining: 27.9s\n",
            "300:\tlearn: 0.1394251\ttotal: 9.85s\tremaining: 22.9s\n",
            "400:\tlearn: 0.1354080\ttotal: 13.2s\tremaining: 19.7s\n",
            "500:\tlearn: 0.1322630\ttotal: 17.3s\tremaining: 17.2s\n",
            "600:\tlearn: 0.1299453\ttotal: 20.1s\tremaining: 13.4s\n",
            "700:\tlearn: 0.1280387\ttotal: 23s\tremaining: 9.8s\n",
            "800:\tlearn: 0.1265741\ttotal: 25.8s\tremaining: 6.4s\n",
            "900:\tlearn: 0.1251828\ttotal: 29.8s\tremaining: 3.27s\n",
            "999:\tlearn: 0.1240622\ttotal: 32.5s\tremaining: 0us\n"
          ]
        },
        {
          "output_type": "execute_result",
          "data": {
            "text/plain": [
              "<catboost.core.CatBoostRegressor at 0x7c6fbd6c3430>"
            ]
          },
          "metadata": {},
          "execution_count": 145
        }
      ]
    },
    {
      "cell_type": "code",
      "source": [
        "test['Price'] = model.predict(test[X])"
      ],
      "metadata": {
        "id": "LJkBKe1pSpPB"
      },
      "execution_count": null,
      "outputs": []
    },
    {
      "cell_type": "code",
      "source": [
        "test[['id', 'Price']].to_csv('it_3.csv', index = False)"
      ],
      "metadata": {
        "id": "_g6fFVWxSpPC"
      },
      "execution_count": null,
      "outputs": []
    },
    {
      "cell_type": "markdown",
      "source": [
        "Score: **15.47294**\n",
        "\n",
        "Скор сильно упал. Есть предположение что это из-за заполнения полей в высоким % изначальных пропусков. Попробую выполнить аналогичную предобработку, но без заполнения \"BuildingArea\""
      ],
      "metadata": {
        "id": "aBkS6btyTqPq"
      }
    },
    {
      "cell_type": "markdown",
      "source": [
        "# Итерация 3.2. Замена пропусков средним (медианой)"
      ],
      "metadata": {
        "id": "hEb2NHS7UfPL"
      }
    },
    {
      "cell_type": "code",
      "source": [
        "train = pd.read_csv('/content/regression/train.csv')\n",
        "train['Postcode'] = train['Postcode'].astype(int)"
      ],
      "metadata": {
        "id": "ilgCnWekUUCH"
      },
      "execution_count": null,
      "outputs": []
    },
    {
      "cell_type": "code",
      "source": [
        "# преобразование YearBuilt\n",
        "train.loc[train['YearBuilt'] <= 1847, 'YearBuilt'] = 1847\n",
        "# преобразование BuildingArea (только экстремумы (предположительно выбросы))\n",
        "train.loc[train['BuildingArea'] >= 15000, 'BuildingArea'] = train['BuildingArea']/100\n",
        "# преобразование Bedroom2\n",
        "train.loc[train['Bedroom2'].isna(), 'Bedroom2'] = train['Rooms']\n",
        "# преобразование Bathroom\n",
        "train.loc[(train['Bathroom'] == 0), 'Bathroom'] = 1\n",
        "train.loc[(train['Bathroom'].isna()) & (train['Rooms'] <= 3), 'Bathroom'] = 1\n",
        "train.loc[(train['Bathroom'].isna()) & (train['Rooms'] == 4), 'Bathroom'] = 2\n",
        "train.loc[(train['Bathroom'].isna()) & (train['Rooms'] == 5), 'Bathroom'] = 2\n",
        "train.loc[(train['Bathroom'].isna()) & ( train['Rooms'] > 5), 'Bathroom'] = 3\n",
        "# преобразование Car\n",
        "train.loc[(train['Car'].isna()) & (train['Rooms'] <= 2), 'Car'] = 1\n",
        "train.loc[(train['Car'].isna()) & (train['Rooms'] == 3), 'Car'] = 2\n",
        "train.loc[(train['Car'].isna()) & (train['Rooms'] == 4), 'Car'] = 2\n",
        "train.loc[(train['Car'].isna()) & (train['Rooms'] == 5), 'Car'] = 2\n",
        "train.loc[(train['Car'].isna()) & (train['Rooms'] >= 6), 'Car'] = 3"
      ],
      "metadata": {
        "id": "p7cVXET5UT9Q"
      },
      "execution_count": null,
      "outputs": []
    },
    {
      "cell_type": "markdown",
      "source": [
        "Обучим модель сразу на всех тренировочных данных и загрузим сабмит на кагл на проверку"
      ],
      "metadata": {
        "id": "C3XcTuWyVSGP"
      }
    },
    {
      "cell_type": "code",
      "source": [
        "train[cat_features] = train[cat_features].fillna(0)"
      ],
      "metadata": {
        "id": "EI0kd-g9VOpl"
      },
      "execution_count": null,
      "outputs": []
    },
    {
      "cell_type": "code",
      "source": [
        "model = CatBoostRegressor(**parameters)"
      ],
      "metadata": {
        "id": "iYaAKpdmVOpn"
      },
      "execution_count": null,
      "outputs": []
    },
    {
      "cell_type": "code",
      "source": [
        "model.fit(train[X],train[y])"
      ],
      "metadata": {
        "colab": {
          "base_uri": "https://localhost:8080/"
        },
        "outputId": "c11f40a0-e731-449e-d93a-8f57ef8f87a8",
        "id": "y11Fu3-PVOpn"
      },
      "execution_count": null,
      "outputs": [
        {
          "output_type": "stream",
          "name": "stdout",
          "text": [
            "0:\tlearn: 0.4027485\ttotal: 39ms\tremaining: 39s\n",
            "100:\tlearn: 0.1604297\ttotal: 2.93s\tremaining: 26.1s\n",
            "200:\tlearn: 0.1470482\ttotal: 5.87s\tremaining: 23.3s\n",
            "300:\tlearn: 0.1402023\ttotal: 9.96s\tremaining: 23.1s\n",
            "400:\tlearn: 0.1363800\ttotal: 12.8s\tremaining: 19.2s\n",
            "500:\tlearn: 0.1332440\ttotal: 15.7s\tremaining: 15.6s\n",
            "600:\tlearn: 0.1308817\ttotal: 18.6s\tremaining: 12.3s\n",
            "700:\tlearn: 0.1289006\ttotal: 22.7s\tremaining: 9.66s\n",
            "800:\tlearn: 0.1271621\ttotal: 25.5s\tremaining: 6.33s\n",
            "900:\tlearn: 0.1259094\ttotal: 28.4s\tremaining: 3.12s\n",
            "999:\tlearn: 0.1245949\ttotal: 31.2s\tremaining: 0us\n"
          ]
        },
        {
          "output_type": "execute_result",
          "data": {
            "text/plain": [
              "<catboost.core.CatBoostRegressor at 0x7c6fcb1e21d0>"
            ]
          },
          "metadata": {},
          "execution_count": 152
        }
      ]
    },
    {
      "cell_type": "code",
      "source": [
        "test['Price'] = model.predict(test[X])"
      ],
      "metadata": {
        "id": "NCZvy6usVOpo"
      },
      "execution_count": null,
      "outputs": []
    },
    {
      "cell_type": "code",
      "source": [
        "test[['id', 'Price']].to_csv('it_3_2.csv', index = False)"
      ],
      "metadata": {
        "id": "SWRP25oqVOpp"
      },
      "execution_count": null,
      "outputs": []
    },
    {
      "cell_type": "markdown",
      "source": [
        "Score: **14.68058**\n",
        "\n",
        "Предположение о том, что заменять просто средним/медианой значения столбцов с большим количеством пропусков подтвердилось. Скор поднялся (хотя на самом деле опустился). Однако улучшить рекордный свой результат не удалось("
      ],
      "metadata": {
        "id": "3fBeIcYoVyQc"
      }
    },
    {
      "cell_type": "markdown",
      "source": [
        "## Итерация 3.2, но с обучением на валидационной выборке"
      ],
      "metadata": {
        "id": "CpEqn5ZNaENw"
      }
    },
    {
      "cell_type": "code",
      "source": [
        "train = pd.read_csv('/content/regression/train.csv')"
      ],
      "metadata": {
        "id": "ExdNHlXvaARv"
      },
      "execution_count": null,
      "outputs": []
    },
    {
      "cell_type": "markdown",
      "source": [
        "Заполним пропуски"
      ],
      "metadata": {
        "id": "VAK3CF-Padwc"
      }
    },
    {
      "cell_type": "code",
      "source": [
        "# преобразование YearBuilt\n",
        "train.loc[train['YearBuilt'] <= 1847, 'YearBuilt'] = 1847\n",
        "# преобразование BuildingArea (только экстремумы (предположительно выбросы))\n",
        "train.loc[train['BuildingArea'] >= 15000, 'BuildingArea'] = train['BuildingArea']/100\n",
        "# преобразование Bedroom2\n",
        "train.loc[train['Bedroom2'].isna(), 'Bedroom2'] = train['Rooms']\n",
        "# преобразование Bathroom\n",
        "train.loc[(train['Bathroom'] == 0), 'Bathroom'] = 1\n",
        "train.loc[(train['Bathroom'].isna()) & (train['Rooms'] <= 3), 'Bathroom'] = 1\n",
        "train.loc[(train['Bathroom'].isna()) & (train['Rooms'] == 4), 'Bathroom'] = 2\n",
        "train.loc[(train['Bathroom'].isna()) & (train['Rooms'] == 5), 'Bathroom'] = 2\n",
        "train.loc[(train['Bathroom'].isna()) & ( train['Rooms'] > 5), 'Bathroom'] = 3\n",
        "# преобразование Car\n",
        "train.loc[(train['Car'].isna()) & (train['Rooms'] <= 2), 'Car'] = 1\n",
        "train.loc[(train['Car'].isna()) & (train['Rooms'] == 3), 'Car'] = 2\n",
        "train.loc[(train['Car'].isna()) & (train['Rooms'] == 4), 'Car'] = 2\n",
        "train.loc[(train['Car'].isna()) & (train['Rooms'] == 5), 'Car'] = 2\n",
        "train.loc[(train['Car'].isna()) & (train['Rooms'] >= 6), 'Car'] = 3"
      ],
      "metadata": {
        "id": "358SpcCvaAML"
      },
      "execution_count": null,
      "outputs": []
    },
    {
      "cell_type": "code",
      "source": [
        "# делаю валидационную выборку для оценки и проверки\n",
        "val, train = train_test_split(train, train_size=0.2, random_state=7374)"
      ],
      "metadata": {
        "id": "Tg50PTTpaAOU"
      },
      "execution_count": null,
      "outputs": []
    },
    {
      "cell_type": "code",
      "source": [
        "\n",
        "train[cat_features] = train[cat_features].fillna(0)\n",
        "val[cat_features] = val[cat_features].fillna(0)\n",
        "test[cat_features] = test[cat_features].fillna(0)\n",
        "\n",
        "train['Postcode'] = train['Postcode'].astype(int)\n",
        "val['Postcode'] = val['Postcode'].astype(int)\n",
        "test['Postcode'] = test['Postcode'].astype(int)\n"
      ],
      "metadata": {
        "id": "BslAIkm7bvTS"
      },
      "execution_count": null,
      "outputs": []
    },
    {
      "cell_type": "code",
      "source": [
        "X = ['Suburb', 'Rooms', 'Type', 'Method', 'SellerG',\n",
        "       'Distance', 'Postcode', 'Bedroom2', 'Bathroom', 'Car',\n",
        "     'Landsize', 'BuildingArea', 'YearBuilt', 'CouncilArea',\n",
        "     'Regionname', 'Propertycount']\n",
        "\n",
        "cat_features = ['Suburb',\n",
        "                'Type', 'Method', 'SellerG', 'Postcode',\n",
        "                'CouncilArea', 'Regionname',\n",
        "                ]\n",
        "\n",
        "y = ['Price']"
      ],
      "metadata": {
        "id": "W7NIQMdNbjbM"
      },
      "execution_count": null,
      "outputs": []
    },
    {
      "cell_type": "code",
      "source": [
        "parameters = {'cat_features': cat_features,\n",
        "              'loss_function': 'MAE',\n",
        "              'eval_metric': 'MAPE',\n",
        "              'learning_rate': 0.067,\n",
        "              'random_seed':7374,\n",
        "              'verbose':100}"
      ],
      "metadata": {
        "id": "xF6S58tBaAJn"
      },
      "execution_count": null,
      "outputs": []
    },
    {
      "cell_type": "code",
      "source": [
        "model = CatBoostRegressor(**parameters)"
      ],
      "metadata": {
        "id": "nt_CvYgJatJZ"
      },
      "execution_count": null,
      "outputs": []
    },
    {
      "cell_type": "code",
      "source": [
        "model.fit(train[X],train[y],eval_set=(val[X],val[y]))"
      ],
      "metadata": {
        "colab": {
          "base_uri": "https://localhost:8080/"
        },
        "outputId": "d50d9d0c-6962-443b-d74f-8d97daf00f76",
        "id": "kGdJDVbMatJa"
      },
      "execution_count": null,
      "outputs": [
        {
          "output_type": "stream",
          "name": "stdout",
          "text": [
            "0:\tlearn: 0.4078875\ttest: 0.3980792\tbest: 0.3980792 (0)\ttotal: 30ms\tremaining: 30s\n",
            "100:\tlearn: 0.1638233\ttest: 0.1674772\tbest: 0.1674772 (100)\ttotal: 2.57s\tremaining: 22.9s\n",
            "200:\tlearn: 0.1489511\ttest: 0.1562900\tbest: 0.1562900 (200)\ttotal: 6.04s\tremaining: 24s\n",
            "300:\tlearn: 0.1419985\ttest: 0.1523249\tbest: 0.1523249 (300)\ttotal: 9s\tremaining: 20.9s\n",
            "400:\tlearn: 0.1374223\ttest: 0.1503690\tbest: 0.1503664 (399)\ttotal: 12.8s\tremaining: 19.1s\n",
            "500:\tlearn: 0.1341653\ttest: 0.1494268\tbest: 0.1493552 (488)\ttotal: 18.1s\tremaining: 18s\n",
            "600:\tlearn: 0.1312817\ttest: 0.1486813\tbest: 0.1486813 (600)\ttotal: 22.1s\tremaining: 14.7s\n",
            "700:\tlearn: 0.1290827\ttest: 0.1482089\tbest: 0.1482089 (700)\ttotal: 24.7s\tremaining: 10.5s\n",
            "800:\tlearn: 0.1271059\ttest: 0.1478762\tbest: 0.1478762 (800)\ttotal: 27.3s\tremaining: 6.78s\n",
            "900:\tlearn: 0.1255146\ttest: 0.1478422\tbest: 0.1478407 (896)\ttotal: 30.1s\tremaining: 3.3s\n",
            "999:\tlearn: 0.1240437\ttest: 0.1476419\tbest: 0.1476414 (998)\ttotal: 33.4s\tremaining: 0us\n",
            "\n",
            "bestTest = 0.1476413805\n",
            "bestIteration = 998\n",
            "\n",
            "Shrink model to first 999 iterations.\n"
          ]
        },
        {
          "output_type": "execute_result",
          "data": {
            "text/plain": [
              "<catboost.core.CatBoostRegressor at 0x7c6fcb1e1a20>"
            ]
          },
          "metadata": {},
          "execution_count": 199
        }
      ]
    },
    {
      "cell_type": "code",
      "source": [
        "bestTest = 0.1468530056\n",
        "bestIteration = 997"
      ],
      "metadata": {
        "id": "Ybl8I0aShSpy"
      },
      "execution_count": null,
      "outputs": []
    },
    {
      "cell_type": "code",
      "source": [],
      "metadata": {
        "id": "UClEX8FBhUhW"
      },
      "execution_count": null,
      "outputs": []
    },
    {
      "cell_type": "code",
      "source": [
        "test['Price'] = model.predict(test[X])"
      ],
      "metadata": {
        "id": "R2VGGN80aAHO"
      },
      "execution_count": null,
      "outputs": []
    },
    {
      "cell_type": "code",
      "source": [
        "test[['id', 'Price']].to_csv('it_3_2_val.csv', index = False)"
      ],
      "metadata": {
        "id": "SKkFhe4xau85"
      },
      "execution_count": null,
      "outputs": []
    },
    {
      "cell_type": "markdown",
      "source": [
        "Score: **15.1647**\n"
      ],
      "metadata": {
        "id": "xoGogGNScym6"
      }
    },
    {
      "cell_type": "code",
      "source": [],
      "metadata": {
        "id": "ZBP-9G2lau5Y"
      },
      "execution_count": null,
      "outputs": []
    },
    {
      "cell_type": "markdown",
      "source": [
        "## Итерация 3.2, но с обучением на валидационной выборке и заполнением пропусков в тестовых данных"
      ],
      "metadata": {
        "id": "G5_LFwKjdMBs"
      }
    },
    {
      "cell_type": "code",
      "source": [
        "train = pd.read_csv('/content/regression/train.csv')\n",
        "test = pd.read_csv('/content/regression/test.csv')"
      ],
      "metadata": {
        "id": "HFqaPRYadMBt"
      },
      "execution_count": null,
      "outputs": []
    },
    {
      "cell_type": "markdown",
      "source": [
        "Заполним пропуски"
      ],
      "metadata": {
        "id": "BbwxZp9YdMBu"
      }
    },
    {
      "cell_type": "code",
      "source": [
        "# преобразование YearBuilt\n",
        "train.loc[train['YearBuilt'] <= 1847, 'YearBuilt'] = 1847\n",
        "# преобразование BuildingArea (только экстремумы (предположительно выбросы))\n",
        "train.loc[train['BuildingArea'] >= 15000, 'BuildingArea'] = train['BuildingArea']/100\n",
        "# преобразование Bedroom2\n",
        "train.loc[train['Bedroom2'].isna(), 'Bedroom2'] = train['Rooms']\n",
        "# преобразование Bathroom\n",
        "train.loc[(train['Bathroom'] == 0), 'Bathroom'] = 1\n",
        "train.loc[(train['Bathroom'].isna()) & (train['Rooms'] <= 3), 'Bathroom'] = 1\n",
        "train.loc[(train['Bathroom'].isna()) & (train['Rooms'] == 4), 'Bathroom'] = 2\n",
        "train.loc[(train['Bathroom'].isna()) & (train['Rooms'] == 5), 'Bathroom'] = 2\n",
        "train.loc[(train['Bathroom'].isna()) & ( train['Rooms'] > 5), 'Bathroom'] = 3\n",
        "# преобразование Car\n",
        "train.loc[(train['Car'].isna()) & (train['Rooms'] <= 2), 'Car'] = 1\n",
        "train.loc[(train['Car'].isna()) & (train['Rooms'] == 3), 'Car'] = 2\n",
        "train.loc[(train['Car'].isna()) & (train['Rooms'] == 4), 'Car'] = 2\n",
        "train.loc[(train['Car'].isna()) & (train['Rooms'] == 5), 'Car'] = 2\n",
        "train.loc[(train['Car'].isna()) & (train['Rooms'] >= 6), 'Car'] = 3\n",
        "\n",
        "\n",
        "# преобразование YearBuilt\n",
        "test.loc[test['YearBuilt'] <= 1847, 'YearBuilt'] = 1847\n",
        "# преобразование BuildingArea (только экстремумы (предположительно выбросы))\n",
        "test.loc[test['BuildingArea'] >= 15000, 'BuildingArea'] = test['BuildingArea']/100\n",
        "# преобразование Bedroom2\n",
        "test.loc[test['Bedroom2'].isna(), 'Bedroom2'] = test['Rooms']\n",
        "# преобразование Bathroom\n",
        "test.loc[(test['Bathroom'] == 0), 'Bathroom'] = 1\n",
        "test.loc[(test['Bathroom'].isna()) & (test['Rooms'] <= 3), 'Bathroom'] = 1\n",
        "test.loc[(test['Bathroom'].isna()) & (test['Rooms'] == 4), 'Bathroom'] = 2\n",
        "test.loc[(test['Bathroom'].isna()) & (test['Rooms'] == 5), 'Bathroom'] = 2\n",
        "test.loc[(test['Bathroom'].isna()) & (test['Rooms'] > 5), 'Bathroom'] = 3\n",
        "# преобразование Car\n",
        "test.loc[(test['Car'].isna()) & (test['Rooms'] <= 2), 'Car'] = 1\n",
        "test.loc[(test['Car'].isna()) & (test['Rooms'] == 3), 'Car'] = 2\n",
        "test.loc[(test['Car'].isna()) & (test['Rooms'] == 4), 'Car'] = 2\n",
        "test.loc[(test['Car'].isna()) & (test['Rooms'] == 5), 'Car'] = 2\n",
        "test.loc[(test['Car'].isna()) & (test['Rooms'] >= 6), 'Car'] = 3"
      ],
      "metadata": {
        "id": "igPzAjbQdMBu"
      },
      "execution_count": null,
      "outputs": []
    },
    {
      "cell_type": "code",
      "source": [
        "# делаю валидационную выборку для оценки и проверки\n",
        "val, train = train_test_split(train, train_size=0.2, random_state=7374)"
      ],
      "metadata": {
        "id": "W_ShhwHcdMBv"
      },
      "execution_count": null,
      "outputs": []
    },
    {
      "cell_type": "code",
      "source": [
        "train[cat_features] = train[cat_features].fillna(0)\n",
        "val[cat_features] = val[cat_features].fillna(0)\n",
        "test[cat_features] = test[cat_features].fillna(0)\n",
        "\n",
        "train['Postcode'] = train['Postcode'].astype(int)\n",
        "val['Postcode'] = val['Postcode'].astype(int)\n",
        "test['Postcode'] = test['Postcode'].astype(int)"
      ],
      "metadata": {
        "id": "461t2QNEdMBv"
      },
      "execution_count": null,
      "outputs": []
    },
    {
      "cell_type": "code",
      "source": [
        "X = ['Suburb', 'Rooms', 'Type', 'Method', 'SellerG',\n",
        "       'Distance', 'Postcode', 'Bedroom2', 'Bathroom', 'Car',\n",
        "     'Landsize', 'BuildingArea', 'YearBuilt', 'CouncilArea',\n",
        "     'Regionname', 'Propertycount']\n",
        "\n",
        "cat_features = ['Suburb',\n",
        "                'Type', 'Method', 'SellerG', 'Postcode',\n",
        "                'CouncilArea', 'Regionname']\n",
        "\n",
        "y = ['Price']"
      ],
      "metadata": {
        "id": "ushY55AkdMBw"
      },
      "execution_count": null,
      "outputs": []
    },
    {
      "cell_type": "code",
      "source": [
        "parameters = {'cat_features': cat_features,\n",
        "              'loss_function': 'MAE',\n",
        "              'eval_metric': 'MAPE',\n",
        "              'learning_rate': 0.1,\n",
        "              'random_seed':7374,\n",
        "              'verbose':100}"
      ],
      "metadata": {
        "id": "QtR0pTHPdMBw"
      },
      "execution_count": null,
      "outputs": []
    },
    {
      "cell_type": "code",
      "source": [
        "model = CatBoostRegressor(**parameters)"
      ],
      "metadata": {
        "id": "WWjjF5zedMBw"
      },
      "execution_count": null,
      "outputs": []
    },
    {
      "cell_type": "code",
      "source": [
        "model.fit(train[X],train[y],eval_set=(val[X],val[y]))"
      ],
      "metadata": {
        "colab": {
          "base_uri": "https://localhost:8080/"
        },
        "outputId": "a67aef23-c62b-4c41-926e-285aff239c3b",
        "id": "JO0B3v-hdMBw"
      },
      "execution_count": null,
      "outputs": [
        {
          "output_type": "stream",
          "name": "stdout",
          "text": [
            "0:\tlearn: 0.3982608\ttest: 0.3886893\tbest: 0.3886893 (0)\ttotal: 30.4ms\tremaining: 30.3s\n",
            "100:\tlearn: 0.1553890\ttest: 0.1596939\tbest: 0.1596939 (100)\ttotal: 2.71s\tremaining: 24.1s\n",
            "200:\tlearn: 0.1425792\ttest: 0.1516398\tbest: 0.1516398 (200)\ttotal: 5.44s\tremaining: 21.6s\n",
            "300:\tlearn: 0.1356545\ttest: 0.1494736\tbest: 0.1494736 (300)\ttotal: 9.22s\tremaining: 21.4s\n",
            "400:\tlearn: 0.1315008\ttest: 0.1489254\tbest: 0.1488466 (332)\ttotal: 11.9s\tremaining: 17.7s\n",
            "500:\tlearn: 0.1281773\ttest: 0.1483195\tbest: 0.1482956 (488)\ttotal: 14.4s\tremaining: 14.4s\n",
            "600:\tlearn: 0.1258185\ttest: 0.1485115\tbest: 0.1482651 (541)\ttotal: 17s\tremaining: 11.3s\n",
            "700:\tlearn: 0.1235674\ttest: 0.1481595\tbest: 0.1481329 (663)\ttotal: 20.2s\tremaining: 8.63s\n",
            "800:\tlearn: 0.1217132\ttest: 0.1480574\tbest: 0.1480380 (798)\ttotal: 23.4s\tremaining: 5.81s\n",
            "900:\tlearn: 0.1200769\ttest: 0.1480751\tbest: 0.1480380 (798)\ttotal: 25.9s\tremaining: 2.85s\n",
            "999:\tlearn: 0.1188241\ttest: 0.1478501\tbest: 0.1478285 (987)\ttotal: 28.4s\tremaining: 0us\n",
            "\n",
            "bestTest = 0.1478285287\n",
            "bestIteration = 987\n",
            "\n",
            "Shrink model to first 988 iterations.\n"
          ]
        },
        {
          "output_type": "execute_result",
          "data": {
            "text/plain": [
              "<catboost.core.CatBoostRegressor at 0x7c6fbe628e20>"
            ]
          },
          "metadata": {},
          "execution_count": 282
        }
      ]
    },
    {
      "cell_type": "code",
      "source": [
        "test['Price'] = model.predict(test[X])"
      ],
      "metadata": {
        "id": "VmiDfabUdMBw"
      },
      "execution_count": null,
      "outputs": []
    },
    {
      "cell_type": "code",
      "source": [
        "test[['id', 'Price']].to_csv('it_3_2_val_t.csv', index = False)"
      ],
      "metadata": {
        "id": "4wrj8RvRdMBx"
      },
      "execution_count": null,
      "outputs": []
    },
    {
      "cell_type": "code",
      "source": [],
      "metadata": {
        "id": "knxLAWG0jNAw"
      },
      "execution_count": null,
      "outputs": []
    },
    {
      "cell_type": "markdown",
      "source": [
        "# Итерация 4, Заполнение пропусков, но только для тестовых данных"
      ],
      "metadata": {
        "id": "5V0X6rnejNJa"
      }
    },
    {
      "cell_type": "code",
      "source": [
        "train = pd.read_csv('/content/regression/train.csv')\n",
        "test = pd.read_csv('/content/regression/test.csv')"
      ],
      "metadata": {
        "id": "5xFPYvRnjNJb"
      },
      "execution_count": null,
      "outputs": []
    },
    {
      "cell_type": "markdown",
      "source": [
        "Заполним пропуски"
      ],
      "metadata": {
        "id": "21ErL2jgjNJb"
      }
    },
    {
      "cell_type": "code",
      "source": [
        "# преобразование YearBuilt\n",
        "test.loc[test['YearBuilt'] <= 1847, 'YearBuilt'] = 1847\n",
        "# преобразование BuildingArea (только экстремумы (предположительно выбросы))\n",
        "test.loc[test['BuildingArea'] >= 15000, 'BuildingArea'] = test['BuildingArea']/100\n",
        "# преобразование Bedroom2\n",
        "test.loc[test['Bedroom2'].isna(), 'Bedroom2'] = test['Rooms']\n",
        "# преобразование Bathroom\n",
        "test.loc[(test['Bathroom'] == 0), 'Bathroom'] = 1\n",
        "test.loc[(test['Bathroom'].isna()) & (test['Rooms'] <= 3), 'Bathroom'] = 1\n",
        "test.loc[(test['Bathroom'].isna()) & (test['Rooms'] == 4), 'Bathroom'] = 2\n",
        "test.loc[(test['Bathroom'].isna()) & (test['Rooms'] == 5), 'Bathroom'] = 2\n",
        "test.loc[(test['Bathroom'].isna()) & (test['Rooms'] > 5), 'Bathroom'] = 3\n",
        "# преобразование Car\n",
        "test.loc[(test['Car'].isna()) & (test['Rooms'] <= 2), 'Car'] = 1\n",
        "test.loc[(test['Car'].isna()) & (test['Rooms'] == 3), 'Car'] = 2\n",
        "test.loc[(test['Car'].isna()) & (test['Rooms'] == 4), 'Car'] = 2\n",
        "test.loc[(test['Car'].isna()) & (test['Rooms'] == 5), 'Car'] = 2\n",
        "test.loc[(test['Car'].isna()) & (test['Rooms'] >= 6), 'Car'] = 3"
      ],
      "metadata": {
        "id": "6a4N0RqijNJc"
      },
      "execution_count": null,
      "outputs": []
    },
    {
      "cell_type": "code",
      "source": [
        "# делаю валидационную выборку для оценки и проверки\n",
        "val, train = train_test_split(train, train_size=0.2, random_state=7374)"
      ],
      "metadata": {
        "id": "xEl6FO6DjNJc"
      },
      "execution_count": null,
      "outputs": []
    },
    {
      "cell_type": "code",
      "source": [
        "train[cat_features] = train[cat_features].fillna(0)\n",
        "val[cat_features] = val[cat_features].fillna(0)\n",
        "test[cat_features] = test[cat_features].fillna(0)\n",
        "\n",
        "train['Postcode'] = train['Postcode'].astype(int)\n",
        "val['Postcode'] = val['Postcode'].astype(int)\n",
        "test['Postcode'] = test['Postcode'].astype(int)"
      ],
      "metadata": {
        "id": "w7LiK7PujNJc"
      },
      "execution_count": null,
      "outputs": []
    },
    {
      "cell_type": "code",
      "source": [
        "X = ['Suburb', 'Rooms', 'Type', 'Method', 'SellerG',\n",
        "       'Distance', 'Postcode', 'Bedroom2', 'Bathroom', 'Car',\n",
        "     'Landsize', 'BuildingArea', 'YearBuilt', 'CouncilArea',\n",
        "     'Regionname', 'Propertycount']\n",
        "\n",
        "cat_features = ['Suburb',\n",
        "                'Type', 'Method', 'SellerG', 'Postcode',\n",
        "                'CouncilArea', 'Regionname']\n",
        "\n",
        "y = ['Price']"
      ],
      "metadata": {
        "id": "jT3AyB4ijNJd"
      },
      "execution_count": null,
      "outputs": []
    },
    {
      "cell_type": "markdown",
      "source": [
        "В параметрах поменял `learning_rate`"
      ],
      "metadata": {
        "id": "6xl-aYoukWJm"
      }
    },
    {
      "cell_type": "code",
      "source": [
        "parameters = {'cat_features': cat_features,\n",
        "              'loss_function': 'MAE',\n",
        "              'eval_metric': 'MAPE',\n",
        "              'learning_rate': 0.08939,\n",
        "              'random_seed':7374,\n",
        "              'verbose':100}"
      ],
      "metadata": {
        "id": "wFkzvhiOjNJe"
      },
      "execution_count": null,
      "outputs": []
    },
    {
      "cell_type": "code",
      "source": [
        "model = CatBoostRegressor(**parameters)"
      ],
      "metadata": {
        "id": "lpUUOoEjjNJe"
      },
      "execution_count": null,
      "outputs": []
    },
    {
      "cell_type": "code",
      "source": [
        "model.fit(train[X],train[y],eval_set=(val[X],val[y]))"
      ],
      "metadata": {
        "colab": {
          "base_uri": "https://localhost:8080/"
        },
        "outputId": "10d340c9-80e7-44c0-fae8-59d4404dfeb1",
        "id": "1EdVpH-TjNJe"
      },
      "execution_count": null,
      "outputs": [
        {
          "output_type": "stream",
          "name": "stdout",
          "text": [
            "0:\tlearn: 0.4023928\ttest: 0.3925921\tbest: 0.3925921 (0)\ttotal: 31ms\tremaining: 31s\n",
            "100:\tlearn: 0.1601943\ttest: 0.1638098\tbest: 0.1638098 (100)\ttotal: 2.62s\tremaining: 23.3s\n",
            "200:\tlearn: 0.1453654\ttest: 0.1540451\tbest: 0.1540451 (200)\ttotal: 5.33s\tremaining: 21.2s\n",
            "300:\tlearn: 0.1384983\ttest: 0.1511478\tbest: 0.1511478 (300)\ttotal: 9.85s\tremaining: 22.9s\n",
            "400:\tlearn: 0.1339027\ttest: 0.1493672\tbest: 0.1493672 (400)\ttotal: 12.4s\tremaining: 18.6s\n",
            "500:\tlearn: 0.1303034\ttest: 0.1482925\tbest: 0.1482693 (497)\ttotal: 15s\tremaining: 15s\n",
            "600:\tlearn: 0.1276092\ttest: 0.1478754\tbest: 0.1478754 (600)\ttotal: 17.6s\tremaining: 11.7s\n",
            "700:\tlearn: 0.1253584\ttest: 0.1473950\tbest: 0.1473677 (680)\ttotal: 21.4s\tremaining: 9.12s\n",
            "800:\tlearn: 0.1233564\ttest: 0.1472665\tbest: 0.1472296 (789)\ttotal: 23.9s\tremaining: 5.94s\n",
            "900:\tlearn: 0.1217550\ttest: 0.1470168\tbest: 0.1469322 (887)\ttotal: 26.5s\tremaining: 2.91s\n",
            "999:\tlearn: 0.1204665\ttest: 0.1468850\tbest: 0.1468850 (999)\ttotal: 29s\tremaining: 0us\n",
            "\n",
            "bestTest = 0.1468849943\n",
            "bestIteration = 999\n",
            "\n"
          ]
        },
        {
          "output_type": "execute_result",
          "data": {
            "text/plain": [
              "<catboost.core.CatBoostRegressor at 0x7c6fcb1e0ca0>"
            ]
          },
          "metadata": {},
          "execution_count": 320
        }
      ]
    },
    {
      "cell_type": "code",
      "source": [
        "test['Price'] = model.predict(test[X])"
      ],
      "metadata": {
        "id": "TasWykTbjNJf"
      },
      "execution_count": null,
      "outputs": []
    },
    {
      "cell_type": "code",
      "source": [
        "test[['id', 'Price']].to_csv('it_4.csv', index = False)"
      ],
      "metadata": {
        "id": "VBwS4tSyjNJf"
      },
      "execution_count": null,
      "outputs": []
    },
    {
      "cell_type": "markdown",
      "source": [
        "Score: **14.0587**\n",
        "\n",
        "Опытным путем дошел до того, что ручное заполнение пропусков имеет смысл только в тестовых данных"
      ],
      "metadata": {
        "id": "B9hjw0upjvM_"
      }
    },
    {
      "cell_type": "markdown",
      "source": [
        "Обучим на всех данных и изменим параметры модели (learning_rate)"
      ],
      "metadata": {
        "id": "OmLIXKrxn1Mt"
      }
    },
    {
      "cell_type": "code",
      "source": [
        "train = pd.read_csv('/content/regression/train.csv')\n",
        "test = pd.read_csv('/content/regression/test.csv')"
      ],
      "metadata": {
        "id": "Ue2vYJyukNIv"
      },
      "execution_count": null,
      "outputs": []
    },
    {
      "cell_type": "markdown",
      "source": [
        "Заполним пропуски"
      ],
      "metadata": {
        "id": "eQTGqpqOkNI7"
      }
    },
    {
      "cell_type": "code",
      "source": [
        "# преобразование YearBuilt\n",
        "train.loc[train['YearBuilt'] <= 1847, 'YearBuilt'] = 1847\n",
        "# преобразование BuildingArea (только экстремумы (предположительно выбросы))\n",
        "train.loc[train['BuildingArea'] >= 15000, 'BuildingArea'] = test['BuildingArea']/100\n",
        "\n",
        "# преобразование YearBuilt\n",
        "test.loc[test['YearBuilt'] <= 1847, 'YearBuilt'] = 1847\n",
        "# преобразование BuildingArea (только экстремумы (предположительно выбросы))\n",
        "test.loc[test['BuildingArea'] >= 15000, 'BuildingArea'] = test['BuildingArea']/100\n",
        "# преобразование Bedroom2\n",
        "test.loc[test['Bedroom2'].isna(), 'Bedroom2'] = test['Rooms']\n",
        "# преобразование Bathroom\n",
        "test.loc[(test['Bathroom'] == 0), 'Bathroom'] = 1\n",
        "test.loc[(test['Bathroom'].isna()) & (test['Rooms'] <= 3), 'Bathroom'] = 1\n",
        "test.loc[(test['Bathroom'].isna()) & (test['Rooms'] == 4), 'Bathroom'] = 2\n",
        "test.loc[(test['Bathroom'].isna()) & (test['Rooms'] == 5), 'Bathroom'] = 2\n",
        "test.loc[(test['Bathroom'].isna()) & (test['Rooms'] > 5), 'Bathroom'] = 3\n",
        "# преобразование Car\n",
        "test.loc[(test['Car'].isna()) & (test['Rooms'] <= 2), 'Car'] = 1\n",
        "test.loc[(test['Car'].isna()) & (test['Rooms'] == 3), 'Car'] = 2\n",
        "test.loc[(test['Car'].isna()) & (test['Rooms'] == 4), 'Car'] = 2\n",
        "test.loc[(test['Car'].isna()) & (test['Rooms'] == 5), 'Car'] = 2\n",
        "test.loc[(test['Car'].isna()) & (test['Rooms'] >= 6), 'Car'] = 3"
      ],
      "metadata": {
        "id": "lLJpjI9kkNI8"
      },
      "execution_count": null,
      "outputs": []
    },
    {
      "cell_type": "code",
      "source": [
        "train[cat_features] = train[cat_features].fillna(0)\n",
        "test[cat_features] = test[cat_features].fillna(0)\n",
        "\n",
        "train['Postcode'] = train['Postcode'].astype(int)\n",
        "test['Postcode'] = test['Postcode'].astype(int)"
      ],
      "metadata": {
        "id": "Wajtp8PpkNI8"
      },
      "execution_count": null,
      "outputs": []
    },
    {
      "cell_type": "code",
      "source": [
        "X = ['Suburb', 'Rooms', 'Type', 'Method', 'SellerG',\n",
        "       'Distance', 'Postcode', 'Bedroom2', 'Bathroom', 'Car',\n",
        "     'Landsize', 'BuildingArea', 'YearBuilt', 'CouncilArea',\n",
        "     'Regionname', 'Propertycount']\n",
        "\n",
        "cat_features = ['Suburb',\n",
        "                'Type', 'Method', 'SellerG', 'Postcode',\n",
        "                'CouncilArea', 'Regionname']\n",
        "\n",
        "y = ['Price']"
      ],
      "metadata": {
        "id": "fjkbKK1-kNI8"
      },
      "execution_count": null,
      "outputs": []
    },
    {
      "cell_type": "code",
      "source": [
        "parameters = {'cat_features': cat_features,\n",
        "              'loss_function': 'MAE',\n",
        "              'eval_metric': 'MAPE',\n",
        "              'learning_rate': 0.08939,\n",
        "              'random_seed':7374,\n",
        "              'verbose':100}"
      ],
      "metadata": {
        "id": "L1Bew7QwkNI9"
      },
      "execution_count": null,
      "outputs": []
    },
    {
      "cell_type": "code",
      "source": [
        "model = CatBoostRegressor(**parameters)"
      ],
      "metadata": {
        "id": "riEI95XakNI9"
      },
      "execution_count": null,
      "outputs": []
    },
    {
      "cell_type": "code",
      "source": [
        "model.fit(train[X],train[y])"
      ],
      "metadata": {
        "colab": {
          "base_uri": "https://localhost:8080/"
        },
        "outputId": "28c1e54e-6b6e-4c3d-fed8-a3182b380193",
        "id": "iq-Sg7ZOkNI9"
      },
      "execution_count": null,
      "outputs": [
        {
          "output_type": "stream",
          "name": "stdout",
          "text": [
            "0:\tlearn: 0.3998107\ttotal: 31.6ms\tremaining: 31.6s\n",
            "100:\tlearn: 0.1589111\ttotal: 2.94s\tremaining: 26.2s\n",
            "200:\tlearn: 0.1447970\ttotal: 5.99s\tremaining: 23.8s\n",
            "300:\tlearn: 0.1386747\ttotal: 9.04s\tremaining: 21s\n",
            "400:\tlearn: 0.1348992\ttotal: 13.2s\tremaining: 19.7s\n",
            "500:\tlearn: 0.1315498\ttotal: 16.1s\tremaining: 16.1s\n",
            "600:\tlearn: 0.1290342\ttotal: 19.2s\tremaining: 12.7s\n",
            "700:\tlearn: 0.1271070\ttotal: 22.8s\tremaining: 9.72s\n",
            "800:\tlearn: 0.1254277\ttotal: 26.1s\tremaining: 6.49s\n",
            "900:\tlearn: 0.1242756\ttotal: 29s\tremaining: 3.18s\n",
            "999:\tlearn: 0.1230460\ttotal: 31.8s\tremaining: 0us\n"
          ]
        },
        {
          "output_type": "execute_result",
          "data": {
            "text/plain": [
              "<catboost.core.CatBoostRegressor at 0x7c6fcb1e0ee0>"
            ]
          },
          "metadata": {},
          "execution_count": 301
        }
      ]
    },
    {
      "cell_type": "code",
      "source": [
        "model.get_feature_importance(prettified=True)"
      ],
      "metadata": {
        "colab": {
          "base_uri": "https://localhost:8080/",
          "height": 550
        },
        "id": "9IKJYooisS9T",
        "outputId": "eac2af92-ddf4-481c-f6fd-deae36e93bb5"
      },
      "execution_count": null,
      "outputs": [
        {
          "output_type": "execute_result",
          "data": {
            "text/plain": [
              "       Feature Id  Importances\n",
              "0           Rooms    14.725140\n",
              "1        Distance    14.354019\n",
              "2            Type    13.180037\n",
              "3     CouncilArea    10.125342\n",
              "4        Landsize     7.678623\n",
              "5        Postcode     6.737118\n",
              "6    BuildingArea     6.634642\n",
              "7      Regionname     6.134588\n",
              "8        Bathroom     5.342557\n",
              "9         SellerG     4.403690\n",
              "10      YearBuilt     2.550799\n",
              "11  Propertycount     2.535451\n",
              "12         Suburb     1.772534\n",
              "13         Method     1.549070\n",
              "14            Car     1.212056\n",
              "15       Bedroom2     1.064334"
            ],
            "text/html": [
              "\n",
              "  <div id=\"df-ac04b962-1fc5-4f81-a14a-dc5016322ebc\" class=\"colab-df-container\">\n",
              "    <div>\n",
              "<style scoped>\n",
              "    .dataframe tbody tr th:only-of-type {\n",
              "        vertical-align: middle;\n",
              "    }\n",
              "\n",
              "    .dataframe tbody tr th {\n",
              "        vertical-align: top;\n",
              "    }\n",
              "\n",
              "    .dataframe thead th {\n",
              "        text-align: right;\n",
              "    }\n",
              "</style>\n",
              "<table border=\"1\" class=\"dataframe\">\n",
              "  <thead>\n",
              "    <tr style=\"text-align: right;\">\n",
              "      <th></th>\n",
              "      <th>Feature Id</th>\n",
              "      <th>Importances</th>\n",
              "    </tr>\n",
              "  </thead>\n",
              "  <tbody>\n",
              "    <tr>\n",
              "      <th>0</th>\n",
              "      <td>Rooms</td>\n",
              "      <td>14.725140</td>\n",
              "    </tr>\n",
              "    <tr>\n",
              "      <th>1</th>\n",
              "      <td>Distance</td>\n",
              "      <td>14.354019</td>\n",
              "    </tr>\n",
              "    <tr>\n",
              "      <th>2</th>\n",
              "      <td>Type</td>\n",
              "      <td>13.180037</td>\n",
              "    </tr>\n",
              "    <tr>\n",
              "      <th>3</th>\n",
              "      <td>CouncilArea</td>\n",
              "      <td>10.125342</td>\n",
              "    </tr>\n",
              "    <tr>\n",
              "      <th>4</th>\n",
              "      <td>Landsize</td>\n",
              "      <td>7.678623</td>\n",
              "    </tr>\n",
              "    <tr>\n",
              "      <th>5</th>\n",
              "      <td>Postcode</td>\n",
              "      <td>6.737118</td>\n",
              "    </tr>\n",
              "    <tr>\n",
              "      <th>6</th>\n",
              "      <td>BuildingArea</td>\n",
              "      <td>6.634642</td>\n",
              "    </tr>\n",
              "    <tr>\n",
              "      <th>7</th>\n",
              "      <td>Regionname</td>\n",
              "      <td>6.134588</td>\n",
              "    </tr>\n",
              "    <tr>\n",
              "      <th>8</th>\n",
              "      <td>Bathroom</td>\n",
              "      <td>5.342557</td>\n",
              "    </tr>\n",
              "    <tr>\n",
              "      <th>9</th>\n",
              "      <td>SellerG</td>\n",
              "      <td>4.403690</td>\n",
              "    </tr>\n",
              "    <tr>\n",
              "      <th>10</th>\n",
              "      <td>YearBuilt</td>\n",
              "      <td>2.550799</td>\n",
              "    </tr>\n",
              "    <tr>\n",
              "      <th>11</th>\n",
              "      <td>Propertycount</td>\n",
              "      <td>2.535451</td>\n",
              "    </tr>\n",
              "    <tr>\n",
              "      <th>12</th>\n",
              "      <td>Suburb</td>\n",
              "      <td>1.772534</td>\n",
              "    </tr>\n",
              "    <tr>\n",
              "      <th>13</th>\n",
              "      <td>Method</td>\n",
              "      <td>1.549070</td>\n",
              "    </tr>\n",
              "    <tr>\n",
              "      <th>14</th>\n",
              "      <td>Car</td>\n",
              "      <td>1.212056</td>\n",
              "    </tr>\n",
              "    <tr>\n",
              "      <th>15</th>\n",
              "      <td>Bedroom2</td>\n",
              "      <td>1.064334</td>\n",
              "    </tr>\n",
              "  </tbody>\n",
              "</table>\n",
              "</div>\n",
              "    <div class=\"colab-df-buttons\">\n",
              "\n",
              "  <div class=\"colab-df-container\">\n",
              "    <button class=\"colab-df-convert\" onclick=\"convertToInteractive('df-ac04b962-1fc5-4f81-a14a-dc5016322ebc')\"\n",
              "            title=\"Convert this dataframe to an interactive table.\"\n",
              "            style=\"display:none;\">\n",
              "\n",
              "  <svg xmlns=\"http://www.w3.org/2000/svg\" height=\"24px\" viewBox=\"0 -960 960 960\">\n",
              "    <path d=\"M120-120v-720h720v720H120Zm60-500h600v-160H180v160Zm220 220h160v-160H400v160Zm0 220h160v-160H400v160ZM180-400h160v-160H180v160Zm440 0h160v-160H620v160ZM180-180h160v-160H180v160Zm440 0h160v-160H620v160Z\"/>\n",
              "  </svg>\n",
              "    </button>\n",
              "\n",
              "  <style>\n",
              "    .colab-df-container {\n",
              "      display:flex;\n",
              "      gap: 12px;\n",
              "    }\n",
              "\n",
              "    .colab-df-convert {\n",
              "      background-color: #E8F0FE;\n",
              "      border: none;\n",
              "      border-radius: 50%;\n",
              "      cursor: pointer;\n",
              "      display: none;\n",
              "      fill: #1967D2;\n",
              "      height: 32px;\n",
              "      padding: 0 0 0 0;\n",
              "      width: 32px;\n",
              "    }\n",
              "\n",
              "    .colab-df-convert:hover {\n",
              "      background-color: #E2EBFA;\n",
              "      box-shadow: 0px 1px 2px rgba(60, 64, 67, 0.3), 0px 1px 3px 1px rgba(60, 64, 67, 0.15);\n",
              "      fill: #174EA6;\n",
              "    }\n",
              "\n",
              "    .colab-df-buttons div {\n",
              "      margin-bottom: 4px;\n",
              "    }\n",
              "\n",
              "    [theme=dark] .colab-df-convert {\n",
              "      background-color: #3B4455;\n",
              "      fill: #D2E3FC;\n",
              "    }\n",
              "\n",
              "    [theme=dark] .colab-df-convert:hover {\n",
              "      background-color: #434B5C;\n",
              "      box-shadow: 0px 1px 3px 1px rgba(0, 0, 0, 0.15);\n",
              "      filter: drop-shadow(0px 1px 2px rgba(0, 0, 0, 0.3));\n",
              "      fill: #FFFFFF;\n",
              "    }\n",
              "  </style>\n",
              "\n",
              "    <script>\n",
              "      const buttonEl =\n",
              "        document.querySelector('#df-ac04b962-1fc5-4f81-a14a-dc5016322ebc button.colab-df-convert');\n",
              "      buttonEl.style.display =\n",
              "        google.colab.kernel.accessAllowed ? 'block' : 'none';\n",
              "\n",
              "      async function convertToInteractive(key) {\n",
              "        const element = document.querySelector('#df-ac04b962-1fc5-4f81-a14a-dc5016322ebc');\n",
              "        const dataTable =\n",
              "          await google.colab.kernel.invokeFunction('convertToInteractive',\n",
              "                                                    [key], {});\n",
              "        if (!dataTable) return;\n",
              "\n",
              "        const docLinkHtml = 'Like what you see? Visit the ' +\n",
              "          '<a target=\"_blank\" href=https://colab.research.google.com/notebooks/data_table.ipynb>data table notebook</a>'\n",
              "          + ' to learn more about interactive tables.';\n",
              "        element.innerHTML = '';\n",
              "        dataTable['output_type'] = 'display_data';\n",
              "        await google.colab.output.renderOutput(dataTable, element);\n",
              "        const docLink = document.createElement('div');\n",
              "        docLink.innerHTML = docLinkHtml;\n",
              "        element.appendChild(docLink);\n",
              "      }\n",
              "    </script>\n",
              "  </div>\n",
              "\n",
              "\n",
              "<div id=\"df-3566ab5a-3263-4dd0-92b3-ae06b8a16f18\">\n",
              "  <button class=\"colab-df-quickchart\" onclick=\"quickchart('df-3566ab5a-3263-4dd0-92b3-ae06b8a16f18')\"\n",
              "            title=\"Suggest charts\"\n",
              "            style=\"display:none;\">\n",
              "\n",
              "<svg xmlns=\"http://www.w3.org/2000/svg\" height=\"24px\"viewBox=\"0 0 24 24\"\n",
              "     width=\"24px\">\n",
              "    <g>\n",
              "        <path d=\"M19 3H5c-1.1 0-2 .9-2 2v14c0 1.1.9 2 2 2h14c1.1 0 2-.9 2-2V5c0-1.1-.9-2-2-2zM9 17H7v-7h2v7zm4 0h-2V7h2v10zm4 0h-2v-4h2v4z\"/>\n",
              "    </g>\n",
              "</svg>\n",
              "  </button>\n",
              "\n",
              "<style>\n",
              "  .colab-df-quickchart {\n",
              "      --bg-color: #E8F0FE;\n",
              "      --fill-color: #1967D2;\n",
              "      --hover-bg-color: #E2EBFA;\n",
              "      --hover-fill-color: #174EA6;\n",
              "      --disabled-fill-color: #AAA;\n",
              "      --disabled-bg-color: #DDD;\n",
              "  }\n",
              "\n",
              "  [theme=dark] .colab-df-quickchart {\n",
              "      --bg-color: #3B4455;\n",
              "      --fill-color: #D2E3FC;\n",
              "      --hover-bg-color: #434B5C;\n",
              "      --hover-fill-color: #FFFFFF;\n",
              "      --disabled-bg-color: #3B4455;\n",
              "      --disabled-fill-color: #666;\n",
              "  }\n",
              "\n",
              "  .colab-df-quickchart {\n",
              "    background-color: var(--bg-color);\n",
              "    border: none;\n",
              "    border-radius: 50%;\n",
              "    cursor: pointer;\n",
              "    display: none;\n",
              "    fill: var(--fill-color);\n",
              "    height: 32px;\n",
              "    padding: 0;\n",
              "    width: 32px;\n",
              "  }\n",
              "\n",
              "  .colab-df-quickchart:hover {\n",
              "    background-color: var(--hover-bg-color);\n",
              "    box-shadow: 0 1px 2px rgba(60, 64, 67, 0.3), 0 1px 3px 1px rgba(60, 64, 67, 0.15);\n",
              "    fill: var(--button-hover-fill-color);\n",
              "  }\n",
              "\n",
              "  .colab-df-quickchart-complete:disabled,\n",
              "  .colab-df-quickchart-complete:disabled:hover {\n",
              "    background-color: var(--disabled-bg-color);\n",
              "    fill: var(--disabled-fill-color);\n",
              "    box-shadow: none;\n",
              "  }\n",
              "\n",
              "  .colab-df-spinner {\n",
              "    border: 2px solid var(--fill-color);\n",
              "    border-color: transparent;\n",
              "    border-bottom-color: var(--fill-color);\n",
              "    animation:\n",
              "      spin 1s steps(1) infinite;\n",
              "  }\n",
              "\n",
              "  @keyframes spin {\n",
              "    0% {\n",
              "      border-color: transparent;\n",
              "      border-bottom-color: var(--fill-color);\n",
              "      border-left-color: var(--fill-color);\n",
              "    }\n",
              "    20% {\n",
              "      border-color: transparent;\n",
              "      border-left-color: var(--fill-color);\n",
              "      border-top-color: var(--fill-color);\n",
              "    }\n",
              "    30% {\n",
              "      border-color: transparent;\n",
              "      border-left-color: var(--fill-color);\n",
              "      border-top-color: var(--fill-color);\n",
              "      border-right-color: var(--fill-color);\n",
              "    }\n",
              "    40% {\n",
              "      border-color: transparent;\n",
              "      border-right-color: var(--fill-color);\n",
              "      border-top-color: var(--fill-color);\n",
              "    }\n",
              "    60% {\n",
              "      border-color: transparent;\n",
              "      border-right-color: var(--fill-color);\n",
              "    }\n",
              "    80% {\n",
              "      border-color: transparent;\n",
              "      border-right-color: var(--fill-color);\n",
              "      border-bottom-color: var(--fill-color);\n",
              "    }\n",
              "    90% {\n",
              "      border-color: transparent;\n",
              "      border-bottom-color: var(--fill-color);\n",
              "    }\n",
              "  }\n",
              "</style>\n",
              "\n",
              "  <script>\n",
              "    async function quickchart(key) {\n",
              "      const quickchartButtonEl =\n",
              "        document.querySelector('#' + key + ' button');\n",
              "      quickchartButtonEl.disabled = true;  // To prevent multiple clicks.\n",
              "      quickchartButtonEl.classList.add('colab-df-spinner');\n",
              "      try {\n",
              "        const charts = await google.colab.kernel.invokeFunction(\n",
              "            'suggestCharts', [key], {});\n",
              "      } catch (error) {\n",
              "        console.error('Error during call to suggestCharts:', error);\n",
              "      }\n",
              "      quickchartButtonEl.classList.remove('colab-df-spinner');\n",
              "      quickchartButtonEl.classList.add('colab-df-quickchart-complete');\n",
              "    }\n",
              "    (() => {\n",
              "      let quickchartButtonEl =\n",
              "        document.querySelector('#df-3566ab5a-3263-4dd0-92b3-ae06b8a16f18 button');\n",
              "      quickchartButtonEl.style.display =\n",
              "        google.colab.kernel.accessAllowed ? 'block' : 'none';\n",
              "    })();\n",
              "  </script>\n",
              "</div>\n",
              "\n",
              "    </div>\n",
              "  </div>\n"
            ]
          },
          "metadata": {},
          "execution_count": 307
        }
      ]
    },
    {
      "cell_type": "code",
      "source": [
        "test['Price'] = model.predict(test[X])"
      ],
      "metadata": {
        "id": "4qkNl6hFkNI9"
      },
      "execution_count": null,
      "outputs": []
    },
    {
      "cell_type": "code",
      "source": [
        "test[['id', 'Price']].to_csv('it_4_2.csv', index = False)"
      ],
      "metadata": {
        "id": "DZUESqITkNI9"
      },
      "execution_count": null,
      "outputs": []
    },
    {
      "cell_type": "markdown",
      "source": [
        "Score: **13.80384**\n"
      ],
      "metadata": {
        "id": "BusEff8_736Y"
      }
    },
    {
      "cell_type": "markdown",
      "source": [
        "# Итерация 5. Заполнение пропусков в категориальных переменных `CouncilArea`, `Regionname`,`Postcode`."
      ],
      "metadata": {
        "id": "-kwzasZV7TUx"
      }
    },
    {
      "cell_type": "code",
      "source": [
        "train = pd.read_csv('/content/regression/train.csv')\n",
        "test = pd.read_csv('/content/regression/test.csv')"
      ],
      "metadata": {
        "id": "oF0r4fSU7rE4"
      },
      "execution_count": null,
      "outputs": []
    },
    {
      "cell_type": "code",
      "source": [
        "sns.histplot(train['YearBuilt'], kde=True)\n",
        "plt.title('Histogram for YearBuilt')"
      ],
      "metadata": {
        "colab": {
          "base_uri": "https://localhost:8080/",
          "height": 359
        },
        "id": "ItIP5DUI77Sx",
        "outputId": "d862b999-65df-4602-be0b-00f9bc5d26ab"
      },
      "execution_count": null,
      "outputs": [
        {
          "output_type": "execute_result",
          "data": {
            "text/plain": [
              "Text(0.5, 1.0, 'Histogram for YearBuilt')"
            ]
          },
          "metadata": {},
          "execution_count": 137
        },
        {
          "output_type": "display_data",
          "data": {
            "text/plain": [
              "<Figure size 400x300 with 1 Axes>"
            ],
            "image/png": "[encoded data removed]"
          },
          "metadata": {}
        }
      ]
    },
    {
      "cell_type": "code",
      "source": [
        "sns.histplot(test['YearBuilt'], kde=True)\n",
        "plt.title('Histogram for YearBuilt')"
      ],
      "metadata": {
        "colab": {
          "base_uri": "https://localhost:8080/",
          "height": 359
        },
        "id": "IXYP7tk27903",
        "outputId": "3cf5f582-0457-42f8-d474-abffa6494cbb"
      },
      "execution_count": null,
      "outputs": [
        {
          "output_type": "execute_result",
          "data": {
            "text/plain": [
              "Text(0.5, 1.0, 'Histogram for YearBuilt')"
            ]
          },
          "metadata": {},
          "execution_count": 138
        },
        {
          "output_type": "display_data",
          "data": {
            "text/plain": [
              "<Figure size 400x300 with 1 Axes>"
            ],
            "image/png": "[encoded data removed]"
          },
          "metadata": {}
        }
      ]
    },
    {
      "cell_type": "code",
      "source": [
        "# преобразование YearBuilt, там с большой долей вероятности есть выбросы\n",
        "test.loc[test['YearBuilt'] <= 1847, 'YearBuilt'] = 1847"
      ],
      "metadata": {
        "id": "mrIZBBoo723p"
      },
      "execution_count": null,
      "outputs": []
    },
    {
      "cell_type": "code",
      "source": [
        "test.isna().mean()"
      ],
      "metadata": {
        "colab": {
          "base_uri": "https://localhost:8080/"
        },
        "id": "b9xFastZ8Kmc",
        "outputId": "0cd3065c-9ca9-4ca1-920c-b096f6d1a69d"
      },
      "execution_count": null,
      "outputs": [
        {
          "output_type": "execute_result",
          "data": {
            "text/plain": [
              "Suburb           0.000000\n",
              "Address          0.000000\n",
              "Rooms            0.000000\n",
              "Type             0.000000\n",
              "Method           0.000000\n",
              "SellerG          0.000000\n",
              "Date             0.000000\n",
              "Distance         0.000113\n",
              "Postcode         0.000113\n",
              "Bedroom2         0.335677\n",
              "Bathroom         0.336131\n",
              "Car              0.366977\n",
              "Landsize         0.504990\n",
              "BuildingArea     0.673169\n",
              "YearBuilt        0.647086\n",
              "CouncilArea      0.000227\n",
              "Lattitude        0.330007\n",
              "Longtitude       0.330007\n",
              "Regionname       0.000227\n",
              "Propertycount    0.000227\n",
              "id               0.000000\n",
              "dtype: float64"
            ]
          },
          "metadata": {},
          "execution_count": 140
        }
      ]
    },
    {
      "cell_type": "code",
      "source": [
        "test[test['Regionname'].isna()]"
      ],
      "metadata": {
        "colab": {
          "base_uri": "https://localhost:8080/",
          "height": 213
        },
        "id": "DkyKKl_n89pa",
        "outputId": "52c41a4d-b8f2-482b-bf0a-ecbf54fa0eef"
      },
      "execution_count": null,
      "outputs": [
        {
          "output_type": "execute_result",
          "data": {
            "text/plain": [
              "           Suburb          Address  Rooms Type Method SellerG        Date  \\\n",
              "2634   Camberwell  2/3 Kingsley St      2    h     VB  Jellis  11/11/2017   \n",
              "4628  Fawkner Lot     1/3 Brian St      3    h     SP    Brad   6/01/2018   \n",
              "\n",
              "      Distance  Postcode  Bedroom2  ...  Car  Landsize  BuildingArea  \\\n",
              "2634       7.7    3124.0       NaN  ...  NaN       NaN           NaN   \n",
              "4628       NaN       NaN       NaN  ...  NaN       NaN           NaN   \n",
              "\n",
              "      YearBuilt  CouncilArea Lattitude  Longtitude  Regionname Propertycount  \\\n",
              "2634        NaN          NaN       NaN         NaN         NaN           NaN   \n",
              "4628        NaN          NaN       NaN         NaN         NaN           NaN   \n",
              "\n",
              "         id  \n",
              "2634  15921  \n",
              "4628  33262  \n",
              "\n",
              "[2 rows x 21 columns]"
            ],
            "text/html": [
              "\n",
              "  <div id=\"df-a2acd607-bba6-404d-af77-4dd58d61d9fb\" class=\"colab-df-container\">\n",
              "    <div>\n",
              "<style scoped>\n",
              "    .dataframe tbody tr th:only-of-type {\n",
              "        vertical-align: middle;\n",
              "    }\n",
              "\n",
              "    .dataframe tbody tr th {\n",
              "        vertical-align: top;\n",
              "    }\n",
              "\n",
              "    .dataframe thead th {\n",
              "        text-align: right;\n",
              "    }\n",
              "</style>\n",
              "<table border=\"1\" class=\"dataframe\">\n",
              "  <thead>\n",
              "    <tr style=\"text-align: right;\">\n",
              "      <th></th>\n",
              "      <th>Suburb</th>\n",
              "      <th>Address</th>\n",
              "      <th>Rooms</th>\n",
              "      <th>Type</th>\n",
              "      <th>Method</th>\n",
              "      <th>SellerG</th>\n",
              "      <th>Date</th>\n",
              "      <th>Distance</th>\n",
              "      <th>Postcode</th>\n",
              "      <th>Bedroom2</th>\n",
              "      <th>...</th>\n",
              "      <th>Car</th>\n",
              "      <th>Landsize</th>\n",
              "      <th>BuildingArea</th>\n",
              "      <th>YearBuilt</th>\n",
              "      <th>CouncilArea</th>\n",
              "      <th>Lattitude</th>\n",
              "      <th>Longtitude</th>\n",
              "      <th>Regionname</th>\n",
              "      <th>Propertycount</th>\n",
              "      <th>id</th>\n",
              "    </tr>\n",
              "  </thead>\n",
              "  <tbody>\n",
              "    <tr>\n",
              "      <th>2634</th>\n",
              "      <td>Camberwell</td>\n",
              "      <td>2/3 Kingsley St</td>\n",
              "      <td>2</td>\n",
              "      <td>h</td>\n",
              "      <td>VB</td>\n",
              "      <td>Jellis</td>\n",
              "      <td>11/11/2017</td>\n",
              "      <td>7.7</td>\n",
              "      <td>3124.0</td>\n",
              "      <td>NaN</td>\n",
              "      <td>...</td>\n",
              "      <td>NaN</td>\n",
              "      <td>NaN</td>\n",
              "      <td>NaN</td>\n",
              "      <td>NaN</td>\n",
              "      <td>NaN</td>\n",
              "      <td>NaN</td>\n",
              "      <td>NaN</td>\n",
              "      <td>NaN</td>\n",
              "      <td>NaN</td>\n",
              "      <td>15921</td>\n",
              "    </tr>\n",
              "    <tr>\n",
              "      <th>4628</th>\n",
              "      <td>Fawkner Lot</td>\n",
              "      <td>1/3 Brian St</td>\n",
              "      <td>3</td>\n",
              "      <td>h</td>\n",
              "      <td>SP</td>\n",
              "      <td>Brad</td>\n",
              "      <td>6/01/2018</td>\n",
              "      <td>NaN</td>\n",
              "      <td>NaN</td>\n",
              "      <td>NaN</td>\n",
              "      <td>...</td>\n",
              "      <td>NaN</td>\n",
              "      <td>NaN</td>\n",
              "      <td>NaN</td>\n",
              "      <td>NaN</td>\n",
              "      <td>NaN</td>\n",
              "      <td>NaN</td>\n",
              "      <td>NaN</td>\n",
              "      <td>NaN</td>\n",
              "      <td>NaN</td>\n",
              "      <td>33262</td>\n",
              "    </tr>\n",
              "  </tbody>\n",
              "</table>\n",
              "<p>2 rows × 21 columns</p>\n",
              "</div>\n",
              "    <div class=\"colab-df-buttons\">\n",
              "\n",
              "  <div class=\"colab-df-container\">\n",
              "    <button class=\"colab-df-convert\" onclick=\"convertToInteractive('df-a2acd607-bba6-404d-af77-4dd58d61d9fb')\"\n",
              "            title=\"Convert this dataframe to an interactive table.\"\n",
              "            style=\"display:none;\">\n",
              "\n",
              "  <svg xmlns=\"http://www.w3.org/2000/svg\" height=\"24px\" viewBox=\"0 -960 960 960\">\n",
              "    <path d=\"M120-120v-720h720v720H120Zm60-500h600v-160H180v160Zm220 220h160v-160H400v160Zm0 220h160v-160H400v160ZM180-400h160v-160H180v160Zm440 0h160v-160H620v160ZM180-180h160v-160H180v160Zm440 0h160v-160H620v160Z\"/>\n",
              "  </svg>\n",
              "    </button>\n",
              "\n",
              "  <style>\n",
              "    .colab-df-container {\n",
              "      display:flex;\n",
              "      gap: 12px;\n",
              "    }\n",
              "\n",
              "    .colab-df-convert {\n",
              "      background-color: #E8F0FE;\n",
              "      border: none;\n",
              "      border-radius: 50%;\n",
              "      cursor: pointer;\n",
              "      display: none;\n",
              "      fill: #1967D2;\n",
              "      height: 32px;\n",
              "      padding: 0 0 0 0;\n",
              "      width: 32px;\n",
              "    }\n",
              "\n",
              "    .colab-df-convert:hover {\n",
              "      background-color: #E2EBFA;\n",
              "      box-shadow: 0px 1px 2px rgba(60, 64, 67, 0.3), 0px 1px 3px 1px rgba(60, 64, 67, 0.15);\n",
              "      fill: #174EA6;\n",
              "    }\n",
              "\n",
              "    .colab-df-buttons div {\n",
              "      margin-bottom: 4px;\n",
              "    }\n",
              "\n",
              "    [theme=dark] .colab-df-convert {\n",
              "      background-color: #3B4455;\n",
              "      fill: #D2E3FC;\n",
              "    }\n",
              "\n",
              "    [theme=dark] .colab-df-convert:hover {\n",
              "      background-color: #434B5C;\n",
              "      box-shadow: 0px 1px 3px 1px rgba(0, 0, 0, 0.15);\n",
              "      filter: drop-shadow(0px 1px 2px rgba(0, 0, 0, 0.3));\n",
              "      fill: #FFFFFF;\n",
              "    }\n",
              "  </style>\n",
              "\n",
              "    <script>\n",
              "      const buttonEl =\n",
              "        document.querySelector('#df-a2acd607-bba6-404d-af77-4dd58d61d9fb button.colab-df-convert');\n",
              "      buttonEl.style.display =\n",
              "        google.colab.kernel.accessAllowed ? 'block' : 'none';\n",
              "\n",
              "      async function convertToInteractive(key) {\n",
              "        const element = document.querySelector('#df-a2acd607-bba6-404d-af77-4dd58d61d9fb');\n",
              "        const dataTable =\n",
              "          await google.colab.kernel.invokeFunction('convertToInteractive',\n",
              "                                                    [key], {});\n",
              "        if (!dataTable) return;\n",
              "\n",
              "        const docLinkHtml = 'Like what you see? Visit the ' +\n",
              "          '<a target=\"_blank\" href=https://colab.research.google.com/notebooks/data_table.ipynb>data table notebook</a>'\n",
              "          + ' to learn more about interactive tables.';\n",
              "        element.innerHTML = '';\n",
              "        dataTable['output_type'] = 'display_data';\n",
              "        await google.colab.output.renderOutput(dataTable, element);\n",
              "        const docLink = document.createElement('div');\n",
              "        docLink.innerHTML = docLinkHtml;\n",
              "        element.appendChild(docLink);\n",
              "      }\n",
              "    </script>\n",
              "  </div>\n",
              "\n",
              "\n",
              "<div id=\"df-213334cb-7aa6-41d4-8a15-c00b1830ef2f\">\n",
              "  <button class=\"colab-df-quickchart\" onclick=\"quickchart('df-213334cb-7aa6-41d4-8a15-c00b1830ef2f')\"\n",
              "            title=\"Suggest charts\"\n",
              "            style=\"display:none;\">\n",
              "\n",
              "<svg xmlns=\"http://www.w3.org/2000/svg\" height=\"24px\"viewBox=\"0 0 24 24\"\n",
              "     width=\"24px\">\n",
              "    <g>\n",
              "        <path d=\"M19 3H5c-1.1 0-2 .9-2 2v14c0 1.1.9 2 2 2h14c1.1 0 2-.9 2-2V5c0-1.1-.9-2-2-2zM9 17H7v-7h2v7zm4 0h-2V7h2v10zm4 0h-2v-4h2v4z\"/>\n",
              "    </g>\n",
              "</svg>\n",
              "  </button>\n",
              "\n",
              "<style>\n",
              "  .colab-df-quickchart {\n",
              "      --bg-color: #E8F0FE;\n",
              "      --fill-color: #1967D2;\n",
              "      --hover-bg-color: #E2EBFA;\n",
              "      --hover-fill-color: #174EA6;\n",
              "      --disabled-fill-color: #AAA;\n",
              "      --disabled-bg-color: #DDD;\n",
              "  }\n",
              "\n",
              "  [theme=dark] .colab-df-quickchart {\n",
              "      --bg-color: #3B4455;\n",
              "      --fill-color: #D2E3FC;\n",
              "      --hover-bg-color: #434B5C;\n",
              "      --hover-fill-color: #FFFFFF;\n",
              "      --disabled-bg-color: #3B4455;\n",
              "      --disabled-fill-color: #666;\n",
              "  }\n",
              "\n",
              "  .colab-df-quickchart {\n",
              "    background-color: var(--bg-color);\n",
              "    border: none;\n",
              "    border-radius: 50%;\n",
              "    cursor: pointer;\n",
              "    display: none;\n",
              "    fill: var(--fill-color);\n",
              "    height: 32px;\n",
              "    padding: 0;\n",
              "    width: 32px;\n",
              "  }\n",
              "\n",
              "  .colab-df-quickchart:hover {\n",
              "    background-color: var(--hover-bg-color);\n",
              "    box-shadow: 0 1px 2px rgba(60, 64, 67, 0.3), 0 1px 3px 1px rgba(60, 64, 67, 0.15);\n",
              "    fill: var(--button-hover-fill-color);\n",
              "  }\n",
              "\n",
              "  .colab-df-quickchart-complete:disabled,\n",
              "  .colab-df-quickchart-complete:disabled:hover {\n",
              "    background-color: var(--disabled-bg-color);\n",
              "    fill: var(--disabled-fill-color);\n",
              "    box-shadow: none;\n",
              "  }\n",
              "\n",
              "  .colab-df-spinner {\n",
              "    border: 2px solid var(--fill-color);\n",
              "    border-color: transparent;\n",
              "    border-bottom-color: var(--fill-color);\n",
              "    animation:\n",
              "      spin 1s steps(1) infinite;\n",
              "  }\n",
              "\n",
              "  @keyframes spin {\n",
              "    0% {\n",
              "      border-color: transparent;\n",
              "      border-bottom-color: var(--fill-color);\n",
              "      border-left-color: var(--fill-color);\n",
              "    }\n",
              "    20% {\n",
              "      border-color: transparent;\n",
              "      border-left-color: var(--fill-color);\n",
              "      border-top-color: var(--fill-color);\n",
              "    }\n",
              "    30% {\n",
              "      border-color: transparent;\n",
              "      border-left-color: var(--fill-color);\n",
              "      border-top-color: var(--fill-color);\n",
              "      border-right-color: var(--fill-color);\n",
              "    }\n",
              "    40% {\n",
              "      border-color: transparent;\n",
              "      border-right-color: var(--fill-color);\n",
              "      border-top-color: var(--fill-color);\n",
              "    }\n",
              "    60% {\n",
              "      border-color: transparent;\n",
              "      border-right-color: var(--fill-color);\n",
              "    }\n",
              "    80% {\n",
              "      border-color: transparent;\n",
              "      border-right-color: var(--fill-color);\n",
              "      border-bottom-color: var(--fill-color);\n",
              "    }\n",
              "    90% {\n",
              "      border-color: transparent;\n",
              "      border-bottom-color: var(--fill-color);\n",
              "    }\n",
              "  }\n",
              "</style>\n",
              "\n",
              "  <script>\n",
              "    async function quickchart(key) {\n",
              "      const quickchartButtonEl =\n",
              "        document.querySelector('#' + key + ' button');\n",
              "      quickchartButtonEl.disabled = true;  // To prevent multiple clicks.\n",
              "      quickchartButtonEl.classList.add('colab-df-spinner');\n",
              "      try {\n",
              "        const charts = await google.colab.kernel.invokeFunction(\n",
              "            'suggestCharts', [key], {});\n",
              "      } catch (error) {\n",
              "        console.error('Error during call to suggestCharts:', error);\n",
              "      }\n",
              "      quickchartButtonEl.classList.remove('colab-df-spinner');\n",
              "      quickchartButtonEl.classList.add('colab-df-quickchart-complete');\n",
              "    }\n",
              "    (() => {\n",
              "      let quickchartButtonEl =\n",
              "        document.querySelector('#df-213334cb-7aa6-41d4-8a15-c00b1830ef2f button');\n",
              "      quickchartButtonEl.style.display =\n",
              "        google.colab.kernel.accessAllowed ? 'block' : 'none';\n",
              "    })();\n",
              "  </script>\n",
              "</div>\n",
              "\n",
              "    </div>\n",
              "  </div>\n"
            ]
          },
          "metadata": {},
          "execution_count": 141
        }
      ]
    },
    {
      "cell_type": "markdown",
      "source": [
        "Вычислим заполнения для строки с id = 2634. По имеющемуся `Postcode` заполним `CouncilArea, Regionname, Propertycount`"
      ],
      "metadata": {
        "id": "Kh6CinpR_EPv"
      }
    },
    {
      "cell_type": "code",
      "source": [
        "print(\n",
        "    test['CouncilArea'][test['Postcode'] == 3124].mode()[0],\n",
        "    test['Regionname'][test['Postcode'] == 3124].mode()[0],\n",
        "    test['Propertycount'][test['Postcode'] == 3124].mode()[0]\n",
        "    )"
      ],
      "metadata": {
        "colab": {
          "base_uri": "https://localhost:8080/"
        },
        "id": "EcAgRKbV-nYf",
        "outputId": "f719dfce-cf21-45cb-e3d2-61078f07ff27"
      },
      "execution_count": null,
      "outputs": [
        {
          "output_type": "stream",
          "name": "stdout",
          "text": [
            "Boroondara City Council Southern Metropolitan 8920.0\n"
          ]
        }
      ]
    },
    {
      "cell_type": "code",
      "source": [
        "# Заполняем значения ячеек по индексу строки\n",
        "test.loc[2634, 'CouncilArea'] = 'Boroondara City Council'\n",
        "test.loc[2634, 'Regionname'] = 'Southern Metropolitan'\n",
        "test.loc[2634, 'Propertycount'] = 8920"
      ],
      "metadata": {
        "id": "Q7_85UIX_x3K"
      },
      "execution_count": null,
      "outputs": []
    },
    {
      "cell_type": "markdown",
      "source": [
        "Аналогично заполнис пропуски в отдельной строке в train"
      ],
      "metadata": {
        "id": "wp-FJBN-BeQT"
      }
    },
    {
      "cell_type": "code",
      "source": [
        "train[train['Regionname'].isna()]"
      ],
      "metadata": {
        "colab": {
          "base_uri": "https://localhost:8080/",
          "height": 165
        },
        "id": "KBCBi98HALge",
        "outputId": "519131ae-1071-4f9b-b9ea-8b3e6986077a"
      },
      "execution_count": null,
      "outputs": [
        {
          "output_type": "execute_result",
          "data": {
            "text/plain": [
              "          Suburb           Address  Rooms Type     Price Method SellerG  \\\n",
              "14406  Footscray  2/16 Stafford St      2    u  710000.0      S     Jas   \n",
              "\n",
              "             Date  Distance  Postcode  ...  Car  Landsize  BuildingArea  \\\n",
              "14406  15/07/2017       5.1    3011.0  ...  NaN       NaN           NaN   \n",
              "\n",
              "       YearBuilt  CouncilArea  Lattitude Longtitude  Regionname  \\\n",
              "14406        NaN          NaN        NaN        NaN         NaN   \n",
              "\n",
              "       Propertycount     id  \n",
              "14406            NaN  21235  \n",
              "\n",
              "[1 rows x 22 columns]"
            ],
            "text/html": [
              "\n",
              "  <div id=\"df-f930ff64-b3af-45c3-9ea7-dbd8cd5df9aa\" class=\"colab-df-container\">\n",
              "    <div>\n",
              "<style scoped>\n",
              "    .dataframe tbody tr th:only-of-type {\n",
              "        vertical-align: middle;\n",
              "    }\n",
              "\n",
              "    .dataframe tbody tr th {\n",
              "        vertical-align: top;\n",
              "    }\n",
              "\n",
              "    .dataframe thead th {\n",
              "        text-align: right;\n",
              "    }\n",
              "</style>\n",
              "<table border=\"1\" class=\"dataframe\">\n",
              "  <thead>\n",
              "    <tr style=\"text-align: right;\">\n",
              "      <th></th>\n",
              "      <th>Suburb</th>\n",
              "      <th>Address</th>\n",
              "      <th>Rooms</th>\n",
              "      <th>Type</th>\n",
              "      <th>Price</th>\n",
              "      <th>Method</th>\n",
              "      <th>SellerG</th>\n",
              "      <th>Date</th>\n",
              "      <th>Distance</th>\n",
              "      <th>Postcode</th>\n",
              "      <th>...</th>\n",
              "      <th>Car</th>\n",
              "      <th>Landsize</th>\n",
              "      <th>BuildingArea</th>\n",
              "      <th>YearBuilt</th>\n",
              "      <th>CouncilArea</th>\n",
              "      <th>Lattitude</th>\n",
              "      <th>Longtitude</th>\n",
              "      <th>Regionname</th>\n",
              "      <th>Propertycount</th>\n",
              "      <th>id</th>\n",
              "    </tr>\n",
              "  </thead>\n",
              "  <tbody>\n",
              "    <tr>\n",
              "      <th>14406</th>\n",
              "      <td>Footscray</td>\n",
              "      <td>2/16 Stafford St</td>\n",
              "      <td>2</td>\n",
              "      <td>u</td>\n",
              "      <td>710000.0</td>\n",
              "      <td>S</td>\n",
              "      <td>Jas</td>\n",
              "      <td>15/07/2017</td>\n",
              "      <td>5.1</td>\n",
              "      <td>3011.0</td>\n",
              "      <td>...</td>\n",
              "      <td>NaN</td>\n",
              "      <td>NaN</td>\n",
              "      <td>NaN</td>\n",
              "      <td>NaN</td>\n",
              "      <td>NaN</td>\n",
              "      <td>NaN</td>\n",
              "      <td>NaN</td>\n",
              "      <td>NaN</td>\n",
              "      <td>NaN</td>\n",
              "      <td>21235</td>\n",
              "    </tr>\n",
              "  </tbody>\n",
              "</table>\n",
              "<p>1 rows × 22 columns</p>\n",
              "</div>\n",
              "    <div class=\"colab-df-buttons\">\n",
              "\n",
              "  <div class=\"colab-df-container\">\n",
              "    <button class=\"colab-df-convert\" onclick=\"convertToInteractive('df-f930ff64-b3af-45c3-9ea7-dbd8cd5df9aa')\"\n",
              "            title=\"Convert this dataframe to an interactive table.\"\n",
              "            style=\"display:none;\">\n",
              "\n",
              "  <svg xmlns=\"http://www.w3.org/2000/svg\" height=\"24px\" viewBox=\"0 -960 960 960\">\n",
              "    <path d=\"M120-120v-720h720v720H120Zm60-500h600v-160H180v160Zm220 220h160v-160H400v160Zm0 220h160v-160H400v160ZM180-400h160v-160H180v160Zm440 0h160v-160H620v160ZM180-180h160v-160H180v160Zm440 0h160v-160H620v160Z\"/>\n",
              "  </svg>\n",
              "    </button>\n",
              "\n",
              "  <style>\n",
              "    .colab-df-container {\n",
              "      display:flex;\n",
              "      gap: 12px;\n",
              "    }\n",
              "\n",
              "    .colab-df-convert {\n",
              "      background-color: #E8F0FE;\n",
              "      border: none;\n",
              "      border-radius: 50%;\n",
              "      cursor: pointer;\n",
              "      display: none;\n",
              "      fill: #1967D2;\n",
              "      height: 32px;\n",
              "      padding: 0 0 0 0;\n",
              "      width: 32px;\n",
              "    }\n",
              "\n",
              "    .colab-df-convert:hover {\n",
              "      background-color: #E2EBFA;\n",
              "      box-shadow: 0px 1px 2px rgba(60, 64, 67, 0.3), 0px 1px 3px 1px rgba(60, 64, 67, 0.15);\n",
              "      fill: #174EA6;\n",
              "    }\n",
              "\n",
              "    .colab-df-buttons div {\n",
              "      margin-bottom: 4px;\n",
              "    }\n",
              "\n",
              "    [theme=dark] .colab-df-convert {\n",
              "      background-color: #3B4455;\n",
              "      fill: #D2E3FC;\n",
              "    }\n",
              "\n",
              "    [theme=dark] .colab-df-convert:hover {\n",
              "      background-color: #434B5C;\n",
              "      box-shadow: 0px 1px 3px 1px rgba(0, 0, 0, 0.15);\n",
              "      filter: drop-shadow(0px 1px 2px rgba(0, 0, 0, 0.3));\n",
              "      fill: #FFFFFF;\n",
              "    }\n",
              "  </style>\n",
              "\n",
              "    <script>\n",
              "      const buttonEl =\n",
              "        document.querySelector('#df-f930ff64-b3af-45c3-9ea7-dbd8cd5df9aa button.colab-df-convert');\n",
              "      buttonEl.style.display =\n",
              "        google.colab.kernel.accessAllowed ? 'block' : 'none';\n",
              "\n",
              "      async function convertToInteractive(key) {\n",
              "        const element = document.querySelector('#df-f930ff64-b3af-45c3-9ea7-dbd8cd5df9aa');\n",
              "        const dataTable =\n",
              "          await google.colab.kernel.invokeFunction('convertToInteractive',\n",
              "                                                    [key], {});\n",
              "        if (!dataTable) return;\n",
              "\n",
              "        const docLinkHtml = 'Like what you see? Visit the ' +\n",
              "          '<a target=\"_blank\" href=https://colab.research.google.com/notebooks/data_table.ipynb>data table notebook</a>'\n",
              "          + ' to learn more about interactive tables.';\n",
              "        element.innerHTML = '';\n",
              "        dataTable['output_type'] = 'display_data';\n",
              "        await google.colab.output.renderOutput(dataTable, element);\n",
              "        const docLink = document.createElement('div');\n",
              "        docLink.innerHTML = docLinkHtml;\n",
              "        element.appendChild(docLink);\n",
              "      }\n",
              "    </script>\n",
              "  </div>\n",
              "\n",
              "\n",
              "    </div>\n",
              "  </div>\n"
            ]
          },
          "metadata": {},
          "execution_count": 144
        }
      ]
    },
    {
      "cell_type": "code",
      "source": [
        "print(\n",
        "    train['CouncilArea'][train['Postcode'] == 3011].mode()[0],\n",
        "    train['Regionname'][train['Postcode'] == 3011].mode()[0],\n",
        "    train['Propertycount'][train['Postcode'] == 3011].mode()[0]\n",
        "    )"
      ],
      "metadata": {
        "colab": {
          "base_uri": "https://localhost:8080/"
        },
        "id": "ShhAXm0WBdud",
        "outputId": "21de67de-a6ee-48eb-ed05-41f0015d6613"
      },
      "execution_count": null,
      "outputs": [
        {
          "output_type": "stream",
          "name": "stdout",
          "text": [
            "Maribyrnong City Council Western Metropolitan 7570.0\n"
          ]
        }
      ]
    },
    {
      "cell_type": "code",
      "source": [
        "# Заполняем значения ячеек по индексу строки\n",
        "train.loc[14406, 'CouncilArea'] = 'Maribyrnong City Council'\n",
        "train.loc[14406, 'Regionname'] = 'Western Metropolitan'\n",
        "train.loc[14406, 'Propertycount'] = 7570"
      ],
      "metadata": {
        "id": "gEmO5oKmBpff"
      },
      "execution_count": null,
      "outputs": []
    },
    {
      "cell_type": "code",
      "source": [
        "train[train['Regionname'].isna()]"
      ],
      "metadata": {
        "colab": {
          "base_uri": "https://localhost:8080/",
          "height": 98
        },
        "id": "hRkFuAK7B5Nr",
        "outputId": "13f2b618-695c-4874-92ed-1d06254f022b"
      },
      "execution_count": null,
      "outputs": [
        {
          "output_type": "execute_result",
          "data": {
            "text/plain": [
              "Empty DataFrame\n",
              "Columns: [Suburb, Address, Rooms, Type, Price, Method, SellerG, Date, Distance, Postcode, Bedroom2, Bathroom, Car, Landsize, BuildingArea, YearBuilt, CouncilArea, Lattitude, Longtitude, Regionname, Propertycount, id]\n",
              "Index: []\n",
              "\n",
              "[0 rows x 22 columns]"
            ],
            "text/html": [
              "\n",
              "  <div id=\"df-fb62f802-5ec0-45c2-8420-b2f4f2fcf595\" class=\"colab-df-container\">\n",
              "    <div>\n",
              "<style scoped>\n",
              "    .dataframe tbody tr th:only-of-type {\n",
              "        vertical-align: middle;\n",
              "    }\n",
              "\n",
              "    .dataframe tbody tr th {\n",
              "        vertical-align: top;\n",
              "    }\n",
              "\n",
              "    .dataframe thead th {\n",
              "        text-align: right;\n",
              "    }\n",
              "</style>\n",
              "<table border=\"1\" class=\"dataframe\">\n",
              "  <thead>\n",
              "    <tr style=\"text-align: right;\">\n",
              "      <th></th>\n",
              "      <th>Suburb</th>\n",
              "      <th>Address</th>\n",
              "      <th>Rooms</th>\n",
              "      <th>Type</th>\n",
              "      <th>Price</th>\n",
              "      <th>Method</th>\n",
              "      <th>SellerG</th>\n",
              "      <th>Date</th>\n",
              "      <th>Distance</th>\n",
              "      <th>Postcode</th>\n",
              "      <th>...</th>\n",
              "      <th>Car</th>\n",
              "      <th>Landsize</th>\n",
              "      <th>BuildingArea</th>\n",
              "      <th>YearBuilt</th>\n",
              "      <th>CouncilArea</th>\n",
              "      <th>Lattitude</th>\n",
              "      <th>Longtitude</th>\n",
              "      <th>Regionname</th>\n",
              "      <th>Propertycount</th>\n",
              "      <th>id</th>\n",
              "    </tr>\n",
              "  </thead>\n",
              "  <tbody>\n",
              "  </tbody>\n",
              "</table>\n",
              "<p>0 rows × 22 columns</p>\n",
              "</div>\n",
              "    <div class=\"colab-df-buttons\">\n",
              "\n",
              "  <div class=\"colab-df-container\">\n",
              "    <button class=\"colab-df-convert\" onclick=\"convertToInteractive('df-fb62f802-5ec0-45c2-8420-b2f4f2fcf595')\"\n",
              "            title=\"Convert this dataframe to an interactive table.\"\n",
              "            style=\"display:none;\">\n",
              "\n",
              "  <svg xmlns=\"http://www.w3.org/2000/svg\" height=\"24px\" viewBox=\"0 -960 960 960\">\n",
              "    <path d=\"M120-120v-720h720v720H120Zm60-500h600v-160H180v160Zm220 220h160v-160H400v160Zm0 220h160v-160H400v160ZM180-400h160v-160H180v160Zm440 0h160v-160H620v160ZM180-180h160v-160H180v160Zm440 0h160v-160H620v160Z\"/>\n",
              "  </svg>\n",
              "    </button>\n",
              "\n",
              "  <style>\n",
              "    .colab-df-container {\n",
              "      display:flex;\n",
              "      gap: 12px;\n",
              "    }\n",
              "\n",
              "    .colab-df-convert {\n",
              "      background-color: #E8F0FE;\n",
              "      border: none;\n",
              "      border-radius: 50%;\n",
              "      cursor: pointer;\n",
              "      display: none;\n",
              "      fill: #1967D2;\n",
              "      height: 32px;\n",
              "      padding: 0 0 0 0;\n",
              "      width: 32px;\n",
              "    }\n",
              "\n",
              "    .colab-df-convert:hover {\n",
              "      background-color: #E2EBFA;\n",
              "      box-shadow: 0px 1px 2px rgba(60, 64, 67, 0.3), 0px 1px 3px 1px rgba(60, 64, 67, 0.15);\n",
              "      fill: #174EA6;\n",
              "    }\n",
              "\n",
              "    .colab-df-buttons div {\n",
              "      margin-bottom: 4px;\n",
              "    }\n",
              "\n",
              "    [theme=dark] .colab-df-convert {\n",
              "      background-color: #3B4455;\n",
              "      fill: #D2E3FC;\n",
              "    }\n",
              "\n",
              "    [theme=dark] .colab-df-convert:hover {\n",
              "      background-color: #434B5C;\n",
              "      box-shadow: 0px 1px 3px 1px rgba(0, 0, 0, 0.15);\n",
              "      filter: drop-shadow(0px 1px 2px rgba(0, 0, 0, 0.3));\n",
              "      fill: #FFFFFF;\n",
              "    }\n",
              "  </style>\n",
              "\n",
              "    <script>\n",
              "      const buttonEl =\n",
              "        document.querySelector('#df-fb62f802-5ec0-45c2-8420-b2f4f2fcf595 button.colab-df-convert');\n",
              "      buttonEl.style.display =\n",
              "        google.colab.kernel.accessAllowed ? 'block' : 'none';\n",
              "\n",
              "      async function convertToInteractive(key) {\n",
              "        const element = document.querySelector('#df-fb62f802-5ec0-45c2-8420-b2f4f2fcf595');\n",
              "        const dataTable =\n",
              "          await google.colab.kernel.invokeFunction('convertToInteractive',\n",
              "                                                    [key], {});\n",
              "        if (!dataTable) return;\n",
              "\n",
              "        const docLinkHtml = 'Like what you see? Visit the ' +\n",
              "          '<a target=\"_blank\" href=https://colab.research.google.com/notebooks/data_table.ipynb>data table notebook</a>'\n",
              "          + ' to learn more about interactive tables.';\n",
              "        element.innerHTML = '';\n",
              "        dataTable['output_type'] = 'display_data';\n",
              "        await google.colab.output.renderOutput(dataTable, element);\n",
              "        const docLink = document.createElement('div');\n",
              "        docLink.innerHTML = docLinkHtml;\n",
              "        element.appendChild(docLink);\n",
              "      }\n",
              "    </script>\n",
              "  </div>\n",
              "\n",
              "\n",
              "    </div>\n",
              "  </div>\n"
            ]
          },
          "metadata": {},
          "execution_count": 147
        }
      ]
    },
    {
      "cell_type": "code",
      "source": [
        "test.isna().mean()"
      ],
      "metadata": {
        "colab": {
          "base_uri": "https://localhost:8080/"
        },
        "id": "vVXydF23Bz19",
        "outputId": "32a38cb1-ade0-485f-9a90-0526bf21f2b7"
      },
      "execution_count": null,
      "outputs": [
        {
          "output_type": "execute_result",
          "data": {
            "text/plain": [
              "Suburb           0.000000\n",
              "Address          0.000000\n",
              "Rooms            0.000000\n",
              "Type             0.000000\n",
              "Method           0.000000\n",
              "SellerG          0.000000\n",
              "Date             0.000000\n",
              "Distance         0.000113\n",
              "Postcode         0.000113\n",
              "Bedroom2         0.335677\n",
              "Bathroom         0.336131\n",
              "Car              0.366977\n",
              "Landsize         0.504990\n",
              "BuildingArea     0.673169\n",
              "YearBuilt        0.647086\n",
              "CouncilArea      0.000113\n",
              "Lattitude        0.330007\n",
              "Longtitude       0.330007\n",
              "Regionname       0.000113\n",
              "Propertycount    0.000113\n",
              "id               0.000000\n",
              "dtype: float64"
            ]
          },
          "metadata": {},
          "execution_count": 148
        }
      ]
    },
    {
      "cell_type": "code",
      "source": [
        "train.isna().mean()"
      ],
      "metadata": {
        "colab": {
          "base_uri": "https://localhost:8080/"
        },
        "id": "g6jN-7wnCF3s",
        "outputId": "384f85ed-ddce-4c48-ffad-2e1017c14a00"
      },
      "execution_count": null,
      "outputs": [
        {
          "output_type": "execute_result",
          "data": {
            "text/plain": [
              "Suburb           0.000000\n",
              "Address          0.000000\n",
              "Rooms            0.000000\n",
              "Type             0.000000\n",
              "Price            0.000000\n",
              "Method           0.000000\n",
              "SellerG          0.000000\n",
              "Date             0.000000\n",
              "Distance         0.000000\n",
              "Postcode         0.000000\n",
              "Bedroom2         0.188755\n",
              "Bathroom         0.188864\n",
              "Car              0.194579\n",
              "Landsize         0.260926\n",
              "BuildingArea     0.578185\n",
              "YearBuilt        0.513199\n",
              "CouncilArea      0.000000\n",
              "Lattitude        0.181353\n",
              "Longtitude       0.181353\n",
              "Regionname       0.000000\n",
              "Propertycount    0.000000\n",
              "id               0.000000\n",
              "dtype: float64"
            ]
          },
          "metadata": {},
          "execution_count": 149
        }
      ]
    },
    {
      "cell_type": "code",
      "source": [
        "train[train['Address'].str.contains('Brian St')]"
      ],
      "metadata": {
        "colab": {
          "base_uri": "https://localhost:8080/",
          "height": 245
        },
        "id": "Ad4ObjAj7s8E",
        "outputId": "e7b36e42-c8ee-47b5-d3cc-780d9f33a2e5"
      },
      "execution_count": null,
      "outputs": [
        {
          "output_type": "execute_result",
          "data": {
            "text/plain": [
              "              Suburb      Address  Rooms Type      Price Method  \\\n",
              "1121  Bentleigh East  1A Brian St      4    t  1185000.0      S   \n",
              "8750         Fawkner   3 Brian St      3    h   625000.0      S   \n",
              "9907         Fawkner   3 Brian St      3    h   660000.0      S   \n",
              "\n",
              "            SellerG        Date  Distance  Postcode  ...  Car  Landsize  \\\n",
              "1121  hockingstuart  10/12/2016      13.9    3165.0  ...  2.0     305.0   \n",
              "8750           Brad  10/12/2016      12.4    3060.0  ...  2.0     585.0   \n",
              "9907           Brad   8/04/2017      12.4    3060.0  ...  2.0     585.0   \n",
              "\n",
              "      BuildingArea  YearBuilt             CouncilArea  Lattitude Longtitude  \\\n",
              "1121         207.0     2012.0  Glen Eira City Council   -37.9245   145.0507   \n",
              "8750          88.0     1960.0       Hume City Council   -37.6950   144.9676   \n",
              "9907          88.0     1960.0       Hume City Council   -37.6950   144.9676   \n",
              "\n",
              "                 Regionname  Propertycount     id  \n",
              "1121  Southern Metropolitan        10969.0  13328  \n",
              "8750  Northern Metropolitan         5070.0  24826  \n",
              "9907  Northern Metropolitan         5070.0  20675  \n",
              "\n",
              "[3 rows x 22 columns]"
            ],
            "text/html": [
              "\n",
              "  <div id=\"df-a17b5cd5-fea3-49e6-9e2d-a844c599c394\" class=\"colab-df-container\">\n",
              "    <div>\n",
              "<style scoped>\n",
              "    .dataframe tbody tr th:only-of-type {\n",
              "        vertical-align: middle;\n",
              "    }\n",
              "\n",
              "    .dataframe tbody tr th {\n",
              "        vertical-align: top;\n",
              "    }\n",
              "\n",
              "    .dataframe thead th {\n",
              "        text-align: right;\n",
              "    }\n",
              "</style>\n",
              "<table border=\"1\" class=\"dataframe\">\n",
              "  <thead>\n",
              "    <tr style=\"text-align: right;\">\n",
              "      <th></th>\n",
              "      <th>Suburb</th>\n",
              "      <th>Address</th>\n",
              "      <th>Rooms</th>\n",
              "      <th>Type</th>\n",
              "      <th>Price</th>\n",
              "      <th>Method</th>\n",
              "      <th>SellerG</th>\n",
              "      <th>Date</th>\n",
              "      <th>Distance</th>\n",
              "      <th>Postcode</th>\n",
              "      <th>...</th>\n",
              "      <th>Car</th>\n",
              "      <th>Landsize</th>\n",
              "      <th>BuildingArea</th>\n",
              "      <th>YearBuilt</th>\n",
              "      <th>CouncilArea</th>\n",
              "      <th>Lattitude</th>\n",
              "      <th>Longtitude</th>\n",
              "      <th>Regionname</th>\n",
              "      <th>Propertycount</th>\n",
              "      <th>id</th>\n",
              "    </tr>\n",
              "  </thead>\n",
              "  <tbody>\n",
              "    <tr>\n",
              "      <th>1121</th>\n",
              "      <td>Bentleigh East</td>\n",
              "      <td>1A Brian St</td>\n",
              "      <td>4</td>\n",
              "      <td>t</td>\n",
              "      <td>1185000.0</td>\n",
              "      <td>S</td>\n",
              "      <td>hockingstuart</td>\n",
              "      <td>10/12/2016</td>\n",
              "      <td>13.9</td>\n",
              "      <td>3165.0</td>\n",
              "      <td>...</td>\n",
              "      <td>2.0</td>\n",
              "      <td>305.0</td>\n",
              "      <td>207.0</td>\n",
              "      <td>2012.0</td>\n",
              "      <td>Glen Eira City Council</td>\n",
              "      <td>-37.9245</td>\n",
              "      <td>145.0507</td>\n",
              "      <td>Southern Metropolitan</td>\n",
              "      <td>10969.0</td>\n",
              "      <td>13328</td>\n",
              "    </tr>\n",
              "    <tr>\n",
              "      <th>8750</th>\n",
              "      <td>Fawkner</td>\n",
              "      <td>3 Brian St</td>\n",
              "      <td>3</td>\n",
              "      <td>h</td>\n",
              "      <td>625000.0</td>\n",
              "      <td>S</td>\n",
              "      <td>Brad</td>\n",
              "      <td>10/12/2016</td>\n",
              "      <td>12.4</td>\n",
              "      <td>3060.0</td>\n",
              "      <td>...</td>\n",
              "      <td>2.0</td>\n",
              "      <td>585.0</td>\n",
              "      <td>88.0</td>\n",
              "      <td>1960.0</td>\n",
              "      <td>Hume City Council</td>\n",
              "      <td>-37.6950</td>\n",
              "      <td>144.9676</td>\n",
              "      <td>Northern Metropolitan</td>\n",
              "      <td>5070.0</td>\n",
              "      <td>24826</td>\n",
              "    </tr>\n",
              "    <tr>\n",
              "      <th>9907</th>\n",
              "      <td>Fawkner</td>\n",
              "      <td>3 Brian St</td>\n",
              "      <td>3</td>\n",
              "      <td>h</td>\n",
              "      <td>660000.0</td>\n",
              "      <td>S</td>\n",
              "      <td>Brad</td>\n",
              "      <td>8/04/2017</td>\n",
              "      <td>12.4</td>\n",
              "      <td>3060.0</td>\n",
              "      <td>...</td>\n",
              "      <td>2.0</td>\n",
              "      <td>585.0</td>\n",
              "      <td>88.0</td>\n",
              "      <td>1960.0</td>\n",
              "      <td>Hume City Council</td>\n",
              "      <td>-37.6950</td>\n",
              "      <td>144.9676</td>\n",
              "      <td>Northern Metropolitan</td>\n",
              "      <td>5070.0</td>\n",
              "      <td>20675</td>\n",
              "    </tr>\n",
              "  </tbody>\n",
              "</table>\n",
              "<p>3 rows × 22 columns</p>\n",
              "</div>\n",
              "    <div class=\"colab-df-buttons\">\n",
              "\n",
              "  <div class=\"colab-df-container\">\n",
              "    <button class=\"colab-df-convert\" onclick=\"convertToInteractive('df-a17b5cd5-fea3-49e6-9e2d-a844c599c394')\"\n",
              "            title=\"Convert this dataframe to an interactive table.\"\n",
              "            style=\"display:none;\">\n",
              "\n",
              "  <svg xmlns=\"http://www.w3.org/2000/svg\" height=\"24px\" viewBox=\"0 -960 960 960\">\n",
              "    <path d=\"M120-120v-720h720v720H120Zm60-500h600v-160H180v160Zm220 220h160v-160H400v160Zm0 220h160v-160H400v160ZM180-400h160v-160H180v160Zm440 0h160v-160H620v160ZM180-180h160v-160H180v160Zm440 0h160v-160H620v160Z\"/>\n",
              "  </svg>\n",
              "    </button>\n",
              "\n",
              "  <style>\n",
              "    .colab-df-container {\n",
              "      display:flex;\n",
              "      gap: 12px;\n",
              "    }\n",
              "\n",
              "    .colab-df-convert {\n",
              "      background-color: #E8F0FE;\n",
              "      border: none;\n",
              "      border-radius: 50%;\n",
              "      cursor: pointer;\n",
              "      display: none;\n",
              "      fill: #1967D2;\n",
              "      height: 32px;\n",
              "      padding: 0 0 0 0;\n",
              "      width: 32px;\n",
              "    }\n",
              "\n",
              "    .colab-df-convert:hover {\n",
              "      background-color: #E2EBFA;\n",
              "      box-shadow: 0px 1px 2px rgba(60, 64, 67, 0.3), 0px 1px 3px 1px rgba(60, 64, 67, 0.15);\n",
              "      fill: #174EA6;\n",
              "    }\n",
              "\n",
              "    .colab-df-buttons div {\n",
              "      margin-bottom: 4px;\n",
              "    }\n",
              "\n",
              "    [theme=dark] .colab-df-convert {\n",
              "      background-color: #3B4455;\n",
              "      fill: #D2E3FC;\n",
              "    }\n",
              "\n",
              "    [theme=dark] .colab-df-convert:hover {\n",
              "      background-color: #434B5C;\n",
              "      box-shadow: 0px 1px 3px 1px rgba(0, 0, 0, 0.15);\n",
              "      filter: drop-shadow(0px 1px 2px rgba(0, 0, 0, 0.3));\n",
              "      fill: #FFFFFF;\n",
              "    }\n",
              "  </style>\n",
              "\n",
              "    <script>\n",
              "      const buttonEl =\n",
              "        document.querySelector('#df-a17b5cd5-fea3-49e6-9e2d-a844c599c394 button.colab-df-convert');\n",
              "      buttonEl.style.display =\n",
              "        google.colab.kernel.accessAllowed ? 'block' : 'none';\n",
              "\n",
              "      async function convertToInteractive(key) {\n",
              "        const element = document.querySelector('#df-a17b5cd5-fea3-49e6-9e2d-a844c599c394');\n",
              "        const dataTable =\n",
              "          await google.colab.kernel.invokeFunction('convertToInteractive',\n",
              "                                                    [key], {});\n",
              "        if (!dataTable) return;\n",
              "\n",
              "        const docLinkHtml = 'Like what you see? Visit the ' +\n",
              "          '<a target=\"_blank\" href=https://colab.research.google.com/notebooks/data_table.ipynb>data table notebook</a>'\n",
              "          + ' to learn more about interactive tables.';\n",
              "        element.innerHTML = '';\n",
              "        dataTable['output_type'] = 'display_data';\n",
              "        await google.colab.output.renderOutput(dataTable, element);\n",
              "        const docLink = document.createElement('div');\n",
              "        docLink.innerHTML = docLinkHtml;\n",
              "        element.appendChild(docLink);\n",
              "      }\n",
              "    </script>\n",
              "  </div>\n",
              "\n",
              "\n",
              "<div id=\"df-3bd00261-85fe-4e75-a6d5-c86f96249adc\">\n",
              "  <button class=\"colab-df-quickchart\" onclick=\"quickchart('df-3bd00261-85fe-4e75-a6d5-c86f96249adc')\"\n",
              "            title=\"Suggest charts\"\n",
              "            style=\"display:none;\">\n",
              "\n",
              "<svg xmlns=\"http://www.w3.org/2000/svg\" height=\"24px\"viewBox=\"0 0 24 24\"\n",
              "     width=\"24px\">\n",
              "    <g>\n",
              "        <path d=\"M19 3H5c-1.1 0-2 .9-2 2v14c0 1.1.9 2 2 2h14c1.1 0 2-.9 2-2V5c0-1.1-.9-2-2-2zM9 17H7v-7h2v7zm4 0h-2V7h2v10zm4 0h-2v-4h2v4z\"/>\n",
              "    </g>\n",
              "</svg>\n",
              "  </button>\n",
              "\n",
              "<style>\n",
              "  .colab-df-quickchart {\n",
              "      --bg-color: #E8F0FE;\n",
              "      --fill-color: #1967D2;\n",
              "      --hover-bg-color: #E2EBFA;\n",
              "      --hover-fill-color: #174EA6;\n",
              "      --disabled-fill-color: #AAA;\n",
              "      --disabled-bg-color: #DDD;\n",
              "  }\n",
              "\n",
              "  [theme=dark] .colab-df-quickchart {\n",
              "      --bg-color: #3B4455;\n",
              "      --fill-color: #D2E3FC;\n",
              "      --hover-bg-color: #434B5C;\n",
              "      --hover-fill-color: #FFFFFF;\n",
              "      --disabled-bg-color: #3B4455;\n",
              "      --disabled-fill-color: #666;\n",
              "  }\n",
              "\n",
              "  .colab-df-quickchart {\n",
              "    background-color: var(--bg-color);\n",
              "    border: none;\n",
              "    border-radius: 50%;\n",
              "    cursor: pointer;\n",
              "    display: none;\n",
              "    fill: var(--fill-color);\n",
              "    height: 32px;\n",
              "    padding: 0;\n",
              "    width: 32px;\n",
              "  }\n",
              "\n",
              "  .colab-df-quickchart:hover {\n",
              "    background-color: var(--hover-bg-color);\n",
              "    box-shadow: 0 1px 2px rgba(60, 64, 67, 0.3), 0 1px 3px 1px rgba(60, 64, 67, 0.15);\n",
              "    fill: var(--button-hover-fill-color);\n",
              "  }\n",
              "\n",
              "  .colab-df-quickchart-complete:disabled,\n",
              "  .colab-df-quickchart-complete:disabled:hover {\n",
              "    background-color: var(--disabled-bg-color);\n",
              "    fill: var(--disabled-fill-color);\n",
              "    box-shadow: none;\n",
              "  }\n",
              "\n",
              "  .colab-df-spinner {\n",
              "    border: 2px solid var(--fill-color);\n",
              "    border-color: transparent;\n",
              "    border-bottom-color: var(--fill-color);\n",
              "    animation:\n",
              "      spin 1s steps(1) infinite;\n",
              "  }\n",
              "\n",
              "  @keyframes spin {\n",
              "    0% {\n",
              "      border-color: transparent;\n",
              "      border-bottom-color: var(--fill-color);\n",
              "      border-left-color: var(--fill-color);\n",
              "    }\n",
              "    20% {\n",
              "      border-color: transparent;\n",
              "      border-left-color: var(--fill-color);\n",
              "      border-top-color: var(--fill-color);\n",
              "    }\n",
              "    30% {\n",
              "      border-color: transparent;\n",
              "      border-left-color: var(--fill-color);\n",
              "      border-top-color: var(--fill-color);\n",
              "      border-right-color: var(--fill-color);\n",
              "    }\n",
              "    40% {\n",
              "      border-color: transparent;\n",
              "      border-right-color: var(--fill-color);\n",
              "      border-top-color: var(--fill-color);\n",
              "    }\n",
              "    60% {\n",
              "      border-color: transparent;\n",
              "      border-right-color: var(--fill-color);\n",
              "    }\n",
              "    80% {\n",
              "      border-color: transparent;\n",
              "      border-right-color: var(--fill-color);\n",
              "      border-bottom-color: var(--fill-color);\n",
              "    }\n",
              "    90% {\n",
              "      border-color: transparent;\n",
              "      border-bottom-color: var(--fill-color);\n",
              "    }\n",
              "  }\n",
              "</style>\n",
              "\n",
              "  <script>\n",
              "    async function quickchart(key) {\n",
              "      const quickchartButtonEl =\n",
              "        document.querySelector('#' + key + ' button');\n",
              "      quickchartButtonEl.disabled = true;  // To prevent multiple clicks.\n",
              "      quickchartButtonEl.classList.add('colab-df-spinner');\n",
              "      try {\n",
              "        const charts = await google.colab.kernel.invokeFunction(\n",
              "            'suggestCharts', [key], {});\n",
              "      } catch (error) {\n",
              "        console.error('Error during call to suggestCharts:', error);\n",
              "      }\n",
              "      quickchartButtonEl.classList.remove('colab-df-spinner');\n",
              "      quickchartButtonEl.classList.add('colab-df-quickchart-complete');\n",
              "    }\n",
              "    (() => {\n",
              "      let quickchartButtonEl =\n",
              "        document.querySelector('#df-3bd00261-85fe-4e75-a6d5-c86f96249adc button');\n",
              "      quickchartButtonEl.style.display =\n",
              "        google.colab.kernel.accessAllowed ? 'block' : 'none';\n",
              "    })();\n",
              "  </script>\n",
              "</div>\n",
              "\n",
              "    </div>\n",
              "  </div>\n"
            ]
          },
          "metadata": {},
          "execution_count": 150
        }
      ]
    },
    {
      "cell_type": "code",
      "source": [
        "test[test['Address'].str.contains('Brian St')]"
      ],
      "metadata": {
        "colab": {
          "base_uri": "https://localhost:8080/",
          "height": 196
        },
        "id": "jVPddCIZ7s5q",
        "outputId": "4768c69f-8d37-414e-8a9c-f0f2e9dd1fc9"
      },
      "execution_count": null,
      "outputs": [
        {
          "output_type": "execute_result",
          "data": {
            "text/plain": [
              "           Suburb       Address  Rooms Type Method SellerG        Date  \\\n",
              "4628  Fawkner Lot  1/3 Brian St      3    h     SP    Brad   6/01/2018   \n",
              "7171      Mitcham    1 Brian St      3    h      S  Philip  17/02/2018   \n",
              "\n",
              "      Distance  Postcode  Bedroom2  ...  Car  Landsize  BuildingArea  \\\n",
              "4628       NaN       NaN       NaN  ...  NaN       NaN           NaN   \n",
              "7171      17.2    3132.0       3.0  ...  1.0     630.0         110.0   \n",
              "\n",
              "      YearBuilt              CouncilArea Lattitude  Longtitude  \\\n",
              "4628        NaN                      NaN       NaN         NaN   \n",
              "7171     1950.0  Whitehorse City Council -37.82505   145.18797   \n",
              "\n",
              "                Regionname Propertycount     id  \n",
              "4628                   NaN           NaN  33262  \n",
              "7171  Eastern Metropolitan        6871.0  22739  \n",
              "\n",
              "[2 rows x 21 columns]"
            ],
            "text/html": [
              "\n",
              "  <div id=\"df-9d56ff78-a218-4e3f-90a0-3ddf7cdfcee0\" class=\"colab-df-container\">\n",
              "    <div>\n",
              "<style scoped>\n",
              "    .dataframe tbody tr th:only-of-type {\n",
              "        vertical-align: middle;\n",
              "    }\n",
              "\n",
              "    .dataframe tbody tr th {\n",
              "        vertical-align: top;\n",
              "    }\n",
              "\n",
              "    .dataframe thead th {\n",
              "        text-align: right;\n",
              "    }\n",
              "</style>\n",
              "<table border=\"1\" class=\"dataframe\">\n",
              "  <thead>\n",
              "    <tr style=\"text-align: right;\">\n",
              "      <th></th>\n",
              "      <th>Suburb</th>\n",
              "      <th>Address</th>\n",
              "      <th>Rooms</th>\n",
              "      <th>Type</th>\n",
              "      <th>Method</th>\n",
              "      <th>SellerG</th>\n",
              "      <th>Date</th>\n",
              "      <th>Distance</th>\n",
              "      <th>Postcode</th>\n",
              "      <th>Bedroom2</th>\n",
              "      <th>...</th>\n",
              "      <th>Car</th>\n",
              "      <th>Landsize</th>\n",
              "      <th>BuildingArea</th>\n",
              "      <th>YearBuilt</th>\n",
              "      <th>CouncilArea</th>\n",
              "      <th>Lattitude</th>\n",
              "      <th>Longtitude</th>\n",
              "      <th>Regionname</th>\n",
              "      <th>Propertycount</th>\n",
              "      <th>id</th>\n",
              "    </tr>\n",
              "  </thead>\n",
              "  <tbody>\n",
              "    <tr>\n",
              "      <th>4628</th>\n",
              "      <td>Fawkner Lot</td>\n",
              "      <td>1/3 Brian St</td>\n",
              "      <td>3</td>\n",
              "      <td>h</td>\n",
              "      <td>SP</td>\n",
              "      <td>Brad</td>\n",
              "      <td>6/01/2018</td>\n",
              "      <td>NaN</td>\n",
              "      <td>NaN</td>\n",
              "      <td>NaN</td>\n",
              "      <td>...</td>\n",
              "      <td>NaN</td>\n",
              "      <td>NaN</td>\n",
              "      <td>NaN</td>\n",
              "      <td>NaN</td>\n",
              "      <td>NaN</td>\n",
              "      <td>NaN</td>\n",
              "      <td>NaN</td>\n",
              "      <td>NaN</td>\n",
              "      <td>NaN</td>\n",
              "      <td>33262</td>\n",
              "    </tr>\n",
              "    <tr>\n",
              "      <th>7171</th>\n",
              "      <td>Mitcham</td>\n",
              "      <td>1 Brian St</td>\n",
              "      <td>3</td>\n",
              "      <td>h</td>\n",
              "      <td>S</td>\n",
              "      <td>Philip</td>\n",
              "      <td>17/02/2018</td>\n",
              "      <td>17.2</td>\n",
              "      <td>3132.0</td>\n",
              "      <td>3.0</td>\n",
              "      <td>...</td>\n",
              "      <td>1.0</td>\n",
              "      <td>630.0</td>\n",
              "      <td>110.0</td>\n",
              "      <td>1950.0</td>\n",
              "      <td>Whitehorse City Council</td>\n",
              "      <td>-37.82505</td>\n",
              "      <td>145.18797</td>\n",
              "      <td>Eastern Metropolitan</td>\n",
              "      <td>6871.0</td>\n",
              "      <td>22739</td>\n",
              "    </tr>\n",
              "  </tbody>\n",
              "</table>\n",
              "<p>2 rows × 21 columns</p>\n",
              "</div>\n",
              "    <div class=\"colab-df-buttons\">\n",
              "\n",
              "  <div class=\"colab-df-container\">\n",
              "    <button class=\"colab-df-convert\" onclick=\"convertToInteractive('df-9d56ff78-a218-4e3f-90a0-3ddf7cdfcee0')\"\n",
              "            title=\"Convert this dataframe to an interactive table.\"\n",
              "            style=\"display:none;\">\n",
              "\n",
              "  <svg xmlns=\"http://www.w3.org/2000/svg\" height=\"24px\" viewBox=\"0 -960 960 960\">\n",
              "    <path d=\"M120-120v-720h720v720H120Zm60-500h600v-160H180v160Zm220 220h160v-160H400v160Zm0 220h160v-160H400v160ZM180-400h160v-160H180v160Zm440 0h160v-160H620v160ZM180-180h160v-160H180v160Zm440 0h160v-160H620v160Z\"/>\n",
              "  </svg>\n",
              "    </button>\n",
              "\n",
              "  <style>\n",
              "    .colab-df-container {\n",
              "      display:flex;\n",
              "      gap: 12px;\n",
              "    }\n",
              "\n",
              "    .colab-df-convert {\n",
              "      background-color: #E8F0FE;\n",
              "      border: none;\n",
              "      border-radius: 50%;\n",
              "      cursor: pointer;\n",
              "      display: none;\n",
              "      fill: #1967D2;\n",
              "      height: 32px;\n",
              "      padding: 0 0 0 0;\n",
              "      width: 32px;\n",
              "    }\n",
              "\n",
              "    .colab-df-convert:hover {\n",
              "      background-color: #E2EBFA;\n",
              "      box-shadow: 0px 1px 2px rgba(60, 64, 67, 0.3), 0px 1px 3px 1px rgba(60, 64, 67, 0.15);\n",
              "      fill: #174EA6;\n",
              "    }\n",
              "\n",
              "    .colab-df-buttons div {\n",
              "      margin-bottom: 4px;\n",
              "    }\n",
              "\n",
              "    [theme=dark] .colab-df-convert {\n",
              "      background-color: #3B4455;\n",
              "      fill: #D2E3FC;\n",
              "    }\n",
              "\n",
              "    [theme=dark] .colab-df-convert:hover {\n",
              "      background-color: #434B5C;\n",
              "      box-shadow: 0px 1px 3px 1px rgba(0, 0, 0, 0.15);\n",
              "      filter: drop-shadow(0px 1px 2px rgba(0, 0, 0, 0.3));\n",
              "      fill: #FFFFFF;\n",
              "    }\n",
              "  </style>\n",
              "\n",
              "    <script>\n",
              "      const buttonEl =\n",
              "        document.querySelector('#df-9d56ff78-a218-4e3f-90a0-3ddf7cdfcee0 button.colab-df-convert');\n",
              "      buttonEl.style.display =\n",
              "        google.colab.kernel.accessAllowed ? 'block' : 'none';\n",
              "\n",
              "      async function convertToInteractive(key) {\n",
              "        const element = document.querySelector('#df-9d56ff78-a218-4e3f-90a0-3ddf7cdfcee0');\n",
              "        const dataTable =\n",
              "          await google.colab.kernel.invokeFunction('convertToInteractive',\n",
              "                                                    [key], {});\n",
              "        if (!dataTable) return;\n",
              "\n",
              "        const docLinkHtml = 'Like what you see? Visit the ' +\n",
              "          '<a target=\"_blank\" href=https://colab.research.google.com/notebooks/data_table.ipynb>data table notebook</a>'\n",
              "          + ' to learn more about interactive tables.';\n",
              "        element.innerHTML = '';\n",
              "        dataTable['output_type'] = 'display_data';\n",
              "        await google.colab.output.renderOutput(dataTable, element);\n",
              "        const docLink = document.createElement('div');\n",
              "        docLink.innerHTML = docLinkHtml;\n",
              "        element.appendChild(docLink);\n",
              "      }\n",
              "    </script>\n",
              "  </div>\n",
              "\n",
              "\n",
              "<div id=\"df-e23f4e19-4beb-4d8e-afb0-7d7d41e87852\">\n",
              "  <button class=\"colab-df-quickchart\" onclick=\"quickchart('df-e23f4e19-4beb-4d8e-afb0-7d7d41e87852')\"\n",
              "            title=\"Suggest charts\"\n",
              "            style=\"display:none;\">\n",
              "\n",
              "<svg xmlns=\"http://www.w3.org/2000/svg\" height=\"24px\"viewBox=\"0 0 24 24\"\n",
              "     width=\"24px\">\n",
              "    <g>\n",
              "        <path d=\"M19 3H5c-1.1 0-2 .9-2 2v14c0 1.1.9 2 2 2h14c1.1 0 2-.9 2-2V5c0-1.1-.9-2-2-2zM9 17H7v-7h2v7zm4 0h-2V7h2v10zm4 0h-2v-4h2v4z\"/>\n",
              "    </g>\n",
              "</svg>\n",
              "  </button>\n",
              "\n",
              "<style>\n",
              "  .colab-df-quickchart {\n",
              "      --bg-color: #E8F0FE;\n",
              "      --fill-color: #1967D2;\n",
              "      --hover-bg-color: #E2EBFA;\n",
              "      --hover-fill-color: #174EA6;\n",
              "      --disabled-fill-color: #AAA;\n",
              "      --disabled-bg-color: #DDD;\n",
              "  }\n",
              "\n",
              "  [theme=dark] .colab-df-quickchart {\n",
              "      --bg-color: #3B4455;\n",
              "      --fill-color: #D2E3FC;\n",
              "      --hover-bg-color: #434B5C;\n",
              "      --hover-fill-color: #FFFFFF;\n",
              "      --disabled-bg-color: #3B4455;\n",
              "      --disabled-fill-color: #666;\n",
              "  }\n",
              "\n",
              "  .colab-df-quickchart {\n",
              "    background-color: var(--bg-color);\n",
              "    border: none;\n",
              "    border-radius: 50%;\n",
              "    cursor: pointer;\n",
              "    display: none;\n",
              "    fill: var(--fill-color);\n",
              "    height: 32px;\n",
              "    padding: 0;\n",
              "    width: 32px;\n",
              "  }\n",
              "\n",
              "  .colab-df-quickchart:hover {\n",
              "    background-color: var(--hover-bg-color);\n",
              "    box-shadow: 0 1px 2px rgba(60, 64, 67, 0.3), 0 1px 3px 1px rgba(60, 64, 67, 0.15);\n",
              "    fill: var(--button-hover-fill-color);\n",
              "  }\n",
              "\n",
              "  .colab-df-quickchart-complete:disabled,\n",
              "  .colab-df-quickchart-complete:disabled:hover {\n",
              "    background-color: var(--disabled-bg-color);\n",
              "    fill: var(--disabled-fill-color);\n",
              "    box-shadow: none;\n",
              "  }\n",
              "\n",
              "  .colab-df-spinner {\n",
              "    border: 2px solid var(--fill-color);\n",
              "    border-color: transparent;\n",
              "    border-bottom-color: var(--fill-color);\n",
              "    animation:\n",
              "      spin 1s steps(1) infinite;\n",
              "  }\n",
              "\n",
              "  @keyframes spin {\n",
              "    0% {\n",
              "      border-color: transparent;\n",
              "      border-bottom-color: var(--fill-color);\n",
              "      border-left-color: var(--fill-color);\n",
              "    }\n",
              "    20% {\n",
              "      border-color: transparent;\n",
              "      border-left-color: var(--fill-color);\n",
              "      border-top-color: var(--fill-color);\n",
              "    }\n",
              "    30% {\n",
              "      border-color: transparent;\n",
              "      border-left-color: var(--fill-color);\n",
              "      border-top-color: var(--fill-color);\n",
              "      border-right-color: var(--fill-color);\n",
              "    }\n",
              "    40% {\n",
              "      border-color: transparent;\n",
              "      border-right-color: var(--fill-color);\n",
              "      border-top-color: var(--fill-color);\n",
              "    }\n",
              "    60% {\n",
              "      border-color: transparent;\n",
              "      border-right-color: var(--fill-color);\n",
              "    }\n",
              "    80% {\n",
              "      border-color: transparent;\n",
              "      border-right-color: var(--fill-color);\n",
              "      border-bottom-color: var(--fill-color);\n",
              "    }\n",
              "    90% {\n",
              "      border-color: transparent;\n",
              "      border-bottom-color: var(--fill-color);\n",
              "    }\n",
              "  }\n",
              "</style>\n",
              "\n",
              "  <script>\n",
              "    async function quickchart(key) {\n",
              "      const quickchartButtonEl =\n",
              "        document.querySelector('#' + key + ' button');\n",
              "      quickchartButtonEl.disabled = true;  // To prevent multiple clicks.\n",
              "      quickchartButtonEl.classList.add('colab-df-spinner');\n",
              "      try {\n",
              "        const charts = await google.colab.kernel.invokeFunction(\n",
              "            'suggestCharts', [key], {});\n",
              "      } catch (error) {\n",
              "        console.error('Error during call to suggestCharts:', error);\n",
              "      }\n",
              "      quickchartButtonEl.classList.remove('colab-df-spinner');\n",
              "      quickchartButtonEl.classList.add('colab-df-quickchart-complete');\n",
              "    }\n",
              "    (() => {\n",
              "      let quickchartButtonEl =\n",
              "        document.querySelector('#df-e23f4e19-4beb-4d8e-afb0-7d7d41e87852 button');\n",
              "      quickchartButtonEl.style.display =\n",
              "        google.colab.kernel.accessAllowed ? 'block' : 'none';\n",
              "    })();\n",
              "  </script>\n",
              "</div>\n",
              "\n",
              "    </div>\n",
              "  </div>\n"
            ]
          },
          "metadata": {},
          "execution_count": 151
        }
      ]
    },
    {
      "cell_type": "markdown",
      "source": [
        "Заполним значения строки **4628** тестового датасета значениями по полю `Suburb` датасета train. Будем считать что улица 'Brian St' одна и та же в обоих датасетах в районе Fawkner"
      ],
      "metadata": {
        "id": "VVtvPg6HDPmo"
      }
    },
    {
      "cell_type": "code",
      "source": [
        "# Заполняем значения ячеек по индексу строки\n",
        "test.loc[4628, 'CouncilArea'] = 'Hume City Council'\n",
        "test.loc[4628, 'Regionname'] = 'Northern Metropolitan'\n",
        "test.loc[4628, 'Propertycount'] = 5070\n",
        "test.loc[4628, 'Postcode'] = 3060"
      ],
      "metadata": {
        "id": "Bm0rXj8z7s3W"
      },
      "execution_count": null,
      "outputs": []
    },
    {
      "cell_type": "markdown",
      "source": [
        "На этом остановимся. Обучим модель по параметрам из самой лучшей итерации и сделаем новый сабмит."
      ],
      "metadata": {
        "id": "EaYQEqhhD_Ty"
      }
    },
    {
      "cell_type": "code",
      "source": [
        "X = ['Suburb', 'Rooms', 'Type', 'Method', 'SellerG',\n",
        "       'Distance', 'Postcode', 'Bedroom2', 'Bathroom', 'Car',\n",
        "     'Landsize', 'BuildingArea', 'YearBuilt', 'CouncilArea',\n",
        "     'Regionname', 'Propertycount']\n",
        "\n",
        "cat_features = ['Suburb',\n",
        "                'Type', 'Method', 'SellerG', 'Postcode',\n",
        "                'CouncilArea', 'Regionname',\n",
        "                ]\n",
        "\n",
        "y = ['Price']"
      ],
      "metadata": {
        "id": "_wO-znGXEMLl"
      },
      "execution_count": null,
      "outputs": []
    },
    {
      "cell_type": "code",
      "source": [
        "train['Postcode'] = train['Postcode'].astype(int)\n",
        "test['Postcode'] = test['Postcode'].astype(int)"
      ],
      "metadata": {
        "id": "e7iKNbMeEMLs"
      },
      "execution_count": null,
      "outputs": []
    },
    {
      "cell_type": "code",
      "source": [
        "# делаю валидационную выборку для оценки и проверки\n",
        "val, train = train_test_split(train, train_size=0.2, random_state=7374)\n",
        "\n",
        "val[cat_features] = val[cat_features].fillna(0)\n",
        "train[cat_features] = train[cat_features].fillna(0)"
      ],
      "metadata": {
        "id": "BJrPslP9EMLs"
      },
      "execution_count": null,
      "outputs": []
    },
    {
      "cell_type": "code",
      "source": [
        "parameters = {'cat_features': cat_features,\n",
        "              'loss_function': 'MAE',\n",
        "              'eval_metric': 'MAPE',\n",
        "              'learning_rate': 0.0777,\n",
        "              'random_seed':7374,\n",
        "              'verbose':100}"
      ],
      "metadata": {
        "id": "D6ATqg9SEMLs"
      },
      "execution_count": null,
      "outputs": []
    },
    {
      "cell_type": "code",
      "source": [
        "model = CatBoostRegressor(**parameters)"
      ],
      "metadata": {
        "id": "_sGKGyhVEMLs"
      },
      "execution_count": null,
      "outputs": []
    },
    {
      "cell_type": "code",
      "source": [
        "model.fit(train[X],train[y],eval_set=(val[X],val[y]))"
      ],
      "metadata": {
        "colab": {
          "base_uri": "https://localhost:8080/"
        },
        "outputId": "fae29ccf-5f8d-4e61-b3aa-dd73025910fd",
        "id": "nJeF5OueEMLs"
      },
      "execution_count": null,
      "outputs": [
        {
          "output_type": "stream",
          "name": "stdout",
          "text": [
            "0:\tlearn: 0.4056706\ttest: 0.3958092\tbest: 0.3958092 (0)\ttotal: 45.4ms\tremaining: 45.4s\n",
            "100:\tlearn: 0.1621948\ttest: 0.1648190\tbest: 0.1648190 (100)\ttotal: 3.55s\tremaining: 31.6s\n",
            "200:\tlearn: 0.1479702\ttest: 0.1550451\tbest: 0.1550451 (200)\ttotal: 6.05s\tremaining: 24.1s\n",
            "300:\tlearn: 0.1406681\ttest: 0.1512081\tbest: 0.1511955 (296)\ttotal: 8.58s\tremaining: 19.9s\n",
            "400:\tlearn: 0.1362462\ttest: 0.1493074\tbest: 0.1493074 (400)\ttotal: 11.1s\tremaining: 16.5s\n",
            "500:\tlearn: 0.1328922\ttest: 0.1485619\tbest: 0.1484982 (490)\ttotal: 14.7s\tremaining: 14.6s\n",
            "600:\tlearn: 0.1301287\ttest: 0.1479494\tbest: 0.1479494 (600)\ttotal: 17.1s\tremaining: 11.4s\n",
            "700:\tlearn: 0.1275577\ttest: 0.1473920\tbest: 0.1473913 (699)\ttotal: 19.6s\tremaining: 8.36s\n",
            "800:\tlearn: 0.1255810\ttest: 0.1472575\tbest: 0.1472575 (800)\ttotal: 22s\tremaining: 5.47s\n",
            "900:\tlearn: 0.1239677\ttest: 0.1470592\tbest: 0.1470097 (889)\ttotal: 24.4s\tremaining: 2.68s\n",
            "999:\tlearn: 0.1228481\ttest: 0.1470509\tbest: 0.1470029 (960)\ttotal: 27.8s\tremaining: 0us\n",
            "\n",
            "bestTest = 0.1470028911\n",
            "bestIteration = 960\n",
            "\n",
            "Shrink model to first 961 iterations.\n"
          ]
        },
        {
          "output_type": "execute_result",
          "data": {
            "text/plain": [
              "<catboost.core.CatBoostRegressor at 0x7b9aee5943a0>"
            ]
          },
          "metadata": {},
          "execution_count": 158
        }
      ]
    },
    {
      "cell_type": "code",
      "source": [
        "val['Price_pred_it1_1'] = model.predict(val[X])"
      ],
      "metadata": {
        "id": "Piwip4aMEMLt"
      },
      "execution_count": null,
      "outputs": []
    },
    {
      "cell_type": "code",
      "source": [
        "error(val['Price'],val['Price_pred_it1_1'])"
      ],
      "metadata": {
        "colab": {
          "base_uri": "https://localhost:8080/"
        },
        "id": "tJVvcUy-Eef_",
        "outputId": "b6257528-6709-4e50-910d-8c1b3f8ce388"
      },
      "execution_count": null,
      "outputs": [
        {
          "output_type": "stream",
          "name": "stdout",
          "text": [
            "164634.80179970778\n",
            "0.1470028910950025\n"
          ]
        }
      ]
    },
    {
      "cell_type": "markdown",
      "source": [
        "Обучим с этим набором фич/параметров модель на всех train данных и сделаем еще сабмит"
      ],
      "metadata": {
        "id": "HAThxf5KEMLt"
      }
    },
    {
      "cell_type": "code",
      "source": [
        "model = CatBoostRegressor(**parameters)"
      ],
      "metadata": {
        "id": "WauKppzhEMLt"
      },
      "execution_count": null,
      "outputs": []
    },
    {
      "cell_type": "code",
      "source": [
        "model.fit(train[X],train[y])"
      ],
      "metadata": {
        "colab": {
          "base_uri": "https://localhost:8080/"
        },
        "outputId": "6f15cee4-ed6a-4cfd-83f1-e2506e66b659",
        "id": "23PYC-QxEMLt"
      },
      "execution_count": null,
      "outputs": [
        {
          "output_type": "stream",
          "name": "stdout",
          "text": [
            "0:\tlearn: 0.4056706\ttotal: 26.4ms\tremaining: 26.4s\n",
            "100:\tlearn: 0.1621948\ttotal: 2.32s\tremaining: 20.6s\n",
            "200:\tlearn: 0.1479702\ttotal: 4.64s\tremaining: 18.4s\n",
            "300:\tlearn: 0.1406681\ttotal: 6.93s\tremaining: 16.1s\n",
            "400:\tlearn: 0.1362462\ttotal: 9.94s\tremaining: 14.8s\n",
            "500:\tlearn: 0.1328922\ttotal: 12.7s\tremaining: 12.7s\n",
            "600:\tlearn: 0.1301287\ttotal: 15s\tremaining: 9.97s\n",
            "700:\tlearn: 0.1275577\ttotal: 17.3s\tremaining: 7.38s\n",
            "800:\tlearn: 0.1255810\ttotal: 19.6s\tremaining: 4.86s\n",
            "900:\tlearn: 0.1239677\ttotal: 22.8s\tremaining: 2.51s\n",
            "999:\tlearn: 0.1228481\ttotal: 25.1s\tremaining: 0us\n"
          ]
        },
        {
          "output_type": "execute_result",
          "data": {
            "text/plain": [
              "<catboost.core.CatBoostRegressor at 0x7b9aee595a50>"
            ]
          },
          "metadata": {},
          "execution_count": 162
        }
      ]
    },
    {
      "cell_type": "code",
      "source": [
        "train[cat_features] = train[cat_features].fillna(0)"
      ],
      "metadata": {
        "id": "TeFIbc-hFe0y"
      },
      "execution_count": null,
      "outputs": []
    },
    {
      "cell_type": "code",
      "source": [
        "test['Price'] = model.predict(test[X])"
      ],
      "metadata": {
        "id": "_tEsjMPhEMLt"
      },
      "execution_count": null,
      "outputs": []
    },
    {
      "cell_type": "code",
      "source": [
        "test[['id', 'Price']].to_csv('it_5.csv', index = False)"
      ],
      "metadata": {
        "id": "zknjNZn7EMLu"
      },
      "execution_count": null,
      "outputs": []
    },
    {
      "cell_type": "markdown",
      "source": [
        "Score: **13.98718**\n",
        "\n",
        "Заполнив пропуски вручнуюи только в отдельных строках, не получилось улучшить собственный результат"
      ],
      "metadata": {
        "id": "0Opz2TYWGckK"
      }
    },
    {
      "cell_type": "markdown",
      "source": [
        "# Итерация 6. С изменение loss_function"
      ],
      "metadata": {
        "id": "E1LjRYwCG5l0"
      }
    },
    {
      "cell_type": "code",
      "source": [
        "X = ['Suburb', 'Rooms', 'Type', 'Method', 'SellerG',\n",
        "       'Distance', 'Postcode', 'Bedroom2', 'Bathroom', 'Car',\n",
        "     'Landsize', 'BuildingArea', 'YearBuilt', 'CouncilArea',\n",
        "     'Regionname', 'Propertycount']\n",
        "\n",
        "cat_features = ['Suburb',\n",
        "                'Type', 'Method', 'SellerG', 'Postcode',\n",
        "                'CouncilArea', 'Regionname',\n",
        "                ]\n",
        "\n",
        "y = ['Price']"
      ],
      "metadata": {
        "id": "CewgWEQ8G_CW"
      },
      "execution_count": null,
      "outputs": []
    },
    {
      "cell_type": "code",
      "source": [
        "train = pd.read_csv('/content/regression/train.csv')"
      ],
      "metadata": {
        "id": "VwymhypDG_CX"
      },
      "execution_count": null,
      "outputs": []
    },
    {
      "cell_type": "code",
      "source": [
        "train['Postcode'] = train['Postcode'].astype(int)\n",
        "train[cat_features] = train[cat_features].fillna(0)"
      ],
      "metadata": {
        "id": "Pp8M36--G_CZ"
      },
      "execution_count": null,
      "outputs": []
    },
    {
      "cell_type": "code",
      "source": [
        "# делаю валидационную выборку для оценки и проверки\n",
        "val, train = train_test_split(train, train_size=0.2, random_state=7374)\n",
        "\n",
        "val[cat_features] = val[cat_features].fillna(0)\n",
        "train[cat_features] = train[cat_features].fillna(0)"
      ],
      "metadata": {
        "id": "n-uz6wK9G_CX"
      },
      "execution_count": null,
      "outputs": []
    },
    {
      "cell_type": "code",
      "source": [
        "parameters = {'cat_features': cat_features,\n",
        "              'loss_function': 'MAE', # Измененный  параметр относительно наилучшей итерации\n",
        "              'eval_metric': 'MAPE',\n",
        "              'learning_rate': 0.077, # Измененный  параметр относительно наилучшей итерации (было 0.0777)\n",
        "              'random_seed':7374,\n",
        "              'verbose':100}"
      ],
      "metadata": {
        "id": "m5CuYBv5G_CX"
      },
      "execution_count": null,
      "outputs": []
    },
    {
      "cell_type": "code",
      "source": [
        "model = CatBoostRegressor(**parameters)"
      ],
      "metadata": {
        "id": "oggZA0EEG_CY"
      },
      "execution_count": null,
      "outputs": []
    },
    {
      "cell_type": "code",
      "source": [
        "model.fit(train[X],train[y],eval_set=(val[X],val[y]))"
      ],
      "metadata": {
        "colab": {
          "base_uri": "https://localhost:8080/"
        },
        "outputId": "f9f0d15a-9297-4aff-f925-9f48c31efb5f",
        "id": "iUGr0LqCG_CY"
      },
      "execution_count": null,
      "outputs": [
        {
          "output_type": "stream",
          "name": "stdout",
          "text": [
            "0:\tlearn: 0.4058673\ttest: 0.3959963\tbest: 0.3959963 (0)\ttotal: 33.2ms\tremaining: 33.2s\n",
            "100:\tlearn: 0.1628287\ttest: 0.1660514\tbest: 0.1660514 (100)\ttotal: 2.52s\tremaining: 22.5s\n",
            "200:\tlearn: 0.1470824\ttest: 0.1542652\tbest: 0.1542652 (200)\ttotal: 6.22s\tremaining: 24.7s\n",
            "300:\tlearn: 0.1400594\ttest: 0.1501505\tbest: 0.1501505 (300)\ttotal: 8.67s\tremaining: 20.1s\n",
            "400:\tlearn: 0.1357076\ttest: 0.1488933\tbest: 0.1488933 (400)\ttotal: 11.2s\tremaining: 16.7s\n",
            "500:\tlearn: 0.1323706\ttest: 0.1482673\tbest: 0.1482570 (499)\ttotal: 13.6s\tremaining: 13.6s\n",
            "600:\tlearn: 0.1298295\ttest: 0.1477767\tbest: 0.1477767 (600)\ttotal: 16.9s\tremaining: 11.2s\n",
            "700:\tlearn: 0.1272554\ttest: 0.1472692\tbest: 0.1472021 (697)\ttotal: 19.7s\tremaining: 8.4s\n",
            "800:\tlearn: 0.1251499\ttest: 0.1469650\tbest: 0.1468358 (771)\ttotal: 22.1s\tremaining: 5.5s\n",
            "900:\tlearn: 0.1234897\ttest: 0.1466957\tbest: 0.1466304 (884)\ttotal: 24.5s\tremaining: 2.69s\n",
            "999:\tlearn: 0.1220903\ttest: 0.1464182\tbest: 0.1463972 (996)\ttotal: 26.9s\tremaining: 0us\n",
            "\n",
            "bestTest = 0.1463971624\n",
            "bestIteration = 996\n",
            "\n",
            "Shrink model to first 997 iterations.\n"
          ]
        },
        {
          "output_type": "execute_result",
          "data": {
            "text/plain": [
              "<catboost.core.CatBoostRegressor at 0x7b9aee596140>"
            ]
          },
          "metadata": {},
          "execution_count": 315
        }
      ]
    },
    {
      "cell_type": "code",
      "source": [
        "val['Price_pred_it1_1'] = model.predict(val[X])"
      ],
      "metadata": {
        "id": "GaK_aLxvG_CY"
      },
      "execution_count": null,
      "outputs": []
    },
    {
      "cell_type": "code",
      "source": [
        "error(val['Price'],val['Price_pred_it1_1'])"
      ],
      "metadata": {
        "colab": {
          "base_uri": "https://localhost:8080/"
        },
        "outputId": "13a84314-bdc0-46b1-a641-5903abe14510",
        "id": "JQui4Z3XG_CY"
      },
      "execution_count": null,
      "outputs": [
        {
          "output_type": "stream",
          "name": "stdout",
          "text": [
            "163790.94968423047\n",
            "0.1463971624132058\n"
          ]
        }
      ]
    },
    {
      "cell_type": "markdown",
      "source": [
        "Улучшился результат по МАРЕ\n",
        "\n",
        "Попробуем обучить с этим набором фич/параметров модель на всех train данных и сделать еще сабмит"
      ],
      "metadata": {
        "id": "WTTTLaAwG_CY"
      }
    },
    {
      "cell_type": "code",
      "source": [
        "model = CatBoostRegressor(**parameters)"
      ],
      "metadata": {
        "id": "cBKVpzIvG_CZ"
      },
      "execution_count": null,
      "outputs": []
    },
    {
      "cell_type": "code",
      "source": [
        "model.fit(train[X],train[y])"
      ],
      "metadata": {
        "colab": {
          "base_uri": "https://localhost:8080/"
        },
        "outputId": "852f621d-3cb0-408f-b455-5ef231b96cf1",
        "id": "Jds3r_pSG_CZ"
      },
      "execution_count": null,
      "outputs": [
        {
          "output_type": "stream",
          "name": "stdout",
          "text": [
            "0:\tlearn: 0.4058673\ttotal: 26.5ms\tremaining: 26.4s\n",
            "100:\tlearn: 0.1628287\ttotal: 3.54s\tremaining: 31.5s\n",
            "200:\tlearn: 0.1470824\ttotal: 5.92s\tremaining: 23.5s\n",
            "300:\tlearn: 0.1400594\ttotal: 8.23s\tremaining: 19.1s\n",
            "400:\tlearn: 0.1357076\ttotal: 10.6s\tremaining: 15.8s\n",
            "500:\tlearn: 0.1323706\ttotal: 13.2s\tremaining: 13.2s\n",
            "600:\tlearn: 0.1298295\ttotal: 16.3s\tremaining: 10.9s\n",
            "700:\tlearn: 0.1272554\ttotal: 18.7s\tremaining: 7.96s\n",
            "800:\tlearn: 0.1251499\ttotal: 20.9s\tremaining: 5.2s\n",
            "900:\tlearn: 0.1234897\ttotal: 23.2s\tremaining: 2.55s\n",
            "999:\tlearn: 0.1220903\ttotal: 27.8s\tremaining: 0us\n"
          ]
        },
        {
          "output_type": "execute_result",
          "data": {
            "text/plain": [
              "<catboost.core.CatBoostRegressor at 0x7b9aeec405e0>"
            ]
          },
          "metadata": {},
          "execution_count": 320
        }
      ]
    },
    {
      "cell_type": "code",
      "source": [
        "test = pd.read_csv('/content/regression/test.csv')\n",
        "test['Postcode'] = test['Postcode'].astype(int)\n",
        "test[cat_features] = test[cat_features].fillna(0)"
      ],
      "metadata": {
        "id": "nvV7L4jHPGRn"
      },
      "execution_count": null,
      "outputs": []
    },
    {
      "cell_type": "code",
      "source": [
        "test['Price'] = model.predict(test[X])"
      ],
      "metadata": {
        "colab": {
          "base_uri": "https://localhost:8080/",
          "height": 685
        },
        "id": "ndUnYayfG_CZ",
        "outputId": "619fd69b-c714-43aa-decb-2a80f28fdc68"
      },
      "execution_count": null,
      "outputs": [
        {
          "output_type": "error",
          "ename": "CatBoostError",
          "evalue": "Invalid type for cat_feature[non-default value idx=0,feature_idx=6]=3067.0 : cat_features must be integer or string, real number values and NaN values should be converted to string.",
          "traceback": [
            "\u001b[0;31m---------------------------------------------------------------------------\u001b[0m",
            "\u001b[0;31mCatBoostError\u001b[0m                             Traceback (most recent call last)",
            "\u001b[0;32m_catboost.pyx\u001b[0m in \u001b[0;36m_catboost.get_cat_factor_bytes_representation\u001b[0;34m()\u001b[0m\n",
            "\u001b[0;32m_catboost.pyx\u001b[0m in \u001b[0;36m_catboost.get_id_object_bytes_string_representation\u001b[0;34m()\u001b[0m\n",
            "\u001b[0;31mCatBoostError\u001b[0m: bad object for id: 3067.0",
            "\nDuring handling of the above exception, another exception occurred:\n",
            "\u001b[0;31mCatBoostError\u001b[0m                             Traceback (most recent call last)",
            "\u001b[0;32m<ipython-input-321-c25c31bedc75>\u001b[0m in \u001b[0;36m<cell line: 1>\u001b[0;34m()\u001b[0m\n\u001b[0;32m----> 1\u001b[0;31m \u001b[0mtest\u001b[0m\u001b[0;34m[\u001b[0m\u001b[0;34m'Price'\u001b[0m\u001b[0;34m]\u001b[0m \u001b[0;34m=\u001b[0m \u001b[0mmodel\u001b[0m\u001b[0;34m.\u001b[0m\u001b[0mpredict\u001b[0m\u001b[0;34m(\u001b[0m\u001b[0mtest\u001b[0m\u001b[0;34m[\u001b[0m\u001b[0mX\u001b[0m\u001b[0;34m]\u001b[0m\u001b[0;34m)\u001b[0m\u001b[0;34m\u001b[0m\u001b[0;34m\u001b[0m\u001b[0m\n\u001b[0m",
            "\u001b[0;32m/usr/local/lib/python3.10/dist-packages/catboost/core.py\u001b[0m in \u001b[0;36mpredict\u001b[0;34m(self, data, prediction_type, ntree_start, ntree_end, thread_count, verbose, task_type)\u001b[0m\n\u001b[1;32m   5746\u001b[0m         \u001b[0;32mif\u001b[0m \u001b[0mprediction_type\u001b[0m \u001b[0;32mis\u001b[0m \u001b[0;32mNone\u001b[0m\u001b[0;34m:\u001b[0m\u001b[0;34m\u001b[0m\u001b[0;34m\u001b[0m\u001b[0m\n\u001b[1;32m   5747\u001b[0m             \u001b[0mprediction_type\u001b[0m \u001b[0;34m=\u001b[0m \u001b[0mself\u001b[0m\u001b[0;34m.\u001b[0m\u001b[0m_get_default_prediction_type\u001b[0m\u001b[0;34m(\u001b[0m\u001b[0;34m)\u001b[0m\u001b[0;34m\u001b[0m\u001b[0;34m\u001b[0m\u001b[0m\n\u001b[0;32m-> 5748\u001b[0;31m         \u001b[0;32mreturn\u001b[0m \u001b[0mself\u001b[0m\u001b[0;34m.\u001b[0m\u001b[0m_predict\u001b[0m\u001b[0;34m(\u001b[0m\u001b[0mdata\u001b[0m\u001b[0;34m,\u001b[0m \u001b[0mprediction_type\u001b[0m\u001b[0;34m,\u001b[0m \u001b[0mntree_start\u001b[0m\u001b[0;34m,\u001b[0m \u001b[0mntree_end\u001b[0m\u001b[0;34m,\u001b[0m \u001b[0mthread_count\u001b[0m\u001b[0;34m,\u001b[0m \u001b[0mverbose\u001b[0m\u001b[0;34m,\u001b[0m \u001b[0;34m'predict'\u001b[0m\u001b[0;34m,\u001b[0m \u001b[0mtask_type\u001b[0m\u001b[0;34m)\u001b[0m\u001b[0;34m\u001b[0m\u001b[0;34m\u001b[0m\u001b[0m\n\u001b[0m\u001b[1;32m   5749\u001b[0m \u001b[0;34m\u001b[0m\u001b[0m\n\u001b[1;32m   5750\u001b[0m     \u001b[0;32mdef\u001b[0m \u001b[0mstaged_predict\u001b[0m\u001b[0;34m(\u001b[0m\u001b[0mself\u001b[0m\u001b[0;34m,\u001b[0m \u001b[0mdata\u001b[0m\u001b[0;34m,\u001b[0m \u001b[0mprediction_type\u001b[0m\u001b[0;34m=\u001b[0m\u001b[0;34m'RawFormulaVal'\u001b[0m\u001b[0;34m,\u001b[0m \u001b[0mntree_start\u001b[0m\u001b[0;34m=\u001b[0m\u001b[0;36m0\u001b[0m\u001b[0;34m,\u001b[0m \u001b[0mntree_end\u001b[0m\u001b[0;34m=\u001b[0m\u001b[0;36m0\u001b[0m\u001b[0;34m,\u001b[0m \u001b[0meval_period\u001b[0m\u001b[0;34m=\u001b[0m\u001b[0;36m1\u001b[0m\u001b[0;34m,\u001b[0m \u001b[0mthread_count\u001b[0m\u001b[0;34m=\u001b[0m\u001b[0;34m-\u001b[0m\u001b[0;36m1\u001b[0m\u001b[0;34m,\u001b[0m \u001b[0mverbose\u001b[0m\u001b[0;34m=\u001b[0m\u001b[0;32mNone\u001b[0m\u001b[0;34m)\u001b[0m\u001b[0;34m:\u001b[0m\u001b[0;34m\u001b[0m\u001b[0;34m\u001b[0m\u001b[0m\n",
            "\u001b[0;32m/usr/local/lib/python3.10/dist-packages/catboost/core.py\u001b[0m in \u001b[0;36m_predict\u001b[0;34m(self, data, prediction_type, ntree_start, ntree_end, thread_count, verbose, parent_method_name, task_type)\u001b[0m\n\u001b[1;32m   2503\u001b[0m         \u001b[0;32mif\u001b[0m \u001b[0mverbose\u001b[0m \u001b[0;32mis\u001b[0m \u001b[0;32mNone\u001b[0m\u001b[0;34m:\u001b[0m\u001b[0;34m\u001b[0m\u001b[0;34m\u001b[0m\u001b[0m\n\u001b[1;32m   2504\u001b[0m             \u001b[0mverbose\u001b[0m \u001b[0;34m=\u001b[0m \u001b[0;32mFalse\u001b[0m\u001b[0;34m\u001b[0m\u001b[0;34m\u001b[0m\u001b[0m\n\u001b[0;32m-> 2505\u001b[0;31m         \u001b[0mdata\u001b[0m\u001b[0;34m,\u001b[0m \u001b[0mdata_is_single_object\u001b[0m \u001b[0;34m=\u001b[0m \u001b[0mself\u001b[0m\u001b[0;34m.\u001b[0m\u001b[0m_process_predict_input_data\u001b[0m\u001b[0;34m(\u001b[0m\u001b[0mdata\u001b[0m\u001b[0;34m,\u001b[0m \u001b[0mparent_method_name\u001b[0m\u001b[0;34m,\u001b[0m \u001b[0mthread_count\u001b[0m\u001b[0;34m)\u001b[0m\u001b[0;34m\u001b[0m\u001b[0;34m\u001b[0m\u001b[0m\n\u001b[0m\u001b[1;32m   2506\u001b[0m         \u001b[0mself\u001b[0m\u001b[0;34m.\u001b[0m\u001b[0m_validate_prediction_type\u001b[0m\u001b[0;34m(\u001b[0m\u001b[0mprediction_type\u001b[0m\u001b[0;34m)\u001b[0m\u001b[0;34m\u001b[0m\u001b[0;34m\u001b[0m\u001b[0m\n\u001b[1;32m   2507\u001b[0m \u001b[0;34m\u001b[0m\u001b[0m\n",
            "\u001b[0;32m/usr/local/lib/python3.10/dist-packages/catboost/core.py\u001b[0m in \u001b[0;36m_process_predict_input_data\u001b[0;34m(self, data, parent_method_name, thread_count, label)\u001b[0m\n\u001b[1;32m   2483\u001b[0m         \u001b[0mis_single_object\u001b[0m \u001b[0;34m=\u001b[0m \u001b[0m_is_data_single_object\u001b[0m\u001b[0;34m(\u001b[0m\u001b[0mdata\u001b[0m\u001b[0;34m)\u001b[0m\u001b[0;34m\u001b[0m\u001b[0;34m\u001b[0m\u001b[0m\n\u001b[1;32m   2484\u001b[0m         \u001b[0;32mif\u001b[0m \u001b[0;32mnot\u001b[0m \u001b[0misinstance\u001b[0m\u001b[0;34m(\u001b[0m\u001b[0mdata\u001b[0m\u001b[0;34m,\u001b[0m \u001b[0mPool\u001b[0m\u001b[0;34m)\u001b[0m\u001b[0;34m:\u001b[0m\u001b[0;34m\u001b[0m\u001b[0;34m\u001b[0m\u001b[0m\n\u001b[0;32m-> 2485\u001b[0;31m             data = Pool(\n\u001b[0m\u001b[1;32m   2486\u001b[0m                 \u001b[0mdata\u001b[0m\u001b[0;34m=\u001b[0m\u001b[0;34m[\u001b[0m\u001b[0mdata\u001b[0m\u001b[0;34m]\u001b[0m \u001b[0;32mif\u001b[0m \u001b[0mis_single_object\u001b[0m \u001b[0;32melse\u001b[0m \u001b[0mdata\u001b[0m\u001b[0;34m,\u001b[0m\u001b[0;34m\u001b[0m\u001b[0;34m\u001b[0m\u001b[0m\n\u001b[1;32m   2487\u001b[0m                 \u001b[0mlabel\u001b[0m\u001b[0;34m=\u001b[0m\u001b[0mlabel\u001b[0m\u001b[0;34m,\u001b[0m\u001b[0;34m\u001b[0m\u001b[0;34m\u001b[0m\u001b[0m\n",
            "\u001b[0;32m/usr/local/lib/python3.10/dist-packages/catboost/core.py\u001b[0m in \u001b[0;36m__init__\u001b[0;34m(self, data, label, cat_features, text_features, embedding_features, embedding_features_data, column_description, pairs, delimiter, has_header, ignore_csv_quoting, weight, group_id, group_weight, subgroup_id, pairs_weight, baseline, timestamp, feature_names, feature_tags, thread_count, log_cout, log_cerr)\u001b[0m\n\u001b[1;32m    791\u001b[0m                     )\n\u001b[1;32m    792\u001b[0m \u001b[0;34m\u001b[0m\u001b[0m\n\u001b[0;32m--> 793\u001b[0;31m                 self._init(data, label, cat_features, text_features, embedding_features, embedding_features_data, pairs, weight,\n\u001b[0m\u001b[1;32m    794\u001b[0m                            group_id, group_weight, subgroup_id, pairs_weight, baseline, timestamp, feature_names, feature_tags, thread_count)\n\u001b[1;32m    795\u001b[0m         \u001b[0msuper\u001b[0m\u001b[0;34m(\u001b[0m\u001b[0mPool\u001b[0m\u001b[0;34m,\u001b[0m \u001b[0mself\u001b[0m\u001b[0;34m)\u001b[0m\u001b[0;34m.\u001b[0m\u001b[0m__init__\u001b[0m\u001b[0;34m(\u001b[0m\u001b[0;34m)\u001b[0m\u001b[0;34m\u001b[0m\u001b[0;34m\u001b[0m\u001b[0m\n",
            "\u001b[0;32m/usr/local/lib/python3.10/dist-packages/catboost/core.py\u001b[0m in \u001b[0;36m_init\u001b[0;34m(self, data, label, cat_features, text_features, embedding_features, embedding_features_data, pairs, weight, group_id, group_weight, subgroup_id, pairs_weight, baseline, timestamp, feature_names, feature_tags, thread_count)\u001b[0m\n\u001b[1;32m   1423\u001b[0m         \u001b[0;32mif\u001b[0m \u001b[0mfeature_tags\u001b[0m \u001b[0;32mis\u001b[0m \u001b[0;32mnot\u001b[0m \u001b[0;32mNone\u001b[0m\u001b[0;34m:\u001b[0m\u001b[0;34m\u001b[0m\u001b[0;34m\u001b[0m\u001b[0m\n\u001b[1;32m   1424\u001b[0m             \u001b[0mfeature_tags\u001b[0m \u001b[0;34m=\u001b[0m \u001b[0mself\u001b[0m\u001b[0;34m.\u001b[0m\u001b[0m_check_transform_tags\u001b[0m\u001b[0;34m(\u001b[0m\u001b[0mfeature_tags\u001b[0m\u001b[0;34m,\u001b[0m \u001b[0mfeature_names\u001b[0m\u001b[0;34m)\u001b[0m\u001b[0;34m\u001b[0m\u001b[0;34m\u001b[0m\u001b[0m\n\u001b[0;32m-> 1425\u001b[0;31m         self._init_pool(data, label, cat_features, text_features, embedding_features, embedding_features_data, pairs, weight,\n\u001b[0m\u001b[1;32m   1426\u001b[0m                         group_id, group_weight, subgroup_id, pairs_weight, baseline, timestamp, feature_names, feature_tags, thread_count)\n\u001b[1;32m   1427\u001b[0m \u001b[0;34m\u001b[0m\u001b[0m\n",
            "\u001b[0;32m_catboost.pyx\u001b[0m in \u001b[0;36m_catboost._PoolBase._init_pool\u001b[0;34m()\u001b[0m\n",
            "\u001b[0;32m_catboost.pyx\u001b[0m in \u001b[0;36m_catboost._PoolBase._init_pool\u001b[0;34m()\u001b[0m\n",
            "\u001b[0;32m_catboost.pyx\u001b[0m in \u001b[0;36m_catboost._PoolBase._init_features_order_layout_pool\u001b[0;34m()\u001b[0m\n",
            "\u001b[0;32m_catboost.pyx\u001b[0m in \u001b[0;36m_catboost._set_features_order_data_pd_data_frame\u001b[0;34m()\u001b[0m\n",
            "\u001b[0;32m_catboost.pyx\u001b[0m in \u001b[0;36m_catboost.get_cat_factor_bytes_representation\u001b[0;34m()\u001b[0m\n",
            "\u001b[0;31mCatBoostError\u001b[0m: Invalid type for cat_feature[non-default value idx=0,feature_idx=6]=3067.0 : cat_features must be integer or string, real number values and NaN values should be converted to string."
          ]
        }
      ]
    },
    {
      "cell_type": "code",
      "source": [
        "test[['id', 'Price']].to_csv('it_6_MAE.csv', index = False)"
      ],
      "metadata": {
        "id": "VJaDzG5fG_CZ"
      },
      "execution_count": null,
      "outputs": []
    },
    {
      "cell_type": "markdown",
      "source": [
        "Score: **20.06784** - lossfunction **RMSE** Ошибочный ('learning_rate': 0.92)  \n",
        "Score: **14.73896** - lossfunction **RMSE** Ошибочный ('learning_rate': 0.092)"
      ],
      "metadata": {
        "id": "KbHb6M7zJTpu"
      }
    },
    {
      "cell_type": "markdown",
      "source": [
        "# Итерация 7. Подбор параметров с помощью grid"
      ],
      "metadata": {
        "id": "WtBuGm32Mle5"
      }
    },
    {
      "cell_type": "markdown",
      "source": [
        "## Предобработка"
      ],
      "metadata": {
        "id": "c2o05aQmMr8w"
      }
    },
    {
      "cell_type": "code",
      "source": [
        "X = ['Suburb', 'Rooms', 'Type', 'Method', 'SellerG',\n",
        "       'Distance', 'Postcode', 'Bedroom2', 'Bathroom', 'Car',\n",
        "     'Landsize', 'BuildingArea', 'YearBuilt', 'CouncilArea',\n",
        "     'Regionname', 'Propertycount']\n",
        "\n",
        "cat_features = ['Suburb',\n",
        "                'Type', 'Method', 'SellerG', 'Postcode',\n",
        "                'CouncilArea', 'Regionname',\n",
        "                ]\n",
        "\n",
        "y = ['Price']"
      ],
      "metadata": {
        "id": "JZou8poOM-fG"
      },
      "execution_count": null,
      "outputs": []
    },
    {
      "cell_type": "code",
      "source": [
        "train = pd.read_csv('/content/regression/train.csv')\n",
        "train['Postcode'] = train['Postcode'].astype(int)\n",
        "train[cat_features] = train[cat_features].fillna(0)"
      ],
      "metadata": {
        "id": "drFRGNXlM-fG"
      },
      "execution_count": null,
      "outputs": []
    },
    {
      "cell_type": "code",
      "source": [
        "test = pd.read_csv('/content/regression/test.csv')\n",
        "test[cat_features] = test[cat_features].fillna(0)\n",
        "test['Postcode'] = test['Postcode'].astype(int)"
      ],
      "metadata": {
        "id": "uTkWgBo6VsZl"
      },
      "execution_count": null,
      "outputs": []
    },
    {
      "cell_type": "code",
      "source": [
        "train.loc[train['YearBuilt'] <= 1847, 'YearBuilt'] = 1847\n",
        "test.loc[test['YearBuilt'] <= 1847, 'YearBuilt'] = 1847\n",
        "\n",
        "\n",
        "# преобразование YearBuilt\n",
        "test.loc[test['YearBuilt'] <= 1847, 'YearBuilt'] = 1847\n",
        "# преобразование BuildingArea (только экстремумы (предположительно выбросы))\n",
        "test.loc[test['BuildingArea'] >= 15000, 'BuildingArea'] = test['BuildingArea']/100\n",
        "# преобразование Bedroom2\n",
        "test.loc[test['Bedroom2'].isna(), 'Bedroom2'] = test['Rooms']\n",
        "# преобразование Bathroom\n",
        "test.loc[(test['Bathroom'] == 0), 'Bathroom'] = 1\n",
        "test.loc[(test['Bathroom'].isna()) & (test['Rooms'] <= 3), 'Bathroom'] = 1\n",
        "test.loc[(test['Bathroom'].isna()) & (test['Rooms'] == 4), 'Bathroom'] = 2\n",
        "test.loc[(test['Bathroom'].isna()) & (test['Rooms'] == 5), 'Bathroom'] = 2\n",
        "test.loc[(test['Bathroom'].isna()) & (test['Rooms'] > 5), 'Bathroom'] = 3\n",
        "# преобразование Car\n",
        "test.loc[(test['Car'].isna()) & (test['Rooms'] <= 2), 'Car'] = 1\n",
        "test.loc[(test['Car'].isna()) & (test['Rooms'] == 3), 'Car'] = 2\n",
        "test.loc[(test['Car'].isna()) & (test['Rooms'] == 4), 'Car'] = 2\n",
        "test.loc[(test['Car'].isna()) & (test['Rooms'] == 5), 'Car'] = 2\n",
        "test.loc[(test['Car'].isna()) & (test['Rooms'] >= 6), 'Car'] = 3\n",
        "\n",
        "# Заполняем значения ячеек по индексу строки\n",
        "test.loc[2634, 'CouncilArea'] = 'Boroondara City Council'\n",
        "test.loc[2634, 'Regionname'] = 'Southern Metropolitan'\n",
        "test.loc[2634, 'Propertycount'] = 8920\n",
        "\n",
        "# Заполняем значения ячеек по индексу строки\n",
        "test.loc[4628, 'CouncilArea'] = 'Hume City Council'\n",
        "test.loc[4628, 'Regionname'] = 'Northern Metropolitan'\n",
        "test.loc[4628, 'Propertycount'] = 5070\n",
        "test.loc[4628, 'Postcode'] = 3060\n",
        "\n",
        "# Заполняем значения ячеек по индексу строки\n",
        "train.loc[14406, 'CouncilArea'] = 'Maribyrnong City Council'\n",
        "train.loc[14406, 'Regionname'] = 'Western Metropolitan'\n",
        "train.loc[14406, 'Propertycount'] = 7570"
      ],
      "metadata": {
        "id": "McobliYiWUE-"
      },
      "execution_count": null,
      "outputs": []
    },
    {
      "cell_type": "markdown",
      "source": [
        "## Параметры и грид"
      ],
      "metadata": {
        "id": "VQuE-PaOWRvy"
      }
    },
    {
      "cell_type": "code",
      "source": [
        "parameters = {'cat_features': cat_features,\n",
        "              'random_seed':7374,\n",
        "              'verbose':100,\n",
        "              #'subsample': 0.9,\n",
        "              'bootstrap_type': 'Bernoulli'}"
      ],
      "metadata": {
        "id": "xHaqOr7WM-fG"
      },
      "execution_count": null,
      "outputs": []
    },
    {
      "cell_type": "code",
      "source": [
        "grid = {'learning_rate': [0,15, 0.12, 0.125],\n",
        "        'depth': [5, 6]}"
      ],
      "metadata": {
        "id": "u1bKBcPcNMR4"
      },
      "execution_count": null,
      "outputs": []
    },
    {
      "cell_type": "code",
      "source": [
        "train_data = Pool(data=train[X], label=train[y], cat_features=cat_features )"
      ],
      "metadata": {
        "id": "VxTMRfhjOTdU"
      },
      "execution_count": null,
      "outputs": []
    },
    {
      "cell_type": "code",
      "source": [
        "model = CatBoostRegressor(**parameters)"
      ],
      "metadata": {
        "id": "TM60d7J7M-fG"
      },
      "execution_count": null,
      "outputs": []
    },
    {
      "cell_type": "code",
      "source": [
        "result = model.grid_search(grid, train_data, verbose=True, cv=5)"
      ],
      "metadata": {
        "colab": {
          "base_uri": "https://localhost:8080/"
        },
        "outputId": "15bbd7d4-a773-4cde-9527-bb310ce532f9",
        "id": "lNoogvLIM-fG"
      },
      "execution_count": null,
      "outputs": [
        {
          "output_type": "stream",
          "name": "stderr",
          "text": [
            "learning rate is greater than 1. You probably need to decrease learning rate.\n"
          ]
        },
        {
          "output_type": "stream",
          "name": "stdout",
          "text": [
            "0:\tlearn: 15641529.4318550\ttest: 16993553.0919232\tbest: 16993553.0919232 (0)\ttotal: 16.2ms\tremaining: 16.1s\n",
            "100:\tlearn: 4.361134415234856e+121\ttest: 4.0015823158441117e+121\tbest: 16993553.0919232 (0)\ttotal: 885ms\tremaining: 7.88s\n",
            "200:\tlearn: inf\ttest: inf\tbest: 16993553.0919232 (0)\ttotal: 1.21s\tremaining: 4.81s\n",
            "\n",
            "bestTest = 16993553.09\n",
            "bestIteration = 0\n",
            "\n",
            "0:\tloss: 16993553.0919232\tbest: 16993553.0919232 (0)\ttotal: 1.33s\tremaining: 9.31s\n",
            "0:\tlearn: 1096024.0110001\ttest: 1107574.5944709\tbest: 1107574.5944709 (0)\ttotal: 15.8ms\tremaining: 15.8s\n"
          ]
        },
        {
          "output_type": "stream",
          "name": "stderr",
          "text": [
            "Training has stopped (degenerate solution on iteration 261, probably too small l2-regularization, try to increase it)\n"
          ]
        },
        {
          "output_type": "stream",
          "name": "stdout",
          "text": [
            "100:\tlearn: 289310.4176303\ttest: 305925.8733990\tbest: 305925.8733990 (100)\ttotal: 1.24s\tremaining: 11s\n",
            "200:\tlearn: 264032.5243801\ttest: 288435.2323745\tbest: 288435.2323745 (200)\ttotal: 2.52s\tremaining: 10s\n",
            "300:\tlearn: 250630.1143433\ttest: 281350.8793660\tbest: 281350.8793660 (300)\ttotal: 3.79s\tremaining: 8.81s\n",
            "400:\tlearn: 240665.1379500\ttest: 278396.0886683\tbest: 278295.3402976 (396)\ttotal: 5.21s\tremaining: 7.78s\n",
            "500:\tlearn: 233477.3742200\ttest: 276621.2245011\tbest: 276621.2245011 (500)\ttotal: 6.86s\tremaining: 6.83s\n",
            "600:\tlearn: 227039.6164418\ttest: 275391.8911408\tbest: 275391.8911408 (600)\ttotal: 8.08s\tremaining: 5.36s\n",
            "700:\tlearn: 222165.0724428\ttest: 274277.5984730\tbest: 274277.5984730 (700)\ttotal: 9.3s\tremaining: 3.97s\n",
            "800:\tlearn: 217082.3683213\ttest: 274368.5914121\tbest: 274039.4187359 (749)\ttotal: 10.5s\tremaining: 2.61s\n",
            "900:\tlearn: 212520.7044239\ttest: 274091.2955855\tbest: 273846.1391089 (863)\ttotal: 11.7s\tremaining: 1.29s\n",
            "999:\tlearn: 208525.4194083\ttest: 274109.6166415\tbest: 273846.1391089 (863)\ttotal: 12.9s\tremaining: 0us\n",
            "\n",
            "bestTest = 273846.1391\n",
            "bestIteration = 863\n",
            "\n",
            "1:\tloss: 273846.1391089\tbest: 273846.1391089 (1)\ttotal: 14.3s\tremaining: 42.9s\n",
            "0:\tlearn: 1090991.1802169\ttest: 1102025.4045229\tbest: 1102025.4045229 (0)\ttotal: 16.4ms\tremaining: 16.4s\n",
            "100:\tlearn: 289518.9421359\ttest: 305941.3072442\tbest: 305941.3072442 (100)\ttotal: 1.2s\tremaining: 10.7s\n",
            "200:\tlearn: 264077.1121371\ttest: 287506.6987217\tbest: 287506.6987217 (200)\ttotal: 2.41s\tremaining: 9.59s\n",
            "300:\tlearn: 250297.1133687\ttest: 280541.8888649\tbest: 280541.8888649 (300)\ttotal: 4.18s\tremaining: 9.71s\n",
            "400:\tlearn: 241313.7801661\ttest: 278043.9556917\tbest: 278043.9556917 (400)\ttotal: 5.42s\tremaining: 8.09s\n",
            "500:\tlearn: 233397.5311346\ttest: 276264.8373332\tbest: 275921.0955367 (487)\ttotal: 6.65s\tremaining: 6.62s\n",
            "600:\tlearn: 226856.0455186\ttest: 274980.6599295\tbest: 274980.6599295 (600)\ttotal: 7.88s\tremaining: 5.23s\n",
            "700:\tlearn: 221133.4950610\ttest: 274281.3577575\tbest: 273937.6508323 (668)\ttotal: 9.07s\tremaining: 3.87s\n",
            "800:\tlearn: 215851.8269610\ttest: 274092.9056654\tbest: 273764.8881492 (788)\ttotal: 10.3s\tremaining: 2.56s\n",
            "900:\tlearn: 211396.5243573\ttest: 274445.7784085\tbest: 273764.8881492 (788)\ttotal: 11.6s\tremaining: 1.27s\n",
            "999:\tlearn: 207198.1065813\ttest: 273921.4889144\tbest: 273764.8881492 (788)\ttotal: 12.8s\tremaining: 0us\n",
            "\n",
            "bestTest = 273764.8881\n",
            "bestIteration = 788\n",
            "\n",
            "2:\tloss: 273764.8881492\tbest: 273764.8881492 (2)\ttotal: 27.1s\tremaining: 45.2s\n",
            "0:\tlearn: 15641529.4318550\ttest: 16993553.0919232\tbest: 16993553.0919232 (0)\ttotal: 19.2ms\tremaining: 19.2s\n"
          ]
        },
        {
          "output_type": "stream",
          "name": "stderr",
          "text": [
            "learning rate is greater than 1. You probably need to decrease learning rate.\n"
          ]
        },
        {
          "output_type": "stream",
          "name": "stdout",
          "text": [
            "100:\tlearn: 4.360445360806467e+121\ttest: 4.001525780207947e+121\tbest: 16993553.0919232 (0)\ttotal: 1.07s\tremaining: 9.49s\n",
            "200:\tlearn: inf\ttest: inf\tbest: 16993553.0919232 (0)\ttotal: 1.47s\tremaining: 5.83s\n"
          ]
        },
        {
          "output_type": "stream",
          "name": "stderr",
          "text": [
            "Training has stopped (degenerate solution on iteration 261, probably too small l2-regularization, try to increase it)\n"
          ]
        },
        {
          "output_type": "stream",
          "name": "stdout",
          "text": [
            "\n",
            "bestTest = 16993553.09\n",
            "bestIteration = 0\n",
            "\n",
            "3:\tloss: 16993553.0919232\tbest: 273764.8881492 (2)\ttotal: 28.8s\tremaining: 28.8s\n",
            "0:\tlearn: 1096024.0110001\ttest: 1107574.5944709\tbest: 1107574.5944709 (0)\ttotal: 36.7ms\tremaining: 36.6s\n",
            "100:\tlearn: 277608.3821810\ttest: 298732.7892527\tbest: 298732.7892527 (100)\ttotal: 1.94s\tremaining: 17.2s\n",
            "200:\tlearn: 250885.0220834\ttest: 281231.7804955\tbest: 281231.7804955 (200)\ttotal: 3.56s\tremaining: 14.2s\n",
            "300:\tlearn: 235556.0105126\ttest: 275879.1866517\tbest: 275879.1866517 (300)\ttotal: 5.12s\tremaining: 11.9s\n",
            "400:\tlearn: 224807.5031091\ttest: 273538.2866386\tbest: 273514.0448197 (391)\ttotal: 6.72s\tremaining: 10s\n",
            "500:\tlearn: 215606.7757037\ttest: 272089.8099218\tbest: 272002.0265991 (492)\ttotal: 8.31s\tremaining: 8.28s\n",
            "600:\tlearn: 207515.2544279\ttest: 271959.4336551\tbest: 271737.7424823 (580)\ttotal: 9.96s\tremaining: 6.61s\n",
            "700:\tlearn: 200477.7151553\ttest: 271611.3396846\tbest: 271366.6008685 (662)\ttotal: 12s\tremaining: 5.14s\n",
            "800:\tlearn: 194205.6475639\ttest: 271470.5397487\tbest: 271366.6008685 (662)\ttotal: 13.6s\tremaining: 3.39s\n",
            "900:\tlearn: 188388.5686551\ttest: 271163.1135310\tbest: 271038.5676086 (842)\ttotal: 15.2s\tremaining: 1.67s\n",
            "999:\tlearn: 183395.7837017\ttest: 270987.3860328\tbest: 270851.2902753 (955)\ttotal: 16.8s\tremaining: 0us\n",
            "\n",
            "bestTest = 270851.2903\n",
            "bestIteration = 955\n",
            "\n",
            "4:\tloss: 270851.2902753\tbest: 270851.2902753 (4)\ttotal: 45.6s\tremaining: 27.4s\n",
            "0:\tlearn: 1090991.1802169\ttest: 1102025.4045229\tbest: 1102025.4045229 (0)\ttotal: 20.5ms\tremaining: 20.5s\n",
            "100:\tlearn: 272561.0466768\ttest: 295460.7330527\tbest: 295460.7330527 (100)\ttotal: 1.57s\tremaining: 14s\n",
            "200:\tlearn: 246288.8459128\ttest: 282684.9260081\tbest: 282684.9260081 (200)\ttotal: 3.22s\tremaining: 12.8s\n",
            "300:\tlearn: 231962.2471853\ttest: 277442.6502258\tbest: 277437.6350034 (299)\ttotal: 4.85s\tremaining: 11.3s\n",
            "400:\tlearn: 221219.5364150\ttest: 273918.2608156\tbest: 273876.2265585 (397)\ttotal: 6.97s\tremaining: 10.4s\n",
            "500:\tlearn: 211806.1719169\ttest: 273116.7279422\tbest: 273011.6524052 (489)\ttotal: 8.57s\tremaining: 8.53s\n",
            "600:\tlearn: 204191.9091244\ttest: 272898.3375286\tbest: 272792.9629943 (592)\ttotal: 10.2s\tremaining: 6.74s\n",
            "700:\tlearn: 197086.1032973\ttest: 272521.1498641\tbest: 272445.3222988 (687)\ttotal: 11.7s\tremaining: 5.01s\n",
            "800:\tlearn: 191116.6980145\ttest: 272639.5625285\tbest: 272324.8288634 (733)\ttotal: 13.3s\tremaining: 3.31s\n",
            "900:\tlearn: 185519.2276416\ttest: 272069.7764820\tbest: 272012.9610714 (888)\ttotal: 14.9s\tremaining: 1.64s\n",
            "999:\tlearn: 180343.0702045\ttest: 271854.7253292\tbest: 271710.5366700 (971)\ttotal: 16.7s\tremaining: 0us\n",
            "\n",
            "bestTest = 271710.5367\n",
            "bestIteration = 971\n",
            "\n",
            "5:\tloss: 271710.5366700\tbest: 270851.2902753 (4)\ttotal: 1m 2s\tremaining: 20.8s\n",
            "Estimating final quality...\n",
            "Training on fold [0/5]\n",
            "0:\tlearn: 1101565.9537577\ttest: 1083272.1016418\tbest: 1083272.1016418 (0)\ttotal: 27.7ms\tremaining: 27.7s\n",
            "100:\tlearn: 279847.5631248\ttest: 288359.7052755\tbest: 288359.7052755 (100)\ttotal: 1.76s\tremaining: 15.7s\n",
            "200:\tlearn: 251835.1806691\ttest: 274832.4705611\tbest: 274832.4705611 (200)\ttotal: 3.37s\tremaining: 13.4s\n",
            "300:\tlearn: 236395.6973897\ttest: 271191.0154787\tbest: 271173.8995059 (299)\ttotal: 4.95s\tremaining: 11.5s\n",
            "400:\tlearn: 224930.0437011\ttest: 269056.3743211\tbest: 269030.4761968 (398)\ttotal: 6.54s\tremaining: 9.77s\n",
            "500:\tlearn: 214920.3268898\ttest: 267222.3340693\tbest: 267222.3340693 (500)\ttotal: 8.09s\tremaining: 8.06s\n",
            "600:\tlearn: 207168.1019741\ttest: 266187.9502694\tbest: 266184.6520780 (599)\ttotal: 9.72s\tremaining: 6.45s\n",
            "700:\tlearn: 200013.3481697\ttest: 265790.8924398\tbest: 265701.5691272 (675)\ttotal: 11.8s\tremaining: 5.04s\n",
            "800:\tlearn: 193793.7750836\ttest: 265322.8100503\tbest: 265301.2651760 (762)\ttotal: 13.4s\tremaining: 3.32s\n",
            "900:\tlearn: 188443.6004135\ttest: 264630.9287601\tbest: 264592.3885558 (898)\ttotal: 15s\tremaining: 1.65s\n",
            "999:\tlearn: 182769.8033167\ttest: 264313.1431772\tbest: 264230.3275064 (977)\ttotal: 16.5s\tremaining: 0us\n",
            "\n",
            "bestTest = 264230.3275\n",
            "bestIteration = 977\n",
            "\n",
            "Training on fold [1/5]\n",
            "0:\tlearn: 1102314.9699422\ttest: 1088125.3384873\tbest: 1088125.3384873 (0)\ttotal: 18.6ms\tremaining: 18.6s\n",
            "100:\tlearn: 280097.7582785\ttest: 274548.1428453\tbest: 274548.1428453 (100)\ttotal: 2.13s\tremaining: 18.9s\n",
            "200:\tlearn: 254764.8862819\ttest: 263561.7408829\tbest: 263561.7408829 (200)\ttotal: 3.7s\tremaining: 14.7s\n",
            "300:\tlearn: 238804.7783217\ttest: 257415.0939187\tbest: 257415.0939187 (300)\ttotal: 5.4s\tremaining: 12.5s\n",
            "400:\tlearn: 227163.7020444\ttest: 255234.0337253\tbest: 255234.0337253 (400)\ttotal: 7.43s\tremaining: 11.1s\n",
            "500:\tlearn: 217265.9234107\ttest: 254152.7823966\tbest: 254152.2100782 (499)\ttotal: 9.04s\tremaining: 9s\n",
            "600:\tlearn: 208995.9945598\ttest: 253513.4181294\tbest: 253501.2250245 (597)\ttotal: 10.7s\tremaining: 7.09s\n",
            "700:\tlearn: 202551.2295950\ttest: 253055.8274081\tbest: 253037.4932401 (699)\ttotal: 12.3s\tremaining: 5.24s\n",
            "800:\tlearn: 195822.0562694\ttest: 252825.5731848\tbest: 252522.5546087 (795)\ttotal: 13.9s\tremaining: 3.44s\n",
            "900:\tlearn: 189990.9556122\ttest: 253333.9253215\tbest: 252522.5546087 (795)\ttotal: 15.5s\tremaining: 1.7s\n",
            "999:\tlearn: 184680.5117282\ttest: 253585.4550246\tbest: 252522.5546087 (795)\ttotal: 17.6s\tremaining: 0us\n",
            "\n",
            "bestTest = 252522.5546\n",
            "bestIteration = 795\n",
            "\n",
            "Training on fold [2/5]\n",
            "0:\tlearn: 1098193.7900494\ttest: 1093948.6939750\tbest: 1093948.6939750 (0)\ttotal: 18.3ms\tremaining: 18.3s\n",
            "100:\tlearn: 277602.9512396\ttest: 301121.8266085\tbest: 301121.8266085 (100)\ttotal: 1.49s\tremaining: 13.3s\n",
            "200:\tlearn: 249255.8532428\ttest: 288466.6894696\tbest: 288466.6894696 (200)\ttotal: 3.12s\tremaining: 12.4s\n",
            "300:\tlearn: 234033.6330129\ttest: 283838.6216553\tbest: 283820.7996140 (299)\ttotal: 4.75s\tremaining: 11s\n",
            "400:\tlearn: 221743.7788105\ttest: 281409.1873463\tbest: 281332.8574406 (399)\ttotal: 6.38s\tremaining: 9.53s\n",
            "500:\tlearn: 212147.6210800\ttest: 279494.6171761\tbest: 279491.7476900 (498)\ttotal: 7.99s\tremaining: 7.95s\n",
            "600:\tlearn: 204050.9673557\ttest: 278109.6009080\tbest: 278109.6009080 (600)\ttotal: 9.62s\tremaining: 6.39s\n",
            "700:\tlearn: 197277.2994059\ttest: 277600.1219988\tbest: 277459.4885569 (666)\ttotal: 11.8s\tremaining: 5.04s\n",
            "800:\tlearn: 190683.8851013\ttest: 277467.9282643\tbest: 277268.8364923 (769)\ttotal: 13.4s\tremaining: 3.34s\n",
            "900:\tlearn: 184867.8363031\ttest: 276819.9128151\tbest: 276819.9128151 (900)\ttotal: 15s\tremaining: 1.65s\n",
            "999:\tlearn: 179610.1010316\ttest: 276690.6185841\tbest: 276516.4732790 (977)\ttotal: 16.6s\tremaining: 0us\n",
            "\n",
            "bestTest = 276516.4733\n",
            "bestIteration = 977\n",
            "\n",
            "Training on fold [3/5]\n",
            "0:\tlearn: 1095243.8497417\ttest: 1104412.9726977\tbest: 1104412.9726977 (0)\ttotal: 17.3ms\tremaining: 17.3s\n",
            "100:\tlearn: 271110.8865050\ttest: 292364.4562771\tbest: 292364.4562771 (100)\ttotal: 1.59s\tremaining: 14.2s\n",
            "200:\tlearn: 247813.2627559\ttest: 280353.3346700\tbest: 280353.3346700 (200)\ttotal: 3.18s\tremaining: 12.7s\n",
            "300:\tlearn: 233746.2126022\ttest: 277515.1173424\tbest: 277515.1173424 (300)\ttotal: 5.08s\tremaining: 11.8s\n",
            "400:\tlearn: 223237.3797267\ttest: 275523.8934561\tbest: 275523.8934561 (400)\ttotal: 6.87s\tremaining: 10.3s\n",
            "500:\tlearn: 214267.9874867\ttest: 274538.0075843\tbest: 274464.7879027 (499)\ttotal: 8.47s\tremaining: 8.44s\n",
            "600:\tlearn: 207173.9433578\ttest: 274173.7501315\tbest: 273825.9024840 (587)\ttotal: 10.1s\tremaining: 6.67s\n",
            "700:\tlearn: 200140.5382343\ttest: 274476.9237159\tbest: 273825.9024840 (587)\ttotal: 11.7s\tremaining: 4.97s\n",
            "800:\tlearn: 193560.3464528\ttest: 275325.0584013\tbest: 273825.9024840 (587)\ttotal: 13.2s\tremaining: 3.29s\n",
            "900:\tlearn: 187654.7380593\ttest: 275268.3061994\tbest: 273825.9024840 (587)\ttotal: 14.9s\tremaining: 1.63s\n",
            "999:\tlearn: 182353.5310256\ttest: 275381.3211920\tbest: 273825.9024840 (587)\ttotal: 17s\tremaining: 0us\n",
            "\n",
            "bestTest = 273825.9025\n",
            "bestIteration = 587\n",
            "\n",
            "Training on fold [4/5]\n",
            "0:\tlearn: 1092393.2318787\ttest: 1116092.0587833\tbest: 1116092.0587833 (0)\ttotal: 19.1ms\tremaining: 19.1s\n",
            "100:\tlearn: 277485.9559542\ttest: 295926.0129123\tbest: 295926.0129123 (100)\ttotal: 1.51s\tremaining: 13.5s\n",
            "200:\tlearn: 250778.6770901\ttest: 281214.4018361\tbest: 281214.4018361 (200)\ttotal: 3.1s\tremaining: 12.3s\n",
            "300:\tlearn: 236164.5867540\ttest: 275569.9972937\tbest: 275499.1903974 (299)\ttotal: 4.67s\tremaining: 10.8s\n",
            "400:\tlearn: 224256.9191963\ttest: 273262.6662610\tbest: 273200.4329827 (392)\ttotal: 6.23s\tremaining: 9.31s\n",
            "500:\tlearn: 215199.4118760\ttest: 271597.2374355\tbest: 271597.2374355 (500)\ttotal: 7.84s\tremaining: 7.81s\n",
            "600:\tlearn: 206814.9107054\ttest: 270527.7860239\tbest: 270188.3056489 (588)\ttotal: 9.46s\tremaining: 6.28s\n",
            "700:\tlearn: 199285.1681877\ttest: 270405.6531339\tbest: 270188.3056489 (588)\ttotal: 11.6s\tremaining: 4.95s\n",
            "800:\tlearn: 192840.3308022\ttest: 270555.8322888\tbest: 270188.3056489 (588)\ttotal: 13.2s\tremaining: 3.29s\n",
            "900:\tlearn: 186874.0954148\ttest: 270812.4211961\tbest: 270188.3056489 (588)\ttotal: 14.8s\tremaining: 1.63s\n",
            "999:\tlearn: 181396.2097233\ttest: 270418.9595847\tbest: 270188.3056489 (588)\ttotal: 16.4s\tremaining: 0us\n",
            "\n",
            "bestTest = 270188.3056\n",
            "bestIteration = 588\n",
            "\n"
          ]
        }
      ]
    },
    {
      "cell_type": "code",
      "source": [
        "#Лучшие найденные параметры\n",
        "result['params']"
      ],
      "metadata": {
        "colab": {
          "base_uri": "https://localhost:8080/"
        },
        "id": "oJ-UjqJ0RVtk",
        "outputId": "91a17def-857d-4482-d434-2085ec745adb"
      },
      "execution_count": null,
      "outputs": [
        {
          "output_type": "execute_result",
          "data": {
            "text/plain": [
              "{'depth': 6, 'learning_rate': 0.12}"
            ]
          },
          "metadata": {},
          "execution_count": 93
        }
      ]
    },
    {
      "cell_type": "code",
      "source": [
        "#Лучшие найденные параметры\n",
        "result['params']"
      ],
      "metadata": {
        "colab": {
          "base_uri": "https://localhost:8080/"
        },
        "id": "db8xId4fNcgn",
        "outputId": "b817dcbe-f67a-4d11-d3a1-2498ba2f6d71"
      },
      "execution_count": null,
      "outputs": [
        {
          "output_type": "execute_result",
          "data": {
            "text/plain": [
              "{'depth': 6, 'learning_rate': 0.12}"
            ]
          },
          "metadata": {},
          "execution_count": 94
        }
      ]
    },
    {
      "cell_type": "code",
      "source": [
        "test['Price'] = model.predict(test[X])"
      ],
      "metadata": {
        "id": "PkoSm25NM-fH"
      },
      "execution_count": null,
      "outputs": []
    },
    {
      "cell_type": "code",
      "source": [
        "test[['id', 'Price']].to_csv('it_7_1_test_passfilling.csv', index = False)"
      ],
      "metadata": {
        "id": "W2ifXzVvM-fH"
      },
      "execution_count": null,
      "outputs": []
    },
    {
      "cell_type": "code",
      "source": [
        "break"
      ],
      "metadata": {
        "id": "lQBhkM-u7sy0",
        "colab": {
          "base_uri": "https://localhost:8080/",
          "height": 106
        },
        "outputId": "115e4abb-41e1-4592-f4b9-605632a0b444"
      },
      "execution_count": null,
      "outputs": [
        {
          "output_type": "error",
          "ename": "SyntaxError",
          "evalue": "'break' outside loop (<ipython-input-97-6aaf1f276005>, line 1)",
          "traceback": [
            "\u001b[0;36m  File \u001b[0;32m\"<ipython-input-97-6aaf1f276005>\"\u001b[0;36m, line \u001b[0;32m1\u001b[0m\n\u001b[0;31m    break\u001b[0m\n\u001b[0m    ^\u001b[0m\n\u001b[0;31mSyntaxError\u001b[0m\u001b[0;31m:\u001b[0m 'break' outside loop\n"
          ]
        }
      ]
    },
    {
      "cell_type": "markdown",
      "source": [
        "Score:  **14.5098**"
      ],
      "metadata": {
        "id": "azSQnM5YHw3I"
      }
    },
    {
      "cell_type": "markdown",
      "source": [
        "# Итерация 8. Повторение наилучшей итерации (Итерация 2), с учетом остальных итераций"
      ],
      "metadata": {
        "id": "5lM64ut0ZO62"
      }
    },
    {
      "cell_type": "code",
      "source": [
        "X = ['Suburb', 'Rooms', 'Type', 'Method', 'SellerG',\n",
        "       'Distance', 'Postcode', 'Bedroom2', 'Bathroom', 'Car',\n",
        "     'Landsize', 'BuildingArea', 'YearBuilt', 'CouncilArea',\n",
        "     'Regionname', 'Propertycount']\n",
        "\n",
        "cat_features = ['Suburb',\n",
        "                'Type', 'Method', 'SellerG', 'Postcode',\n",
        "                'CouncilArea', 'Regionname',\n",
        "                ]\n",
        "\n",
        "y = ['Price']"
      ],
      "metadata": {
        "id": "Qsdf5nDzZO68"
      },
      "execution_count": null,
      "outputs": []
    },
    {
      "cell_type": "code",
      "source": [
        "train = pd.read_csv('/content/regression/train.csv')\n",
        "train['Postcode'] = train['Postcode'].astype(int)"
      ],
      "metadata": {
        "id": "1THHoAcWZO68"
      },
      "execution_count": null,
      "outputs": []
    },
    {
      "cell_type": "code",
      "source": [
        "test = pd.read_csv('/content/regression/test.csv')\n",
        "test[cat_features] = test[cat_features].fillna(0)\n",
        "test['Postcode'] = test['Postcode'].astype(int)"
      ],
      "metadata": {
        "id": "yc926BozZb0b"
      },
      "execution_count": null,
      "outputs": []
    },
    {
      "cell_type": "code",
      "source": [
        "train.loc[train['YearBuilt'] <= 1847, 'YearBuilt'] = 1847\n",
        "test.loc[test['YearBuilt'] <= 1847, 'YearBuilt'] = 1847"
      ],
      "metadata": {
        "id": "tPFfC-wmaRtQ"
      },
      "execution_count": null,
      "outputs": []
    },
    {
      "cell_type": "code",
      "source": [
        "# делаю валидационную выборку для оценки и проверки\n",
        "val, train = train_test_split(train, train_size=0.2, random_state=7374)\n",
        "\n",
        "val[cat_features] = val[cat_features].fillna(0)\n",
        "train[cat_features] = train[cat_features].fillna(0)"
      ],
      "metadata": {
        "id": "Ci3taR-LZO68"
      },
      "execution_count": null,
      "outputs": []
    },
    {
      "cell_type": "code",
      "source": [
        "parameters = {'cat_features': cat_features,\n",
        "              'loss_function': 'MAE',\n",
        "              'eval_metric': 'MAPE',\n",
        "              'learning_rate': 0.12,\n",
        "              'depth': 6,\n",
        "              'random_seed':7374,\n",
        "              'verbose':100}"
      ],
      "metadata": {
        "id": "kb_5_6uQZO68"
      },
      "execution_count": null,
      "outputs": []
    },
    {
      "cell_type": "code",
      "source": [
        "model = CatBoostRegressor(**parameters)"
      ],
      "metadata": {
        "id": "ygVexOS-ZO68"
      },
      "execution_count": null,
      "outputs": []
    },
    {
      "cell_type": "code",
      "source": [
        "model.fit(train[X],train[y],eval_set=(val[X],val[y]))"
      ],
      "metadata": {
        "colab": {
          "base_uri": "https://localhost:8080/"
        },
        "outputId": "11498a14-00d6-4b16-a6f0-fe760f453045",
        "id": "wkOdmvCwZO68"
      },
      "execution_count": null,
      "outputs": [
        {
          "output_type": "stream",
          "name": "stdout",
          "text": [
            "0:\tlearn: 0.3939105\ttest: 0.3842693\tbest: 0.3842693 (0)\ttotal: 99.9ms\tremaining: 1m 39s\n",
            "100:\tlearn: 0.1535760\ttest: 0.1594743\tbest: 0.1594743 (100)\ttotal: 4.72s\tremaining: 42s\n",
            "200:\tlearn: 0.1407496\ttest: 0.1518065\tbest: 0.1518065 (200)\ttotal: 8.54s\tremaining: 33.9s\n",
            "300:\tlearn: 0.1341853\ttest: 0.1497639\tbest: 0.1497639 (300)\ttotal: 12.1s\tremaining: 28.1s\n",
            "400:\tlearn: 0.1302360\ttest: 0.1494712\tbest: 0.1492776 (332)\ttotal: 13.8s\tremaining: 20.7s\n",
            "500:\tlearn: 0.1271283\ttest: 0.1489184\tbest: 0.1489159 (498)\ttotal: 16s\tremaining: 16s\n",
            "600:\tlearn: 0.1246998\ttest: 0.1488807\tbest: 0.1487056 (565)\ttotal: 17.7s\tremaining: 11.7s\n",
            "700:\tlearn: 0.1221671\ttest: 0.1486647\tbest: 0.1485417 (652)\ttotal: 19.4s\tremaining: 8.28s\n",
            "800:\tlearn: 0.1204358\ttest: 0.1483075\tbest: 0.1482960 (788)\ttotal: 21.1s\tremaining: 5.24s\n",
            "900:\tlearn: 0.1187687\ttest: 0.1482205\tbest: 0.1482170 (898)\ttotal: 22.7s\tremaining: 2.5s\n",
            "999:\tlearn: 0.1172772\ttest: 0.1481667\tbest: 0.1481112 (975)\ttotal: 24.3s\tremaining: 0us\n",
            "\n",
            "bestTest = 0.1481112163\n",
            "bestIteration = 975\n",
            "\n",
            "Shrink model to first 976 iterations.\n"
          ]
        },
        {
          "output_type": "execute_result",
          "data": {
            "text/plain": [
              "<catboost.core.CatBoostRegressor at 0x78b3fbee4c70>"
            ]
          },
          "metadata": {},
          "execution_count": 14
        }
      ]
    },
    {
      "cell_type": "code",
      "source": [
        "val['Price_pred_it1_1'] = model.predict(val[X])"
      ],
      "metadata": {
        "id": "dwJEXK9yZO69"
      },
      "execution_count": null,
      "outputs": []
    },
    {
      "cell_type": "code",
      "source": [],
      "metadata": {
        "id": "VjLeJrfaMThF"
      },
      "execution_count": null,
      "outputs": []
    },
    {
      "cell_type": "code",
      "source": [
        "error(val['Price'],val['Price_pred_it1_1'])"
      ],
      "metadata": {
        "colab": {
          "base_uri": "https://localhost:8080/"
        },
        "id": "wwQ3ujLXZXTd",
        "outputId": "fe0610da-fe29-4896-c97a-e56e39819915"
      },
      "execution_count": null,
      "outputs": [
        {
          "output_type": "stream",
          "name": "stdout",
          "text": [
            "165288.9627269489\n",
            "0.14811121626809307\n"
          ]
        }
      ]
    },
    {
      "cell_type": "code",
      "source": [
        "error(val['Price'],val['Price_pred_it1_1'])"
      ],
      "metadata": {
        "id": "8OWJkvxGZO69"
      },
      "execution_count": null,
      "outputs": []
    },
    {
      "cell_type": "markdown",
      "source": [
        "Улучшился результат по МАРЕ\n",
        "\n",
        "Попробуем обучить с этим набором фич/параметров модель на всех train данных и сделать еще сабмит"
      ],
      "metadata": {
        "id": "iKp2CPPgZO69"
      }
    },
    {
      "cell_type": "code",
      "source": [
        "train = pd.read_csv('/content/regression/train.csv')\n",
        "\n",
        "train['Postcode'] = train['Postcode'].astype(int)\n",
        "train[cat_features] = train[cat_features].fillna(0)"
      ],
      "metadata": {
        "id": "paqO_Ms1ZO69"
      },
      "execution_count": null,
      "outputs": []
    },
    {
      "cell_type": "code",
      "source": [
        "model = CatBoostRegressor(**parameters)"
      ],
      "metadata": {
        "id": "u-udLRGoZO69"
      },
      "execution_count": null,
      "outputs": []
    },
    {
      "cell_type": "code",
      "source": [
        "model.fit(train[X],train[y])"
      ],
      "metadata": {
        "id": "PUwkxCvwZO69"
      },
      "execution_count": null,
      "outputs": []
    },
    {
      "cell_type": "code",
      "source": [
        "test['Price'] = model.predict(test[X])"
      ],
      "metadata": {
        "id": "tRxUrUIEZO69"
      },
      "execution_count": null,
      "outputs": []
    },
    {
      "cell_type": "code",
      "source": [
        "test[['id', 'Price']].to_csv('it_2_1_NEW2.csv', index = False)"
      ],
      "metadata": {
        "id": "KVzmQdZEZO69"
      },
      "execution_count": null,
      "outputs": []
    },
    {
      "cell_type": "markdown",
      "source": [
        "Score: **13.84212**"
      ],
      "metadata": {
        "id": "x_UKC_jjZO69"
      }
    },
    {
      "cell_type": "markdown",
      "source": [
        "### Анализ ошибки на валидационной воборке"
      ],
      "metadata": {
        "id": "s6ik9zeNLIWQ"
      }
    },
    {
      "cell_type": "code",
      "source": [
        "val['error'] = val['Price_pred_it1_1'] - val['Price']"
      ],
      "metadata": {
        "id": "TIHUrH9hZOKz"
      },
      "execution_count": null,
      "outputs": []
    },
    {
      "cell_type": "code",
      "source": [
        "val['error'].hist()"
      ],
      "metadata": {
        "id": "gVtYMDEfZOHp",
        "colab": {
          "base_uri": "https://localhost:8080/",
          "height": 332
        },
        "outputId": "1b9e81a8-6a8c-4aed-be69-5eb8c0ef214c"
      },
      "execution_count": null,
      "outputs": [
        {
          "output_type": "execute_result",
          "data": {
            "text/plain": [
              "<Axes: >"
            ]
          },
          "metadata": {},
          "execution_count": 22
        },
        {
          "output_type": "display_data",
          "data": {
            "text/plain": [
              "<Figure size 400x300 with 1 Axes>"
            ],
            "image/png": "[encoded data removed]"
          },
          "metadata": {}
        }
      ]
    },
    {
      "cell_type": "code",
      "source": [
        "val['error'].median()"
      ],
      "metadata": {
        "colab": {
          "base_uri": "https://localhost:8080/"
        },
        "id": "wmC5kOxDLvBg",
        "outputId": "047de7a6-8789-487d-93f0-6c7ee64f478c"
      },
      "execution_count": null,
      "outputs": [
        {
          "output_type": "execute_result",
          "data": {
            "text/plain": [
              "5445.640270488686"
            ]
          },
          "metadata": {},
          "execution_count": 25
        }
      ]
    },
    {
      "cell_type": "code",
      "source": [
        "val['error'].mean()"
      ],
      "metadata": {
        "colab": {
          "base_uri": "https://localhost:8080/"
        },
        "id": "QUIHbj8sLy5q",
        "outputId": "f0f77976-4946-4169-9ebc-470be8bd07e3"
      },
      "execution_count": null,
      "outputs": [
        {
          "output_type": "execute_result",
          "data": {
            "text/plain": [
              "-17967.745943169237"
            ]
          },
          "metadata": {},
          "execution_count": 26
        }
      ]
    },
    {
      "cell_type": "code",
      "source": [
        "model.get_feature_importance(prettified = True)"
      ],
      "metadata": {
        "colab": {
          "base_uri": "https://localhost:8080/",
          "height": 551
        },
        "id": "lYEy3HTeMXSO",
        "outputId": "32bb0471-d823-4265-a032-e5bd32491cd7"
      },
      "execution_count": null,
      "outputs": [
        {
          "output_type": "execute_result",
          "data": {
            "text/plain": [
              "       Feature Id  Importances\n",
              "0        Distance    15.958608\n",
              "1           Rooms    13.006221\n",
              "2            Type    11.735600\n",
              "3     CouncilArea     9.390876\n",
              "4        Landsize     8.529101\n",
              "5      Regionname     8.475889\n",
              "6    BuildingArea     7.125831\n",
              "7        Postcode     6.617104\n",
              "8        Bathroom     4.788538\n",
              "9         SellerG     3.551472\n",
              "10  Propertycount     2.957398\n",
              "11      YearBuilt     2.905439\n",
              "12         Suburb     1.542128\n",
              "13         Method     1.489180\n",
              "14            Car     1.203910\n",
              "15       Bedroom2     0.722705"
            ],
            "text/html": [
              "\n",
              "  <div id=\"df-771ae71a-21ce-4745-8bee-2a46767be240\" class=\"colab-df-container\">\n",
              "    <div>\n",
              "<style scoped>\n",
              "    .dataframe tbody tr th:only-of-type {\n",
              "        vertical-align: middle;\n",
              "    }\n",
              "\n",
              "    .dataframe tbody tr th {\n",
              "        vertical-align: top;\n",
              "    }\n",
              "\n",
              "    .dataframe thead th {\n",
              "        text-align: right;\n",
              "    }\n",
              "</style>\n",
              "<table border=\"1\" class=\"dataframe\">\n",
              "  <thead>\n",
              "    <tr style=\"text-align: right;\">\n",
              "      <th></th>\n",
              "      <th>Feature Id</th>\n",
              "      <th>Importances</th>\n",
              "    </tr>\n",
              "  </thead>\n",
              "  <tbody>\n",
              "    <tr>\n",
              "      <th>0</th>\n",
              "      <td>Distance</td>\n",
              "      <td>15.958608</td>\n",
              "    </tr>\n",
              "    <tr>\n",
              "      <th>1</th>\n",
              "      <td>Rooms</td>\n",
              "      <td>13.006221</td>\n",
              "    </tr>\n",
              "    <tr>\n",
              "      <th>2</th>\n",
              "      <td>Type</td>\n",
              "      <td>11.735600</td>\n",
              "    </tr>\n",
              "    <tr>\n",
              "      <th>3</th>\n",
              "      <td>CouncilArea</td>\n",
              "      <td>9.390876</td>\n",
              "    </tr>\n",
              "    <tr>\n",
              "      <th>4</th>\n",
              "      <td>Landsize</td>\n",
              "      <td>8.529101</td>\n",
              "    </tr>\n",
              "    <tr>\n",
              "      <th>5</th>\n",
              "      <td>Regionname</td>\n",
              "      <td>8.475889</td>\n",
              "    </tr>\n",
              "    <tr>\n",
              "      <th>6</th>\n",
              "      <td>BuildingArea</td>\n",
              "      <td>7.125831</td>\n",
              "    </tr>\n",
              "    <tr>\n",
              "      <th>7</th>\n",
              "      <td>Postcode</td>\n",
              "      <td>6.617104</td>\n",
              "    </tr>\n",
              "    <tr>\n",
              "      <th>8</th>\n",
              "      <td>Bathroom</td>\n",
              "      <td>4.788538</td>\n",
              "    </tr>\n",
              "    <tr>\n",
              "      <th>9</th>\n",
              "      <td>SellerG</td>\n",
              "      <td>3.551472</td>\n",
              "    </tr>\n",
              "    <tr>\n",
              "      <th>10</th>\n",
              "      <td>Propertycount</td>\n",
              "      <td>2.957398</td>\n",
              "    </tr>\n",
              "    <tr>\n",
              "      <th>11</th>\n",
              "      <td>YearBuilt</td>\n",
              "      <td>2.905439</td>\n",
              "    </tr>\n",
              "    <tr>\n",
              "      <th>12</th>\n",
              "      <td>Suburb</td>\n",
              "      <td>1.542128</td>\n",
              "    </tr>\n",
              "    <tr>\n",
              "      <th>13</th>\n",
              "      <td>Method</td>\n",
              "      <td>1.489180</td>\n",
              "    </tr>\n",
              "    <tr>\n",
              "      <th>14</th>\n",
              "      <td>Car</td>\n",
              "      <td>1.203910</td>\n",
              "    </tr>\n",
              "    <tr>\n",
              "      <th>15</th>\n",
              "      <td>Bedroom2</td>\n",
              "      <td>0.722705</td>\n",
              "    </tr>\n",
              "  </tbody>\n",
              "</table>\n",
              "</div>\n",
              "    <div class=\"colab-df-buttons\">\n",
              "\n",
              "  <div class=\"colab-df-container\">\n",
              "    <button class=\"colab-df-convert\" onclick=\"convertToInteractive('df-771ae71a-21ce-4745-8bee-2a46767be240')\"\n",
              "            title=\"Convert this dataframe to an interactive table.\"\n",
              "            style=\"display:none;\">\n",
              "\n",
              "  <svg xmlns=\"http://www.w3.org/2000/svg\" height=\"24px\" viewBox=\"0 -960 960 960\">\n",
              "    <path d=\"M120-120v-720h720v720H120Zm60-500h600v-160H180v160Zm220 220h160v-160H400v160Zm0 220h160v-160H400v160ZM180-400h160v-160H180v160Zm440 0h160v-160H620v160ZM180-180h160v-160H180v160Zm440 0h160v-160H620v160Z\"/>\n",
              "  </svg>\n",
              "    </button>\n",
              "\n",
              "  <style>\n",
              "    .colab-df-container {\n",
              "      display:flex;\n",
              "      gap: 12px;\n",
              "    }\n",
              "\n",
              "    .colab-df-convert {\n",
              "      background-color: #E8F0FE;\n",
              "      border: none;\n",
              "      border-radius: 50%;\n",
              "      cursor: pointer;\n",
              "      display: none;\n",
              "      fill: #1967D2;\n",
              "      height: 32px;\n",
              "      padding: 0 0 0 0;\n",
              "      width: 32px;\n",
              "    }\n",
              "\n",
              "    .colab-df-convert:hover {\n",
              "      background-color: #E2EBFA;\n",
              "      box-shadow: 0px 1px 2px rgba(60, 64, 67, 0.3), 0px 1px 3px 1px rgba(60, 64, 67, 0.15);\n",
              "      fill: #174EA6;\n",
              "    }\n",
              "\n",
              "    .colab-df-buttons div {\n",
              "      margin-bottom: 4px;\n",
              "    }\n",
              "\n",
              "    [theme=dark] .colab-df-convert {\n",
              "      background-color: #3B4455;\n",
              "      fill: #D2E3FC;\n",
              "    }\n",
              "\n",
              "    [theme=dark] .colab-df-convert:hover {\n",
              "      background-color: #434B5C;\n",
              "      box-shadow: 0px 1px 3px 1px rgba(0, 0, 0, 0.15);\n",
              "      filter: drop-shadow(0px 1px 2px rgba(0, 0, 0, 0.3));\n",
              "      fill: #FFFFFF;\n",
              "    }\n",
              "  </style>\n",
              "\n",
              "    <script>\n",
              "      const buttonEl =\n",
              "        document.querySelector('#df-771ae71a-21ce-4745-8bee-2a46767be240 button.colab-df-convert');\n",
              "      buttonEl.style.display =\n",
              "        google.colab.kernel.accessAllowed ? 'block' : 'none';\n",
              "\n",
              "      async function convertToInteractive(key) {\n",
              "        const element = document.querySelector('#df-771ae71a-21ce-4745-8bee-2a46767be240');\n",
              "        const dataTable =\n",
              "          await google.colab.kernel.invokeFunction('convertToInteractive',\n",
              "                                                    [key], {});\n",
              "        if (!dataTable) return;\n",
              "\n",
              "        const docLinkHtml = 'Like what you see? Visit the ' +\n",
              "          '<a target=\"_blank\" href=https://colab.research.google.com/notebooks/data_table.ipynb>data table notebook</a>'\n",
              "          + ' to learn more about interactive tables.';\n",
              "        element.innerHTML = '';\n",
              "        dataTable['output_type'] = 'display_data';\n",
              "        await google.colab.output.renderOutput(dataTable, element);\n",
              "        const docLink = document.createElement('div');\n",
              "        docLink.innerHTML = docLinkHtml;\n",
              "        element.appendChild(docLink);\n",
              "      }\n",
              "    </script>\n",
              "  </div>\n",
              "\n",
              "\n",
              "<div id=\"df-5f827534-7a7a-4ad6-94e8-ff40878c4143\">\n",
              "  <button class=\"colab-df-quickchart\" onclick=\"quickchart('df-5f827534-7a7a-4ad6-94e8-ff40878c4143')\"\n",
              "            title=\"Suggest charts\"\n",
              "            style=\"display:none;\">\n",
              "\n",
              "<svg xmlns=\"http://www.w3.org/2000/svg\" height=\"24px\"viewBox=\"0 0 24 24\"\n",
              "     width=\"24px\">\n",
              "    <g>\n",
              "        <path d=\"M19 3H5c-1.1 0-2 .9-2 2v14c0 1.1.9 2 2 2h14c1.1 0 2-.9 2-2V5c0-1.1-.9-2-2-2zM9 17H7v-7h2v7zm4 0h-2V7h2v10zm4 0h-2v-4h2v4z\"/>\n",
              "    </g>\n",
              "</svg>\n",
              "  </button>\n",
              "\n",
              "<style>\n",
              "  .colab-df-quickchart {\n",
              "      --bg-color: #E8F0FE;\n",
              "      --fill-color: #1967D2;\n",
              "      --hover-bg-color: #E2EBFA;\n",
              "      --hover-fill-color: #174EA6;\n",
              "      --disabled-fill-color: #AAA;\n",
              "      --disabled-bg-color: #DDD;\n",
              "  }\n",
              "\n",
              "  [theme=dark] .colab-df-quickchart {\n",
              "      --bg-color: #3B4455;\n",
              "      --fill-color: #D2E3FC;\n",
              "      --hover-bg-color: #434B5C;\n",
              "      --hover-fill-color: #FFFFFF;\n",
              "      --disabled-bg-color: #3B4455;\n",
              "      --disabled-fill-color: #666;\n",
              "  }\n",
              "\n",
              "  .colab-df-quickchart {\n",
              "    background-color: var(--bg-color);\n",
              "    border: none;\n",
              "    border-radius: 50%;\n",
              "    cursor: pointer;\n",
              "    display: none;\n",
              "    fill: var(--fill-color);\n",
              "    height: 32px;\n",
              "    padding: 0;\n",
              "    width: 32px;\n",
              "  }\n",
              "\n",
              "  .colab-df-quickchart:hover {\n",
              "    background-color: var(--hover-bg-color);\n",
              "    box-shadow: 0 1px 2px rgba(60, 64, 67, 0.3), 0 1px 3px 1px rgba(60, 64, 67, 0.15);\n",
              "    fill: var(--button-hover-fill-color);\n",
              "  }\n",
              "\n",
              "  .colab-df-quickchart-complete:disabled,\n",
              "  .colab-df-quickchart-complete:disabled:hover {\n",
              "    background-color: var(--disabled-bg-color);\n",
              "    fill: var(--disabled-fill-color);\n",
              "    box-shadow: none;\n",
              "  }\n",
              "\n",
              "  .colab-df-spinner {\n",
              "    border: 2px solid var(--fill-color);\n",
              "    border-color: transparent;\n",
              "    border-bottom-color: var(--fill-color);\n",
              "    animation:\n",
              "      spin 1s steps(1) infinite;\n",
              "  }\n",
              "\n",
              "  @keyframes spin {\n",
              "    0% {\n",
              "      border-color: transparent;\n",
              "      border-bottom-color: var(--fill-color);\n",
              "      border-left-color: var(--fill-color);\n",
              "    }\n",
              "    20% {\n",
              "      border-color: transparent;\n",
              "      border-left-color: var(--fill-color);\n",
              "      border-top-color: var(--fill-color);\n",
              "    }\n",
              "    30% {\n",
              "      border-color: transparent;\n",
              "      border-left-color: var(--fill-color);\n",
              "      border-top-color: var(--fill-color);\n",
              "      border-right-color: var(--fill-color);\n",
              "    }\n",
              "    40% {\n",
              "      border-color: transparent;\n",
              "      border-right-color: var(--fill-color);\n",
              "      border-top-color: var(--fill-color);\n",
              "    }\n",
              "    60% {\n",
              "      border-color: transparent;\n",
              "      border-right-color: var(--fill-color);\n",
              "    }\n",
              "    80% {\n",
              "      border-color: transparent;\n",
              "      border-right-color: var(--fill-color);\n",
              "      border-bottom-color: var(--fill-color);\n",
              "    }\n",
              "    90% {\n",
              "      border-color: transparent;\n",
              "      border-bottom-color: var(--fill-color);\n",
              "    }\n",
              "  }\n",
              "</style>\n",
              "\n",
              "  <script>\n",
              "    async function quickchart(key) {\n",
              "      const quickchartButtonEl =\n",
              "        document.querySelector('#' + key + ' button');\n",
              "      quickchartButtonEl.disabled = true;  // To prevent multiple clicks.\n",
              "      quickchartButtonEl.classList.add('colab-df-spinner');\n",
              "      try {\n",
              "        const charts = await google.colab.kernel.invokeFunction(\n",
              "            'suggestCharts', [key], {});\n",
              "      } catch (error) {\n",
              "        console.error('Error during call to suggestCharts:', error);\n",
              "      }\n",
              "      quickchartButtonEl.classList.remove('colab-df-spinner');\n",
              "      quickchartButtonEl.classList.add('colab-df-quickchart-complete');\n",
              "    }\n",
              "    (() => {\n",
              "      let quickchartButtonEl =\n",
              "        document.querySelector('#df-5f827534-7a7a-4ad6-94e8-ff40878c4143 button');\n",
              "      quickchartButtonEl.style.display =\n",
              "        google.colab.kernel.accessAllowed ? 'block' : 'none';\n",
              "    })();\n",
              "  </script>\n",
              "</div>\n",
              "    </div>\n",
              "  </div>\n"
            ],
            "application/vnd.google.colaboratory.intrinsic+json": {
              "type": "dataframe",
              "summary": "{\n  \"name\": \"model\",\n  \"rows\": 16,\n  \"fields\": [\n    {\n      \"column\": \"Feature Id\",\n      \"properties\": {\n        \"dtype\": \"string\",\n        \"samples\": [\n          \"Distance\",\n          \"Rooms\",\n          \"Regionname\"\n        ],\n        \"num_unique_values\": 16,\n        \"semantic_type\": \"\",\n        \"description\": \"\"\n      }\n    },\n    {\n      \"column\": \"Importances\",\n      \"properties\": {\n        \"dtype\": \"number\",\n        \"std\": 4.641838415467156,\n        \"min\": 0.722705086814623,\n        \"max\": 15.958608323373054,\n        \"samples\": [\n          15.958608323373054,\n          13.006221185821888,\n          8.47588873337668\n        ],\n        \"num_unique_values\": 16,\n        \"semantic_type\": \"\",\n        \"description\": \"\"\n      }\n    }\n  ]\n}"
            }
          },
          "metadata": {},
          "execution_count": 28
        }
      ]
    },
    {
      "cell_type": "code",
      "source": [
        "train.isna().mean().reset_index().sort_values(by = 0, ascending = False)"
      ],
      "metadata": {
        "colab": {
          "base_uri": "https://localhost:8080/",
          "height": 739
        },
        "id": "-hF9TbjqOS74",
        "outputId": "7d7ab33a-4b91-42df-82df-adedc449cfd8"
      },
      "execution_count": null,
      "outputs": [
        {
          "output_type": "execute_result",
          "data": {
            "text/plain": [
              "            index         0\n",
              "14   BuildingArea  0.579495\n",
              "15      YearBuilt  0.515069\n",
              "13       Landsize  0.262195\n",
              "12            Car  0.196680\n",
              "11       Bathroom  0.190693\n",
              "10       Bedroom2  0.190625\n",
              "18     Longtitude  0.183550\n",
              "17      Lattitude  0.183550\n",
              "20  Propertycount  0.000000\n",
              "19     Regionname  0.000000\n",
              "16    CouncilArea  0.000000\n",
              "0          Suburb  0.000000\n",
              "1         Address  0.000000\n",
              "9        Postcode  0.000000\n",
              "8        Distance  0.000000\n",
              "7            Date  0.000000\n",
              "6         SellerG  0.000000\n",
              "5          Method  0.000000\n",
              "4           Price  0.000000\n",
              "3            Type  0.000000\n",
              "2           Rooms  0.000000\n",
              "21             id  0.000000"
            ],
            "text/html": [
              "\n",
              "  <div id=\"df-77b89162-44ad-4a32-9a34-a380dba7db7d\" class=\"colab-df-container\">\n",
              "    <div>\n",
              "<style scoped>\n",
              "    .dataframe tbody tr th:only-of-type {\n",
              "        vertical-align: middle;\n",
              "    }\n",
              "\n",
              "    .dataframe tbody tr th {\n",
              "        vertical-align: top;\n",
              "    }\n",
              "\n",
              "    .dataframe thead th {\n",
              "        text-align: right;\n",
              "    }\n",
              "</style>\n",
              "<table border=\"1\" class=\"dataframe\">\n",
              "  <thead>\n",
              "    <tr style=\"text-align: right;\">\n",
              "      <th></th>\n",
              "      <th>index</th>\n",
              "      <th>0</th>\n",
              "    </tr>\n",
              "  </thead>\n",
              "  <tbody>\n",
              "    <tr>\n",
              "      <th>14</th>\n",
              "      <td>BuildingArea</td>\n",
              "      <td>0.579495</td>\n",
              "    </tr>\n",
              "    <tr>\n",
              "      <th>15</th>\n",
              "      <td>YearBuilt</td>\n",
              "      <td>0.515069</td>\n",
              "    </tr>\n",
              "    <tr>\n",
              "      <th>13</th>\n",
              "      <td>Landsize</td>\n",
              "      <td>0.262195</td>\n",
              "    </tr>\n",
              "    <tr>\n",
              "      <th>12</th>\n",
              "      <td>Car</td>\n",
              "      <td>0.196680</td>\n",
              "    </tr>\n",
              "    <tr>\n",
              "      <th>11</th>\n",
              "      <td>Bathroom</td>\n",
              "      <td>0.190693</td>\n",
              "    </tr>\n",
              "    <tr>\n",
              "      <th>10</th>\n",
              "      <td>Bedroom2</td>\n",
              "      <td>0.190625</td>\n",
              "    </tr>\n",
              "    <tr>\n",
              "      <th>18</th>\n",
              "      <td>Longtitude</td>\n",
              "      <td>0.183550</td>\n",
              "    </tr>\n",
              "    <tr>\n",
              "      <th>17</th>\n",
              "      <td>Lattitude</td>\n",
              "      <td>0.183550</td>\n",
              "    </tr>\n",
              "    <tr>\n",
              "      <th>20</th>\n",
              "      <td>Propertycount</td>\n",
              "      <td>0.000000</td>\n",
              "    </tr>\n",
              "    <tr>\n",
              "      <th>19</th>\n",
              "      <td>Regionname</td>\n",
              "      <td>0.000000</td>\n",
              "    </tr>\n",
              "    <tr>\n",
              "      <th>16</th>\n",
              "      <td>CouncilArea</td>\n",
              "      <td>0.000000</td>\n",
              "    </tr>\n",
              "    <tr>\n",
              "      <th>0</th>\n",
              "      <td>Suburb</td>\n",
              "      <td>0.000000</td>\n",
              "    </tr>\n",
              "    <tr>\n",
              "      <th>1</th>\n",
              "      <td>Address</td>\n",
              "      <td>0.000000</td>\n",
              "    </tr>\n",
              "    <tr>\n",
              "      <th>9</th>\n",
              "      <td>Postcode</td>\n",
              "      <td>0.000000</td>\n",
              "    </tr>\n",
              "    <tr>\n",
              "      <th>8</th>\n",
              "      <td>Distance</td>\n",
              "      <td>0.000000</td>\n",
              "    </tr>\n",
              "    <tr>\n",
              "      <th>7</th>\n",
              "      <td>Date</td>\n",
              "      <td>0.000000</td>\n",
              "    </tr>\n",
              "    <tr>\n",
              "      <th>6</th>\n",
              "      <td>SellerG</td>\n",
              "      <td>0.000000</td>\n",
              "    </tr>\n",
              "    <tr>\n",
              "      <th>5</th>\n",
              "      <td>Method</td>\n",
              "      <td>0.000000</td>\n",
              "    </tr>\n",
              "    <tr>\n",
              "      <th>4</th>\n",
              "      <td>Price</td>\n",
              "      <td>0.000000</td>\n",
              "    </tr>\n",
              "    <tr>\n",
              "      <th>3</th>\n",
              "      <td>Type</td>\n",
              "      <td>0.000000</td>\n",
              "    </tr>\n",
              "    <tr>\n",
              "      <th>2</th>\n",
              "      <td>Rooms</td>\n",
              "      <td>0.000000</td>\n",
              "    </tr>\n",
              "    <tr>\n",
              "      <th>21</th>\n",
              "      <td>id</td>\n",
              "      <td>0.000000</td>\n",
              "    </tr>\n",
              "  </tbody>\n",
              "</table>\n",
              "</div>\n",
              "    <div class=\"colab-df-buttons\">\n",
              "\n",
              "  <div class=\"colab-df-container\">\n",
              "    <button class=\"colab-df-convert\" onclick=\"convertToInteractive('df-77b89162-44ad-4a32-9a34-a380dba7db7d')\"\n",
              "            title=\"Convert this dataframe to an interactive table.\"\n",
              "            style=\"display:none;\">\n",
              "\n",
              "  <svg xmlns=\"http://www.w3.org/2000/svg\" height=\"24px\" viewBox=\"0 -960 960 960\">\n",
              "    <path d=\"M120-120v-720h720v720H120Zm60-500h600v-160H180v160Zm220 220h160v-160H400v160Zm0 220h160v-160H400v160ZM180-400h160v-160H180v160Zm440 0h160v-160H620v160ZM180-180h160v-160H180v160Zm440 0h160v-160H620v160Z\"/>\n",
              "  </svg>\n",
              "    </button>\n",
              "\n",
              "  <style>\n",
              "    .colab-df-container {\n",
              "      display:flex;\n",
              "      gap: 12px;\n",
              "    }\n",
              "\n",
              "    .colab-df-convert {\n",
              "      background-color: #E8F0FE;\n",
              "      border: none;\n",
              "      border-radius: 50%;\n",
              "      cursor: pointer;\n",
              "      display: none;\n",
              "      fill: #1967D2;\n",
              "      height: 32px;\n",
              "      padding: 0 0 0 0;\n",
              "      width: 32px;\n",
              "    }\n",
              "\n",
              "    .colab-df-convert:hover {\n",
              "      background-color: #E2EBFA;\n",
              "      box-shadow: 0px 1px 2px rgba(60, 64, 67, 0.3), 0px 1px 3px 1px rgba(60, 64, 67, 0.15);\n",
              "      fill: #174EA6;\n",
              "    }\n",
              "\n",
              "    .colab-df-buttons div {\n",
              "      margin-bottom: 4px;\n",
              "    }\n",
              "\n",
              "    [theme=dark] .colab-df-convert {\n",
              "      background-color: #3B4455;\n",
              "      fill: #D2E3FC;\n",
              "    }\n",
              "\n",
              "    [theme=dark] .colab-df-convert:hover {\n",
              "      background-color: #434B5C;\n",
              "      box-shadow: 0px 1px 3px 1px rgba(0, 0, 0, 0.15);\n",
              "      filter: drop-shadow(0px 1px 2px rgba(0, 0, 0, 0.3));\n",
              "      fill: #FFFFFF;\n",
              "    }\n",
              "  </style>\n",
              "\n",
              "    <script>\n",
              "      const buttonEl =\n",
              "        document.querySelector('#df-77b89162-44ad-4a32-9a34-a380dba7db7d button.colab-df-convert');\n",
              "      buttonEl.style.display =\n",
              "        google.colab.kernel.accessAllowed ? 'block' : 'none';\n",
              "\n",
              "      async function convertToInteractive(key) {\n",
              "        const element = document.querySelector('#df-77b89162-44ad-4a32-9a34-a380dba7db7d');\n",
              "        const dataTable =\n",
              "          await google.colab.kernel.invokeFunction('convertToInteractive',\n",
              "                                                    [key], {});\n",
              "        if (!dataTable) return;\n",
              "\n",
              "        const docLinkHtml = 'Like what you see? Visit the ' +\n",
              "          '<a target=\"_blank\" href=https://colab.research.google.com/notebooks/data_table.ipynb>data table notebook</a>'\n",
              "          + ' to learn more about interactive tables.';\n",
              "        element.innerHTML = '';\n",
              "        dataTable['output_type'] = 'display_data';\n",
              "        await google.colab.output.renderOutput(dataTable, element);\n",
              "        const docLink = document.createElement('div');\n",
              "        docLink.innerHTML = docLinkHtml;\n",
              "        element.appendChild(docLink);\n",
              "      }\n",
              "    </script>\n",
              "  </div>\n",
              "\n",
              "\n",
              "<div id=\"df-98625b6f-3755-4cec-a5b1-cdb86f9fb735\">\n",
              "  <button class=\"colab-df-quickchart\" onclick=\"quickchart('df-98625b6f-3755-4cec-a5b1-cdb86f9fb735')\"\n",
              "            title=\"Suggest charts\"\n",
              "            style=\"display:none;\">\n",
              "\n",
              "<svg xmlns=\"http://www.w3.org/2000/svg\" height=\"24px\"viewBox=\"0 0 24 24\"\n",
              "     width=\"24px\">\n",
              "    <g>\n",
              "        <path d=\"M19 3H5c-1.1 0-2 .9-2 2v14c0 1.1.9 2 2 2h14c1.1 0 2-.9 2-2V5c0-1.1-.9-2-2-2zM9 17H7v-7h2v7zm4 0h-2V7h2v10zm4 0h-2v-4h2v4z\"/>\n",
              "    </g>\n",
              "</svg>\n",
              "  </button>\n",
              "\n",
              "<style>\n",
              "  .colab-df-quickchart {\n",
              "      --bg-color: #E8F0FE;\n",
              "      --fill-color: #1967D2;\n",
              "      --hover-bg-color: #E2EBFA;\n",
              "      --hover-fill-color: #174EA6;\n",
              "      --disabled-fill-color: #AAA;\n",
              "      --disabled-bg-color: #DDD;\n",
              "  }\n",
              "\n",
              "  [theme=dark] .colab-df-quickchart {\n",
              "      --bg-color: #3B4455;\n",
              "      --fill-color: #D2E3FC;\n",
              "      --hover-bg-color: #434B5C;\n",
              "      --hover-fill-color: #FFFFFF;\n",
              "      --disabled-bg-color: #3B4455;\n",
              "      --disabled-fill-color: #666;\n",
              "  }\n",
              "\n",
              "  .colab-df-quickchart {\n",
              "    background-color: var(--bg-color);\n",
              "    border: none;\n",
              "    border-radius: 50%;\n",
              "    cursor: pointer;\n",
              "    display: none;\n",
              "    fill: var(--fill-color);\n",
              "    height: 32px;\n",
              "    padding: 0;\n",
              "    width: 32px;\n",
              "  }\n",
              "\n",
              "  .colab-df-quickchart:hover {\n",
              "    background-color: var(--hover-bg-color);\n",
              "    box-shadow: 0 1px 2px rgba(60, 64, 67, 0.3), 0 1px 3px 1px rgba(60, 64, 67, 0.15);\n",
              "    fill: var(--button-hover-fill-color);\n",
              "  }\n",
              "\n",
              "  .colab-df-quickchart-complete:disabled,\n",
              "  .colab-df-quickchart-complete:disabled:hover {\n",
              "    background-color: var(--disabled-bg-color);\n",
              "    fill: var(--disabled-fill-color);\n",
              "    box-shadow: none;\n",
              "  }\n",
              "\n",
              "  .colab-df-spinner {\n",
              "    border: 2px solid var(--fill-color);\n",
              "    border-color: transparent;\n",
              "    border-bottom-color: var(--fill-color);\n",
              "    animation:\n",
              "      spin 1s steps(1) infinite;\n",
              "  }\n",
              "\n",
              "  @keyframes spin {\n",
              "    0% {\n",
              "      border-color: transparent;\n",
              "      border-bottom-color: var(--fill-color);\n",
              "      border-left-color: var(--fill-color);\n",
              "    }\n",
              "    20% {\n",
              "      border-color: transparent;\n",
              "      border-left-color: var(--fill-color);\n",
              "      border-top-color: var(--fill-color);\n",
              "    }\n",
              "    30% {\n",
              "      border-color: transparent;\n",
              "      border-left-color: var(--fill-color);\n",
              "      border-top-color: var(--fill-color);\n",
              "      border-right-color: var(--fill-color);\n",
              "    }\n",
              "    40% {\n",
              "      border-color: transparent;\n",
              "      border-right-color: var(--fill-color);\n",
              "      border-top-color: var(--fill-color);\n",
              "    }\n",
              "    60% {\n",
              "      border-color: transparent;\n",
              "      border-right-color: var(--fill-color);\n",
              "    }\n",
              "    80% {\n",
              "      border-color: transparent;\n",
              "      border-right-color: var(--fill-color);\n",
              "      border-bottom-color: var(--fill-color);\n",
              "    }\n",
              "    90% {\n",
              "      border-color: transparent;\n",
              "      border-bottom-color: var(--fill-color);\n",
              "    }\n",
              "  }\n",
              "</style>\n",
              "\n",
              "  <script>\n",
              "    async function quickchart(key) {\n",
              "      const quickchartButtonEl =\n",
              "        document.querySelector('#' + key + ' button');\n",
              "      quickchartButtonEl.disabled = true;  // To prevent multiple clicks.\n",
              "      quickchartButtonEl.classList.add('colab-df-spinner');\n",
              "      try {\n",
              "        const charts = await google.colab.kernel.invokeFunction(\n",
              "            'suggestCharts', [key], {});\n",
              "      } catch (error) {\n",
              "        console.error('Error during call to suggestCharts:', error);\n",
              "      }\n",
              "      quickchartButtonEl.classList.remove('colab-df-spinner');\n",
              "      quickchartButtonEl.classList.add('colab-df-quickchart-complete');\n",
              "    }\n",
              "    (() => {\n",
              "      let quickchartButtonEl =\n",
              "        document.querySelector('#df-98625b6f-3755-4cec-a5b1-cdb86f9fb735 button');\n",
              "      quickchartButtonEl.style.display =\n",
              "        google.colab.kernel.accessAllowed ? 'block' : 'none';\n",
              "    })();\n",
              "  </script>\n",
              "</div>\n",
              "    </div>\n",
              "  </div>\n"
            ],
            "application/vnd.google.colaboratory.intrinsic+json": {
              "type": "dataframe",
              "summary": "{\n  \"name\": \"train\",\n  \"rows\": 22,\n  \"fields\": [\n    {\n      \"column\": \"index\",\n      \"properties\": {\n        \"dtype\": \"string\",\n        \"samples\": [\n          \"BuildingArea\",\n          \"Postcode\",\n          \"Propertycount\"\n        ],\n        \"num_unique_values\": 22,\n        \"semantic_type\": \"\",\n        \"description\": \"\"\n      }\n    },\n    {\n      \"column\": 0,\n      \"properties\": {\n        \"dtype\": \"number\",\n        \"std\": 0.17012319097305326,\n        \"min\": 0.0,\n        \"max\": 0.5794952037553575,\n        \"samples\": [\n          0.5150690523164841,\n          0.19062521259949655,\n          0.5794952037553575\n        ],\n        \"num_unique_values\": 8,\n        \"semantic_type\": \"\",\n        \"description\": \"\"\n      }\n    }\n  ]\n}"
            }
          },
          "metadata": {},
          "execution_count": 37
        }
      ]
    },
    {
      "cell_type": "markdown",
      "source": [
        "# Итерация 9. Обучение на Топ-10 фичах по get_feature_importance"
      ],
      "metadata": {
        "id": "sKo2wmTvOIVj"
      }
    },
    {
      "cell_type": "markdown",
      "source": [
        "Уберем фичи:\n",
        "\n",
        "YearBuilt  \n",
        "Suburb  \n",
        "Method  \n",
        "Car  \n",
        "Bedroom2\n",
        "\n",
        "\n",
        "В 3 из 5 этих фичей есть пропуски, еще и в приличном кол-ве\n"
      ],
      "metadata": {
        "id": "YdlN1EVDOsNh"
      }
    },
    {
      "cell_type": "code",
      "source": [
        "X = ['Rooms', 'Type', 'SellerG',\n",
        "       'Distance', 'Postcode', 'Bathroom',\n",
        "     'Landsize', 'BuildingArea', 'CouncilArea',\n",
        "     'Regionname', 'Propertycount']\n",
        "\n",
        "cat_features = ['Type', 'SellerG', 'Postcode',\n",
        "                'CouncilArea', 'Regionname',\n",
        "                ]\n",
        "\n",
        "y = ['Price']"
      ],
      "metadata": {
        "id": "69TbMjmGOGoz"
      },
      "execution_count": null,
      "outputs": []
    },
    {
      "cell_type": "code",
      "source": [
        "train = pd.read_csv('/content/regression/train.csv')\n",
        "train['Postcode'] = train['Postcode'].astype(int)"
      ],
      "metadata": {
        "id": "2cbMLph9OGo1"
      },
      "execution_count": null,
      "outputs": []
    },
    {
      "cell_type": "code",
      "source": [
        "test = pd.read_csv('/content/regression/test.csv')\n",
        "test[cat_features] = test[cat_features].fillna(0)\n",
        "test['Postcode'] = test['Postcode'].astype(int)"
      ],
      "metadata": {
        "id": "Zict-4ofOGo1"
      },
      "execution_count": null,
      "outputs": []
    },
    {
      "cell_type": "code",
      "source": [
        "train.loc[train['YearBuilt'] <= 1847, 'YearBuilt'] = 1847\n",
        "test.loc[test['YearBuilt'] <= 1847, 'YearBuilt'] = 1847"
      ],
      "metadata": {
        "id": "uHJitGNmOGo1"
      },
      "execution_count": null,
      "outputs": []
    },
    {
      "cell_type": "code",
      "source": [
        "# делаю валидационную выборку для оценки и проверки\n",
        "val, train = train_test_split(train, train_size=0.2, random_state=91)\n",
        "\n",
        "val[cat_features] = val[cat_features].fillna(0)\n",
        "train[cat_features] = train[cat_features].fillna(0)"
      ],
      "metadata": {
        "id": "pl3byl01OGo2"
      },
      "execution_count": null,
      "outputs": []
    },
    {
      "cell_type": "markdown",
      "source": [
        "Сделал прогон с подбором параметров через grid с сеткой:\n",
        "\n",
        "\n",
        "\n",
        "```\n",
        "grid = {'learning_rate': [0,15, 0.12, 0.125],\n",
        "        'depth': [5, 6]}.\n",
        "```\n",
        "\n",
        "\n",
        "\n",
        "\n",
        "Лучшие варианты параметров не изменились, не смотря на уменьшение кол-во фичей. `{'depth': 6, 'learning_rate': 0.12}`. Поэтому прописываем их в параметры модели."
      ],
      "metadata": {
        "id": "FvL3czf8P-GV"
      }
    },
    {
      "cell_type": "code",
      "source": [
        "parameters = {'cat_features': cat_features,\n",
        "              'loss_function': 'MAE',\n",
        "              'eval_metric': 'MAPE',\n",
        "              'learning_rate': 0.12,\n",
        "              'depth': 6,\n",
        "              'random_seed':7374,\n",
        "              'verbose':100}"
      ],
      "metadata": {
        "id": "_S-IoJOhOGo2"
      },
      "execution_count": null,
      "outputs": []
    },
    {
      "cell_type": "code",
      "source": [
        "model = CatBoostRegressor(**parameters)"
      ],
      "metadata": {
        "id": "7eNcJhLpOGo3"
      },
      "execution_count": null,
      "outputs": []
    },
    {
      "cell_type": "code",
      "source": [
        "model.fit(train[X],train[y],eval_set=(val[X],val[y]))"
      ],
      "metadata": {
        "colab": {
          "base_uri": "https://localhost:8080/"
        },
        "outputId": "a1e36976-0730-43ce-9ae5-a978e9718c8d",
        "id": "T7PL8eAWOGo3"
      },
      "execution_count": null,
      "outputs": [
        {
          "output_type": "stream",
          "name": "stdout",
          "text": [
            "0:\tlearn: 0.3906042\ttest: 0.3910161\tbest: 0.3910161 (0)\ttotal: 16.5ms\tremaining: 16.5s\n",
            "100:\tlearn: 0.1564476\ttest: 0.1586534\tbest: 0.1586534 (100)\ttotal: 1.42s\tremaining: 12.6s\n",
            "200:\tlearn: 0.1456543\ttest: 0.1527619\tbest: 0.1527491 (199)\ttotal: 2.77s\tremaining: 11s\n",
            "300:\tlearn: 0.1395537\ttest: 0.1510727\tbest: 0.1510362 (298)\ttotal: 4.06s\tremaining: 9.43s\n",
            "400:\tlearn: 0.1349718\ttest: 0.1504226\tbest: 0.1503405 (390)\ttotal: 5.32s\tremaining: 7.95s\n",
            "500:\tlearn: 0.1319335\ttest: 0.1499497\tbest: 0.1499497 (500)\ttotal: 7.22s\tremaining: 7.19s\n",
            "600:\tlearn: 0.1296094\ttest: 0.1494327\tbest: 0.1494266 (598)\ttotal: 8.49s\tremaining: 5.63s\n",
            "700:\tlearn: 0.1275122\ttest: 0.1494038\tbest: 0.1493391 (644)\ttotal: 9.83s\tremaining: 4.19s\n",
            "800:\tlearn: 0.1259993\ttest: 0.1492388\tbest: 0.1492202 (789)\ttotal: 11.1s\tremaining: 2.76s\n",
            "900:\tlearn: 0.1247523\ttest: 0.1492654\tbest: 0.1492202 (789)\ttotal: 12.3s\tremaining: 1.36s\n",
            "999:\tlearn: 0.1234913\ttest: 0.1490763\tbest: 0.1490686 (996)\ttotal: 13.6s\tremaining: 0us\n",
            "\n",
            "bestTest = 0.1490685559\n",
            "bestIteration = 996\n",
            "\n",
            "Shrink model to first 997 iterations.\n"
          ]
        },
        {
          "output_type": "execute_result",
          "data": {
            "text/plain": [
              "<catboost.core.CatBoostRegressor at 0x78b38e954220>"
            ]
          },
          "metadata": {},
          "execution_count": 76
        }
      ]
    },
    {
      "cell_type": "code",
      "source": [
        "val['Price_pred_it1_1'] = model.predict(val[X])"
      ],
      "metadata": {
        "id": "pV3kVLOCOGo3"
      },
      "execution_count": null,
      "outputs": []
    },
    {
      "cell_type": "code",
      "source": [
        "error(val['Price'],val['Price_pred_it1_1'])"
      ],
      "metadata": {
        "colab": {
          "base_uri": "https://localhost:8080/"
        },
        "outputId": "0b9b6577-4e4a-4d84-a942-1ab8c89db961",
        "id": "MH9Orr7rOGo4"
      },
      "execution_count": null,
      "outputs": [
        {
          "output_type": "stream",
          "name": "stdout",
          "text": [
            "167607.98388152834\n",
            "0.14906855585045342\n"
          ]
        }
      ]
    },
    {
      "cell_type": "markdown",
      "source": [
        "Попробуем обучить с этим набором фич/параметров модель на всех train данных и сделать еще сабмит"
      ],
      "metadata": {
        "id": "I_urmeAvOGo5"
      }
    },
    {
      "cell_type": "code",
      "source": [
        "train = pd.read_csv('/content/regression/train.csv')\n",
        "\n",
        "train['Postcode'] = train['Postcode'].astype(int)\n",
        "train[cat_features] = train[cat_features].fillna(0)"
      ],
      "metadata": {
        "id": "N1cLX0avOGo6"
      },
      "execution_count": null,
      "outputs": []
    },
    {
      "cell_type": "code",
      "source": [
        "model = CatBoostRegressor(**parameters)"
      ],
      "metadata": {
        "id": "jxTWAP2KOGo6"
      },
      "execution_count": null,
      "outputs": []
    },
    {
      "cell_type": "code",
      "source": [
        "model.fit(train[X],train[y])"
      ],
      "metadata": {
        "colab": {
          "base_uri": "https://localhost:8080/"
        },
        "id": "-j3t6EqMOGo6",
        "outputId": "660f6c81-5f0e-4de2-ec19-989fe784b167"
      },
      "execution_count": null,
      "outputs": [
        {
          "output_type": "stream",
          "name": "stdout",
          "text": [
            "0:\tlearn: 0.3907224\ttotal: 16.5ms\tremaining: 16.5s\n",
            "100:\tlearn: 0.1570034\ttotal: 1.88s\tremaining: 16.7s\n",
            "200:\tlearn: 0.1461900\ttotal: 3.64s\tremaining: 14.5s\n",
            "300:\tlearn: 0.1408177\ttotal: 5.1s\tremaining: 11.8s\n",
            "400:\tlearn: 0.1371871\ttotal: 6.59s\tremaining: 9.84s\n",
            "500:\tlearn: 0.1341677\ttotal: 8.1s\tremaining: 8.06s\n",
            "600:\tlearn: 0.1318692\ttotal: 9.57s\tremaining: 6.35s\n",
            "700:\tlearn: 0.1299478\ttotal: 11.1s\tremaining: 4.71s\n",
            "800:\tlearn: 0.1283083\ttotal: 12.9s\tremaining: 3.2s\n",
            "900:\tlearn: 0.1268365\ttotal: 14.6s\tremaining: 1.6s\n",
            "999:\tlearn: 0.1256965\ttotal: 16.1s\tremaining: 0us\n"
          ]
        },
        {
          "output_type": "execute_result",
          "data": {
            "text/plain": [
              "<catboost.core.CatBoostRegressor at 0x78b38e9545e0>"
            ]
          },
          "metadata": {},
          "execution_count": 83
        }
      ]
    },
    {
      "cell_type": "code",
      "source": [
        "test['Price'] = model.predict(test[X])"
      ],
      "metadata": {
        "id": "aMULklJcOGo7"
      },
      "execution_count": null,
      "outputs": []
    },
    {
      "cell_type": "code",
      "source": [
        "test[['id', 'Price']].to_csv('it_8_1(rd91).csv', index = False)"
      ],
      "metadata": {
        "id": "5I1n8-VaOGo7"
      },
      "execution_count": null,
      "outputs": []
    },
    {
      "cell_type": "markdown",
      "source": [
        "Score: **13.97131**\n",
        "\n",
        "Уменьшение кол-ва фичей в моделе не дало прироста в точности\n",
        "\n",
        "При этом изменения random_seed при делении выборки, никак не повлияло на результат модели"
      ],
      "metadata": {
        "id": "-TGnd5d2OGo7"
      }
    },
    {
      "cell_type": "markdown",
      "source": [
        "# Результаты"
      ],
      "metadata": {
        "id": "eFihAhMcxF87"
      }
    },
    {
      "cell_type": "markdown",
      "source": [
        "На момент написания удалось занять в уютном соревновании среди новичков **14 место из 140 участников**.\n",
        "\n",
        "Считаю результат неплохим. Получил ценный опыт, потому что это буквально первая подобная моя актвиность. По мере получения новых скиллов планирую еще раз ворваться и попытаться улучшить результат\n",
        "\n",
        "https://www.kaggle.com/competitions/leopard-challenge-regression/leaderboard"
      ],
      "metadata": {
        "id": "XhXyYxRKxKcm"
      }
    }
  ]
}
